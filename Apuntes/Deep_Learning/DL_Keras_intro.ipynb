{
 "cells": [
  {
   "cell_type": "markdown",
   "metadata": {},
   "source": [
    "# Tutorial introductorio a Keras\n",
    "\n",
    "\n",
    "En el mundo del DL en Python hay dos grandes frameworks (es decir librerías que han crecido como para ser algo más que conjuntos de módulos y funciones): TensorFlow (Google) y Pytorch (Meta). Ambos son superpotentes y son un mix entre numpy triple plus y sklearn para iniciados. Son muy flexibles y tienen muchas funcionalidades... El precio, el de siempre, complejas, necesitan una curva de aprendizaje alto, un manejo de matrices y tensores fluido, etc, etc Para simplificar la vida del Data Science aparece Keras como recubrimiento de TensorFlow y con el tiempo se relacionan tanto que TensorFlow absorbe Keras y ahora es parte de TensorFlow, pero no por ello ha perdido esa magia de ofrecernos DL a un esfuerzo considerablmente menor que con TensorFlow. \n",
    "\n",
    "¿Qué vamos a ver nosotros? Un manejo relativamente introductorio pero con bastantes posibilidades. Pero aquí te dejo la documentación para que profundices si te interesa el tema porque es realmente un gran framework o un gran recubrimiento:\n",
    "\n",
    "[Documentación](https://keras.io/guides/)"
   ]
  },
  {
   "cell_type": "markdown",
   "metadata": {},
   "source": [
    "Empezamos importando librerías"
   ]
  },
  {
   "cell_type": "code",
   "execution_count": 3,
   "metadata": {},
   "outputs": [
    {
     "name": "stdout",
     "output_type": "stream",
     "text": [
      "WARNING:tensorflow:From c:\\Users\\lucas\\AppData\\Local\\Programs\\Python\\Python310\\lib\\site-packages\\keras\\src\\losses.py:2976: The name tf.losses.sparse_softmax_cross_entropy is deprecated. Please use tf.compat.v1.losses.sparse_softmax_cross_entropy instead.\n",
      "\n"
     ]
    }
   ],
   "source": [
    "import tensorflow as tf\n",
    "from tensorflow import keras\n",
    "from tensorflow.keras import layers\n",
    "\n",
    "import matplotlib.pyplot as plt\n",
    "import numpy as np\n",
    "import pandas as pd\n"
   ]
  },
  {
   "cell_type": "markdown",
   "metadata": {},
   "source": [
    "### Carga de Datos (con train y test split incluido)"
   ]
  },
  {
   "cell_type": "markdown",
   "metadata": {},
   "source": [
    "Para ver como usar Keras y repasar algunos conceptos de DL y la forma de trabajar con él, vamos a crearnos un modelo de clasificación de imágenes con redes densas (o perceptrones multicapa), es decir con capas ocultas totalmente conectadas. Eso nos permitirá ir conociendo cómo hacerlo con Keras y diferentes opciones del mismo. Empecemos con los datos."
   ]
  },
  {
   "cell_type": "markdown",
   "metadata": {},
   "source": [
    "Cargamos los datos de mnist, el dataset de números \"a mano\" más famoso de la esfera del DataScience. Y como todavía no hemos vistos las redes que pueden trabajar con las imagenes en 2D, haremos la vectorización de las imágenes que hemos practicado otras veces. Es decir, todos los pixeles se convertirán en un vector de 28x28 features independientes, que serán las entradas del modelo."
   ]
  },
  {
   "cell_type": "code",
   "execution_count": 4,
   "metadata": {},
   "outputs": [],
   "source": [
    "# Cogemos las imágenes de los dígitos asi como el conjunto de train y test\n",
    "(X_train, y_train), (X_test, y_test) = keras.datasets.mnist.load_data()"
   ]
  },
  {
   "cell_type": "markdown",
   "metadata": {},
   "source": [
    "Vemos dimensiones del dataset"
   ]
  },
  {
   "cell_type": "code",
   "execution_count": 5,
   "metadata": {},
   "outputs": [
    {
     "name": "stdout",
     "output_type": "stream",
     "text": [
      "(60000, 28, 28)\n",
      "(60000,)\n",
      "(10000, 28, 28)\n",
      "(10000,)\n"
     ]
    }
   ],
   "source": [
    "'''\n",
    "60.000 imagenes de 28x28 pixeles\n",
    "'''\n",
    "print(X_train.shape)\n",
    "print(y_train.shape)\n",
    "print(X_test.shape)\n",
    "print(y_test.shape)"
   ]
  },
  {
   "cell_type": "code",
   "execution_count": 6,
   "metadata": {},
   "outputs": [
    {
     "data": {
      "text/plain": [
       "47040000"
      ]
     },
     "execution_count": 6,
     "metadata": {},
     "output_type": "execute_result"
    }
   ],
   "source": [
    "X_train.size"
   ]
  },
  {
   "cell_type": "markdown",
   "metadata": {},
   "source": [
    "60.000 imágenes de 28x28 pixeles. Vamos a representar una de ellas"
   ]
  },
  {
   "cell_type": "code",
   "execution_count": 7,
   "metadata": {},
   "outputs": [
    {
     "data": {
      "image/png": "[encoded data removed]",
      "text/plain": [
       "<Figure size 640x480 with 1 Axes>"
      ]
     },
     "metadata": {},
     "output_type": "display_data"
    }
   ],
   "source": [
    "plt.imshow(X_train[0], cmap='Greys');"
   ]
  },
  {
   "cell_type": "code",
   "execution_count": 8,
   "metadata": {},
   "outputs": [
    {
     "data": {
      "text/plain": [
       "5"
      ]
     },
     "execution_count": 8,
     "metadata": {},
     "output_type": "execute_result"
    }
   ],
   "source": [
    "y_train[0]"
   ]
  },
  {
   "cell_type": "code",
   "execution_count": 9,
   "metadata": {},
   "outputs": [
    {
     "data": {
      "text/plain": [
       "246"
      ]
     },
     "execution_count": 9,
     "metadata": {},
     "output_type": "execute_result"
    }
   ],
   "source": [
    "X_train[25000,12,18]"
   ]
  },
  {
   "cell_type": "code",
   "execution_count": 10,
   "metadata": {},
   "outputs": [
    {
     "data": {
      "text/plain": [
       "(60000, 28, 28)"
      ]
     },
     "execution_count": 10,
     "metadata": {},
     "output_type": "execute_result"
    }
   ],
   "source": [
    "X_train.shape"
   ]
  },
  {
   "cell_type": "markdown",
   "metadata": {},
   "source": [
    "### MiniEDA/Tratamiento de features"
   ]
  },
  {
   "cell_type": "markdown",
   "metadata": {},
   "source": [
    "Como \"buen\" miniEDA DL solo vamos a ver el target y a normalizar las features (¿recuerdas cómo nos fue con los pingüinos?)"
   ]
  },
  {
   "cell_type": "code",
   "execution_count": 11,
   "metadata": {},
   "outputs": [
    {
     "data": {
      "text/plain": [
       "1    0.112367\n",
       "7    0.104417\n",
       "3    0.102183\n",
       "2    0.099300\n",
       "9    0.099150\n",
       "0    0.098717\n",
       "6    0.098633\n",
       "8    0.097517\n",
       "4    0.097367\n",
       "5    0.090350\n",
       "Name: proportion, dtype: float64"
      ]
     },
     "execution_count": 11,
     "metadata": {},
     "output_type": "execute_result"
    }
   ],
   "source": [
    "pd.Series(y_train).value_counts(normalize = True) # Un detalle interesante en DL es bastante normal tratar directamente con arrays de numpy y no con dataframes, mas si son imágenes"
   ]
  },
  {
   "cell_type": "markdown",
   "metadata": {},
   "source": [
    "El dataset está bastante equilibrado (los modelos de DL admiten también el equivalente a class_weight para balancear), con una ligera deriva hacia el 1, el 7 y el 3"
   ]
  },
  {
   "cell_type": "markdown",
   "metadata": {},
   "source": [
    "#### Escalado"
   ]
  },
  {
   "cell_type": "markdown",
   "metadata": {},
   "source": [
    "Podemos usar un MinMaxScaler o un StandardScaler, pero en este caso hay una forma muy directa, ya que los valores de escala de grises de las imágenes van entre 0 y 255, con lo que hacer un equivalente al MinMaxScaler es muy directa"
   ]
  },
  {
   "cell_type": "code",
   "execution_count": 12,
   "metadata": {},
   "outputs": [],
   "source": [
    "# Preprocess the data (these are NumPy arrays). Aplano a una dimension cada imagen.\n",
    "# Escalamos ya que vamos a usar gradient descent, y le afecta mucho la escala de las features.\n",
    "# Ejecutar esta celda solo una vez. Sino reescalará\n",
    "\n",
    "X_train = X_train.astype(\"float32\") / 255\n",
    "X_test = X_test.astype(\"float32\") / 255\n",
    "\n",
    "y_train = y_train.astype(\"float32\")\n",
    "y_test = y_test.astype(\"float32\")"
   ]
  },
  {
   "cell_type": "code",
   "execution_count": 13,
   "metadata": {},
   "outputs": [
    {
     "data": {
      "text/plain": [
       "array([[0.        , 0.        , 0.        , 0.        , 0.        ,\n",
       "        0.        , 0.        , 0.        , 0.        , 0.        ,\n",
       "        0.        , 0.        , 0.        , 0.        , 0.        ,\n",
       "        0.        , 0.        , 0.        , 0.        , 0.        ,\n",
       "        0.        , 0.        , 0.        , 0.        , 0.        ,\n",
       "        0.        , 0.        , 0.        ],\n",
       "       [0.        , 0.        , 0.        , 0.        , 0.        ,\n",
       "        0.        , 0.        , 0.        , 0.        , 0.        ,\n",
       "        0.        , 0.        , 0.        , 0.        , 0.        ,\n",
       "        0.        , 0.        , 0.        , 0.        , 0.        ,\n",
       "        0.        , 0.        , 0.        , 0.        , 0.        ,\n",
       "        0.        , 0.        , 0.        ],\n",
       "       [0.        , 0.        , 0.        , 0.        , 0.        ,\n",
       "        0.        , 0.        , 0.        , 0.        , 0.        ,\n",
       "        0.        , 0.        , 0.        , 0.        , 0.        ,\n",
       "        0.        , 0.        , 0.        , 0.        , 0.        ,\n",
       "        0.        , 0.        , 0.        , 0.        , 0.        ,\n",
       "        0.        , 0.        , 0.        ],\n",
       "       [0.        , 0.        , 0.        , 0.        , 0.        ,\n",
       "        0.        , 0.        , 0.        , 0.        , 0.        ,\n",
       "        0.        , 0.        , 0.        , 0.        , 0.        ,\n",
       "        0.        , 0.        , 0.        , 0.        , 0.        ,\n",
       "        0.        , 0.        , 0.        , 0.        , 0.        ,\n",
       "        0.        , 0.        , 0.        ],\n",
       "       [0.        , 0.        , 0.        , 0.        , 0.        ,\n",
       "        0.        , 0.        , 0.        , 0.        , 0.        ,\n",
       "        0.        , 0.        , 0.        , 0.        , 0.        ,\n",
       "        0.        , 0.        , 0.        , 0.        , 0.        ,\n",
       "        0.        , 0.        , 0.        , 0.        , 0.        ,\n",
       "        0.        , 0.        , 0.        ],\n",
       "       [0.        , 0.        , 0.        , 0.        , 0.        ,\n",
       "        0.        , 0.        , 0.        , 0.        , 0.        ,\n",
       "        0.        , 0.        , 0.01176471, 0.07058824, 0.07058824,\n",
       "        0.07058824, 0.49411765, 0.53333336, 0.6862745 , 0.10196079,\n",
       "        0.6509804 , 1.        , 0.96862745, 0.49803922, 0.        ,\n",
       "        0.        , 0.        , 0.        ],\n",
       "       [0.        , 0.        , 0.        , 0.        , 0.        ,\n",
       "        0.        , 0.        , 0.        , 0.11764706, 0.14117648,\n",
       "        0.36862746, 0.6039216 , 0.6666667 , 0.99215686, 0.99215686,\n",
       "        0.99215686, 0.99215686, 0.99215686, 0.88235295, 0.6745098 ,\n",
       "        0.99215686, 0.9490196 , 0.7647059 , 0.2509804 , 0.        ,\n",
       "        0.        , 0.        , 0.        ],\n",
       "       [0.        , 0.        , 0.        , 0.        , 0.        ,\n",
       "        0.        , 0.        , 0.19215687, 0.93333334, 0.99215686,\n",
       "        0.99215686, 0.99215686, 0.99215686, 0.99215686, 0.99215686,\n",
       "        0.99215686, 0.99215686, 0.9843137 , 0.3647059 , 0.32156864,\n",
       "        0.32156864, 0.21960784, 0.15294118, 0.        , 0.        ,\n",
       "        0.        , 0.        , 0.        ],\n",
       "       [0.        , 0.        , 0.        , 0.        , 0.        ,\n",
       "        0.        , 0.        , 0.07058824, 0.85882354, 0.99215686,\n",
       "        0.99215686, 0.99215686, 0.99215686, 0.99215686, 0.7764706 ,\n",
       "        0.7137255 , 0.96862745, 0.94509804, 0.        , 0.        ,\n",
       "        0.        , 0.        , 0.        , 0.        , 0.        ,\n",
       "        0.        , 0.        , 0.        ],\n",
       "       [0.        , 0.        , 0.        , 0.        , 0.        ,\n",
       "        0.        , 0.        , 0.        , 0.3137255 , 0.6117647 ,\n",
       "        0.41960785, 0.99215686, 0.99215686, 0.8039216 , 0.04313726,\n",
       "        0.        , 0.16862746, 0.6039216 , 0.        , 0.        ,\n",
       "        0.        , 0.        , 0.        , 0.        , 0.        ,\n",
       "        0.        , 0.        , 0.        ],\n",
       "       [0.        , 0.        , 0.        , 0.        , 0.        ,\n",
       "        0.        , 0.        , 0.        , 0.        , 0.05490196,\n",
       "        0.00392157, 0.6039216 , 0.99215686, 0.3529412 , 0.        ,\n",
       "        0.        , 0.        , 0.        , 0.        , 0.        ,\n",
       "        0.        , 0.        , 0.        , 0.        , 0.        ,\n",
       "        0.        , 0.        , 0.        ],\n",
       "       [0.        , 0.        , 0.        , 0.        , 0.        ,\n",
       "        0.        , 0.        , 0.        , 0.        , 0.        ,\n",
       "        0.        , 0.54509807, 0.99215686, 0.74509805, 0.00784314,\n",
       "        0.        , 0.        , 0.        , 0.        , 0.        ,\n",
       "        0.        , 0.        , 0.        , 0.        , 0.        ,\n",
       "        0.        , 0.        , 0.        ],\n",
       "       [0.        , 0.        , 0.        , 0.        , 0.        ,\n",
       "        0.        , 0.        , 0.        , 0.        , 0.        ,\n",
       "        0.        , 0.04313726, 0.74509805, 0.99215686, 0.27450982,\n",
       "        0.        , 0.        , 0.        , 0.        , 0.        ,\n",
       "        0.        , 0.        , 0.        , 0.        , 0.        ,\n",
       "        0.        , 0.        , 0.        ],\n",
       "       [0.        , 0.        , 0.        , 0.        , 0.        ,\n",
       "        0.        , 0.        , 0.        , 0.        , 0.        ,\n",
       "        0.        , 0.        , 0.13725491, 0.94509804, 0.88235295,\n",
       "        0.627451  , 0.42352942, 0.00392157, 0.        , 0.        ,\n",
       "        0.        , 0.        , 0.        , 0.        , 0.        ,\n",
       "        0.        , 0.        , 0.        ],\n",
       "       [0.        , 0.        , 0.        , 0.        , 0.        ,\n",
       "        0.        , 0.        , 0.        , 0.        , 0.        ,\n",
       "        0.        , 0.        , 0.        , 0.31764707, 0.9411765 ,\n",
       "        0.99215686, 0.99215686, 0.46666667, 0.09803922, 0.        ,\n",
       "        0.        , 0.        , 0.        , 0.        , 0.        ,\n",
       "        0.        , 0.        , 0.        ],\n",
       "       [0.        , 0.        , 0.        , 0.        , 0.        ,\n",
       "        0.        , 0.        , 0.        , 0.        , 0.        ,\n",
       "        0.        , 0.        , 0.        , 0.        , 0.1764706 ,\n",
       "        0.7294118 , 0.99215686, 0.99215686, 0.5882353 , 0.10588235,\n",
       "        0.        , 0.        , 0.        , 0.        , 0.        ,\n",
       "        0.        , 0.        , 0.        ],\n",
       "       [0.        , 0.        , 0.        , 0.        , 0.        ,\n",
       "        0.        , 0.        , 0.        , 0.        , 0.        ,\n",
       "        0.        , 0.        , 0.        , 0.        , 0.        ,\n",
       "        0.0627451 , 0.3647059 , 0.9882353 , 0.99215686, 0.73333335,\n",
       "        0.        , 0.        , 0.        , 0.        , 0.        ,\n",
       "        0.        , 0.        , 0.        ],\n",
       "       [0.        , 0.        , 0.        , 0.        , 0.        ,\n",
       "        0.        , 0.        , 0.        , 0.        , 0.        ,\n",
       "        0.        , 0.        , 0.        , 0.        , 0.        ,\n",
       "        0.        , 0.        , 0.9764706 , 0.99215686, 0.9764706 ,\n",
       "        0.2509804 , 0.        , 0.        , 0.        , 0.        ,\n",
       "        0.        , 0.        , 0.        ],\n",
       "       [0.        , 0.        , 0.        , 0.        , 0.        ,\n",
       "        0.        , 0.        , 0.        , 0.        , 0.        ,\n",
       "        0.        , 0.        , 0.        , 0.        , 0.18039216,\n",
       "        0.50980395, 0.7176471 , 0.99215686, 0.99215686, 0.8117647 ,\n",
       "        0.00784314, 0.        , 0.        , 0.        , 0.        ,\n",
       "        0.        , 0.        , 0.        ],\n",
       "       [0.        , 0.        , 0.        , 0.        , 0.        ,\n",
       "        0.        , 0.        , 0.        , 0.        , 0.        ,\n",
       "        0.        , 0.        , 0.15294118, 0.5803922 , 0.8980392 ,\n",
       "        0.99215686, 0.99215686, 0.99215686, 0.98039216, 0.7137255 ,\n",
       "        0.        , 0.        , 0.        , 0.        , 0.        ,\n",
       "        0.        , 0.        , 0.        ],\n",
       "       [0.        , 0.        , 0.        , 0.        , 0.        ,\n",
       "        0.        , 0.        , 0.        , 0.        , 0.        ,\n",
       "        0.09411765, 0.44705883, 0.8666667 , 0.99215686, 0.99215686,\n",
       "        0.99215686, 0.99215686, 0.7882353 , 0.30588236, 0.        ,\n",
       "        0.        , 0.        , 0.        , 0.        , 0.        ,\n",
       "        0.        , 0.        , 0.        ],\n",
       "       [0.        , 0.        , 0.        , 0.        , 0.        ,\n",
       "        0.        , 0.        , 0.        , 0.09019608, 0.25882354,\n",
       "        0.8352941 , 0.99215686, 0.99215686, 0.99215686, 0.99215686,\n",
       "        0.7764706 , 0.31764707, 0.00784314, 0.        , 0.        ,\n",
       "        0.        , 0.        , 0.        , 0.        , 0.        ,\n",
       "        0.        , 0.        , 0.        ],\n",
       "       [0.        , 0.        , 0.        , 0.        , 0.        ,\n",
       "        0.        , 0.07058824, 0.67058825, 0.85882354, 0.99215686,\n",
       "        0.99215686, 0.99215686, 0.99215686, 0.7647059 , 0.3137255 ,\n",
       "        0.03529412, 0.        , 0.        , 0.        , 0.        ,\n",
       "        0.        , 0.        , 0.        , 0.        , 0.        ,\n",
       "        0.        , 0.        , 0.        ],\n",
       "       [0.        , 0.        , 0.        , 0.        , 0.21568628,\n",
       "        0.6745098 , 0.8862745 , 0.99215686, 0.99215686, 0.99215686,\n",
       "        0.99215686, 0.95686275, 0.52156866, 0.04313726, 0.        ,\n",
       "        0.        , 0.        , 0.        , 0.        , 0.        ,\n",
       "        0.        , 0.        , 0.        , 0.        , 0.        ,\n",
       "        0.        , 0.        , 0.        ],\n",
       "       [0.        , 0.        , 0.        , 0.        , 0.53333336,\n",
       "        0.99215686, 0.99215686, 0.99215686, 0.83137256, 0.5294118 ,\n",
       "        0.5176471 , 0.0627451 , 0.        , 0.        , 0.        ,\n",
       "        0.        , 0.        , 0.        , 0.        , 0.        ,\n",
       "        0.        , 0.        , 0.        , 0.        , 0.        ,\n",
       "        0.        , 0.        , 0.        ],\n",
       "       [0.        , 0.        , 0.        , 0.        , 0.        ,\n",
       "        0.        , 0.        , 0.        , 0.        , 0.        ,\n",
       "        0.        , 0.        , 0.        , 0.        , 0.        ,\n",
       "        0.        , 0.        , 0.        , 0.        , 0.        ,\n",
       "        0.        , 0.        , 0.        , 0.        , 0.        ,\n",
       "        0.        , 0.        , 0.        ],\n",
       "       [0.        , 0.        , 0.        , 0.        , 0.        ,\n",
       "        0.        , 0.        , 0.        , 0.        , 0.        ,\n",
       "        0.        , 0.        , 0.        , 0.        , 0.        ,\n",
       "        0.        , 0.        , 0.        , 0.        , 0.        ,\n",
       "        0.        , 0.        , 0.        , 0.        , 0.        ,\n",
       "        0.        , 0.        , 0.        ],\n",
       "       [0.        , 0.        , 0.        , 0.        , 0.        ,\n",
       "        0.        , 0.        , 0.        , 0.        , 0.        ,\n",
       "        0.        , 0.        , 0.        , 0.        , 0.        ,\n",
       "        0.        , 0.        , 0.        , 0.        , 0.        ,\n",
       "        0.        , 0.        , 0.        , 0.        , 0.        ,\n",
       "        0.        , 0.        , 0.        ]], dtype=float32)"
      ]
     },
     "execution_count": 13,
     "metadata": {},
     "output_type": "execute_result"
    }
   ],
   "source": [
    "'''\n",
    "Comprobamos la normalización\n",
    "'''\n",
    "X_train[0]"
   ]
  },
  {
   "cell_type": "markdown",
   "metadata": {},
   "source": [
    "### ¿Y el Validation_set?"
   ]
  },
  {
   "cell_type": "markdown",
   "metadata": {},
   "source": [
    "En el tratamiento de modelos de DL lo normal es no usar validación cruzada (en general porque no tendremos modelos \"alternativos\" al que estemos construyendo y también porque lo pesado de los entrenamientos hace costoso en tiempo poder usar esta forma de comparación). Lo que se suele hacer es tener un dataset de Validación. Para ello, ya que nos han dado los datasets separados, podemos \"cortar un cacho\" del train."
   ]
  },
  {
   "cell_type": "markdown",
   "metadata": {},
   "source": [
    "Guardamos datos para validación. Estos datos se usarán durante el entrenamiento. Otra opción es decirle a Keras en la etapa de entrenamiento que reserve un X % de los datos para validar (como argumento del método `fit`)."
   ]
  },
  {
   "cell_type": "code",
   "execution_count": 14,
   "metadata": {},
   "outputs": [
    {
     "name": "stdout",
     "output_type": "stream",
     "text": [
      "[[[0. 0. 0. ... 0. 0. 0.]\n",
      "  [0. 0. 0. ... 0. 0. 0.]\n",
      "  [0. 0. 0. ... 0. 0. 0.]\n",
      "  ...\n",
      "  [0. 0. 0. ... 0. 0. 0.]\n",
      "  [0. 0. 0. ... 0. 0. 0.]\n",
      "  [0. 0. 0. ... 0. 0. 0.]]\n",
      "\n",
      " [[0. 0. 0. ... 0. 0. 0.]\n",
      "  [0. 0. 0. ... 0. 0. 0.]\n",
      "  [0. 0. 0. ... 0. 0. 0.]\n",
      "  ...\n",
      "  [0. 0. 0. ... 0. 0. 0.]\n",
      "  [0. 0. 0. ... 0. 0. 0.]\n",
      "  [0. 0. 0. ... 0. 0. 0.]]\n",
      "\n",
      " [[0. 0. 0. ... 0. 0. 0.]\n",
      "  [0. 0. 0. ... 0. 0. 0.]\n",
      "  [0. 0. 0. ... 0. 0. 0.]\n",
      "  ...\n",
      "  [0. 0. 0. ... 0. 0. 0.]\n",
      "  [0. 0. 0. ... 0. 0. 0.]\n",
      "  [0. 0. 0. ... 0. 0. 0.]]\n",
      "\n",
      " ...\n",
      "\n",
      " [[0. 0. 0. ... 0. 0. 0.]\n",
      "  [0. 0. 0. ... 0. 0. 0.]\n",
      "  [0. 0. 0. ... 0. 0. 0.]\n",
      "  ...\n",
      "  [0. 0. 0. ... 0. 0. 0.]\n",
      "  [0. 0. 0. ... 0. 0. 0.]\n",
      "  [0. 0. 0. ... 0. 0. 0.]]\n",
      "\n",
      " [[0. 0. 0. ... 0. 0. 0.]\n",
      "  [0. 0. 0. ... 0. 0. 0.]\n",
      "  [0. 0. 0. ... 0. 0. 0.]\n",
      "  ...\n",
      "  [0. 0. 0. ... 0. 0. 0.]\n",
      "  [0. 0. 0. ... 0. 0. 0.]\n",
      "  [0. 0. 0. ... 0. 0. 0.]]\n",
      "\n",
      " [[0. 0. 0. ... 0. 0. 0.]\n",
      "  [0. 0. 0. ... 0. 0. 0.]\n",
      "  [0. 0. 0. ... 0. 0. 0.]\n",
      "  ...\n",
      "  [0. 0. 0. ... 0. 0. 0.]\n",
      "  [0. 0. 0. ... 0. 0. 0.]\n",
      "  [0. 0. 0. ... 0. 0. 0.]]]\n"
     ]
    }
   ],
   "source": [
    "# Reserve 10,000 samples for validation. Entraran dentro del modelo para validar. No es validacion cruzada\n",
    "X_val = X_train[-10000:]\n",
    "y_val = y_train[-10000:]\n",
    "\n",
    "X_train = X_train[:-10000]\n",
    "y_train = y_train[:-10000]\n",
    "\n",
    "print(X_val)"
   ]
  },
  {
   "cell_type": "code",
   "execution_count": 15,
   "metadata": {},
   "outputs": [
    {
     "data": {
      "text/plain": [
       "7.0    0.1090\n",
       "1.0    0.1064\n",
       "3.0    0.1030\n",
       "8.0    0.1009\n",
       "0.0    0.0991\n",
       "2.0    0.0990\n",
       "4.0    0.0983\n",
       "6.0    0.0967\n",
       "9.0    0.0961\n",
       "5.0    0.0915\n",
       "Name: proportion, dtype: float64"
      ]
     },
     "execution_count": 15,
     "metadata": {},
     "output_type": "execute_result"
    }
   ],
   "source": [
    "pd.Series(y_val).value_counts(True)"
   ]
  },
  {
   "cell_type": "markdown",
   "metadata": {},
   "source": [
    "Además nos ha mantenido bastante bien la estratificación."
   ]
  },
  {
   "cell_type": "code",
   "execution_count": 16,
   "metadata": {},
   "outputs": [
    {
     "data": {
      "text/plain": [
       "<matplotlib.image.AxesImage at 0x20b5dee62c0>"
      ]
     },
     "execution_count": 16,
     "metadata": {},
     "output_type": "execute_result"
    },
    {
     "data": {
      "image/png": "[encoded data removed]",
      "text/plain": [
       "<Figure size 640x480 with 1 Axes>"
      ]
     },
     "metadata": {},
     "output_type": "display_data"
    }
   ],
   "source": [
    "plt.imshow(X_val[1234], cmap='Greys')"
   ]
  },
  {
   "cell_type": "code",
   "execution_count": 17,
   "metadata": {},
   "outputs": [
    {
     "data": {
      "text/plain": [
       "5.0"
      ]
     },
     "execution_count": 17,
     "metadata": {},
     "output_type": "execute_result"
    }
   ],
   "source": [
    "y_val[1234]"
   ]
  },
  {
   "cell_type": "markdown",
   "metadata": {},
   "source": [
    "## DEFINICION/CONSTRUCCION"
   ]
  },
  {
   "cell_type": "markdown",
   "metadata": {},
   "source": [
    "Para este problema vamos a construir una topología \"sencilla\" multicapa completamente conectada. O sea un MLP (aunque no tendrán el step como fuciones de activación) o una red densa. Recordando lo que vimos en la sesión de WrapUp de la unidad anterior. Vamos a montar la siguiente red:"
   ]
  },
  {
   "cell_type": "markdown",
   "metadata": {},
   "source": [
    "<img src=\"./img/mlp_clasification.png\" alt=\"drawing\" width=\"300\"/>"
   ]
  },
  {
   "cell_type": "markdown",
   "metadata": {},
   "source": [
    "¿Cómo construimos con Keras? Vamos a utilizar \"layers\" diferentes tipos de capas que podemos ajustar entre si como bloques de lego. Evidentemente tendremos una layer \"densa\" con sus neuronas y unidades pero también capas que hacen otro tipo de funciones y no se entrenan, y capas más complejas que sí se entrenan y que iremos viendo en sucesivos sprints. "
   ]
  },
  {
   "cell_type": "markdown",
   "metadata": {},
   "source": [
    "En nuestro caso para implementar una topología sencilla como la anterior aplicada a nuestro problema específico de clasificación de MNIST usaremos las siguientes capas (layers) de Keras:\n",
    "\n",
    "* **Sequential**: API para iniciar la red neuronal. No cuenta como capa.\n",
    "* **Flatten**: capa de entrada especial. Necesita un vector unidimensional. Como tenemos imágenes, esta capa aplana las imagenes (2D) en 1D.\n",
    "* **Dense**: es una hidden layer. Cada hidden layer se compondrá de `n` neuronas y de una función de activación que se aplicará a todas las neuronas de la capa. La capa de salida también serás densa (porque sus unidades o neuronas estarán conectadas a todas las unidades de la capa anteriore) pero como es un problema de clasificación multiclase (10 clases), se compondrá de tantas neuronas como clases tengamos (o sea... muy bien, diez unidades o neuronas).\n",
    "\n"
   ]
  },
  {
   "cell_type": "markdown",
   "metadata": {},
   "source": [
    "#### Softmax"
   ]
  },
  {
   "cell_type": "markdown",
   "metadata": {},
   "source": [
    "Un poco más sobre la activación softmax:    \n",
    "\n",
    "Fórmula:  \n",
    "<img src=\"./img/softmax_function.png\" alt=\"drawing\" width=\"400\"/>\n",
    "\n",
    "Función de transferencia:  \n",
    "<img src=\"./img/softmax_activation.png\" alt=\"drawing\" width=\"400\"/>\n",
    "\n",
    "Ejemplo de funcionamiento:  \n",
    "<img src=\"./img/softmax_example.png\" alt=\"drawing\" width=\"400\"/>"
   ]
  },
  {
   "cell_type": "markdown",
   "metadata": {},
   "source": [
    "$$Softmax(5) = \\frac{e^5}{e^5+e^{2.5}+e^{0.5}} = \\frac{148.41}{148.41 + 12.18 + 1.65} = 0.91$$"
   ]
  },
  {
   "cell_type": "markdown",
   "metadata": {},
   "source": [
    "Es una activación un poco especial porque no afecta a una unidad por separado sino que se aplica al conjunto de unidades y da una salida para cada una."
   ]
  },
  {
   "cell_type": "markdown",
   "metadata": {},
   "source": [
    "A construir..."
   ]
  },
  {
   "cell_type": "markdown",
   "metadata": {},
   "source": [
    "#### Construcción \"apilando\""
   ]
  },
  {
   "cell_type": "code",
   "execution_count": 18,
   "metadata": {},
   "outputs": [
    {
     "name": "stdout",
     "output_type": "stream",
     "text": [
      "WARNING:tensorflow:From c:\\Users\\lucas\\AppData\\Local\\Programs\\Python\\Python310\\lib\\site-packages\\keras\\src\\backend.py:873: The name tf.get_default_graph is deprecated. Please use tf.compat.v1.get_default_graph instead.\n",
      "\n"
     ]
    }
   ],
   "source": [
    "# Una manera de declarar la red neuronal\n",
    "\n",
    "# Siempre hay que declarar la capa sequential para empezar a declarar la red\n",
    "# Se trata de la API sequential\n",
    "model = keras.models.Sequential()\n",
    "\n",
    "# Flatten, aplana en un unico vector. Y especificamos el tamaño de la entrada\n",
    "# Es como si hiciese un .reshape(-1, 28*28)\n",
    "# \"kernel_initializer\" o \"bias_initializer\" No lo usamos pero seria para inicializar los pesos de otra manera\n",
    "model.add(keras.layers.Flatten(input_shape=(28,28)))\n",
    "\n",
    "# Capas de la red. Dense es la capa de neuronas. Necesitamos numero y activacion\n",
    "model.add(keras.layers.Dense(units = 300, # Numero de neuronas de la capa\n",
    "                             activation='relu'))\n",
    "\n",
    "model.add(keras.layers.Dense(100,\n",
    "                             activation='relu'))\n",
    "\n",
    "# Capa de salida, con tamaño del número de clases\n",
    "# Suele ir aqui un softmax. Para multiclase guay. Si es binaria -> sigmoide\n",
    "model.add(keras.layers.Dense(10, activation='softmax'))"
   ]
  },
  {
   "cell_type": "markdown",
   "metadata": {},
   "source": [
    "#### Construcción con listas (secuencias de capas)"
   ]
  },
  {
   "cell_type": "code",
   "execution_count": 19,
   "metadata": {},
   "outputs": [],
   "source": [
    "# Otra manera de declarar la red neuronal\n",
    "capas = [\n",
    "    keras.layers.Flatten(input_shape=(28,28)),\n",
    "    keras.layers.Dense(300, activation='relu'),\n",
    "    keras.layers.Dense(100, activation='relu'),\n",
    "    keras.layers.Dense(10, activation='softmax')\n",
    "]\n",
    "model = keras.models.Sequential(capas)"
   ]
  },
  {
   "cell_type": "markdown",
   "metadata": {},
   "source": [
    "#### Usando la denominada \"Functional API\""
   ]
  },
  {
   "cell_type": "markdown",
   "metadata": {},
   "source": [
    "La functional API de Keras va encadenando capas como si fueran llamadas de funciones entre sí, es un poco más compleja pero permite topologías mucho más ricas"
   ]
  },
  {
   "cell_type": "code",
   "execution_count": 20,
   "metadata": {},
   "outputs": [],
   "source": [
    "# Y una forma mediante encademaniento de funciones (usando lo que se denomina la Functional API)\n",
    "input_layer = keras.layers.Input(shape = (28,28))\n",
    "flatten_layer = keras.layers.Flatten()(input_layer)\n",
    "hidden_1 = keras.layers.Dense(300, activation = \"relu\")(flatten_layer)\n",
    "hidden_2 = keras.layers.Dense(100, activation = \"relu\")(hidden_1)\n",
    "output = keras.layers.Dense(10, activation = \"softmax\")(hidden_2)\n",
    "model = keras.Model(inputs = [input_layer], outputs = [output])"
   ]
  },
  {
   "cell_type": "markdown",
   "metadata": {},
   "source": [
    "La functional API me va a permitir construir redes como estas:\n",
    "\n",
    "<img src=\"./img/otras_arquitecturas.png\" alt=\"drawing\" width=\"600\"/>"
   ]
  },
  {
   "cell_type": "markdown",
   "metadata": {},
   "source": [
    "Podemos ver las capas, y acceder a sus elementos"
   ]
  },
  {
   "cell_type": "code",
   "execution_count": 21,
   "metadata": {},
   "outputs": [
    {
     "name": "stdout",
     "output_type": "stream",
     "text": [
      "<keras.src.layers.reshaping.flatten.Flatten object at 0x0000020B6111FC10>\n"
     ]
    },
    {
     "data": {
      "text/plain": [
       "[<keras.src.engine.input_layer.InputLayer at 0x20b6111d300>,\n",
       " <keras.src.layers.reshaping.flatten.Flatten at 0x20b6111fc10>,\n",
       " <keras.src.layers.core.dense.Dense at 0x20b5abdb5e0>,\n",
       " <keras.src.layers.core.dense.Dense at 0x20b5abdb730>,\n",
       " <keras.src.layers.core.dense.Dense at 0x20b5abd8790>]"
      ]
     },
     "execution_count": 21,
     "metadata": {},
     "output_type": "execute_result"
    }
   ],
   "source": [
    "print(model.layers[1])\n",
    "model.layers"
   ]
  },
  {
   "cell_type": "markdown",
   "metadata": {},
   "source": [
    "Podemos ver los pesos de las capas sin entrenar, porque los inicializa \"aleatoriamente\". Los bias los inicializa a 0."
   ]
  },
  {
   "cell_type": "code",
   "execution_count": 22,
   "metadata": {},
   "outputs": [
    {
     "data": {
      "text/plain": [
       "(784, 300)"
      ]
     },
     "execution_count": 22,
     "metadata": {},
     "output_type": "execute_result"
    }
   ],
   "source": [
    "hidden1 = model.layers[2]\n",
    "weights, biases = hidden1.get_weights()\n",
    "\n",
    "# 784 features (pixeles de las imagenes) x 300 neuronas\n",
    "# Los pesos están inicializados aleatoriamente\n",
    "weights.shape"
   ]
  },
  {
   "cell_type": "code",
   "execution_count": 23,
   "metadata": {},
   "outputs": [
    {
     "data": {
      "text/plain": [
       "235200"
      ]
     },
     "execution_count": 23,
     "metadata": {},
     "output_type": "execute_result"
    }
   ],
   "source": [
    "weights.size"
   ]
  },
  {
   "cell_type": "code",
   "execution_count": 24,
   "metadata": {},
   "outputs": [
    {
     "data": {
      "text/plain": [
       "array([ 1.6138576e-02,  5.6994841e-02,  9.0306103e-03, -6.4078934e-02,\n",
       "       -4.3126114e-02,  1.8584251e-02, -4.2706296e-02,  2.9420324e-02,\n",
       "       -7.8710839e-03,  4.6283700e-02,  3.5908781e-02,  2.5099009e-02,\n",
       "       -3.3486620e-02, -5.8439948e-02,  5.2306637e-02,  6.7875504e-02,\n",
       "       -2.9248126e-02,  5.9519097e-02, -3.9113238e-03,  2.6010007e-02,\n",
       "        4.7256708e-02, -6.0906984e-02, -6.0259372e-02,  2.8091073e-03,\n",
       "        5.9927210e-02,  4.4061519e-02, -5.7780936e-02, -6.1695039e-02,\n",
       "       -5.4998294e-02,  3.8757101e-02, -4.8638433e-03, -6.6033185e-02,\n",
       "       -7.7471659e-03,  4.3047130e-02, -9.6922442e-03, -7.2182812e-02,\n",
       "        3.2182887e-02,  3.7157856e-02, -4.5553558e-02, -4.9954940e-02,\n",
       "       -3.4010116e-02,  4.2360708e-02, -5.7887062e-02,  5.4764375e-03,\n",
       "        2.1348126e-02,  1.2311190e-02,  6.6928864e-02,  7.0595607e-02,\n",
       "       -6.5892138e-02, -3.8718011e-02, -2.9900577e-02, -8.1890374e-03,\n",
       "        4.0696524e-02,  1.8959284e-02,  7.0064232e-02,  4.6091899e-02,\n",
       "        3.2478862e-02,  1.8163577e-02,  4.4530600e-02, -3.4830477e-02,\n",
       "       -1.9984532e-02,  7.2494164e-02,  2.1603480e-03, -1.9281954e-02,\n",
       "        1.8039912e-02, -1.6989335e-02, -3.3695109e-02,  3.1520627e-02,\n",
       "        3.9454542e-02, -5.3457458e-02,  6.4205483e-02, -6.8909153e-02,\n",
       "       -2.6265576e-02,  2.8604805e-02, -3.1009465e-03, -4.3231197e-02,\n",
       "        2.8350875e-02,  3.1008661e-02, -2.0366978e-02,  4.0461272e-03,\n",
       "       -6.2798373e-02, -4.5409404e-02,  1.5775122e-02, -5.3117085e-02,\n",
       "        2.6672982e-02, -6.6736296e-02, -4.3987378e-02,  2.4766676e-02,\n",
       "       -4.3051563e-02,  2.1449000e-02,  5.4414377e-02, -5.5928528e-03,\n",
       "       -3.9415818e-02, -4.7432691e-02, -7.4132159e-03,  5.6282267e-02,\n",
       "        6.0446560e-02, -1.1824481e-02,  1.0446385e-03,  1.3987310e-02,\n",
       "       -6.9557808e-02,  4.8482113e-02,  5.6828752e-02,  5.8923051e-02,\n",
       "       -3.3839427e-02, -4.5325290e-02, -5.2277323e-02, -4.3049470e-02,\n",
       "        4.0892899e-02, -1.1791237e-02, -4.8429858e-02, -4.7080927e-02,\n",
       "       -6.0037013e-02,  4.2618461e-02, -3.6643531e-02,  2.1247342e-02,\n",
       "        6.5172672e-02, -1.5768137e-02,  1.0013565e-02,  3.3315346e-02,\n",
       "       -6.2203690e-02, -4.1001562e-02,  5.3948924e-02,  1.2661263e-02,\n",
       "        1.4422983e-02, -6.6305570e-02,  5.3420663e-06, -6.3158415e-02,\n",
       "        6.0230970e-02,  1.2709200e-04,  4.8648104e-02, -2.8592728e-02,\n",
       "        2.9655918e-03, -6.3740358e-02, -4.0562231e-02, -1.5150256e-02,\n",
       "       -1.4377188e-02, -3.5489790e-02,  6.1543420e-02, -3.6038727e-02,\n",
       "        2.5055639e-02,  4.0493235e-03, -6.2501743e-02,  9.5090121e-03,\n",
       "       -4.6636686e-03, -2.4810310e-02,  8.4842667e-03, -2.6177701e-02,\n",
       "       -3.5020038e-03,  1.6813502e-02, -6.9695398e-02,  2.5954664e-02,\n",
       "       -3.7962198e-02, -6.9850922e-02, -5.2372679e-02, -6.5557458e-02,\n",
       "       -1.5771452e-02, -1.4462546e-03, -4.5826845e-02,  1.9397214e-02,\n",
       "        3.1662546e-02,  4.9851142e-02,  3.0898824e-03,  1.9807808e-02,\n",
       "        8.5562095e-03, -4.6237476e-02,  2.1076970e-02, -2.1328937e-02,\n",
       "       -5.6739897e-04, -4.3691985e-02, -5.5869594e-02, -4.6426475e-02,\n",
       "        2.9307157e-02,  5.9503987e-02,  2.9990301e-03,  4.5910530e-02,\n",
       "       -3.0372635e-02,  4.0511996e-02,  4.7070980e-02, -2.2273690e-02,\n",
       "       -6.7793988e-02, -5.6079894e-02, -6.0511999e-02, -1.9842397e-02,\n",
       "       -6.2413000e-02, -6.2867939e-02,  2.0577244e-02, -1.4224537e-02,\n",
       "        1.7773703e-02, -3.9711382e-02,  3.6904991e-02, -4.4199400e-02,\n",
       "       -6.7104645e-02,  7.0175275e-02,  4.8735797e-02,  3.1911641e-02,\n",
       "       -2.4212673e-03,  2.0378970e-02,  6.5227032e-02,  3.6802426e-02,\n",
       "        4.7273934e-02,  5.2864552e-02,  1.1395894e-02, -7.0720613e-03,\n",
       "       -4.6203777e-02, -6.9546841e-02,  6.4138040e-02,  5.4931849e-02,\n",
       "        5.1797614e-02, -1.8880527e-02, -1.4911130e-02,  4.1372642e-02,\n",
       "       -4.4771761e-02, -5.9261620e-02, -5.6551419e-02, -3.1188328e-02,\n",
       "        3.1603195e-02, -4.7856003e-02, -6.0265068e-02,  3.6549062e-02,\n",
       "       -5.1681861e-02, -2.8192367e-02,  2.9958189e-03,  5.8171242e-02,\n",
       "        4.9338356e-02,  5.8288172e-02, -3.9737139e-02, -3.3626180e-02,\n",
       "       -2.5433209e-02,  4.5906186e-02, -4.3000441e-02,  4.8470087e-02,\n",
       "        2.9983625e-02, -3.3851169e-02, -3.1409338e-03, -6.7911945e-02,\n",
       "       -4.2779595e-03, -3.4690969e-02, -6.6938952e-02,  1.3646178e-02,\n",
       "       -3.2382563e-02,  7.8210086e-03,  2.9051997e-02, -5.1231816e-02,\n",
       "        2.0898595e-02,  5.5676639e-02,  5.8058694e-02, -3.2940134e-02,\n",
       "       -6.9707938e-02, -5.8014490e-02, -1.6935214e-02,  2.0780444e-02,\n",
       "       -7.2996289e-02,  2.2962689e-03,  3.2188177e-02, -1.2325123e-03,\n",
       "        7.0424512e-02,  3.7852459e-02, -6.2118813e-02, -3.5687231e-02,\n",
       "       -1.3085604e-02,  6.6847637e-02,  1.6559243e-02, -5.5302799e-02,\n",
       "       -1.0527223e-03,  5.5023804e-02, -2.2291604e-02, -6.4206719e-02,\n",
       "       -1.7229043e-02, -2.3835100e-02, -5.0885789e-02, -3.1974841e-02,\n",
       "       -1.0458753e-03,  5.7505712e-02, -1.4770966e-02,  2.3825929e-02,\n",
       "        6.1044559e-02, -5.4201312e-02,  7.1256265e-02,  7.3803321e-02,\n",
       "       -6.0690634e-02,  8.7489113e-03,  6.2978640e-03,  5.1456988e-02,\n",
       "        5.7246044e-02,  5.1403910e-02,  5.8741480e-02, -6.4647332e-02,\n",
       "        6.7539290e-02, -7.4008301e-02,  4.0081255e-02,  4.2938218e-03,\n",
       "        5.1196024e-02,  3.5599269e-02,  5.1051438e-02, -2.5440358e-02,\n",
       "       -4.0455807e-02, -5.2725930e-02, -3.1155512e-02,  4.2574257e-02],\n",
       "      dtype=float32)"
      ]
     },
     "execution_count": 24,
     "metadata": {},
     "output_type": "execute_result"
    }
   ],
   "source": [
    "weights[0]"
   ]
  },
  {
   "cell_type": "markdown",
   "metadata": {},
   "source": [
    "Sí, podríamo ya hacer una predicción"
   ]
  },
  {
   "cell_type": "code",
   "execution_count": 25,
   "metadata": {},
   "outputs": [
    {
     "name": "stdout",
     "output_type": "stream",
     "text": [
      "1/1 [==============================] - 0s 159ms/step\n"
     ]
    },
    {
     "data": {
      "text/plain": [
       "array([[0.10437898, 0.11766145, 0.08656988, 0.09521522, 0.11696028,\n",
       "        0.09662782, 0.08775973, 0.0979524 , 0.12455237, 0.07232182]],\n",
       "      dtype=float32)"
      ]
     },
     "execution_count": 25,
     "metadata": {},
     "output_type": "execute_result"
    }
   ],
   "source": [
    "model.predict([X_train[1234:1235,:]]) # Espera batches o conjunto de valores por eso hay que dárselo así"
   ]
  },
  {
   "cell_type": "markdown",
   "metadata": {},
   "source": [
    "Tenemos tantas salidas como neuronas y son \"probabilidades\", tendremos que hacer nosotros la conversión:"
   ]
  },
  {
   "cell_type": "code",
   "execution_count": 26,
   "metadata": {},
   "outputs": [
    {
     "name": "stdout",
     "output_type": "stream",
     "text": [
      "1/1 [==============================] - 0s 15ms/step\n"
     ]
    },
    {
     "data": {
      "text/plain": [
       "8"
      ]
     },
     "execution_count": 26,
     "metadata": {},
     "output_type": "execute_result"
    }
   ],
   "source": [
    "model.predict([X_train[1234:1235,:]])[0].argmax()"
   ]
  },
  {
   "cell_type": "markdown",
   "metadata": {},
   "source": [
    "Nuestra modelo no entrenado pero inicializado dice que 3... y es"
   ]
  },
  {
   "cell_type": "code",
   "execution_count": 27,
   "metadata": {},
   "outputs": [
    {
     "data": {
      "text/plain": [
       "<matplotlib.image.AxesImage at 0x20b5b310100>"
      ]
     },
     "execution_count": 27,
     "metadata": {},
     "output_type": "execute_result"
    },
    {
     "data": {
      "image/png": "[encoded data removed]",
      "text/plain": [
       "<Figure size 640x480 with 1 Axes>"
      ]
     },
     "metadata": {},
     "output_type": "display_data"
    }
   ],
   "source": [
    "plt.imshow(X_train[1234], cmap = \"Greys\")"
   ]
  },
  {
   "cell_type": "markdown",
   "metadata": {},
   "source": [
    "¿No esperarías otra cosa? :-)"
   ]
  },
  {
   "cell_type": "markdown",
   "metadata": {},
   "source": [
    "#### Inicializadores:  \n",
    "\n",
    "Antes de seguir y al hilo de lo que vimos de los pesos al finalizar la sección anterior, hay que recordar que cuando construimos un modelo o red DL, de partida sus pesos se inicializan a valores diferentes de cero (si no, no habría gradiente que propagar ni nada que hacer). Esa inicialización afecta al comportamiento de la red, y no es un aleatorio cualquiera. Lo iremos recordando... De hecho el tipo de inicialización es un hiperparámetro. Ahora ya puedes obviar parcialmente el inciso y sigamos...\n",
    "\n",
    "O sea:\n",
    "\n",
    "- Los pesos inicializados a cero -> No aprendizaje\n",
    "- Desde siempre se inicializan \"aleatoriamente\", pero no sólo de forma uniforme (todos los valores con la misma probabilidad), sino que se emplean diferentes distribuciones de probabilidad con parámetros que dependen del número de entradas y salidas de la capa. El objetivo esintentar que las varianzas de las entradas sean similares a las de las salidas y evitar el problema del gradiente que se desvanece (\"Vanishing Gradient\" problem):  \n",
    "    *   Glorot inizialization (por defecto la de Keras, con función uniforme de distribución) -> Para cuando tienes funciones de activación (ninguna, tanh, sigmoid, softmax, aunque también se usa por defecto :-) para casi todo) [Xavier Glorot & Yoshua Bengio]\n",
    "    *   He inizialization, -> Para cuando tienes ReLU, Leaky ReLU, ELU, GELU, Swish, Mish [He Kaiming et al.]\n",
    "    *   LeCunn inizialization -> Para cuando tienes SELU [Jean LeCunn]\n",
    "- Es un hiperparámetro"
   ]
  },
  {
   "cell_type": "markdown",
   "metadata": {},
   "source": [
    "Establecemos la configuración de ejecución... el compile."
   ]
  },
  {
   "cell_type": "code",
   "execution_count": 28,
   "metadata": {},
   "outputs": [],
   "source": [
    "# Se especifica la configuración del entrenamiento (optimizador, pérdida, métricas):\n",
    "model.compile(\n",
    "    # Stocastic gradient descent. El algoritmo para minimizar la loss function\n",
    "    # El stocastic va haciendo muestreo en cada evaluacion, no usa todo el dataset\n",
    "    # Podemos modificar el learning rate(0.01 por defecto) mediante el parametro lr\n",
    "    optimizer=keras.optimizers.SGD(),  # Optimizer, con parámetros por defecto\n",
    "    \n",
    "    \n",
    "    # Loss function to minimize\n",
    "    # sparse_categorical_crossentropy cuando tenemos un label en nuna columna\n",
    "    # Si lo tuviesemos en varias tipo dummy, cogeriamos categorical_crossentropy\n",
    "    # binary_crossentropy si es una neurona, clasi binario\n",
    "    loss=keras.losses.SparseCategoricalCrossentropy(),\n",
    "    \n",
    "    # List of metrics to monitor\n",
    "    metrics=[keras.metrics.SparseCategoricalAccuracy()],\n",
    ")"
   ]
  },
  {
   "cell_type": "code",
   "execution_count": 29,
   "metadata": {},
   "outputs": [
    {
     "name": "stdout",
     "output_type": "stream",
     "text": [
      "WARNING:tensorflow:From c:\\Users\\lucas\\AppData\\Local\\Programs\\Python\\Python310\\lib\\site-packages\\keras\\src\\optimizers\\__init__.py:309: The name tf.train.Optimizer is deprecated. Please use tf.compat.v1.train.Optimizer instead.\n",
      "\n"
     ]
    }
   ],
   "source": [
    "# Equivalente (... casi, los parámetros del optimizador serán los que tenga por defecto)\n",
    "model.compile(optimizer=\"sgd\",\n",
    "              loss=\"sparse_categorical_crossentropy\",\n",
    "              metrics=[\"accuracy\"])"
   ]
  },
  {
   "cell_type": "code",
   "execution_count": 30,
   "metadata": {},
   "outputs": [
    {
     "name": "stdout",
     "output_type": "stream",
     "text": [
      "Model: \"model\"\n",
      "_________________________________________________________________\n",
      " Layer (type)                Output Shape              Param #   \n",
      "=================================================================\n",
      " input_1 (InputLayer)        [(None, 28, 28)]          0         \n",
      "                                                                 \n",
      " flatten_2 (Flatten)         (None, 784)               0         \n",
      "                                                                 \n",
      " dense_6 (Dense)             (None, 300)               235500    \n",
      "                                                                 \n",
      " dense_7 (Dense)             (None, 100)               30100     \n",
      "                                                                 \n",
      " dense_8 (Dense)             (None, 10)                1010      \n",
      "                                                                 \n",
      "=================================================================\n",
      "Total params: 266610 (1.02 MB)\n",
      "Trainable params: 266610 (1.02 MB)\n",
      "Non-trainable params: 0 (0.00 Byte)\n",
      "_________________________________________________________________\n"
     ]
    }
   ],
   "source": [
    "# Summary\n",
    "# La primera hidden layer tiene 784 entradas x 300 salidas\n",
    "# Son los 235500 params = 784x300 + 300 (bias)\n",
    "model.summary()"
   ]
  },
  {
   "cell_type": "markdown",
   "metadata": {},
   "source": [
    "#### CAPAS"
   ]
  },
  {
   "cell_type": "markdown",
   "metadata": {},
   "source": [
    "Vayamos construyendo nuestra __lista de capas__:\n",
    "\n",
    "__Entrenables__:  \n",
    "__* Dense__ -> Capa completamente conectada a las neuronas de la capa anterior y a la posterior  \n",
    "    Hiperparámetros asociados:     \n",
    "        * units: Number of neurons, dimensionality of the output space  \n",
    "        * activation: Activation function to use. If you don't specify anything, no activation is applied  \n",
    "        * kernel_initializer: Initializer for the kernel weights matrix.  \n",
    "        * bias_initializer: Initializer for the bias vector. (Suelen inicializarse a cero)\n",
    "        * Kernel_regularizar: Los clásicos (L1,L2,...)\n",
    " \n",
    "__Funcionales__:       \n",
    "__* Input__ -> Capa para definir la forma de la entrada (shape), que se puede pasar como input_shape  \n",
    "__* Flatten__ -> Capa que aplana (convierte su entrada en un vector)"
   ]
  },
  {
   "cell_type": "markdown",
   "metadata": {},
   "source": [
    "### Funciones Activacion"
   ]
  },
  {
   "cell_type": "markdown",
   "metadata": {},
   "source": [
    "Otras funciones de activación interesantes: SELU (1.67*ELU) y Swish (también SiLU, o Sigmoid linear unit)... No entrar en pánico, vais a usar ReLU, Softmax y no-activation, y en algunos casos (quizás): sigmoid, tanh y las (x)LU (SELU, Siwsh,etc)\n",
    "\n",
    "<img src=\"./img/activation_functions.png\" alt=\"drawing\" width=\"600\"/>\n",
    "\n"
   ]
  },
  {
   "cell_type": "markdown",
   "metadata": {},
   "source": [
    "#### OPTIMIZADORES"
   ]
  },
  {
   "cell_type": "markdown",
   "metadata": {},
   "source": [
    "Y también vamos completando lista de hiperparámetros, estos asociados al \"Optimizador\"/\"Modelo\":  \n",
    "Tipo de optimizador:  \n",
    "* __SGD__, Gradient descent \"genérico\" (puedes añadirle \"momento\", es decir que a la hora de descontar el gradiente tenga en cuenta el vector medio de gradientes pasados)\n",
    "  \n",
    "\n",
    "* __Adagrad__, Hace gradient descent pero ajusta el gradiente para compensar las componentes de mayor valor numérico (es como evitar irse por las pendientes más inclinadas)... Es decir evita irse a mínimos locales al precio de enlentecer el entrenamiento.    \n",
    "\n",
    "* __RMSprop__, Versión de AdaGrad, pero considera principalmente los últimos valores del gradiente. Es decir, busca lo bueno de Adagrad reduciendo sus peligros.    \n",
    "\n",
    "* __Adam__, _Adaptative Moment Estimation_, combina RMSProp y el uso de momento. Es el rey actual (junto con sus versiones) para grandes cantidades de datos.    \n",
    "\n",
    "* __AdamW, Nadam, AdaMax__, variantes del anterior. \n",
    "\n",
    "Comparativa, donde * es malo y *** bueno (extraído del \"Hands-on Machine Learning with....\" de Aurelien Geron, 3a Edicion)\n",
    "\n",
    "<img src=\"./img/Comparativa-optimizadores.png\" alt=\"drawing\" width=\"800\"/>\n",
    "\n",
    "Keras también permite:\n",
    "__Adadelta__ _(variante de Adagrad)_, __Adafactor__ y __Ftrl__\n",
    "\n",
    "      \n",
    "Hiperparámetros Genéricos:\n",
    "Learning Rate: Coeficiente aplicado al descenso de gradiente, como en otros modelos que ya hemos visto  \n",
    "Asociados al Gradient Clipping: clipnorm, clipvalue, global_clipnorm\n",
    "\n",
    "Cada optimizador además puede tener sus propios hiperparámetros (ver: https://keras.io/api/optimizers/)\n",
    "\n",
    " \n",
    "\n",
    "\n"
   ]
  },
  {
   "cell_type": "markdown",
   "metadata": {},
   "source": [
    "### Fuciones de pérdida y métricas\n",
    "__Función de perdida__: La función a minimizar durante el entrenamiento (son las mismas que en otros modelos no Deep)  \n",
    "- Clasificación: En clases Keras -> __BinaryCrossEntropy, CategoricalCrossEntropy, SparseCategoricalCrossEntropy__  \n",
    "- Regresión: En clases Keras -> __MeanSquaredError, MeanAbsoluteError, MeanAbsolutePercentageError, CosineSimilarity__   \n",
    "\n",
    "__Métricas__:  \n",
    "- Regresión: __MAE, MSE, MAPE__ :-)  \n",
    "- Clasificación: __Accuracy, Precision, Recall, f1, AuRoC__  \n",
    "\n",
    "¿Cuál es la diferencia entre Categorical y Sparse? ¿Por qué las funciones de pérdida son diferentes a las métricas en Clasificación? "
   ]
  },
  {
   "cell_type": "markdown",
   "metadata": {},
   "source": [
    "## ENTRENAMIENTO"
   ]
  },
  {
   "cell_type": "markdown",
   "metadata": {},
   "source": [
    "Entrenamos el modelo. Usamos los datos de entrenamiento. El __batch_size__ es la cantidad de muestras que utiliza el SGD, y las __epochs__ son las iteraciones que realiza en el entrenamiento. (Son hiperparámetros de entrenamiento)    \n",
    "\n",
    "En una epoch se entrenan tantos batches como sea necesario para recorrer todo el dataset."
   ]
  },
  {
   "cell_type": "code",
   "execution_count": 31,
   "metadata": {},
   "outputs": [
    {
     "data": {
      "text/plain": [
       "781.25"
      ]
     },
     "execution_count": 31,
     "metadata": {},
     "output_type": "execute_result"
    }
   ],
   "source": [
    "50000/64"
   ]
  },
  {
   "cell_type": "code",
   "execution_count": 32,
   "metadata": {},
   "outputs": [
    {
     "name": "stdout",
     "output_type": "stream",
     "text": [
      "Fit model on training data\n",
      "Epoch 1/15\n",
      "WARNING:tensorflow:From c:\\Users\\lucas\\AppData\\Local\\Programs\\Python\\Python310\\lib\\site-packages\\keras\\src\\utils\\tf_utils.py:492: The name tf.ragged.RaggedTensorValue is deprecated. Please use tf.compat.v1.ragged.RaggedTensorValue instead.\n",
      "\n",
      "WARNING:tensorflow:From c:\\Users\\lucas\\AppData\\Local\\Programs\\Python\\Python310\\lib\\site-packages\\keras\\src\\engine\\base_layer_utils.py:384: The name tf.executing_eagerly_outside_functions is deprecated. Please use tf.compat.v1.executing_eagerly_outside_functions instead.\n",
      "\n",
      "782/782 [==============================] - 2s 2ms/step - loss: 0.8703 - accuracy: 0.7816 - val_loss: 0.3891 - val_accuracy: 0.8984\n",
      "Epoch 2/15\n",
      "782/782 [==============================] - 1s 2ms/step - loss: 0.3707 - accuracy: 0.8980 - val_loss: 0.2998 - val_accuracy: 0.9178\n",
      "Epoch 3/15\n",
      "782/782 [==============================] - 1s 2ms/step - loss: 0.3075 - accuracy: 0.9129 - val_loss: 0.2671 - val_accuracy: 0.9262\n",
      "Epoch 4/15\n",
      "782/782 [==============================] - 1s 2ms/step - loss: 0.2736 - accuracy: 0.9221 - val_loss: 0.2407 - val_accuracy: 0.9336\n",
      "Epoch 5/15\n",
      "782/782 [==============================] - 1s 2ms/step - loss: 0.2493 - accuracy: 0.9302 - val_loss: 0.2234 - val_accuracy: 0.9378\n",
      "Epoch 6/15\n",
      "782/782 [==============================] - 1s 2ms/step - loss: 0.2301 - accuracy: 0.9347 - val_loss: 0.2074 - val_accuracy: 0.9415\n",
      "Epoch 7/15\n",
      "782/782 [==============================] - 1s 2ms/step - loss: 0.2136 - accuracy: 0.9394 - val_loss: 0.1947 - val_accuracy: 0.9461\n",
      "Epoch 8/15\n",
      "782/782 [==============================] - 1s 2ms/step - loss: 0.1989 - accuracy: 0.9434 - val_loss: 0.1840 - val_accuracy: 0.9499\n",
      "Epoch 9/15\n",
      "782/782 [==============================] - 1s 2ms/step - loss: 0.1864 - accuracy: 0.9463 - val_loss: 0.1744 - val_accuracy: 0.9541\n",
      "Epoch 10/15\n",
      "782/782 [==============================] - 1s 2ms/step - loss: 0.1747 - accuracy: 0.9492 - val_loss: 0.1657 - val_accuracy: 0.9562\n",
      "Epoch 11/15\n",
      "782/782 [==============================] - 1s 2ms/step - loss: 0.1648 - accuracy: 0.9530 - val_loss: 0.1593 - val_accuracy: 0.9579\n",
      "Epoch 12/15\n",
      "782/782 [==============================] - 1s 1ms/step - loss: 0.1556 - accuracy: 0.9558 - val_loss: 0.1517 - val_accuracy: 0.9599\n",
      "Epoch 13/15\n",
      "782/782 [==============================] - 1s 1ms/step - loss: 0.1469 - accuracy: 0.9583 - val_loss: 0.1445 - val_accuracy: 0.9613\n",
      "Epoch 14/15\n",
      "782/782 [==============================] - 1s 1ms/step - loss: 0.1395 - accuracy: 0.9604 - val_loss: 0.1396 - val_accuracy: 0.9618\n",
      "Epoch 15/15\n",
      "782/782 [==============================] - 1s 1ms/step - loss: 0.1321 - accuracy: 0.9625 - val_loss: 0.1352 - val_accuracy: 0.9632\n"
     ]
    },
    {
     "data": {
      "text/plain": [
       "'\\nEn el entreanamiento solo hay que fijarse que el loss va para abajo, es bueno.\\nSi vemos que ya no baja mas, no serán necesarias tantas epochs.\\nImprimera tantas lineas como epochs hayamos puesto\\n\\nTampoco usamos el class_weight, que le da más peso a las clases con pocas muestras\\nUtil para datasets desbalanceados.\\n\\nEl loss que muestra es el categoricalcrossentropy\\n'"
      ]
     },
     "execution_count": 32,
     "metadata": {},
     "output_type": "execute_result"
    }
   ],
   "source": [
    "# Entrenamos el modelo con un batch_size de 64 imágenes por cada iteración, 15 epochs y especificando cuál es el conjunto de validación.\n",
    "print(\"Fit model on training data\")\n",
    "history = model.fit(\n",
    "    X_train,\n",
    "    y_train,\n",
    "    batch_size=64, # numero de muestras empleadas en el entrenamiento de SGD\n",
    "    epochs=15, # 1 por defecto. Insuficiente. Numero de vueltas del backpropagation\n",
    "    # We pass some validation for\n",
    "    # monitoring validation loss and metrics\n",
    "    # at the end of each epoch\n",
    "    # En vez de validation data podemos usar el argumento validation_split=0.1\n",
    "    validation_data=(X_val, y_val)\n",
    ")\n",
    "'''\n",
    "En el entreanamiento solo hay que fijarse que el loss va para abajo, es bueno.\n",
    "Si vemos que ya no baja mas, no serán necesarias tantas epochs.\n",
    "Imprimera tantas lineas como epochs hayamos puesto\n",
    "\n",
    "Tampoco usamos el class_weight, que le da más peso a las clases con pocas muestras\n",
    "Util para datasets desbalanceados.\n",
    "\n",
    "El loss que muestra es el categoricalcrossentropy\n",
    "'''\n"
   ]
  },
  {
   "cell_type": "markdown",
   "metadata": {},
   "source": [
    "**Podemos reentrenar el modelo. No empieza de nuevo, sino que retoma el entrenamiento anterior.**"
   ]
  },
  {
   "cell_type": "code",
   "execution_count": 33,
   "metadata": {},
   "outputs": [
    {
     "name": "stdout",
     "output_type": "stream",
     "text": [
      "Epoch 1/15\n",
      "782/782 [==============================] - 1s 2ms/step - loss: 0.1258 - accuracy: 0.9642 - val_loss: 0.1312 - val_accuracy: 0.9659\n",
      "Epoch 2/15\n",
      "782/782 [==============================] - 1s 2ms/step - loss: 0.1200 - accuracy: 0.9663 - val_loss: 0.1261 - val_accuracy: 0.9663\n",
      "Epoch 3/15\n",
      "782/782 [==============================] - 1s 2ms/step - loss: 0.1144 - accuracy: 0.9679 - val_loss: 0.1250 - val_accuracy: 0.9666\n",
      "Epoch 4/15\n",
      "782/782 [==============================] - 1s 2ms/step - loss: 0.1093 - accuracy: 0.9697 - val_loss: 0.1200 - val_accuracy: 0.9672\n",
      "Epoch 5/15\n",
      "782/782 [==============================] - 1s 2ms/step - loss: 0.1046 - accuracy: 0.9709 - val_loss: 0.1182 - val_accuracy: 0.9676\n",
      "Epoch 6/15\n",
      "782/782 [==============================] - 1s 2ms/step - loss: 0.1000 - accuracy: 0.9722 - val_loss: 0.1137 - val_accuracy: 0.9696\n",
      "Epoch 7/15\n",
      "782/782 [==============================] - 1s 2ms/step - loss: 0.0958 - accuracy: 0.9733 - val_loss: 0.1102 - val_accuracy: 0.9692\n",
      "Epoch 8/15\n",
      "782/782 [==============================] - 1s 2ms/step - loss: 0.0916 - accuracy: 0.9748 - val_loss: 0.1071 - val_accuracy: 0.9706\n",
      "Epoch 9/15\n",
      "782/782 [==============================] - 1s 2ms/step - loss: 0.0881 - accuracy: 0.9755 - val_loss: 0.1054 - val_accuracy: 0.9709\n",
      "Epoch 10/15\n",
      "782/782 [==============================] - 1s 1ms/step - loss: 0.0847 - accuracy: 0.9767 - val_loss: 0.1049 - val_accuracy: 0.9710\n",
      "Epoch 11/15\n",
      "782/782 [==============================] - 1s 2ms/step - loss: 0.0812 - accuracy: 0.9772 - val_loss: 0.1035 - val_accuracy: 0.9717\n",
      "Epoch 12/15\n",
      "782/782 [==============================] - 1s 1ms/step - loss: 0.0782 - accuracy: 0.9786 - val_loss: 0.1000 - val_accuracy: 0.9714\n",
      "Epoch 13/15\n",
      "782/782 [==============================] - 1s 1ms/step - loss: 0.0752 - accuracy: 0.9800 - val_loss: 0.0980 - val_accuracy: 0.9718\n",
      "Epoch 14/15\n",
      "782/782 [==============================] - 1s 1ms/step - loss: 0.0725 - accuracy: 0.9802 - val_loss: 0.0954 - val_accuracy: 0.9735\n",
      "Epoch 15/15\n",
      "782/782 [==============================] - 1s 2ms/step - loss: 0.0698 - accuracy: 0.9808 - val_loss: 0.0952 - val_accuracy: 0.9727\n"
     ]
    },
    {
     "data": {
      "text/plain": [
       "<keras.src.callbacks.History at 0x20b5d69dde0>"
      ]
     },
     "execution_count": 33,
     "metadata": {},
     "output_type": "execute_result"
    }
   ],
   "source": [
    "model.fit(\n",
    "    X_train,\n",
    "    y_train,\n",
    "    batch_size=64,\n",
    "    epochs=15,\n",
    "    validation_data=(X_val, y_val)\n",
    ")"
   ]
  },
  {
   "cell_type": "markdown",
   "metadata": {},
   "source": [
    "Veamos el histórico del entrenamiento, para poder representarlo posteriormente."
   ]
  },
  {
   "cell_type": "code",
   "execution_count": 34,
   "metadata": {},
   "outputs": [
    {
     "name": "stdout",
     "output_type": "stream",
     "text": [
      "{'verbose': 1, 'epochs': 15, 'steps': 782}\n",
      "[0, 1, 2, 3, 4, 5, 6, 7, 8, 9, 10, 11, 12, 13, 14]\n"
     ]
    },
    {
     "data": {
      "text/plain": [
       "{'loss': [0.8703155517578125,\n",
       "  0.37068256735801697,\n",
       "  0.3075453042984009,\n",
       "  0.27360999584198,\n",
       "  0.24932800233364105,\n",
       "  0.23011012375354767,\n",
       "  0.21364650130271912,\n",
       "  0.19892580807209015,\n",
       "  0.18636642396450043,\n",
       "  0.1747034639120102,\n",
       "  0.164808988571167,\n",
       "  0.15560577809810638,\n",
       "  0.1469438374042511,\n",
       "  0.13952140510082245,\n",
       "  0.13208380341529846],\n",
       " 'accuracy': [0.7815799713134766,\n",
       "  0.8979600071907043,\n",
       "  0.9129400253295898,\n",
       "  0.9221199750900269,\n",
       "  0.9302200078964233,\n",
       "  0.9347400069236755,\n",
       "  0.9394199848175049,\n",
       "  0.9434199929237366,\n",
       "  0.9462599754333496,\n",
       "  0.9492400288581848,\n",
       "  0.9529799818992615,\n",
       "  0.9558200240135193,\n",
       "  0.9582599997520447,\n",
       "  0.9604399800300598,\n",
       "  0.9625399708747864],\n",
       " 'val_loss': [0.3890865743160248,\n",
       "  0.2997979521751404,\n",
       "  0.267111599445343,\n",
       "  0.24066948890686035,\n",
       "  0.22343853116035461,\n",
       "  0.20740656554698944,\n",
       "  0.19473594427108765,\n",
       "  0.18402056396007538,\n",
       "  0.1744401454925537,\n",
       "  0.16569460928440094,\n",
       "  0.15931689739227295,\n",
       "  0.1517241895198822,\n",
       "  0.1445324718952179,\n",
       "  0.13960018754005432,\n",
       "  0.13516399264335632],\n",
       " 'val_accuracy': [0.8984000086784363,\n",
       "  0.9178000092506409,\n",
       "  0.9261999726295471,\n",
       "  0.9336000084877014,\n",
       "  0.9377999901771545,\n",
       "  0.9415000081062317,\n",
       "  0.9460999965667725,\n",
       "  0.9498999714851379,\n",
       "  0.9541000127792358,\n",
       "  0.9562000036239624,\n",
       "  0.9578999876976013,\n",
       "  0.9599000215530396,\n",
       "  0.9613000154495239,\n",
       "  0.9617999792098999,\n",
       "  0.9631999731063843]}"
      ]
     },
     "execution_count": 34,
     "metadata": {},
     "output_type": "execute_result"
    }
   ],
   "source": [
    "print(history.params)\n",
    "print(history.epoch)\n",
    "history.history"
   ]
  },
  {
   "cell_type": "code",
   "execution_count": 35,
   "metadata": {},
   "outputs": [
    {
     "data": {
      "image/png": "[encoded data removed]",
      "text/plain": [
       "<Figure size 800x500 with 1 Axes>"
      ]
     },
     "metadata": {},
     "output_type": "display_data"
    }
   ],
   "source": [
    "import pandas as pd\n",
    "import matplotlib.pyplot as plt\n",
    "\n",
    "# Podemos ver como evoluciona el entrenamiento, en funcion de los epochs\n",
    "# Validacion y training estan muy cerca, no hay overfitting!\n",
    "# Todavia no ha acabado de coverger ya que el loss en validacion sigue bajando,\n",
    "pd.DataFrame(history.history).plot(figsize=(8, 5))\n",
    "plt.grid(True)\n",
    "plt.gca().set_ylim(0, 1) # set the vertical range to [0-1]\n",
    "plt.show()"
   ]
  },
  {
   "cell_type": "markdown",
   "metadata": {},
   "source": [
    "Si el modelo no ha ido bien, prueba a cambiar el learning rate, cambia de optimizador y después prueba a cambiar capas, neuronas y funciones de activación.\n"
   ]
  },
  {
   "cell_type": "markdown",
   "metadata": {},
   "source": [
    "### Evaluación con test"
   ]
  },
  {
   "cell_type": "markdown",
   "metadata": {},
   "source": [
    "Ya tenemos el modelo entrenado. Probémoslo con test"
   ]
  },
  {
   "cell_type": "code",
   "execution_count": 36,
   "metadata": {},
   "outputs": [
    {
     "name": "stdout",
     "output_type": "stream",
     "text": [
      "Evaluate on test data\n",
      "313/313 [==============================] - 0s 697us/step - loss: 0.0951 - accuracy: 0.9712\n",
      "test loss, test acc: [0.0951104462146759, 0.9711999893188477]\n"
     ]
    }
   ],
   "source": [
    "# Obtenemos el \"score\" a partir del conjunto de test\n",
    "# Evaluate the model on the test data using `evaluate`\n",
    "print(\"Evaluate on test data\")\n",
    "\n",
    "# Metodo evaluate para que nos de el error vs las metricas elegidas en la funcion compile\n",
    "results = model.evaluate(X_test, y_test)\n",
    "print(\"test loss, test acc:\", results)"
   ]
  },
  {
   "cell_type": "code",
   "execution_count": 38,
   "metadata": {},
   "outputs": [
    {
     "name": "stderr",
     "output_type": "stream",
     "text": [
      "C:\\Users\\lucas\\AppData\\Local\\Temp\\ipykernel_13380\\1468152043.py:2: MatplotlibDeprecationWarning: The get_cmap function was deprecated in Matplotlib 3.7 and will be removed two minor releases later. Use ``matplotlib.colormaps[name]`` or ``matplotlib.colormaps.get_cmap(obj)`` instead.\n",
      "  plt.imshow(X_test[0].reshape(28,28), cmap=plt.cm.get_cmap('Greys'));\n"
     ]
    },
    {
     "data": {
      "image/png": "[encoded data removed]",
      "text/plain": [
       "<Figure size 640x480 with 1 Axes>"
      ]
     },
     "metadata": {},
     "output_type": "display_data"
    }
   ],
   "source": [
    "# Cogemos el primero\n",
    "plt.imshow(X_test[0].reshape(28,28), cmap=plt.cm.get_cmap('Greys'));"
   ]
  },
  {
   "cell_type": "code",
   "execution_count": 37,
   "metadata": {},
   "outputs": [
    {
     "name": "stdout",
     "output_type": "stream",
     "text": [
      "1/1 [==============================] - 0s 39ms/step\n",
      "predictions shape: (1, 10)\n",
      "[0.    0.    0.001 0.001 0.    0.    0.    0.998 0.    0.   ]\n",
      "7\n"
     ]
    }
   ],
   "source": [
    "'''\n",
    "Ojo aqui viene slicing xq presupone que le entran varios inputs\n",
    "Nos da las probabilidades de pertenecer a una clase u otra.\n",
    "'''\n",
    "predictions = model.predict(X_test[:1]).round(3)\n",
    "print(\"predictions shape:\", predictions.shape)\n",
    "print(predictions[0])\n",
    "print(np.argmax(predictions[0]))"
   ]
  },
  {
   "cell_type": "code",
   "execution_count": 39,
   "metadata": {},
   "outputs": [
    {
     "data": {
      "text/plain": [
       "0.998"
      ]
     },
     "execution_count": 39,
     "metadata": {},
     "output_type": "execute_result"
    }
   ],
   "source": [
    "predictions.max()"
   ]
  },
  {
   "cell_type": "code",
   "execution_count": 40,
   "metadata": {},
   "outputs": [
    {
     "data": {
      "text/plain": [
       "7"
      ]
     },
     "execution_count": 40,
     "metadata": {},
     "output_type": "execute_result"
    }
   ],
   "source": [
    "predictions.argmax()"
   ]
  },
  {
   "cell_type": "code",
   "execution_count": 41,
   "metadata": {},
   "outputs": [
    {
     "name": "stdout",
     "output_type": "stream",
     "text": [
      "313/313 [==============================] - 0s 707us/step\n"
     ]
    },
    {
     "data": {
      "text/plain": [
       "[7, 2, 1, 0, 4]"
      ]
     },
     "execution_count": 41,
     "metadata": {},
     "output_type": "execute_result"
    }
   ],
   "source": [
    "y_pred = [np.argmax(predictions) for predictions in model.predict(X_test)]\n",
    "y_pred[0:5]"
   ]
  },
  {
   "cell_type": "code",
   "execution_count": 42,
   "metadata": {},
   "outputs": [
    {
     "name": "stdout",
     "output_type": "stream",
     "text": [
      "              precision    recall  f1-score   support\n",
      "\n",
      "         0.0       0.97      0.99      0.98       980\n",
      "         1.0       0.98      0.99      0.99      1135\n",
      "         2.0       0.97      0.98      0.97      1032\n",
      "         3.0       0.97      0.96      0.97      1010\n",
      "         4.0       0.96      0.98      0.97       982\n",
      "         5.0       0.96      0.98      0.97       892\n",
      "         6.0       0.98      0.97      0.97       958\n",
      "         7.0       0.98      0.96      0.97      1028\n",
      "         8.0       0.97      0.96      0.96       974\n",
      "         9.0       0.96      0.95      0.96      1009\n",
      "\n",
      "    accuracy                           0.97     10000\n",
      "   macro avg       0.97      0.97      0.97     10000\n",
      "weighted avg       0.97      0.97      0.97     10000\n",
      "\n"
     ]
    }
   ],
   "source": [
    "from sklearn.metrics import classification_report\n",
    "print(classification_report(y_test, y_pred))"
   ]
  },
  {
   "cell_type": "markdown",
   "metadata": {},
   "source": [
    "### Problema de regresión\n",
    "Veamos un ejemplo de cómo aplicar una red neuronal de TensorFlow a un problema de regresión."
   ]
  },
  {
   "cell_type": "code",
   "execution_count": 43,
   "metadata": {},
   "outputs": [
    {
     "data": {
      "text/html": [
       "<div>\n",
       "<style scoped>\n",
       "    .dataframe tbody tr th:only-of-type {\n",
       "        vertical-align: middle;\n",
       "    }\n",
       "\n",
       "    .dataframe tbody tr th {\n",
       "        vertical-align: top;\n",
       "    }\n",
       "\n",
       "    .dataframe thead th {\n",
       "        text-align: right;\n",
       "    }\n",
       "</style>\n",
       "<table border=\"1\" class=\"dataframe\">\n",
       "  <thead>\n",
       "    <tr style=\"text-align: right;\">\n",
       "      <th></th>\n",
       "      <th>MedInc</th>\n",
       "      <th>HouseAge</th>\n",
       "      <th>AveRooms</th>\n",
       "      <th>AveBedrms</th>\n",
       "      <th>Population</th>\n",
       "      <th>AveOccup</th>\n",
       "      <th>Latitude</th>\n",
       "      <th>Longitude</th>\n",
       "      <th>target</th>\n",
       "    </tr>\n",
       "  </thead>\n",
       "  <tbody>\n",
       "    <tr>\n",
       "      <th>0</th>\n",
       "      <td>8.3252</td>\n",
       "      <td>41.0</td>\n",
       "      <td>6.984127</td>\n",
       "      <td>1.023810</td>\n",
       "      <td>322.0</td>\n",
       "      <td>2.555556</td>\n",
       "      <td>37.88</td>\n",
       "      <td>-122.23</td>\n",
       "      <td>4.526</td>\n",
       "    </tr>\n",
       "    <tr>\n",
       "      <th>1</th>\n",
       "      <td>8.3014</td>\n",
       "      <td>21.0</td>\n",
       "      <td>6.238137</td>\n",
       "      <td>0.971880</td>\n",
       "      <td>2401.0</td>\n",
       "      <td>2.109842</td>\n",
       "      <td>37.86</td>\n",
       "      <td>-122.22</td>\n",
       "      <td>3.585</td>\n",
       "    </tr>\n",
       "    <tr>\n",
       "      <th>2</th>\n",
       "      <td>7.2574</td>\n",
       "      <td>52.0</td>\n",
       "      <td>8.288136</td>\n",
       "      <td>1.073446</td>\n",
       "      <td>496.0</td>\n",
       "      <td>2.802260</td>\n",
       "      <td>37.85</td>\n",
       "      <td>-122.24</td>\n",
       "      <td>3.521</td>\n",
       "    </tr>\n",
       "    <tr>\n",
       "      <th>3</th>\n",
       "      <td>5.6431</td>\n",
       "      <td>52.0</td>\n",
       "      <td>5.817352</td>\n",
       "      <td>1.073059</td>\n",
       "      <td>558.0</td>\n",
       "      <td>2.547945</td>\n",
       "      <td>37.85</td>\n",
       "      <td>-122.25</td>\n",
       "      <td>3.413</td>\n",
       "    </tr>\n",
       "    <tr>\n",
       "      <th>4</th>\n",
       "      <td>3.8462</td>\n",
       "      <td>52.0</td>\n",
       "      <td>6.281853</td>\n",
       "      <td>1.081081</td>\n",
       "      <td>565.0</td>\n",
       "      <td>2.181467</td>\n",
       "      <td>37.85</td>\n",
       "      <td>-122.25</td>\n",
       "      <td>3.422</td>\n",
       "    </tr>\n",
       "  </tbody>\n",
       "</table>\n",
       "</div>"
      ],
      "text/plain": [
       "   MedInc  HouseAge  AveRooms  AveBedrms  Population  AveOccup  Latitude  \\\n",
       "0  8.3252      41.0  6.984127   1.023810       322.0  2.555556     37.88   \n",
       "1  8.3014      21.0  6.238137   0.971880      2401.0  2.109842     37.86   \n",
       "2  7.2574      52.0  8.288136   1.073446       496.0  2.802260     37.85   \n",
       "3  5.6431      52.0  5.817352   1.073059       558.0  2.547945     37.85   \n",
       "4  3.8462      52.0  6.281853   1.081081       565.0  2.181467     37.85   \n",
       "\n",
       "   Longitude  target  \n",
       "0    -122.23   4.526  \n",
       "1    -122.22   3.585  \n",
       "2    -122.24   3.521  \n",
       "3    -122.25   3.413  \n",
       "4    -122.25   3.422  "
      ]
     },
     "execution_count": 43,
     "metadata": {},
     "output_type": "execute_result"
    }
   ],
   "source": [
    "# Cargamos datos\n",
    "from sklearn.datasets import fetch_california_housing\n",
    "from sklearn.model_selection import train_test_split\n",
    "from sklearn.preprocessing import StandardScaler\n",
    "\n",
    "housing = fetch_california_housing()\n",
    "df = pd.DataFrame(housing.data, columns = housing.feature_names)\n",
    "df['target'] = housing['target']\n",
    "df.head()"
   ]
  },
  {
   "cell_type": "markdown",
   "metadata": {},
   "source": [
    "Divimos en train, test y validation"
   ]
  },
  {
   "cell_type": "code",
   "execution_count": 44,
   "metadata": {},
   "outputs": [],
   "source": [
    "X_train_full, X_test, y_train_full, y_test = train_test_split(housing.data,\n",
    "                                                              housing.target)\n",
    "\n",
    "X_train, X_valid, y_train, y_valid = train_test_split(X_train_full,\n",
    "                                                      y_train_full)\n",
    "\n",
    "scaler = StandardScaler()\n",
    "X_train = scaler.fit_transform(X_train)\n",
    "X_valid = scaler.transform(X_valid)\n",
    "X_test = scaler.transform(X_test)"
   ]
  },
  {
   "cell_type": "code",
   "execution_count": 45,
   "metadata": {},
   "outputs": [
    {
     "data": {
      "text/plain": [
       "(11610, 8)"
      ]
     },
     "execution_count": 45,
     "metadata": {},
     "output_type": "execute_result"
    }
   ],
   "source": [
    "X_train.shape"
   ]
  },
  {
   "cell_type": "markdown",
   "metadata": {},
   "source": [
    "Montamos el modelo. Simplemente se compondrá de una hidden layer, a la que le configuramos una capa previa de entrada de 8 neuronas (las features).\n",
    "\n",
    "Se trata de un modelo de regresión, por lo que la capa de salida es una única neurona.\n",
    "     \n",
    "Vamos a configurar una red como esta:  \n",
    "<img src=\"./img/mlp_regresion.png\" alt=\"drawing\" width=\"300\"/>"
   ]
  },
  {
   "cell_type": "code",
   "execution_count": 46,
   "metadata": {},
   "outputs": [
    {
     "name": "stdout",
     "output_type": "stream",
     "text": [
      "Epoch 1/20\n",
      "363/363 [==============================] - 1s 985us/step - loss: 0.9402 - root_mean_squared_error: 0.9696 - val_loss: 6.9428 - val_root_mean_squared_error: 2.6349\n",
      "Epoch 2/20\n",
      "363/363 [==============================] - 0s 707us/step - loss: 2.0018 - root_mean_squared_error: 1.4148 - val_loss: 0.4637 - val_root_mean_squared_error: 0.6809\n",
      "Epoch 3/20\n",
      "363/363 [==============================] - 0s 679us/step - loss: 0.4872 - root_mean_squared_error: 0.6980 - val_loss: 0.4276 - val_root_mean_squared_error: 0.6539\n",
      "Epoch 4/20\n",
      "363/363 [==============================] - 0s 671us/step - loss: 0.4337 - root_mean_squared_error: 0.6586 - val_loss: 0.4049 - val_root_mean_squared_error: 0.6363\n",
      "Epoch 5/20\n",
      "363/363 [==============================] - 0s 688us/step - loss: 0.4978 - root_mean_squared_error: 0.7056 - val_loss: 0.4338 - val_root_mean_squared_error: 0.6587\n",
      "Epoch 6/20\n",
      "363/363 [==============================] - 0s 694us/step - loss: 0.4650 - root_mean_squared_error: 0.6819 - val_loss: 0.4084 - val_root_mean_squared_error: 0.6391\n",
      "Epoch 7/20\n",
      "363/363 [==============================] - 0s 688us/step - loss: 0.4267 - root_mean_squared_error: 0.6532 - val_loss: 0.3968 - val_root_mean_squared_error: 0.6299\n",
      "Epoch 8/20\n",
      "363/363 [==============================] - 0s 696us/step - loss: 0.4074 - root_mean_squared_error: 0.6383 - val_loss: 0.3837 - val_root_mean_squared_error: 0.6194\n",
      "Epoch 9/20\n",
      "363/363 [==============================] - 0s 679us/step - loss: 0.3961 - root_mean_squared_error: 0.6293 - val_loss: 0.3741 - val_root_mean_squared_error: 0.6116\n",
      "Epoch 10/20\n",
      "363/363 [==============================] - 0s 666us/step - loss: 0.3906 - root_mean_squared_error: 0.6250 - val_loss: 0.3697 - val_root_mean_squared_error: 0.6080\n",
      "Epoch 11/20\n",
      "363/363 [==============================] - 0s 699us/step - loss: 0.3895 - root_mean_squared_error: 0.6241 - val_loss: 0.3672 - val_root_mean_squared_error: 0.6060\n",
      "Epoch 12/20\n",
      "363/363 [==============================] - 0s 697us/step - loss: 0.3821 - root_mean_squared_error: 0.6181 - val_loss: 0.3604 - val_root_mean_squared_error: 0.6003\n",
      "Epoch 13/20\n",
      "363/363 [==============================] - 0s 728us/step - loss: 0.3771 - root_mean_squared_error: 0.6141 - val_loss: 0.3616 - val_root_mean_squared_error: 0.6013\n",
      "Epoch 14/20\n",
      "363/363 [==============================] - 0s 686us/step - loss: 0.3780 - root_mean_squared_error: 0.6148 - val_loss: 0.3618 - val_root_mean_squared_error: 0.6015\n",
      "Epoch 15/20\n",
      "363/363 [==============================] - 0s 690us/step - loss: 0.3764 - root_mean_squared_error: 0.6136 - val_loss: 0.3581 - val_root_mean_squared_error: 0.5984\n",
      "Epoch 16/20\n",
      "363/363 [==============================] - 0s 707us/step - loss: 0.3693 - root_mean_squared_error: 0.6077 - val_loss: 0.3537 - val_root_mean_squared_error: 0.5947\n",
      "Epoch 17/20\n",
      "363/363 [==============================] - 0s 745us/step - loss: 0.3786 - root_mean_squared_error: 0.6153 - val_loss: 0.3549 - val_root_mean_squared_error: 0.5958\n",
      "Epoch 18/20\n",
      "363/363 [==============================] - 0s 702us/step - loss: 0.3652 - root_mean_squared_error: 0.6043 - val_loss: 0.3510 - val_root_mean_squared_error: 0.5925\n",
      "Epoch 19/20\n",
      "363/363 [==============================] - 0s 700us/step - loss: 0.3626 - root_mean_squared_error: 0.6022 - val_loss: 0.3484 - val_root_mean_squared_error: 0.5903\n",
      "Epoch 20/20\n",
      "363/363 [==============================] - 0s 713us/step - loss: 0.3588 - root_mean_squared_error: 0.5990 - val_loss: 0.3439 - val_root_mean_squared_error: 0.5864\n",
      "162/162 [==============================] - 0s 470us/step - loss: 0.3645 - root_mean_squared_error: 0.6038\n",
      "1/1 [==============================] - 0s 45ms/step\n"
     ]
    }
   ],
   "source": [
    "model = keras.models.Sequential([\n",
    "    \n",
    "    # No hace falta capa de flatten. No hay que aplanar ninguna imagen\n",
    "    keras.layers.Dense(30, activation=\"relu\",\n",
    "                       input_shape=X_train.shape[1:]),\n",
    "    keras.layers.Dense(1) # una unica neurona de salida\n",
    "    # Sin fun de activa. ReLu no iria mal si el output es positivo. Sigmoide si esta acotado.\n",
    "])\n",
    "\n",
    "model.compile(loss=\"mean_squared_error\",\n",
    "              optimizer=\"sgd\",\n",
    "              metrics = [\"RootMeanSquaredError\"])\n",
    "\n",
    "history = model.fit(X_train, y_train, epochs=20,\n",
    "                    validation_data=(X_valid, y_valid))\n",
    "\n",
    "mse_test = model.evaluate(X_test, y_test)\n",
    "X_new = X_test[:3] # pretend these are new instances\n",
    "y_pred = model.predict(X_new)\n"
   ]
  },
  {
   "cell_type": "code",
   "execution_count": 47,
   "metadata": {},
   "outputs": [
    {
     "name": "stdout",
     "output_type": "stream",
     "text": [
      "MSE: [0.36452001333236694, 0.6037549376487732]\n"
     ]
    }
   ],
   "source": [
    "print(\"MSE:\",mse_test)"
   ]
  },
  {
   "cell_type": "code",
   "execution_count": 48,
   "metadata": {},
   "outputs": [
    {
     "data": {
      "text/plain": [
       "{'loss': [0.9401863217353821,\n",
       "  2.0017879009246826,\n",
       "  0.48717886209487915,\n",
       "  0.4336942136287689,\n",
       "  0.49781665205955505,\n",
       "  0.46503984928131104,\n",
       "  0.4267135560512543,\n",
       "  0.407390832901001,\n",
       "  0.39607545733451843,\n",
       "  0.3906225562095642,\n",
       "  0.38948339223861694,\n",
       "  0.38207313418388367,\n",
       "  0.37706154584884644,\n",
       "  0.3779582381248474,\n",
       "  0.3764446973800659,\n",
       "  0.36926522850990295,\n",
       "  0.3785744607448578,\n",
       "  0.3651924133300781,\n",
       "  0.36261558532714844,\n",
       "  0.3587878942489624],\n",
       " 'root_mean_squared_error': [0.9696320295333862,\n",
       "  1.414845585823059,\n",
       "  0.6979820132255554,\n",
       "  0.6585546135902405,\n",
       "  0.7055612206459045,\n",
       "  0.6819382905960083,\n",
       "  0.6532331705093384,\n",
       "  0.6382717490196228,\n",
       "  0.6293452382087708,\n",
       "  0.6249980330467224,\n",
       "  0.6240860223770142,\n",
       "  0.6181206703186035,\n",
       "  0.6140533685684204,\n",
       "  0.6147831082344055,\n",
       "  0.6135509014129639,\n",
       "  0.6076719760894775,\n",
       "  0.6152840256690979,\n",
       "  0.6043115258216858,\n",
       "  0.6021757125854492,\n",
       "  0.5989890694618225],\n",
       " 'val_loss': [6.942836284637451,\n",
       "  0.4636688232421875,\n",
       "  0.42757514119148254,\n",
       "  0.40493568778038025,\n",
       "  0.43382585048675537,\n",
       "  0.4084044098854065,\n",
       "  0.3967955410480499,\n",
       "  0.3836708962917328,\n",
       "  0.3740968704223633,\n",
       "  0.3697064518928528,\n",
       "  0.367220014333725,\n",
       "  0.36036717891693115,\n",
       "  0.3615935444831848,\n",
       "  0.3617844581604004,\n",
       "  0.35807231068611145,\n",
       "  0.3537205755710602,\n",
       "  0.35494911670684814,\n",
       "  0.3510374426841736,\n",
       "  0.3484249413013458,\n",
       "  0.3439062535762787],\n",
       " 'val_root_mean_squared_error': [2.6349263191223145,\n",
       "  0.680932343006134,\n",
       "  0.6538922786712646,\n",
       "  0.6363455653190613,\n",
       "  0.6586545705795288,\n",
       "  0.6390652656555176,\n",
       "  0.6299170851707458,\n",
       "  0.6194117069244385,\n",
       "  0.6116346120834351,\n",
       "  0.6080349087715149,\n",
       "  0.6059868335723877,\n",
       "  0.6003059148788452,\n",
       "  0.6013264656066895,\n",
       "  0.6014851927757263,\n",
       "  0.5983914136886597,\n",
       "  0.5947441458702087,\n",
       "  0.5957760810852051,\n",
       "  0.5924841165542603,\n",
       "  0.5902752876281738,\n",
       "  0.5864351987838745]}"
      ]
     },
     "execution_count": 48,
     "metadata": {},
     "output_type": "execute_result"
    }
   ],
   "source": [
    "history.history"
   ]
  },
  {
   "cell_type": "code",
   "execution_count": 49,
   "metadata": {},
   "outputs": [
    {
     "data": {
      "image/png": "[encoded data removed]",
      "text/plain": [
       "<Figure size 800x500 with 1 Axes>"
      ]
     },
     "metadata": {},
     "output_type": "display_data"
    }
   ],
   "source": [
    "pd.DataFrame(history.history).plot(figsize=(8, 5))\n",
    "plt.grid(True)\n",
    "plt.gca().set_ylim(0, 1) # set the vertical range to [0-1]\n",
    "plt.show()"
   ]
  },
  {
   "cell_type": "code",
   "execution_count": 50,
   "metadata": {},
   "outputs": [
    {
     "name": "stdout",
     "output_type": "stream",
     "text": [
      "Epoch 1/20\n",
      "363/363 [==============================] - 1s 954us/step - loss: 0.8136 - root_mean_squared_error: 0.9020 - mean_absolute_error: 0.6369 - val_loss: 2.9207 - val_root_mean_squared_error: 1.7090 - val_mean_absolute_error: 0.5571\n",
      "Epoch 2/20\n",
      "363/363 [==============================] - 0s 782us/step - loss: 1.8582 - root_mean_squared_error: 1.3632 - mean_absolute_error: 0.5502 - val_loss: 0.7620 - val_root_mean_squared_error: 0.8730 - val_mean_absolute_error: 0.5905\n",
      "Epoch 3/20\n",
      "363/363 [==============================] - 0s 736us/step - loss: 0.4618 - root_mean_squared_error: 0.6796 - mean_absolute_error: 0.4815 - val_loss: 0.4235 - val_root_mean_squared_error: 0.6507 - val_mean_absolute_error: 0.4619\n",
      "Epoch 4/20\n",
      "363/363 [==============================] - 0s 721us/step - loss: 0.4050 - root_mean_squared_error: 0.6364 - mean_absolute_error: 0.4502 - val_loss: 0.3975 - val_root_mean_squared_error: 0.6305 - val_mean_absolute_error: 0.4440\n",
      "Epoch 5/20\n",
      "363/363 [==============================] - 0s 740us/step - loss: 0.3920 - root_mean_squared_error: 0.6261 - mean_absolute_error: 0.4413 - val_loss: 0.4015 - val_root_mean_squared_error: 0.6336 - val_mean_absolute_error: 0.4525\n",
      "Epoch 6/20\n",
      "363/363 [==============================] - 0s 746us/step - loss: 0.3806 - root_mean_squared_error: 0.6169 - mean_absolute_error: 0.4362 - val_loss: 0.4135 - val_root_mean_squared_error: 0.6431 - val_mean_absolute_error: 0.4464\n",
      "Epoch 7/20\n",
      "363/363 [==============================] - 0s 721us/step - loss: 0.3741 - root_mean_squared_error: 0.6116 - mean_absolute_error: 0.4307 - val_loss: 0.3770 - val_root_mean_squared_error: 0.6140 - val_mean_absolute_error: 0.4386\n",
      "Epoch 8/20\n",
      "363/363 [==============================] - 0s 743us/step - loss: 0.3699 - root_mean_squared_error: 0.6082 - mean_absolute_error: 0.4285 - val_loss: 0.3890 - val_root_mean_squared_error: 0.6237 - val_mean_absolute_error: 0.4373\n",
      "Epoch 9/20\n",
      "363/363 [==============================] - 0s 713us/step - loss: 0.3670 - root_mean_squared_error: 0.6058 - mean_absolute_error: 0.4256 - val_loss: 0.3745 - val_root_mean_squared_error: 0.6119 - val_mean_absolute_error: 0.4400\n",
      "Epoch 10/20\n",
      "363/363 [==============================] - 0s 749us/step - loss: 0.3757 - root_mean_squared_error: 0.6130 - mean_absolute_error: 0.4281 - val_loss: 0.3752 - val_root_mean_squared_error: 0.6126 - val_mean_absolute_error: 0.4413\n",
      "Epoch 11/20\n",
      "363/363 [==============================] - 0s 736us/step - loss: 0.3673 - root_mean_squared_error: 0.6060 - mean_absolute_error: 0.4255 - val_loss: 0.3782 - val_root_mean_squared_error: 0.6150 - val_mean_absolute_error: 0.4356\n",
      "Epoch 12/20\n",
      "363/363 [==============================] - 0s 734us/step - loss: 0.4111 - root_mean_squared_error: 0.6411 - mean_absolute_error: 0.4434 - val_loss: 0.3944 - val_root_mean_squared_error: 0.6280 - val_mean_absolute_error: 0.4431\n",
      "Epoch 13/20\n",
      "363/363 [==============================] - 0s 731us/step - loss: 0.3864 - root_mean_squared_error: 0.6216 - mean_absolute_error: 0.4325 - val_loss: 0.3716 - val_root_mean_squared_error: 0.6096 - val_mean_absolute_error: 0.4327\n",
      "Epoch 14/20\n",
      "363/363 [==============================] - 0s 740us/step - loss: 0.3659 - root_mean_squared_error: 0.6049 - mean_absolute_error: 0.4254 - val_loss: 0.4126 - val_root_mean_squared_error: 0.6423 - val_mean_absolute_error: 0.4414\n",
      "Epoch 15/20\n",
      "363/363 [==============================] - 0s 730us/step - loss: 0.3837 - root_mean_squared_error: 0.6195 - mean_absolute_error: 0.4343 - val_loss: 0.3765 - val_root_mean_squared_error: 0.6136 - val_mean_absolute_error: 0.4403\n",
      "Epoch 16/20\n",
      "363/363 [==============================] - 0s 732us/step - loss: 0.3608 - root_mean_squared_error: 0.6006 - mean_absolute_error: 0.4245 - val_loss: 0.3867 - val_root_mean_squared_error: 0.6219 - val_mean_absolute_error: 0.4329\n",
      "Epoch 17/20\n",
      "363/363 [==============================] - 0s 725us/step - loss: 0.3570 - root_mean_squared_error: 0.5975 - mean_absolute_error: 0.4206 - val_loss: 0.3943 - val_root_mean_squared_error: 0.6280 - val_mean_absolute_error: 0.4382\n",
      "Epoch 18/20\n",
      "363/363 [==============================] - 0s 788us/step - loss: 0.3917 - root_mean_squared_error: 0.6259 - mean_absolute_error: 0.4300 - val_loss: 0.3733 - val_root_mean_squared_error: 0.6110 - val_mean_absolute_error: 0.4444\n",
      "Epoch 19/20\n",
      "363/363 [==============================] - 0s 722us/step - loss: 0.3573 - root_mean_squared_error: 0.5977 - mean_absolute_error: 0.4216 - val_loss: 0.3606 - val_root_mean_squared_error: 0.6005 - val_mean_absolute_error: 0.4300\n",
      "Epoch 20/20\n",
      "363/363 [==============================] - 0s 726us/step - loss: 0.3504 - root_mean_squared_error: 0.5920 - mean_absolute_error: 0.4171 - val_loss: 0.3625 - val_root_mean_squared_error: 0.6021 - val_mean_absolute_error: 0.4245\n",
      "162/162 [==============================] - 0s 510us/step - loss: 0.3743 - root_mean_squared_error: 0.6118 - mean_absolute_error: 0.4243\n",
      "1/1 [==============================] - 0s 31ms/step\n"
     ]
    }
   ],
   "source": [
    "#Otra forma pure-Keras:\n",
    "X_train_full, X_test, y_train_full, y_test = train_test_split(housing.data,\n",
    "                                                              housing.target)\n",
    "\n",
    "X_train, X_valid, y_train, y_valid = train_test_split(X_train_full,\n",
    "                                                      y_train_full)\n",
    "\n",
    "\n",
    "norm_layer = keras.layers.Normalization(input_shape = X_train.shape[1:]) # Es una Standardization\n",
    "model = keras.models.Sequential([\n",
    "    \n",
    "    # No hace falta capa de flatten. No hay que aplanar ninguna imagen\n",
    "    norm_layer,\n",
    "    keras.layers.Dense(30, activation=\"relu\"),\n",
    "    keras.layers.Dense(1) # una unica neurona de salida\n",
    "    # Sin fun de activa. ReLu no iria mal si el output es positivo. Sigmoide si esta acotado.\n",
    "])\n",
    "optimizer = keras.optimizers.SGD()\n",
    "model.compile(loss=\"mean_squared_error\",\n",
    "              optimizer=optimizer, metrics = [\"RootMeanSquaredError\",\"MeanAbsoluteError\"])\n",
    "norm_layer.adapt(X_train)\n",
    "history = model.fit(X_train, y_train, epochs=20,\n",
    "                    validation_data=(X_valid, y_valid))\n",
    "\n",
    "mse_test = model.evaluate(X_test, y_test)\n",
    "X_new = X_test[:3] # pretend these are new instances\n",
    "y_pred = model.predict(X_new)"
   ]
  },
  {
   "cell_type": "code",
   "execution_count": 51,
   "metadata": {},
   "outputs": [
    {
     "name": "stdout",
     "output_type": "stream",
     "text": [
      "MSE: [0.3742649257183075, 0.6117719411849976, 0.42434361577033997]\n"
     ]
    }
   ],
   "source": [
    "print(\"MSE:\",mse_test)"
   ]
  },
  {
   "cell_type": "markdown",
   "metadata": {},
   "source": [
    "Nueva capa al toolbox:\n",
    "\n",
    "Funcionales:  \n",
    "__Normalize__: keras.layers.Normalization -> Nos hace la standardizacion de la entrada \n",
    "Hay que ejecutar el metodo Adapt antes de llamar al fit del modelo que incluya la capa"
   ]
  },
  {
   "cell_type": "markdown",
   "metadata": {},
   "source": [
    "### Guardar modelo\n",
    "Para guardar el modelo, en el formato de Keras. "
   ]
  },
  {
   "cell_type": "code",
   "execution_count": 52,
   "metadata": {},
   "outputs": [
    {
     "name": "stdout",
     "output_type": "stream",
     "text": [
      "INFO:tensorflow:Assets written to: my_keras_model\\assets\n"
     ]
    },
    {
     "name": "stderr",
     "output_type": "stream",
     "text": [
      "INFO:tensorflow:Assets written to: my_keras_model\\assets\n"
     ]
    }
   ],
   "source": [
    "model.save(\"my_keras_model\")"
   ]
  },
  {
   "cell_type": "code",
   "execution_count": 53,
   "metadata": {},
   "outputs": [
    {
     "name": "stdout",
     "output_type": "stream",
     "text": [
      "WARNING:tensorflow:From c:\\Users\\lucas\\AppData\\Local\\Programs\\Python\\Python310\\lib\\site-packages\\keras\\src\\saving\\legacy\\saved_model\\load.py:107: The name tf.gfile.Exists is deprecated. Please use tf.io.gfile.exists instead.\n",
      "\n"
     ]
    },
    {
     "name": "stderr",
     "output_type": "stream",
     "text": [
      "WARNING:tensorflow:From c:\\Users\\lucas\\AppData\\Local\\Programs\\Python\\Python310\\lib\\site-packages\\keras\\src\\saving\\legacy\\saved_model\\load.py:107: The name tf.gfile.Exists is deprecated. Please use tf.io.gfile.exists instead.\n",
      "\n"
     ]
    }
   ],
   "source": [
    "# Lo volvemos a cargar\n",
    "model = keras.models.load_model(\"my_keras_model\")"
   ]
  },
  {
   "cell_type": "markdown",
   "metadata": {},
   "source": [
    "Otra forma es emplear el formato TensorFlow. En este caso crea un directorio con varios ficheros que facilita el despliegue en algunas aplicaciones (ojo, que habría que llevar a producción todo el directorio)"
   ]
  },
  {
   "cell_type": "code",
   "execution_count": 54,
   "metadata": {},
   "outputs": [
    {
     "name": "stdout",
     "output_type": "stream",
     "text": [
      "INFO:tensorflow:Assets written to: my_model_tf_format\\assets\n"
     ]
    },
    {
     "name": "stderr",
     "output_type": "stream",
     "text": [
      "INFO:tensorflow:Assets written to: my_model_tf_format\\assets\n"
     ]
    }
   ],
   "source": [
    "model.save(\"my_model_tf_format\", save_format= \"tf\")"
   ]
  },
  {
   "cell_type": "code",
   "execution_count": 55,
   "metadata": {},
   "outputs": [],
   "source": [
    "# Lo volvemos a cargar\n",
    "model_k= keras.models.load_model(\"my_model_tf_format\")"
   ]
  },
  {
   "cell_type": "markdown",
   "metadata": {},
   "source": [
    "### Callbacks\n",
    "Son funciones predefinidas de Keras a aplicar durante el entrenamiento\n",
    "Por ejemplo, `ModelCheckpoint` sirve para que el modelo se vaya guardando tras cada epoch. Así no perdemos el progreso en caso de que decidamos interrumpir el entrenamiento. El callback recibe como argumento el nombre del objeto donde queremos que se guarde el modelo entrenado."
   ]
  },
  {
   "cell_type": "code",
   "execution_count": 56,
   "metadata": {},
   "outputs": [
    {
     "name": "stdout",
     "output_type": "stream",
     "text": [
      "Epoch 1/10\n",
      "348/363 [===========================>..] - ETA: 0s - loss: 0.3588 - root_mean_squared_error: 0.5990 - mean_absolute_error: 0.4187INFO:tensorflow:Assets written to: callback_model\\assets\n"
     ]
    },
    {
     "name": "stderr",
     "output_type": "stream",
     "text": [
      "INFO:tensorflow:Assets written to: callback_model\\assets\n"
     ]
    },
    {
     "name": "stdout",
     "output_type": "stream",
     "text": [
      "363/363 [==============================] - 1s 1ms/step - loss: 0.3602 - root_mean_squared_error: 0.6002 - mean_absolute_error: 0.4201\n",
      "Epoch 2/10\n",
      "333/363 [==========================>...] - ETA: 0s - loss: 0.3663 - root_mean_squared_error: 0.6052 - mean_absolute_error: 0.4264INFO:tensorflow:Assets written to: callback_model\\assets\n"
     ]
    },
    {
     "name": "stderr",
     "output_type": "stream",
     "text": [
      "INFO:tensorflow:Assets written to: callback_model\\assets\n"
     ]
    },
    {
     "name": "stdout",
     "output_type": "stream",
     "text": [
      "363/363 [==============================] - 0s 1ms/step - loss: 0.3620 - root_mean_squared_error: 0.6016 - mean_absolute_error: 0.4242\n",
      "Epoch 3/10\n",
      "350/363 [===========================>..] - ETA: 0s - loss: 0.3487 - root_mean_squared_error: 0.5905 - mean_absolute_error: 0.4165INFO:tensorflow:Assets written to: callback_model\\assets\n"
     ]
    },
    {
     "name": "stderr",
     "output_type": "stream",
     "text": [
      "INFO:tensorflow:Assets written to: callback_model\\assets\n"
     ]
    },
    {
     "name": "stdout",
     "output_type": "stream",
     "text": [
      "363/363 [==============================] - 0s 1ms/step - loss: 0.3494 - root_mean_squared_error: 0.5911 - mean_absolute_error: 0.4170\n",
      "Epoch 4/10\n",
      "334/363 [==========================>...] - ETA: 0s - loss: 0.3429 - root_mean_squared_error: 0.5856 - mean_absolute_error: 0.4141INFO:tensorflow:Assets written to: callback_model\\assets\n"
     ]
    },
    {
     "name": "stderr",
     "output_type": "stream",
     "text": [
      "INFO:tensorflow:Assets written to: callback_model\\assets\n"
     ]
    },
    {
     "name": "stdout",
     "output_type": "stream",
     "text": [
      "363/363 [==============================] - 0s 1ms/step - loss: 0.3457 - root_mean_squared_error: 0.5880 - mean_absolute_error: 0.4145\n",
      "Epoch 5/10\n",
      "277/363 [=====================>........] - ETA: 0s - loss: 0.3428 - root_mean_squared_error: 0.5855 - mean_absolute_error: 0.4119INFO:tensorflow:Assets written to: callback_model\\assets\n"
     ]
    },
    {
     "name": "stderr",
     "output_type": "stream",
     "text": [
      "INFO:tensorflow:Assets written to: callback_model\\assets\n"
     ]
    },
    {
     "name": "stdout",
     "output_type": "stream",
     "text": [
      "363/363 [==============================] - 0s 1ms/step - loss: 0.3442 - root_mean_squared_error: 0.5867 - mean_absolute_error: 0.4140\n",
      "Epoch 6/10\n",
      "347/363 [===========================>..] - ETA: 0s - loss: 0.3436 - root_mean_squared_error: 0.5862 - mean_absolute_error: 0.4125INFO:tensorflow:Assets written to: callback_model\\assets\n"
     ]
    },
    {
     "name": "stderr",
     "output_type": "stream",
     "text": [
      "INFO:tensorflow:Assets written to: callback_model\\assets\n"
     ]
    },
    {
     "name": "stdout",
     "output_type": "stream",
     "text": [
      "363/363 [==============================] - 0s 1ms/step - loss: 0.3420 - root_mean_squared_error: 0.5848 - mean_absolute_error: 0.4123\n",
      "Epoch 7/10\n",
      "353/363 [============================>.] - ETA: 0s - loss: 0.3417 - root_mean_squared_error: 0.5846 - mean_absolute_error: 0.4120INFO:tensorflow:Assets written to: callback_model\\assets\n"
     ]
    },
    {
     "name": "stderr",
     "output_type": "stream",
     "text": [
      "INFO:tensorflow:Assets written to: callback_model\\assets\n"
     ]
    },
    {
     "name": "stdout",
     "output_type": "stream",
     "text": [
      "363/363 [==============================] - 0s 1ms/step - loss: 0.3421 - root_mean_squared_error: 0.5849 - mean_absolute_error: 0.4125\n",
      "Epoch 8/10\n",
      "344/363 [===========================>..] - ETA: 0s - loss: 0.3399 - root_mean_squared_error: 0.5830 - mean_absolute_error: 0.4120INFO:tensorflow:Assets written to: callback_model\\assets\n"
     ]
    },
    {
     "name": "stderr",
     "output_type": "stream",
     "text": [
      "INFO:tensorflow:Assets written to: callback_model\\assets\n"
     ]
    },
    {
     "name": "stdout",
     "output_type": "stream",
     "text": [
      "363/363 [==============================] - 0s 1ms/step - loss: 0.3383 - root_mean_squared_error: 0.5816 - mean_absolute_error: 0.4108\n",
      "Epoch 9/10\n",
      "351/363 [============================>.] - ETA: 0s - loss: 0.3378 - root_mean_squared_error: 0.5812 - mean_absolute_error: 0.4086INFO:tensorflow:Assets written to: callback_model\\assets\n"
     ]
    },
    {
     "name": "stderr",
     "output_type": "stream",
     "text": [
      "INFO:tensorflow:Assets written to: callback_model\\assets\n"
     ]
    },
    {
     "name": "stdout",
     "output_type": "stream",
     "text": [
      "363/363 [==============================] - 0s 1ms/step - loss: 0.3375 - root_mean_squared_error: 0.5809 - mean_absolute_error: 0.4087\n",
      "Epoch 10/10\n",
      "349/363 [===========================>..] - ETA: 0s - loss: 0.3357 - root_mean_squared_error: 0.5794 - mean_absolute_error: 0.4088INFO:tensorflow:Assets written to: callback_model\\assets\n"
     ]
    },
    {
     "name": "stderr",
     "output_type": "stream",
     "text": [
      "INFO:tensorflow:Assets written to: callback_model\\assets\n"
     ]
    },
    {
     "name": "stdout",
     "output_type": "stream",
     "text": [
      "363/363 [==============================] - 0s 1ms/step - loss: 0.3355 - root_mean_squared_error: 0.5793 - mean_absolute_error: 0.4090\n"
     ]
    }
   ],
   "source": [
    "checkpoint_cb = keras.callbacks.ModelCheckpoint(\"callback_model\")\n",
    "history = model.fit(X_train, y_train, epochs=10, callbacks=[checkpoint_cb])\n"
   ]
  },
  {
   "cell_type": "markdown",
   "metadata": {},
   "source": [
    "### Early Stopping\n",
    "Interrumpe el entrenamiento cuando no ve progreso en el set de validación. Para ello tiene en cuenta un numero de epochs llamado `patience`. Se puede combinar con el callback"
   ]
  },
  {
   "cell_type": "code",
   "execution_count": 57,
   "metadata": {},
   "outputs": [
    {
     "name": "stdout",
     "output_type": "stream",
     "text": [
      "Epoch 1/100\n",
      "288/363 [======================>.......] - ETA: 0s - loss: 0.3433 - root_mean_squared_error: 0.5860 - mean_absolute_error: 0.4115INFO:tensorflow:Assets written to: callback_model\\assets\n"
     ]
    },
    {
     "name": "stderr",
     "output_type": "stream",
     "text": [
      "INFO:tensorflow:Assets written to: callback_model\\assets\n"
     ]
    },
    {
     "name": "stdout",
     "output_type": "stream",
     "text": [
      "363/363 [==============================] - 1s 2ms/step - loss: 0.3387 - root_mean_squared_error: 0.5820 - mean_absolute_error: 0.4093 - val_loss: 0.3517 - val_root_mean_squared_error: 0.5930 - val_mean_absolute_error: 0.4274\n",
      "Epoch 2/100\n",
      "345/363 [===========================>..] - ETA: 0s - loss: 0.3749 - root_mean_squared_error: 0.6123 - mean_absolute_error: 0.4219INFO:tensorflow:Assets written to: callback_model\\assets\n"
     ]
    },
    {
     "name": "stderr",
     "output_type": "stream",
     "text": [
      "INFO:tensorflow:Assets written to: callback_model\\assets\n"
     ]
    },
    {
     "name": "stdout",
     "output_type": "stream",
     "text": [
      "363/363 [==============================] - 0s 1ms/step - loss: 0.3757 - root_mean_squared_error: 0.6129 - mean_absolute_error: 0.4227 - val_loss: 0.3769 - val_root_mean_squared_error: 0.6139 - val_mean_absolute_error: 0.4389\n",
      "Epoch 3/100\n",
      "339/363 [===========================>..] - ETA: 0s - loss: 0.4273 - root_mean_squared_error: 0.6537 - mean_absolute_error: 0.4354INFO:tensorflow:Assets written to: callback_model\\assets\n"
     ]
    },
    {
     "name": "stderr",
     "output_type": "stream",
     "text": [
      "INFO:tensorflow:Assets written to: callback_model\\assets\n"
     ]
    },
    {
     "name": "stdout",
     "output_type": "stream",
     "text": [
      "363/363 [==============================] - 0s 1ms/step - loss: 0.4284 - root_mean_squared_error: 0.6545 - mean_absolute_error: 0.4360 - val_loss: 0.4060 - val_root_mean_squared_error: 0.6372 - val_mean_absolute_error: 0.4448\n",
      "Epoch 4/100\n",
      "328/363 [==========================>...] - ETA: 0s - loss: 0.3774 - root_mean_squared_error: 0.6143 - mean_absolute_error: 0.4308INFO:tensorflow:Assets written to: callback_model\\assets\n"
     ]
    },
    {
     "name": "stderr",
     "output_type": "stream",
     "text": [
      "INFO:tensorflow:Assets written to: callback_model\\assets\n"
     ]
    },
    {
     "name": "stdout",
     "output_type": "stream",
     "text": [
      "363/363 [==============================] - 1s 1ms/step - loss: 0.3762 - root_mean_squared_error: 0.6133 - mean_absolute_error: 0.4298 - val_loss: 0.3669 - val_root_mean_squared_error: 0.6057 - val_mean_absolute_error: 0.4258\n",
      "Epoch 5/100\n",
      "320/363 [=========================>....] - ETA: 0s - loss: 0.3483 - root_mean_squared_error: 0.5901 - mean_absolute_error: 0.4175INFO:tensorflow:Assets written to: callback_model\\assets\n"
     ]
    },
    {
     "name": "stderr",
     "output_type": "stream",
     "text": [
      "INFO:tensorflow:Assets written to: callback_model\\assets\n"
     ]
    },
    {
     "name": "stdout",
     "output_type": "stream",
     "text": [
      "363/363 [==============================] - 1s 2ms/step - loss: 0.3464 - root_mean_squared_error: 0.5886 - mean_absolute_error: 0.4155 - val_loss: 0.3545 - val_root_mean_squared_error: 0.5954 - val_mean_absolute_error: 0.4258\n",
      "Epoch 6/100\n",
      "341/363 [===========================>..] - ETA: 0s - loss: 0.3388 - root_mean_squared_error: 0.5820 - mean_absolute_error: 0.4104INFO:tensorflow:Assets written to: callback_model\\assets\n"
     ]
    },
    {
     "name": "stderr",
     "output_type": "stream",
     "text": [
      "INFO:tensorflow:Assets written to: callback_model\\assets\n"
     ]
    },
    {
     "name": "stdout",
     "output_type": "stream",
     "text": [
      "363/363 [==============================] - 0s 1ms/step - loss: 0.3394 - root_mean_squared_error: 0.5826 - mean_absolute_error: 0.4110 - val_loss: 0.3535 - val_root_mean_squared_error: 0.5945 - val_mean_absolute_error: 0.4169\n"
     ]
    }
   ],
   "source": [
    "'''\n",
    "10 esta bien. Lo pondemos a 5 para el ejercicio\n",
    "¿Qué considera como dejar de mejorar? parametros min_delta y baseline\n",
    "'''\n",
    "early_stopping_cb = keras.callbacks.EarlyStopping(patience=5, \n",
    "                                                  restore_best_weights=True)\n",
    "history = model.fit(X_train, y_train, epochs=100,\n",
    "                    validation_data=(X_valid, y_valid),\n",
    "                    callbacks=[checkpoint_cb, early_stopping_cb])"
   ]
  },
  {
   "cell_type": "markdown",
   "metadata": {},
   "source": [
    "## Hiperparámetros y tuning"
   ]
  },
  {
   "cell_type": "markdown",
   "metadata": {},
   "source": [
    "Guía \"casera\":\n",
    "\n",
    "1- Recetas (adaptada de \"Hands-on...\")  PARA MLPs!!!!    \n",
    "    * Capas:   \n",
    "        - Empezar con una capa oculta e ir añadiendo  \n",
    "        - Si pocas features -> más neuronas  (aumentar la combinación de features) (num_features < 100) [Orientativo]  \n",
    "        - Si muchas features  -> menos neuronas (proyección tipo PCA) (num_features > 1000) [Orientativo] e ir aumentando en capas sucesivas\n",
    "        - O empezar con muchas (doble de tus features e ir \"estrechando los pantalones\")  \n",
    "        - Construcción en prisma o pirámide (para empezar)  \n",
    "        - Inicialización: Empezar con Glorot, cambiar a He  \n",
    "        - Activación: ReLU salvo la última, si muchas capas probar -> SELU o Swish (con el inicializador a LeCunn)   \n",
    "    * Optimizadores:   \n",
    "        - Si muchos datos*features -> Adam o AdamW con sus valores por defecto  \n",
    "        - Si no, SGD con Nesterov activado, y momento a 0.9  \n",
    "        - Learning rate -> 0.001-0.0001 para empezar e ir creciendo (learning-rate warm-up) (Si te atreves, buscar adaptative learning rate y optimizar con esto)  \n",
    "    * Entrenamiento:  \n",
    "        - Epoch, probar con pocas para ver duración -> Epochs altas y Callback de Early Stop activado  \n",
    "        - Batch_Size -> 32, si tienes muchos datos y una GPU a mano puedes subir mucho 64,128,256...\n",
    "    * Regularización (lo veremos):  \n",
    "        - Dropout al 0.25-0.5 (sin SELU)\n",
    "\n",
    "\n",
    "\n",
    "2- Pasos  \n",
    "    - Si overfitting -> Regularizar: Earlystopping, Dropout (lo veremos en los siguientes sprints)  \n",
    "    - Comprobar underfitting -> Aumentar epochs, aumentar batch_size  \n",
    "    - Jugar con optimizador: learning rate (de pequeño a grande), tipo de optimizador   \n",
    "    - Jugar con número de capas (ojo al overfitting) y las funciones de activación y la inicialización de pesos  \n",
    "    - Jugar con el número de neuronas por capa (suele ser piramide o prisma, pero puedes jugar a expandir dimensiones)  \n",
    "    - Combinar los dos anteriores  \n",
    "\n",
    "3- Keras Tuner:\n",
    "    https://keras.io/guides/keras_tuner/"
   ]
  }
 ],
 "metadata": {
  "kernelspec": {
   "display_name": "Python 3",
   "language": "python",
   "name": "python3"
  },
  "language_info": {
   "codemirror_mode": {
    "name": "ipython",
    "version": 3
   },
   "file_extension": ".py",
   "mimetype": "text/x-python",
   "name": "python",
   "nbconvert_exporter": "python",
   "pygments_lexer": "ipython3",
   "version": "3.10.11"
  }
 },
 "nbformat": 4,
 "nbformat_minor": 2
}
