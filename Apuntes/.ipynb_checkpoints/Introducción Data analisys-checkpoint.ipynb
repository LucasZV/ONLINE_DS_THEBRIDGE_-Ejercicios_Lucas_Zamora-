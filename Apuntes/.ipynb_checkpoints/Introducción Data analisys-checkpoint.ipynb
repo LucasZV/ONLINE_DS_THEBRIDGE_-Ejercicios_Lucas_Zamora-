{
 "cells": [
  {
   "cell_type": "markdown",
   "id": "d2b042da-bf40-4b35-8f72-e47cac6eb4ec",
   "metadata": {},
   "source": [
    "# **Introducción Data Analisy**"
   ]
  },
  {
   "cell_type": "markdown",
   "id": "7ce42bdb-c571-42d2-9baa-2c11d38b3e69",
   "metadata": {},
   "source": [
    "## ETL: TIPOS DE DATOS"
   ]
  },
  {
   "cell_type": "code",
   "execution_count": 2,
   "id": "a6c58f31-0d6f-4e54-9998-025bfc44aa32",
   "metadata": {},
   "outputs": [],
   "source": [
    "import pandas as pd\n",
    "import random \n",
    "df_datos = pd.read_csv(\"./data/dataset_ETL_full_aviones.csv\")"
   ]
  },
  {
   "cell_type": "code",
   "execution_count": 4,
   "id": "c61c1eb4-d23a-4aaf-a245-2b822067620a",
   "metadata": {},
   "outputs": [
    {
     "data": {
      "text/html": [
       "<div>\n",
       "<style scoped>\n",
       "    .dataframe tbody tr th:only-of-type {\n",
       "        vertical-align: middle;\n",
       "    }\n",
       "\n",
       "    .dataframe tbody tr th {\n",
       "        vertical-align: top;\n",
       "    }\n",
       "\n",
       "    .dataframe thead th {\n",
       "        text-align: right;\n",
       "    }\n",
       "</style>\n",
       "<table border=\"1\" class=\"dataframe\">\n",
       "  <thead>\n",
       "    <tr style=\"text-align: right;\">\n",
       "      <th></th>\n",
       "      <th>Aircompany</th>\n",
       "      <th>Origen</th>\n",
       "      <th>Destino</th>\n",
       "      <th>Distancia</th>\n",
       "      <th>avion</th>\n",
       "      <th>con_escala</th>\n",
       "      <th>consumo_kg</th>\n",
       "      <th>duracion</th>\n",
       "      <th>ingresos</th>\n",
       "      <th>Id_vuelo</th>\n",
       "      <th>IC</th>\n",
       "      <th>Categoria_IC</th>\n",
       "      <th>Incidencias</th>\n",
       "      <th>Hora_Vuelo</th>\n",
       "    </tr>\n",
       "  </thead>\n",
       "  <tbody>\n",
       "    <tr>\n",
       "      <th>0</th>\n",
       "      <td>Airnar</td>\n",
       "      <td>París</td>\n",
       "      <td>Ginebra</td>\n",
       "      <td>411</td>\n",
       "      <td>Boeing 737</td>\n",
       "      <td>False</td>\n",
       "      <td>1028.691900</td>\n",
       "      <td>51</td>\n",
       "      <td>14232.65</td>\n",
       "      <td>Air_PaGi_10737</td>\n",
       "      <td>2.502900</td>\n",
       "      <td>A</td>\n",
       "      <td>Ave impacta con el avión</td>\n",
       "      <td>23:00 19/04/2023</td>\n",
       "    </tr>\n",
       "    <tr>\n",
       "      <th>1</th>\n",
       "      <td>FlyQ</td>\n",
       "      <td>Bali</td>\n",
       "      <td>Roma</td>\n",
       "      <td>12738</td>\n",
       "      <td>Boeing 737</td>\n",
       "      <td>True</td>\n",
       "      <td>33479.132544</td>\n",
       "      <td>1167</td>\n",
       "      <td>468527.19</td>\n",
       "      <td>Fly_BaRo_10737</td>\n",
       "      <td>2.628288</td>\n",
       "      <td>A</td>\n",
       "      <td>Sin incidencias</td>\n",
       "      <td>21:15 01/06/2023</td>\n",
       "    </tr>\n",
       "    <tr>\n",
       "      <th>2</th>\n",
       "      <td>TabarAir</td>\n",
       "      <td>Ginebra</td>\n",
       "      <td>Los Angeles</td>\n",
       "      <td>9103</td>\n",
       "      <td>Airbus A380</td>\n",
       "      <td>False</td>\n",
       "      <td>109439.907200</td>\n",
       "      <td>626</td>\n",
       "      <td>584789.19</td>\n",
       "      <td>Tab_GiLo_11380</td>\n",
       "      <td>12.022400</td>\n",
       "      <td>C</td>\n",
       "      <td>Amenaza de seguridad a bordo</td>\n",
       "      <td>10:30 26/03/2023</td>\n",
       "    </tr>\n",
       "    <tr>\n",
       "      <th>3</th>\n",
       "      <td>MoldaviAir</td>\n",
       "      <td>París</td>\n",
       "      <td>Cincinnati</td>\n",
       "      <td>6370</td>\n",
       "      <td>Boeing 737</td>\n",
       "      <td>False</td>\n",
       "      <td>17027.010000</td>\n",
       "      <td>503</td>\n",
       "      <td>233342.51</td>\n",
       "      <td>Mol_PaCi_10737</td>\n",
       "      <td>2.673000</td>\n",
       "      <td>A</td>\n",
       "      <td>Sin incidencias</td>\n",
       "      <td>22:00 01/09/2023</td>\n",
       "    </tr>\n",
       "    <tr>\n",
       "      <th>4</th>\n",
       "      <td>TabarAir</td>\n",
       "      <td>Cincinnati</td>\n",
       "      <td>Roma</td>\n",
       "      <td>7480</td>\n",
       "      <td>Boeing 747</td>\n",
       "      <td>False</td>\n",
       "      <td>86115.744000</td>\n",
       "      <td>518</td>\n",
       "      <td>438535.07</td>\n",
       "      <td>Tab_CiRo_10747</td>\n",
       "      <td>11.512800</td>\n",
       "      <td>C</td>\n",
       "      <td>Amenaza de seguridad a bordo</td>\n",
       "      <td>15:30 16/02/2023</td>\n",
       "    </tr>\n",
       "  </tbody>\n",
       "</table>\n",
       "</div>"
      ],
      "text/plain": [
       "   Aircompany      Origen      Destino  Distancia        avion  con_escala  \\\n",
       "0      Airnar       París      Ginebra        411   Boeing 737       False   \n",
       "1        FlyQ        Bali         Roma      12738   Boeing 737        True   \n",
       "2    TabarAir     Ginebra  Los Angeles       9103  Airbus A380       False   \n",
       "3  MoldaviAir       París   Cincinnati       6370   Boeing 737       False   \n",
       "4    TabarAir  Cincinnati         Roma       7480   Boeing 747       False   \n",
       "\n",
       "      consumo_kg  duracion   ingresos        Id_vuelo         IC Categoria_IC  \\\n",
       "0    1028.691900        51   14232.65  Air_PaGi_10737   2.502900            A   \n",
       "1   33479.132544      1167  468527.19  Fly_BaRo_10737   2.628288            A   \n",
       "2  109439.907200       626  584789.19  Tab_GiLo_11380  12.022400            C   \n",
       "3   17027.010000       503  233342.51  Mol_PaCi_10737   2.673000            A   \n",
       "4   86115.744000       518  438535.07  Tab_CiRo_10747  11.512800            C   \n",
       "\n",
       "                    Incidencias        Hora_Vuelo  \n",
       "0      Ave impacta con el avión  23:00 19/04/2023  \n",
       "1               Sin incidencias  21:15 01/06/2023  \n",
       "2  Amenaza de seguridad a bordo  10:30 26/03/2023  \n",
       "3               Sin incidencias  22:00 01/09/2023  \n",
       "4  Amenaza de seguridad a bordo  15:30 16/02/2023  "
      ]
     },
     "execution_count": 4,
     "metadata": {},
     "output_type": "execute_result"
    }
   ],
   "source": [
    "df_datos.head(5)"
   ]
  },
  {
   "cell_type": "markdown",
   "id": "139a4fc3-2e4f-4170-8f00-566fd6cf8c46",
   "metadata": {},
   "source": [
    "El proceso para que pensemos en clasificar un dato, columna o característica como categórica (además de que nos lo digan exprofeso) es el de calcular la cardinalidad:"
   ]
  },
  {
   "cell_type": "markdown",
   "id": "50045f09-f2d3-4e2b-9093-24ec9ea45114",
   "metadata": {},
   "source": [
    "$$Cardinalidad(<Columna/Característica>) = \\dfrac{NúmerodeValoresUnicos(<Columna/Característica>)}{NúmeroTotalDeRegistros}* 100\\%$$"
   ]
  },
  {
   "cell_type": "markdown",
   "id": "a052eaf1-023c-4bc9-a981-a0e3ef760921",
   "metadata": {},
   "source": [
    "Por ejemplo, la cardinalidad para Categoria_IC"
   ]
  },
  {
   "cell_type": "code",
   "execution_count": 3,
   "id": "a829beaf-a58d-4002-b44f-9cd5da334e94",
   "metadata": {},
   "outputs": [
    {
     "name": "stdout",
     "output_type": "stream",
     "text": [
      "0.2572898799313894\n"
     ]
    }
   ],
   "source": [
    "cardinalidad_IC = len(df_datos[\"Categoria_IC\"].unique())/len(df_datos) * 100\n",
    "print(cardinalidad_IC)\n",
    "                      "
   ]
  },
  {
   "cell_type": "markdown",
   "id": "08e367c8-6e1e-4cd3-b77c-f9bd6c6e3ad6",
   "metadata": {},
   "source": [
    "La de Destino (empleando el método de pandas, `nunique`):"
   ]
  },
  {
   "cell_type": "code",
   "execution_count": 5,
   "id": "63a1fd39-4537-439d-aed3-72737eae2888",
   "metadata": {},
   "outputs": [
    {
     "name": "stdout",
     "output_type": "stream",
     "text": [
      "0.2572898799313894\n"
     ]
    }
   ],
   "source": [
    "cardinalidad_IC = df_datos[\"Categoria_IC\"].nunique()/len(df_datos) * 100\n",
    "print(cardinalidad_IC)\n",
    "                      "
   ]
  },
  {
   "cell_type": "markdown",
   "id": "1e748381-d257-4d20-9e42-ad3c5ab39efd",
   "metadata": {},
   "source": [
    "Menos del 1%, compara ahora con la de los valores numéricos:"
   ]
  },
  {
   "cell_type": "code",
   "execution_count": 7,
   "id": "01362a88-f76d-4e3a-9449-a3e51bae34bd",
   "metadata": {},
   "outputs": [
    {
     "name": "stdout",
     "output_type": "stream",
     "text": [
      "71.09777015437393\n"
     ]
    }
   ],
   "source": [
    "cardinalidad_consumo = df_datos[\"consumo_kg\"].nunique()/len(df_datos) * 100\n",
    "print(cardinalidad_consumo)"
   ]
  },
  {
   "cell_type": "markdown",
   "id": "a6d1cac8-f906-4b8a-aeb3-09f1e5b93634",
   "metadata": {},
   "source": [
    "Con cardinalidades por debajo del 5-10% ya podríamos considerar el valor o columna como categórico. ¿Y eso por qué es importante? Por dos motivos principales:\n",
    "1. Para el EDA: Suponen, en general, interesantes columnas o características para hacer agrupaciones y explorarlas \n",
    "2. Para Machine y Deep learnnig: Existen métodos de transformación a números bastante potentes y utilizados, por lo que suelen ser buenas características para incluir "
   ]
  },
  {
   "cell_type": "code",
   "execution_count": null,
   "id": "de1ba48a-f42e-4195-b011-4ba9766f1599",
   "metadata": {},
   "outputs": [],
   "source": []
  }
 ],
 "metadata": {
  "kernelspec": {
   "display_name": "Python 3 (ipykernel)",
   "language": "python",
   "name": "python3"
  },
  "language_info": {
   "codemirror_mode": {
    "name": "ipython",
    "version": 3
   },
   "file_extension": ".py",
   "mimetype": "text/x-python",
   "name": "python",
   "nbconvert_exporter": "python",
   "pygments_lexer": "ipython3",
   "version": "3.10.11"
  }
 },
 "nbformat": 4,
 "nbformat_minor": 5
}
