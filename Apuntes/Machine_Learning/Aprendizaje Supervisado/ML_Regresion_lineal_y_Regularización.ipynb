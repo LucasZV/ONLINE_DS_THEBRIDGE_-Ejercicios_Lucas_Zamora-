{
 "cells": [
  {
   "cell_type": "markdown",
   "metadata": {},
   "source": [
    "## Regresión Lineal Simple: Mínimos Cuadrados"
   ]
  },
  {
   "cell_type": "code",
   "execution_count": 1,
   "metadata": {},
   "outputs": [],
   "source": [
    "import pandas as pd\n",
    "import numpy as np\n",
    "import matplotlib.pyplot as plt\n",
    "import seaborn as sns\n",
    "from sklearn.model_selection import train_test_split\n",
    "from sklearn.linear_model import LinearRegression\n",
    "from sklearn import metrics\n",
    "from sklearn.preprocessing import StandardScaler\n",
    "from sklearn import linear_model, metrics, model_selection\n",
    "from sklearn.linear_model import ElasticNet\n",
    "from sklearn.linear_model import Ridge\n",
    "sns.set_style('whitegrid')"
   ]
  },
  {
   "cell_type": "markdown",
   "metadata": {},
   "source": [
    "En esta sesión vamos a crear un modelo que nos permita predecir el grado de felicidad de las personas a partir de su nivel de ingresos. Decidimos que sea un modelo de regresión lineal y además como sólo tiene una feature (el nivel de ingresos) será un modelo de regresión simple.\n"
   ]
  },
  {
   "cell_type": "markdown",
   "metadata": {},
   "source": [
    "### El Problema"
   ]
  },
  {
   "cell_type": "markdown",
   "metadata": {},
   "source": [
    "Se ha hecho una encuesta a 20 personas, preguntándoles por sus ingresos anuales en miles de euros y su nivel de felicidad en una escala del 0 al 10.   \n",
    "Los resultados obtenidos se guardan en las listas `x` (ingresos) e `y` (felicidad)\n",
    "\n",
    "```Python\n",
    "x = [25.2, 15.6, 26, 24, 39.2, 17.6, 3.6, 24, 10, 8.8, 35.2, 22.8, 31.6, 6, 11.2, 5.2, 22.4, 20.4, 31.2, 19.6]\n",
    "y = [10, 5, 9, 8, 10, 8, 1, 9, 3, 3, 10, 5, 10, 2, 4, 4, 9, 6, 10, 7]\n",
    "```"
   ]
  },
  {
   "cell_type": "markdown",
   "metadata": {},
   "source": [
    "Obtener un modelo de regresión lineal, predecir la felicidad de alguien que gane 20000€\n"
   ]
  },
  {
   "cell_type": "markdown",
   "metadata": {},
   "source": [
    "### Modelado"
   ]
  },
  {
   "cell_type": "code",
   "execution_count": 1,
   "metadata": {},
   "outputs": [],
   "source": [
    "import numpy as np"
   ]
  },
  {
   "cell_type": "code",
   "execution_count": 2,
   "metadata": {},
   "outputs": [],
   "source": [
    "x = np.array([25.2, 15.6, 26, 24, 39.2, 17.6, 3.6, 24, 10, 8.8, 35.2, 22.8, 31.6, 6, 11.2, 5.2, 22.4, 20.4, 31.2, 19.6])\n",
    "y = np.array([10, 5, 9, 8, 10, 8, 1, 9, 3, 3, 10, 5, 10, 2, 4, 4, 9, 6, 10, 7])"
   ]
  },
  {
   "cell_type": "code",
   "execution_count": 3,
   "metadata": {},
   "outputs": [
    {
     "data": {
      "image/png": "[encoded data removed]",
      "text/plain": [
       "<Figure size 800x300 with 1 Axes>"
      ]
     },
     "metadata": {},
     "output_type": "display_data"
    }
   ],
   "source": [
    "import matplotlib.pyplot as plt\n",
    "plt.figure(figsize=(8,3))\n",
    "ax = plt.axes()\n",
    "ax.scatter(x,y)\n",
    "ax.set_xlabel('Ingresos')\n",
    "ax.set_ylabel('Felicidad');"
   ]
  },
  {
   "cell_type": "markdown",
   "metadata": {},
   "source": [
    "Buscamos la recta $h(x)=w_0+w_1x$ que mejor ajuste los puntos, aplicando mínimos cuadrados. Para ello vamos paso a paso:"
   ]
  },
  {
   "cell_type": "markdown",
   "metadata": {},
   "source": [
    "1. Creamos una matriz denominada con los puntos de nuestras features: \n",
    "\n",
    "$$X=\\begin{bmatrix} 1 & x_0 \\\\ 1 & x_1 \\\\ \\vdots & \\vdots \\\\ 1 & x_n \\end{bmatrix}$$"
   ]
  },
  {
   "cell_type": "code",
   "execution_count": 5,
   "metadata": {},
   "outputs": [
    {
     "name": "stdout",
     "output_type": "stream",
     "text": [
      "(20, 2)\n"
     ]
    },
    {
     "data": {
      "text/plain": [
       "array([[ 1. , 25.2],\n",
       "       [ 1. , 15.6],\n",
       "       [ 1. , 26. ],\n",
       "       [ 1. , 24. ],\n",
       "       [ 1. , 39.2],\n",
       "       [ 1. , 17.6],\n",
       "       [ 1. ,  3.6],\n",
       "       [ 1. , 24. ],\n",
       "       [ 1. , 10. ],\n",
       "       [ 1. ,  8.8],\n",
       "       [ 1. , 35.2],\n",
       "       [ 1. , 22.8],\n",
       "       [ 1. , 31.6],\n",
       "       [ 1. ,  6. ],\n",
       "       [ 1. , 11.2],\n",
       "       [ 1. ,  5.2],\n",
       "       [ 1. , 22.4],\n",
       "       [ 1. , 20.4],\n",
       "       [ 1. , 31.2],\n",
       "       [ 1. , 19.6]])"
      ]
     },
     "execution_count": 5,
     "metadata": {},
     "output_type": "execute_result"
    }
   ],
   "source": [
    "X = np.array([np.ones(len(x)),\n",
    "              np.array(x)]).transpose()\n",
    "\n",
    "print(X.shape)\n",
    "X"
   ]
  },
  {
   "cell_type": "markdown",
   "metadata": {},
   "source": [
    "2. Creamos el vector de targets, con las medidas de felicidad:\n",
    "\n",
    "$$y=\\begin{bmatrix} y_0 \\\\ y_1 \\\\ \\vdots \\\\ y_n\\end{bmatrix}$$"
   ]
  },
  {
   "cell_type": "code",
   "execution_count": 7,
   "metadata": {},
   "outputs": [
    {
     "data": {
      "text/plain": [
       "array([10,  5,  9,  8, 10,  8,  1,  9,  3,  3, 10,  5, 10,  2,  4,  4,  9,\n",
       "        6, 10,  7])"
      ]
     },
     "execution_count": 7,
     "metadata": {},
     "output_type": "execute_result"
    }
   ],
   "source": [
    "y"
   ]
  },
  {
   "cell_type": "markdown",
   "metadata": {},
   "source": [
    "3. Resolvemos la ecuación matricial para obtener los coeficientes óptimos de la recta, los parámetros, que minimizan el MSE (recuerda que esa es nuestra función de pérdida para la regresión lineal):\n",
    "\n",
    "  $$w = (X^TX)^{-1}X^Ty$$"
   ]
  },
  {
   "cell_type": "markdown",
   "metadata": {},
   "source": [
    "Usando nuestro querido numpy, ahora algo oxidado:"
   ]
  },
  {
   "cell_type": "code",
   "execution_count": 6,
   "metadata": {},
   "outputs": [],
   "source": [
    "w = np.linalg.inv(X.transpose().dot(X)).dot(X.transpose()).dot(y)\n"
   ]
  },
  {
   "cell_type": "markdown",
   "metadata": {},
   "source": [
    "Comprobamos que la recta se ajusta a los puntos llamando a la siguiente función"
   ]
  },
  {
   "cell_type": "code",
   "execution_count": 8,
   "metadata": {},
   "outputs": [],
   "source": [
    "def plot_all(w0,w1):\n",
    "\n",
    "    plt.figure(figsize=(8, 4))\n",
    "    ax = plt.axes()\n",
    "    ax.scatter(x, y)\n",
    "    ax.set_ylim([0,12])\n",
    "    ax.set_xlim([0,45])\n",
    "    ax.set_xlabel('Ingresos')\n",
    "    ax.set_ylabel('Felicidad')\n",
    "    e = np.linspace(0,45,len(x))\n",
    "    z = w0+w1*e\n",
    "\n",
    "    plt.plot(e, z, '-r', label='h(x)='+str(round(w0,2))+' + '+ str(round(w1,2))+'x')\n",
    "    plt.legend(loc='upper left')\n",
    "    plt.show()"
   ]
  },
  {
   "cell_type": "code",
   "execution_count": 9,
   "metadata": {},
   "outputs": [
    {
     "data": {
      "image/png": "[encoded data removed]",
      "text/plain": [
       "<Figure size 800x400 with 1 Axes>"
      ]
     },
     "metadata": {},
     "output_type": "display_data"
    }
   ],
   "source": [
    "plot_all(w[0],w[1])"
   ]
  },
  {
   "cell_type": "markdown",
   "metadata": {},
   "source": [
    "Finalmente, ¿cuál sería el nivel de felicidad de los que ganan 20.000€?"
   ]
  },
  {
   "cell_type": "code",
   "execution_count": 11,
   "metadata": {},
   "outputs": [
    {
     "data": {
      "text/plain": [
       "6.65545543038788"
      ]
     },
     "execution_count": 11,
     "metadata": {},
     "output_type": "execute_result"
    }
   ],
   "source": [
    "w[0] + w[1]*20"
   ]
  },
  {
   "cell_type": "markdown",
   "metadata": {},
   "source": [
    "Y la evaluación del modelo (evaluación de train, ya que ni tenemos set de validación ni de test):"
   ]
  },
  {
   "cell_type": "code",
   "execution_count": 12,
   "metadata": {},
   "outputs": [
    {
     "data": {
      "text/plain": [
       "1.2079416155655123"
      ]
     },
     "execution_count": 12,
     "metadata": {},
     "output_type": "execute_result"
    }
   ],
   "source": [
    "from sklearn.metrics import mean_squared_error\n",
    "\n",
    "predictions = [ (w[0] + w[1] * x_i) for x_i in x]\n",
    "len(predictions), len(y)\n",
    "\n",
    "mean_squared_error(y,predictions,squared= False)"
   ]
  },
  {
   "cell_type": "markdown",
   "metadata": {},
   "source": [
    "Nos equivocamos en media en un 1.2 puntos. ¿Es eso bueno o malo? Es error de train y además no tenemos a quien preguntar... Aplicar entonces nuestro mejor criterio."
   ]
  },
  {
   "cell_type": "markdown",
   "metadata": {},
   "source": [
    "## Regresión Lineal Múltiple: Gradiente Descendente (Sklearn)"
   ]
  },
  {
   "cell_type": "markdown",
   "metadata": {},
   "source": [
    "Queremos predecir los precios de una serie de casas, a partir de las siguientes variables:\n",
    "\n",
    "- Avg. Area Income: Renta media de los residentes de la ciudad donde está la casa\n",
    "- Avg. Area House Age: media de antigüedad de las casas de esa ciudad\n",
    "- Avg. Area Number of Rooms: Número medio de habitaciones en las casas de esa ciudad\n",
    "- Avg Area Number of Bedrooms: Número medio de dormitorios en las casas de la ciudad\n",
    "- Area Population: Población de la ciudad\n",
    "- Price: Precio de la casa (variable objetivo o variable target)\n",
    "- Address: Dirección"
   ]
  },
  {
   "cell_type": "code",
   "execution_count": 18,
   "metadata": {},
   "outputs": [
    {
     "data": {
      "text/html": [
       "<div>\n",
       "<style scoped>\n",
       "    .dataframe tbody tr th:only-of-type {\n",
       "        vertical-align: middle;\n",
       "    }\n",
       "\n",
       "    .dataframe tbody tr th {\n",
       "        vertical-align: top;\n",
       "    }\n",
       "\n",
       "    .dataframe thead th {\n",
       "        text-align: right;\n",
       "    }\n",
       "</style>\n",
       "<table border=\"1\" class=\"dataframe\">\n",
       "  <thead>\n",
       "    <tr style=\"text-align: right;\">\n",
       "      <th></th>\n",
       "      <th>Avg. Area Income</th>\n",
       "      <th>Avg. Area House Age</th>\n",
       "      <th>Avg. Area Number of Rooms</th>\n",
       "      <th>Avg. Area Number of Bedrooms</th>\n",
       "      <th>Area Population</th>\n",
       "      <th>Price</th>\n",
       "      <th>Address</th>\n",
       "    </tr>\n",
       "  </thead>\n",
       "  <tbody>\n",
       "    <tr>\n",
       "      <th>0</th>\n",
       "      <td>79545.458574</td>\n",
       "      <td>5.682861</td>\n",
       "      <td>7.009188</td>\n",
       "      <td>4.09</td>\n",
       "      <td>23086.800503</td>\n",
       "      <td>1.059034e+06</td>\n",
       "      <td>208 Michael Ferry Apt. 674\\nLaurabury, NE 3701...</td>\n",
       "    </tr>\n",
       "    <tr>\n",
       "      <th>1</th>\n",
       "      <td>79248.642455</td>\n",
       "      <td>6.002900</td>\n",
       "      <td>6.730821</td>\n",
       "      <td>3.09</td>\n",
       "      <td>40173.072174</td>\n",
       "      <td>1.505891e+06</td>\n",
       "      <td>188 Johnson Views Suite 079\\nLake Kathleen, CA...</td>\n",
       "    </tr>\n",
       "    <tr>\n",
       "      <th>2</th>\n",
       "      <td>61287.067179</td>\n",
       "      <td>5.865890</td>\n",
       "      <td>8.512727</td>\n",
       "      <td>5.13</td>\n",
       "      <td>36882.159400</td>\n",
       "      <td>1.058988e+06</td>\n",
       "      <td>9127 Elizabeth Stravenue\\nDanieltown, WI 06482...</td>\n",
       "    </tr>\n",
       "    <tr>\n",
       "      <th>3</th>\n",
       "      <td>63345.240046</td>\n",
       "      <td>7.188236</td>\n",
       "      <td>5.586729</td>\n",
       "      <td>3.26</td>\n",
       "      <td>34310.242831</td>\n",
       "      <td>1.260617e+06</td>\n",
       "      <td>USS Barnett\\nFPO AP 44820</td>\n",
       "    </tr>\n",
       "    <tr>\n",
       "      <th>4</th>\n",
       "      <td>59982.197226</td>\n",
       "      <td>5.040555</td>\n",
       "      <td>7.839388</td>\n",
       "      <td>4.23</td>\n",
       "      <td>26354.109472</td>\n",
       "      <td>6.309435e+05</td>\n",
       "      <td>USNS Raymond\\nFPO AE 09386</td>\n",
       "    </tr>\n",
       "  </tbody>\n",
       "</table>\n",
       "</div>"
      ],
      "text/plain": [
       "   Avg. Area Income  Avg. Area House Age  Avg. Area Number of Rooms  \\\n",
       "0      79545.458574             5.682861                   7.009188   \n",
       "1      79248.642455             6.002900                   6.730821   \n",
       "2      61287.067179             5.865890                   8.512727   \n",
       "3      63345.240046             7.188236                   5.586729   \n",
       "4      59982.197226             5.040555                   7.839388   \n",
       "\n",
       "   Avg. Area Number of Bedrooms  Area Population         Price  \\\n",
       "0                          4.09     23086.800503  1.059034e+06   \n",
       "1                          3.09     40173.072174  1.505891e+06   \n",
       "2                          5.13     36882.159400  1.058988e+06   \n",
       "3                          3.26     34310.242831  1.260617e+06   \n",
       "4                          4.23     26354.109472  6.309435e+05   \n",
       "\n",
       "                                             Address  \n",
       "0  208 Michael Ferry Apt. 674\\nLaurabury, NE 3701...  \n",
       "1  188 Johnson Views Suite 079\\nLake Kathleen, CA...  \n",
       "2  9127 Elizabeth Stravenue\\nDanieltown, WI 06482...  \n",
       "3                          USS Barnett\\nFPO AP 44820  \n",
       "4                         USNS Raymond\\nFPO AE 09386  "
      ]
     },
     "execution_count": 18,
     "metadata": {},
     "output_type": "execute_result"
    }
   ],
   "source": [
    "USA_Housing = pd.read_csv('./data/USA_Housing.csv')\n",
    "USA_Housing.head()"
   ]
  },
  {
   "cell_type": "markdown",
   "metadata": {},
   "source": [
    "Exploremos el dataset:"
   ]
  },
  {
   "cell_type": "code",
   "execution_count": 19,
   "metadata": {},
   "outputs": [
    {
     "name": "stdout",
     "output_type": "stream",
     "text": [
      "<class 'pandas.core.frame.DataFrame'>\n",
      "RangeIndex: 5000 entries, 0 to 4999\n",
      "Data columns (total 7 columns):\n",
      " #   Column                        Non-Null Count  Dtype  \n",
      "---  ------                        --------------  -----  \n",
      " 0   Avg. Area Income              5000 non-null   float64\n",
      " 1   Avg. Area House Age           5000 non-null   float64\n",
      " 2   Avg. Area Number of Rooms     5000 non-null   float64\n",
      " 3   Avg. Area Number of Bedrooms  5000 non-null   float64\n",
      " 4   Area Population               5000 non-null   float64\n",
      " 5   Price                         5000 non-null   float64\n",
      " 6   Address                       5000 non-null   object \n",
      "dtypes: float64(6), object(1)\n",
      "memory usage: 273.6+ KB\n"
     ]
    }
   ],
   "source": [
    "USA_Housing.info()"
   ]
  },
  {
   "cell_type": "markdown",
   "metadata": {},
   "source": [
    "Son todas numéricas. "
   ]
  },
  {
   "cell_type": "code",
   "execution_count": 20,
   "metadata": {},
   "outputs": [
    {
     "data": {
      "text/html": [
       "<div>\n",
       "<style scoped>\n",
       "    .dataframe tbody tr th:only-of-type {\n",
       "        vertical-align: middle;\n",
       "    }\n",
       "\n",
       "    .dataframe tbody tr th {\n",
       "        vertical-align: top;\n",
       "    }\n",
       "\n",
       "    .dataframe thead th {\n",
       "        text-align: right;\n",
       "    }\n",
       "</style>\n",
       "<table border=\"1\" class=\"dataframe\">\n",
       "  <thead>\n",
       "    <tr style=\"text-align: right;\">\n",
       "      <th></th>\n",
       "      <th>Avg. Area Income</th>\n",
       "      <th>Avg. Area House Age</th>\n",
       "      <th>Avg. Area Number of Rooms</th>\n",
       "      <th>Avg. Area Number of Bedrooms</th>\n",
       "      <th>Area Population</th>\n",
       "      <th>Price</th>\n",
       "    </tr>\n",
       "  </thead>\n",
       "  <tbody>\n",
       "    <tr>\n",
       "      <th>count</th>\n",
       "      <td>5000.000000</td>\n",
       "      <td>5000.000000</td>\n",
       "      <td>5000.000000</td>\n",
       "      <td>5000.000000</td>\n",
       "      <td>5000.000000</td>\n",
       "      <td>5.000000e+03</td>\n",
       "    </tr>\n",
       "    <tr>\n",
       "      <th>mean</th>\n",
       "      <td>68583.108984</td>\n",
       "      <td>5.977222</td>\n",
       "      <td>6.987792</td>\n",
       "      <td>3.981330</td>\n",
       "      <td>36163.516039</td>\n",
       "      <td>1.232073e+06</td>\n",
       "    </tr>\n",
       "    <tr>\n",
       "      <th>std</th>\n",
       "      <td>10657.991214</td>\n",
       "      <td>0.991456</td>\n",
       "      <td>1.005833</td>\n",
       "      <td>1.234137</td>\n",
       "      <td>9925.650114</td>\n",
       "      <td>3.531176e+05</td>\n",
       "    </tr>\n",
       "    <tr>\n",
       "      <th>min</th>\n",
       "      <td>17796.631190</td>\n",
       "      <td>2.644304</td>\n",
       "      <td>3.236194</td>\n",
       "      <td>2.000000</td>\n",
       "      <td>172.610686</td>\n",
       "      <td>1.593866e+04</td>\n",
       "    </tr>\n",
       "    <tr>\n",
       "      <th>25%</th>\n",
       "      <td>61480.562388</td>\n",
       "      <td>5.322283</td>\n",
       "      <td>6.299250</td>\n",
       "      <td>3.140000</td>\n",
       "      <td>29403.928702</td>\n",
       "      <td>9.975771e+05</td>\n",
       "    </tr>\n",
       "    <tr>\n",
       "      <th>50%</th>\n",
       "      <td>68804.286404</td>\n",
       "      <td>5.970429</td>\n",
       "      <td>7.002902</td>\n",
       "      <td>4.050000</td>\n",
       "      <td>36199.406689</td>\n",
       "      <td>1.232669e+06</td>\n",
       "    </tr>\n",
       "    <tr>\n",
       "      <th>75%</th>\n",
       "      <td>75783.338666</td>\n",
       "      <td>6.650808</td>\n",
       "      <td>7.665871</td>\n",
       "      <td>4.490000</td>\n",
       "      <td>42861.290769</td>\n",
       "      <td>1.471210e+06</td>\n",
       "    </tr>\n",
       "    <tr>\n",
       "      <th>max</th>\n",
       "      <td>107701.748378</td>\n",
       "      <td>9.519088</td>\n",
       "      <td>10.759588</td>\n",
       "      <td>6.500000</td>\n",
       "      <td>69621.713378</td>\n",
       "      <td>2.469066e+06</td>\n",
       "    </tr>\n",
       "  </tbody>\n",
       "</table>\n",
       "</div>"
      ],
      "text/plain": [
       "       Avg. Area Income  Avg. Area House Age  Avg. Area Number of Rooms  \\\n",
       "count       5000.000000          5000.000000                5000.000000   \n",
       "mean       68583.108984             5.977222                   6.987792   \n",
       "std        10657.991214             0.991456                   1.005833   \n",
       "min        17796.631190             2.644304                   3.236194   \n",
       "25%        61480.562388             5.322283                   6.299250   \n",
       "50%        68804.286404             5.970429                   7.002902   \n",
       "75%        75783.338666             6.650808                   7.665871   \n",
       "max       107701.748378             9.519088                  10.759588   \n",
       "\n",
       "       Avg. Area Number of Bedrooms  Area Population         Price  \n",
       "count                   5000.000000      5000.000000  5.000000e+03  \n",
       "mean                       3.981330     36163.516039  1.232073e+06  \n",
       "std                        1.234137      9925.650114  3.531176e+05  \n",
       "min                        2.000000       172.610686  1.593866e+04  \n",
       "25%                        3.140000     29403.928702  9.975771e+05  \n",
       "50%                        4.050000     36199.406689  1.232669e+06  \n",
       "75%                        4.490000     42861.290769  1.471210e+06  \n",
       "max                        6.500000     69621.713378  2.469066e+06  "
      ]
     },
     "execution_count": 20,
     "metadata": {},
     "output_type": "execute_result"
    }
   ],
   "source": [
    "USA_Housing.describe()"
   ]
  },
  {
   "cell_type": "markdown",
   "metadata": {},
   "source": [
    "## EDA: Exploratory Data Analysis"
   ]
  },
  {
   "cell_type": "markdown",
   "metadata": {},
   "source": [
    "### Variable target/objetivo: El Precio"
   ]
  },
  {
   "cell_type": "code",
   "execution_count": 21,
   "metadata": {},
   "outputs": [
    {
     "data": {
      "image/png": "[encoded data removed]",
      "text/plain": [
       "<Figure size 640x480 with 1 Axes>"
      ]
     },
     "metadata": {},
     "output_type": "display_data"
    }
   ],
   "source": [
    "sns.histplot(USA_Housing['Price'], color='Blue', kde = True)\n",
    "plt.show()"
   ]
  },
  {
   "cell_type": "markdown",
   "metadata": {},
   "source": [
    "Tiene una distribución en forma de campana de Gauss, una distribución normal, y por tanto eso es una buena señal para aplicar regresión lineal."
   ]
  },
  {
   "cell_type": "markdown",
   "metadata": {},
   "source": [
    "### Multivariante "
   ]
  },
  {
   "cell_type": "markdown",
   "metadata": {},
   "source": [
    "Vamos a analizar las correlaciones de las numéricas entre sí, pero en especial con la variable Target:"
   ]
  },
  {
   "cell_type": "code",
   "execution_count": 22,
   "metadata": {},
   "outputs": [
    {
     "data": {
      "text/html": [
       "<div>\n",
       "<style scoped>\n",
       "    .dataframe tbody tr th:only-of-type {\n",
       "        vertical-align: middle;\n",
       "    }\n",
       "\n",
       "    .dataframe tbody tr th {\n",
       "        vertical-align: top;\n",
       "    }\n",
       "\n",
       "    .dataframe thead th {\n",
       "        text-align: right;\n",
       "    }\n",
       "</style>\n",
       "<table border=\"1\" class=\"dataframe\">\n",
       "  <thead>\n",
       "    <tr style=\"text-align: right;\">\n",
       "      <th></th>\n",
       "      <th>Avg. Area Income</th>\n",
       "      <th>Avg. Area House Age</th>\n",
       "      <th>Avg. Area Number of Rooms</th>\n",
       "      <th>Avg. Area Number of Bedrooms</th>\n",
       "      <th>Area Population</th>\n",
       "      <th>Price</th>\n",
       "    </tr>\n",
       "  </thead>\n",
       "  <tbody>\n",
       "    <tr>\n",
       "      <th>Avg. Area Income</th>\n",
       "      <td>1.000000</td>\n",
       "      <td>-0.002007</td>\n",
       "      <td>-0.011032</td>\n",
       "      <td>0.019788</td>\n",
       "      <td>-0.016234</td>\n",
       "      <td>0.639734</td>\n",
       "    </tr>\n",
       "    <tr>\n",
       "      <th>Avg. Area House Age</th>\n",
       "      <td>-0.002007</td>\n",
       "      <td>1.000000</td>\n",
       "      <td>-0.009428</td>\n",
       "      <td>0.006149</td>\n",
       "      <td>-0.018743</td>\n",
       "      <td>0.452543</td>\n",
       "    </tr>\n",
       "    <tr>\n",
       "      <th>Avg. Area Number of Rooms</th>\n",
       "      <td>-0.011032</td>\n",
       "      <td>-0.009428</td>\n",
       "      <td>1.000000</td>\n",
       "      <td>0.462695</td>\n",
       "      <td>0.002040</td>\n",
       "      <td>0.335664</td>\n",
       "    </tr>\n",
       "    <tr>\n",
       "      <th>Avg. Area Number of Bedrooms</th>\n",
       "      <td>0.019788</td>\n",
       "      <td>0.006149</td>\n",
       "      <td>0.462695</td>\n",
       "      <td>1.000000</td>\n",
       "      <td>-0.022168</td>\n",
       "      <td>0.171071</td>\n",
       "    </tr>\n",
       "    <tr>\n",
       "      <th>Area Population</th>\n",
       "      <td>-0.016234</td>\n",
       "      <td>-0.018743</td>\n",
       "      <td>0.002040</td>\n",
       "      <td>-0.022168</td>\n",
       "      <td>1.000000</td>\n",
       "      <td>0.408556</td>\n",
       "    </tr>\n",
       "    <tr>\n",
       "      <th>Price</th>\n",
       "      <td>0.639734</td>\n",
       "      <td>0.452543</td>\n",
       "      <td>0.335664</td>\n",
       "      <td>0.171071</td>\n",
       "      <td>0.408556</td>\n",
       "      <td>1.000000</td>\n",
       "    </tr>\n",
       "  </tbody>\n",
       "</table>\n",
       "</div>"
      ],
      "text/plain": [
       "                              Avg. Area Income  Avg. Area House Age  \\\n",
       "Avg. Area Income                      1.000000            -0.002007   \n",
       "Avg. Area House Age                  -0.002007             1.000000   \n",
       "Avg. Area Number of Rooms            -0.011032            -0.009428   \n",
       "Avg. Area Number of Bedrooms          0.019788             0.006149   \n",
       "Area Population                      -0.016234            -0.018743   \n",
       "Price                                 0.639734             0.452543   \n",
       "\n",
       "                              Avg. Area Number of Rooms  \\\n",
       "Avg. Area Income                              -0.011032   \n",
       "Avg. Area House Age                           -0.009428   \n",
       "Avg. Area Number of Rooms                      1.000000   \n",
       "Avg. Area Number of Bedrooms                   0.462695   \n",
       "Area Population                                0.002040   \n",
       "Price                                          0.335664   \n",
       "\n",
       "                              Avg. Area Number of Bedrooms  Area Population  \\\n",
       "Avg. Area Income                                  0.019788        -0.016234   \n",
       "Avg. Area House Age                               0.006149        -0.018743   \n",
       "Avg. Area Number of Rooms                         0.462695         0.002040   \n",
       "Avg. Area Number of Bedrooms                      1.000000        -0.022168   \n",
       "Area Population                                  -0.022168         1.000000   \n",
       "Price                                             0.171071         0.408556   \n",
       "\n",
       "                                 Price  \n",
       "Avg. Area Income              0.639734  \n",
       "Avg. Area House Age           0.452543  \n",
       "Avg. Area Number of Rooms     0.335664  \n",
       "Avg. Area Number of Bedrooms  0.171071  \n",
       "Area Population               0.408556  \n",
       "Price                         1.000000  "
      ]
     },
     "execution_count": 22,
     "metadata": {},
     "output_type": "execute_result"
    }
   ],
   "source": [
    "USA_Housing.corr(numeric_only= True)"
   ]
  },
  {
   "cell_type": "code",
   "execution_count": 23,
   "metadata": {},
   "outputs": [
    {
     "data": {
      "image/png": "[encoded data removed]",
      "text/plain": [
       "<Figure size 640x480 with 2 Axes>"
      ]
     },
     "metadata": {},
     "output_type": "display_data"
    }
   ],
   "source": [
    "sns.heatmap(USA_Housing.corr(numeric_only = True),annot=True);\n"
   ]
  },
  {
   "cell_type": "markdown",
   "metadata": {},
   "source": [
    "Deberíamos esperar que la variable que más influya sea el income del area (Avg. Area Income), como nos pasó con el modelo de ejemplo en la unidad de familiarización del sprint anterior."
   ]
  },
  {
   "cell_type": "markdown",
   "metadata": {},
   "source": [
    "## Entrenar un modelo de Regresión Lineal"
   ]
  },
  {
   "cell_type": "markdown",
   "metadata": {},
   "source": [
    "En primer lugar, dividimos en train y test"
   ]
  },
  {
   "cell_type": "code",
   "execution_count": 24,
   "metadata": {},
   "outputs": [
    {
     "data": {
      "text/plain": [
       "Index(['Avg. Area Income', 'Avg. Area House Age', 'Avg. Area Number of Rooms',\n",
       "       'Avg. Area Number of Bedrooms', 'Area Population', 'Price', 'Address'],\n",
       "      dtype='object')"
      ]
     },
     "execution_count": 24,
     "metadata": {},
     "output_type": "execute_result"
    }
   ],
   "source": [
    "USA_Housing.columns"
   ]
  },
  {
   "cell_type": "code",
   "execution_count": 25,
   "metadata": {},
   "outputs": [],
   "source": [
    "# Feautures\n",
    "X = USA_Housing[['Avg. Area Income', 'Avg. Area House Age', 'Avg. Area Number of Rooms',\n",
    "       'Avg. Area Number of Bedrooms', 'Area Population']]\n",
    "\n",
    "# Target\n",
    "y = USA_Housing['Price']"
   ]
  },
  {
   "cell_type": "code",
   "execution_count": 27,
   "metadata": {},
   "outputs": [],
   "source": [
    "from sklearn.model_selection import train_test_split\n",
    "\n",
    "X_train, X_test, y_train, y_test = train_test_split(X, y, test_size=0.2, random_state=42)"
   ]
  },
  {
   "cell_type": "code",
   "execution_count": 28,
   "metadata": {},
   "outputs": [
    {
     "name": "stdout",
     "output_type": "stream",
     "text": [
      "(5000, 5)\n",
      "(4000, 5)\n",
      "(1000, 5)\n",
      "(4000,)\n",
      "(1000,)\n"
     ]
    }
   ],
   "source": [
    "print(X.shape)\n",
    "print(X_train.shape)\n",
    "print(X_test.shape)\n",
    "print(y_train.shape)\n",
    "print(y_test.shape)"
   ]
  },
  {
   "cell_type": "markdown",
   "metadata": {},
   "source": [
    "Y ya sí que tienes que ir tomando nota de cómo lo creamos a partir de `sklearn`:"
   ]
  },
  {
   "cell_type": "code",
   "execution_count": 30,
   "metadata": {},
   "outputs": [],
   "source": [
    "from sklearn.linear_model import LinearRegression\n",
    "\n",
    "# Creamos un objeto\n",
    "lm = LinearRegression()"
   ]
  },
  {
   "cell_type": "markdown",
   "metadata": {},
   "source": [
    "### Entrenamos  \n",
    "\n",
    "Entrenar es básicamente obtener el valor de los parámetros (en este caso de regresión lineal también les llamaremos pesos) a partir de los datos de train. En este caso mediante optimización con gradiente descendente del error cuadrático medio (para que se te quede la terminología). Ese entrenamiento es lo que esconde el método `fit` (ojo el método fit por dentro hará otras cosas en otro tipo de modelos, sólo que Sklearn tiene la gracia de mantener la sintáxis independientmente del tipo de algoritmo y modelo)"
   ]
  },
  {
   "cell_type": "code",
   "execution_count": 31,
   "metadata": {},
   "outputs": [
    {
     "data": {
      "text/html": [
       "<style>#sk-container-id-1 {color: black;}#sk-container-id-1 pre{padding: 0;}#sk-container-id-1 div.sk-toggleable {background-color: white;}#sk-container-id-1 label.sk-toggleable__label {cursor: pointer;display: block;width: 100%;margin-bottom: 0;padding: 0.3em;box-sizing: border-box;text-align: center;}#sk-container-id-1 label.sk-toggleable__label-arrow:before {content: \"▸\";float: left;margin-right: 0.25em;color: #696969;}#sk-container-id-1 label.sk-toggleable__label-arrow:hover:before {color: black;}#sk-container-id-1 div.sk-estimator:hover label.sk-toggleable__label-arrow:before {color: black;}#sk-container-id-1 div.sk-toggleable__content {max-height: 0;max-width: 0;overflow: hidden;text-align: left;background-color: #f0f8ff;}#sk-container-id-1 div.sk-toggleable__content pre {margin: 0.2em;color: black;border-radius: 0.25em;background-color: #f0f8ff;}#sk-container-id-1 input.sk-toggleable__control:checked~div.sk-toggleable__content {max-height: 200px;max-width: 100%;overflow: auto;}#sk-container-id-1 input.sk-toggleable__control:checked~label.sk-toggleable__label-arrow:before {content: \"▾\";}#sk-container-id-1 div.sk-estimator input.sk-toggleable__control:checked~label.sk-toggleable__label {background-color: #d4ebff;}#sk-container-id-1 div.sk-label input.sk-toggleable__control:checked~label.sk-toggleable__label {background-color: #d4ebff;}#sk-container-id-1 input.sk-hidden--visually {border: 0;clip: rect(1px 1px 1px 1px);clip: rect(1px, 1px, 1px, 1px);height: 1px;margin: -1px;overflow: hidden;padding: 0;position: absolute;width: 1px;}#sk-container-id-1 div.sk-estimator {font-family: monospace;background-color: #f0f8ff;border: 1px dotted black;border-radius: 0.25em;box-sizing: border-box;margin-bottom: 0.5em;}#sk-container-id-1 div.sk-estimator:hover {background-color: #d4ebff;}#sk-container-id-1 div.sk-parallel-item::after {content: \"\";width: 100%;border-bottom: 1px solid gray;flex-grow: 1;}#sk-container-id-1 div.sk-label:hover label.sk-toggleable__label {background-color: #d4ebff;}#sk-container-id-1 div.sk-serial::before {content: \"\";position: absolute;border-left: 1px solid gray;box-sizing: border-box;top: 0;bottom: 0;left: 50%;z-index: 0;}#sk-container-id-1 div.sk-serial {display: flex;flex-direction: column;align-items: center;background-color: white;padding-right: 0.2em;padding-left: 0.2em;position: relative;}#sk-container-id-1 div.sk-item {position: relative;z-index: 1;}#sk-container-id-1 div.sk-parallel {display: flex;align-items: stretch;justify-content: center;background-color: white;position: relative;}#sk-container-id-1 div.sk-item::before, #sk-container-id-1 div.sk-parallel-item::before {content: \"\";position: absolute;border-left: 1px solid gray;box-sizing: border-box;top: 0;bottom: 0;left: 50%;z-index: -1;}#sk-container-id-1 div.sk-parallel-item {display: flex;flex-direction: column;z-index: 1;position: relative;background-color: white;}#sk-container-id-1 div.sk-parallel-item:first-child::after {align-self: flex-end;width: 50%;}#sk-container-id-1 div.sk-parallel-item:last-child::after {align-self: flex-start;width: 50%;}#sk-container-id-1 div.sk-parallel-item:only-child::after {width: 0;}#sk-container-id-1 div.sk-dashed-wrapped {border: 1px dashed gray;margin: 0 0.4em 0.5em 0.4em;box-sizing: border-box;padding-bottom: 0.4em;background-color: white;}#sk-container-id-1 div.sk-label label {font-family: monospace;font-weight: bold;display: inline-block;line-height: 1.2em;}#sk-container-id-1 div.sk-label-container {text-align: center;}#sk-container-id-1 div.sk-container {/* jupyter's `normalize.less` sets `[hidden] { display: none; }` but bootstrap.min.css set `[hidden] { display: none !important; }` so we also need the `!important` here to be able to override the default hidden behavior on the sphinx rendered scikit-learn.org. See: https://github.com/scikit-learn/scikit-learn/issues/21755 */display: inline-block !important;position: relative;}#sk-container-id-1 div.sk-text-repr-fallback {display: none;}</style><div id=\"sk-container-id-1\" class=\"sk-top-container\"><div class=\"sk-text-repr-fallback\"><pre>LinearRegression()</pre><b>In a Jupyter environment, please rerun this cell to show the HTML representation or trust the notebook. <br />On GitHub, the HTML representation is unable to render, please try loading this page with nbviewer.org.</b></div><div class=\"sk-container\" hidden><div class=\"sk-item\"><div class=\"sk-estimator sk-toggleable\"><input class=\"sk-toggleable__control sk-hidden--visually\" id=\"sk-estimator-id-1\" type=\"checkbox\" checked><label for=\"sk-estimator-id-1\" class=\"sk-toggleable__label sk-toggleable__label-arrow\">LinearRegression</label><div class=\"sk-toggleable__content\"><pre>LinearRegression()</pre></div></div></div></div></div>"
      ],
      "text/plain": [
       "LinearRegression()"
      ]
     },
     "execution_count": 31,
     "metadata": {},
     "output_type": "execute_result"
    }
   ],
   "source": [
    "# Entrenamos con los datos de train\n",
    "lm.fit(X_train, y_train)"
   ]
  },
  {
   "cell_type": "markdown",
   "metadata": {},
   "source": [
    "### Interpretación de los pesos"
   ]
  },
  {
   "cell_type": "markdown",
   "metadata": {},
   "source": [
    "Recuerda que el modelo por dentro es como una \"función\" del tipo:"
   ]
  },
  {
   "cell_type": "markdown",
   "metadata": {},
   "source": [
    "\n",
    "$$y = w_0 + w_1x_1 + w_2x_2 + ...$$"
   ]
  },
  {
   "cell_type": "markdown",
   "metadata": {},
   "source": [
    "Veamos el parámetro $w_0$, también conocido como intercept y que nos da el valor para el caso de que los valores de todas las features sea 0:"
   ]
  },
  {
   "cell_type": "code",
   "execution_count": 32,
   "metadata": {},
   "outputs": [
    {
     "data": {
      "text/plain": [
       "-2635072.900933357"
      ]
     },
     "execution_count": 32,
     "metadata": {},
     "output_type": "execute_result"
    }
   ],
   "source": [
    "lm.intercept_"
   ]
  },
  {
   "cell_type": "markdown",
   "metadata": {},
   "source": [
    "Y ahora los coeficientes (pesos o parámetros):"
   ]
  },
  {
   "cell_type": "code",
   "execution_count": 33,
   "metadata": {},
   "outputs": [
    {
     "data": {
      "text/plain": [
       "array([2.16522058e+01, 1.64666481e+05, 1.19624012e+05, 2.44037761e+03,\n",
       "       1.52703134e+01])"
      ]
     },
     "execution_count": 33,
     "metadata": {},
     "output_type": "execute_result"
    }
   ],
   "source": [
    "lm.coef_"
   ]
  },
  {
   "cell_type": "markdown",
   "metadata": {},
   "source": [
    "Vistos como un dataframe para interpretarlos mejor:"
   ]
  },
  {
   "cell_type": "code",
   "execution_count": 34,
   "metadata": {},
   "outputs": [
    {
     "data": {
      "text/html": [
       "<div>\n",
       "<style scoped>\n",
       "    .dataframe tbody tr th:only-of-type {\n",
       "        vertical-align: middle;\n",
       "    }\n",
       "\n",
       "    .dataframe tbody tr th {\n",
       "        vertical-align: top;\n",
       "    }\n",
       "\n",
       "    .dataframe thead th {\n",
       "        text-align: right;\n",
       "    }\n",
       "</style>\n",
       "<table border=\"1\" class=\"dataframe\">\n",
       "  <thead>\n",
       "    <tr style=\"text-align: right;\">\n",
       "      <th></th>\n",
       "      <th>Coefficient</th>\n",
       "    </tr>\n",
       "  </thead>\n",
       "  <tbody>\n",
       "    <tr>\n",
       "      <th>Avg. Area Income</th>\n",
       "      <td>21.652206</td>\n",
       "    </tr>\n",
       "    <tr>\n",
       "      <th>Avg. Area House Age</th>\n",
       "      <td>164666.480722</td>\n",
       "    </tr>\n",
       "    <tr>\n",
       "      <th>Avg. Area Number of Rooms</th>\n",
       "      <td>119624.012232</td>\n",
       "    </tr>\n",
       "    <tr>\n",
       "      <th>Avg. Area Number of Bedrooms</th>\n",
       "      <td>2440.377611</td>\n",
       "    </tr>\n",
       "    <tr>\n",
       "      <th>Area Population</th>\n",
       "      <td>15.270313</td>\n",
       "    </tr>\n",
       "  </tbody>\n",
       "</table>\n",
       "</div>"
      ],
      "text/plain": [
       "                                Coefficient\n",
       "Avg. Area Income                  21.652206\n",
       "Avg. Area House Age           164666.480722\n",
       "Avg. Area Number of Rooms     119624.012232\n",
       "Avg. Area Number of Bedrooms    2440.377611\n",
       "Area Population                   15.270313"
      ]
     },
     "execution_count": 34,
     "metadata": {},
     "output_type": "execute_result"
    }
   ],
   "source": [
    "coef_df = pd.DataFrame(lm.coef_, X.columns, \n",
    "                      columns=['Coefficient'])\n",
    "coef_df"
   ]
  },
  {
   "cell_type": "markdown",
   "metadata": {},
   "source": [
    "Interpretación de los coeficientes"
   ]
  },
  {
   "cell_type": "markdown",
   "metadata": {},
   "source": [
    "Manteniendo fijos el resto de coeficientes:\n",
    "- Un incremento de 1 unidad en **Avg. Area Income** equivale a un incremento de **21.64 dólares**  \n",
    "- Un incremento de 1 unidad en **Avg. Area House Age** equivale a un incremento de **164,666 dólares**\n",
    "- Un incremento de 1 unidad en **Avg. Area Number of Rooms** equivale a un incremento de **119,624 dólares**\n",
    "- Un incremento de 1 unidad en **Avg. Area Number of Bedrooms** equivale a un incremento de **2,440  dólares**\n",
    "- Un incremento de 1 unidad en **Area Population** equivale a un incremento de **15.27 dólares**"
   ]
  },
  {
   "cell_type": "markdown",
   "metadata": {},
   "source": [
    "En definitiva nuestro modelo de regresión implementa la siguiente función:"
   ]
  },
  {
   "cell_type": "markdown",
   "metadata": {},
   "source": [
    "$Precio = \t21.652206 \\times \\text{Avg. Area Income}+ \n",
    "164666.480722 \\times \\text{Avg. Area House Age} + \n",
    "119624.012232  \\times \\text{Avg. Area Number of Rooms}\t+\n",
    "2440.377611 \\times \\text{Avg. Area Number of Bedrooms}\t+\n",
    "15.270313 \\times \\text{Area Population}$"
   ]
  },
  {
   "cell_type": "markdown",
   "metadata": {},
   "source": [
    "## Predicciones de nuestro modelo"
   ]
  },
  {
   "cell_type": "markdown",
   "metadata": {},
   "source": [
    "Primero probemos a ver que precio asignaría a una casas en un área de ingresos medios de 100000 dolares, 20 años de antigüedad media, 8 habitaciones de media, 8 dormitorios de media y población media 100000 habitantes:"
   ]
  },
  {
   "cell_type": "code",
   "execution_count": 35,
   "metadata": {},
   "outputs": [
    {
     "name": "stderr",
     "output_type": "stream",
     "text": [
      "c:\\Users\\lucas\\AppData\\Local\\Programs\\Python\\Python310\\lib\\site-packages\\sklearn\\base.py:465: UserWarning: X does not have valid feature names, but LinearRegression was fitted with feature names\n",
      "  warnings.warn(\n"
     ]
    },
    {
     "data": {
      "text/plain": [
       "array([5327023.75160817])"
      ]
     },
     "execution_count": 35,
     "metadata": {},
     "output_type": "execute_result"
    }
   ],
   "source": [
    "new_home = np.array([[100000, 20, 8, 8, 100000]])\n",
    "lm.predict(new_home)"
   ]
  },
  {
   "cell_type": "markdown",
   "metadata": {},
   "source": [
    "A partir de las predicciones sobre el conjunto de test, vamos a construir una gráfica que compare valores reales y valores predichos:"
   ]
  },
  {
   "cell_type": "code",
   "execution_count": 36,
   "metadata": {},
   "outputs": [
    {
     "data": {
      "text/html": [
       "<div>\n",
       "<style scoped>\n",
       "    .dataframe tbody tr th:only-of-type {\n",
       "        vertical-align: middle;\n",
       "    }\n",
       "\n",
       "    .dataframe tbody tr th {\n",
       "        vertical-align: top;\n",
       "    }\n",
       "\n",
       "    .dataframe thead th {\n",
       "        text-align: right;\n",
       "    }\n",
       "</style>\n",
       "<table border=\"1\" class=\"dataframe\">\n",
       "  <thead>\n",
       "    <tr style=\"text-align: right;\">\n",
       "      <th></th>\n",
       "      <th>Avg. Area Income</th>\n",
       "      <th>Avg. Area House Age</th>\n",
       "      <th>Avg. Area Number of Rooms</th>\n",
       "      <th>Avg. Area Number of Bedrooms</th>\n",
       "      <th>Area Population</th>\n",
       "    </tr>\n",
       "  </thead>\n",
       "  <tbody>\n",
       "    <tr>\n",
       "      <th>1501</th>\n",
       "      <td>61907.593345</td>\n",
       "      <td>7.017838</td>\n",
       "      <td>6.440256</td>\n",
       "      <td>3.25</td>\n",
       "      <td>43828.947207</td>\n",
       "    </tr>\n",
       "    <tr>\n",
       "      <th>2586</th>\n",
       "      <td>57160.202243</td>\n",
       "      <td>6.893260</td>\n",
       "      <td>6.921532</td>\n",
       "      <td>3.13</td>\n",
       "      <td>43467.147035</td>\n",
       "    </tr>\n",
       "    <tr>\n",
       "      <th>2653</th>\n",
       "      <td>70190.796445</td>\n",
       "      <td>6.745054</td>\n",
       "      <td>6.662567</td>\n",
       "      <td>2.01</td>\n",
       "      <td>29215.136112</td>\n",
       "    </tr>\n",
       "    <tr>\n",
       "      <th>1055</th>\n",
       "      <td>69316.796889</td>\n",
       "      <td>6.300409</td>\n",
       "      <td>7.873576</td>\n",
       "      <td>4.28</td>\n",
       "      <td>24448.211461</td>\n",
       "    </tr>\n",
       "    <tr>\n",
       "      <th>705</th>\n",
       "      <td>72991.481649</td>\n",
       "      <td>3.412866</td>\n",
       "      <td>6.494081</td>\n",
       "      <td>2.48</td>\n",
       "      <td>50626.495426</td>\n",
       "    </tr>\n",
       "    <tr>\n",
       "      <th>...</th>\n",
       "      <td>...</td>\n",
       "      <td>...</td>\n",
       "      <td>...</td>\n",
       "      <td>...</td>\n",
       "      <td>...</td>\n",
       "    </tr>\n",
       "    <tr>\n",
       "      <th>4711</th>\n",
       "      <td>77267.656264</td>\n",
       "      <td>3.939501</td>\n",
       "      <td>8.342808</td>\n",
       "      <td>6.09</td>\n",
       "      <td>22487.712072</td>\n",
       "    </tr>\n",
       "    <tr>\n",
       "      <th>2313</th>\n",
       "      <td>75967.135085</td>\n",
       "      <td>5.939370</td>\n",
       "      <td>6.111658</td>\n",
       "      <td>2.32</td>\n",
       "      <td>38897.091584</td>\n",
       "    </tr>\n",
       "    <tr>\n",
       "      <th>3214</th>\n",
       "      <td>81013.615294</td>\n",
       "      <td>7.149797</td>\n",
       "      <td>7.239105</td>\n",
       "      <td>5.44</td>\n",
       "      <td>45472.049451</td>\n",
       "    </tr>\n",
       "    <tr>\n",
       "      <th>2732</th>\n",
       "      <td>86762.882864</td>\n",
       "      <td>6.530193</td>\n",
       "      <td>5.106962</td>\n",
       "      <td>2.09</td>\n",
       "      <td>47724.581355</td>\n",
       "    </tr>\n",
       "    <tr>\n",
       "      <th>1926</th>\n",
       "      <td>67071.830617</td>\n",
       "      <td>4.935155</td>\n",
       "      <td>7.632398</td>\n",
       "      <td>5.04</td>\n",
       "      <td>32084.743400</td>\n",
       "    </tr>\n",
       "  </tbody>\n",
       "</table>\n",
       "<p>1000 rows × 5 columns</p>\n",
       "</div>"
      ],
      "text/plain": [
       "      Avg. Area Income  Avg. Area House Age  Avg. Area Number of Rooms  \\\n",
       "1501      61907.593345             7.017838                   6.440256   \n",
       "2586      57160.202243             6.893260                   6.921532   \n",
       "2653      70190.796445             6.745054                   6.662567   \n",
       "1055      69316.796889             6.300409                   7.873576   \n",
       "705       72991.481649             3.412866                   6.494081   \n",
       "...                ...                  ...                        ...   \n",
       "4711      77267.656264             3.939501                   8.342808   \n",
       "2313      75967.135085             5.939370                   6.111658   \n",
       "3214      81013.615294             7.149797                   7.239105   \n",
       "2732      86762.882864             6.530193                   5.106962   \n",
       "1926      67071.830617             4.935155                   7.632398   \n",
       "\n",
       "      Avg. Area Number of Bedrooms  Area Population  \n",
       "1501                          3.25     43828.947207  \n",
       "2586                          3.13     43467.147035  \n",
       "2653                          2.01     29215.136112  \n",
       "1055                          4.28     24448.211461  \n",
       "705                           2.48     50626.495426  \n",
       "...                            ...              ...  \n",
       "4711                          6.09     22487.712072  \n",
       "2313                          2.32     38897.091584  \n",
       "3214                          5.44     45472.049451  \n",
       "2732                          2.09     47724.581355  \n",
       "1926                          5.04     32084.743400  \n",
       "\n",
       "[1000 rows x 5 columns]"
      ]
     },
     "execution_count": 36,
     "metadata": {},
     "output_type": "execute_result"
    }
   ],
   "source": [
    "X_test"
   ]
  },
  {
   "cell_type": "code",
   "execution_count": 37,
   "metadata": {},
   "outputs": [
    {
     "data": {
      "text/plain": [
       "array([1308587.92699759, 1237037.22949434, 1243429.34030681,\n",
       "       1228900.2136037 , 1063320.9071083 , 1544058.05034861,\n",
       "       1094774.70493019,  833284.72339225,  788412.85578719,\n",
       "       1469714.86615709,  671728.43662062, 1606818.21977961,\n",
       "       1004166.61331065, 1796798.9759592 , 1288566.96221026,\n",
       "       1087782.93301076, 1423072.37492533, 1078178.68169677,\n",
       "        802286.03537898,  930761.0369571 , 1134829.86477822,\n",
       "        916398.42023144, 1489972.69335433, 1284580.15538816,\n",
       "       1582071.35322737, 1132519.15991992, 1089888.39644517,\n",
       "        974510.51872155,  924057.96820648, 1740759.72092282,\n",
       "       1286481.59512311, 1621289.95171608, 1435264.2016172 ,\n",
       "       1234014.77924477, 1485434.57300368, 1718335.00753702,\n",
       "       1538953.74882858,  777106.64791791, 1765201.5224362 ,\n",
       "       1175972.14199818, 1553707.94323485,  897703.67505179,\n",
       "       1371049.80326609,  845281.72310359, 1201022.89803887,\n",
       "       1133285.98450866, 1363128.14557346, 1449814.08768277,\n",
       "       1574363.90467358, 1233577.50265968, 1484464.01606216,\n",
       "       1295276.58943552, 1222136.77335268,  990124.416598  ,\n",
       "       1693824.96035766, 1823785.05665104, 1136495.63903364,\n",
       "       1282164.4030563 , 1327292.05443142, 1353355.51909084,\n",
       "        966265.4434595 ,  661906.63917329, 1533750.56860995,\n",
       "       1002479.76053669,  995799.79959532, 1567349.59707253,\n",
       "       1500813.6348258 , 1090078.00056418, 1820964.84741698,\n",
       "       1479856.16724372,  902785.30216071, 1494542.21679596,\n",
       "       1378859.29762363,  962610.88478574,  712800.76347468,\n",
       "       1565650.37425303, 1149218.97654373,  931311.21938348,\n",
       "       1600923.95574327,  506875.42639189, 1592924.03164876,\n",
       "       1292023.54953336,  681260.98813933,  432977.16109994,\n",
       "       1395334.6347121 ,  696834.50740128,  663613.864406  ,\n",
       "       1030075.82567009, 1485134.02140133, 1320071.75329114,\n",
       "       1271264.11329309, 1422274.66428998,  671601.89583322,\n",
       "       1149995.6427159 , 1261301.82190815,  784691.75366843,\n",
       "       1189915.30485926, 1014887.17531198, 1405378.85714967,\n",
       "       1539076.97995918,  593301.15079211, 1391801.76393823,\n",
       "       1262742.70864071, 1875132.68141892, 2336899.33387147,\n",
       "        946302.25269162, 1315655.58002704,  953107.00437482,\n",
       "       1831758.27483199, 1625882.69024163, 1639245.35999713,\n",
       "       1267016.02457602, 1804840.84718875, 1220829.4610425 ,\n",
       "        850670.85934626, 1584187.59595383,  761904.58839427,\n",
       "       1360032.80169299, 1186062.16197453, 1559470.32105874,\n",
       "       1770323.74482795, 1608248.53684166, 1573661.86962665,\n",
       "       1531208.64376206, 1812547.75249824, 1124965.37862364,\n",
       "        669517.224712  ,  978249.45590806, 1316294.24560647,\n",
       "       1627775.48942899, 1343329.23943758, 1088746.21767432,\n",
       "       1516813.82322279, 1333391.56256394, 1421961.53699943,\n",
       "       1527965.13951325, 1674048.56946955, 1301125.76637805,\n",
       "        843902.14276135, 1439397.74699529, 1857462.44038405,\n",
       "       1090388.23396923, 1845464.91767036, 1272015.37672474,\n",
       "       2036878.56552244,  882686.734448  ,  954142.09498712,\n",
       "       1116676.58455362, 1395124.12307566, 1510721.91006259,\n",
       "        952949.66077822,  969883.09423411, 1320445.66982241,\n",
       "       1494548.61488448, 1311797.03936308,  764593.88740277,\n",
       "       1729945.04026368,  966390.95323435, 1980014.56655174,\n",
       "       1253548.56040187, 1378043.01470111, 1465705.85673355,\n",
       "       1041643.25777139, 2016178.12307681, 1425286.3175589 ,\n",
       "        783766.05598743,  826322.77792499, 1753896.36530123,\n",
       "       1077079.69502184, 2073701.72252871, 1735967.08463102,\n",
       "       1049433.84156028, 1829294.89844271, 1128895.7961378 ,\n",
       "       1629029.35283931, 1634470.42260714, 1524785.70964563,\n",
       "        722156.7942414 ,  740342.62131184,  547622.83148167,\n",
       "        828931.14665374, 1067364.15017838,  969253.52659223,\n",
       "       1227292.55245932,  871755.1279931 ,  504202.0296593 ,\n",
       "       1200044.47873915, 1062310.88487693, 1519500.99297217,\n",
       "       1329223.54689577, 1386542.64820164, 1320937.40536549,\n",
       "       1204359.90632358, 1240619.19034576, 1365626.9148404 ,\n",
       "       1769953.37847158, 1329720.91129389, 1376332.51764146,\n",
       "       1298990.36407937,  834744.40310685, 1272066.20149398,\n",
       "       1451499.03548572, 1289190.82085876,  896873.03598594,\n",
       "        990437.07011063, 1357842.65851709, 1649364.37151005,\n",
       "        779324.24924976, 1005588.56759384, 1467831.81435144,\n",
       "       1124908.45994293, 1142768.93653069, 1250196.34738781,\n",
       "       1105424.47695199,  622294.93861749, 1841657.4121255 ,\n",
       "       1182731.53995535,  609160.57633568, 1410661.53419293,\n",
       "       1263529.22101339, 1119673.80759916, 1145399.95692905,\n",
       "        500449.33290925, 1109883.63039254, 1626981.19957438,\n",
       "        797675.84432486, 1407092.10326887, 1560733.66870769,\n",
       "       1698894.16984527, 1714320.59543073, 1216152.65562658,\n",
       "       1114774.40354011, 1001067.89613668, 1065269.68436436,\n",
       "       1625179.02290147, 1593962.78450219, 1526221.35988258,\n",
       "       1129983.7733289 ,  735887.82286947, 1593872.80909074,\n",
       "       1732256.512932  , 1264953.46131034, 1216712.64382586,\n",
       "       1539828.39332793, 1748273.31154007,  544482.7116165 ,\n",
       "       1177808.65915496, 1404019.93663772, 1125393.51909426,\n",
       "        545088.45128039, 1290749.88927799, 1658361.89913343,\n",
       "       1487203.28008246, 1291143.03838428, 2050455.16760487,\n",
       "        768874.19747942, 1863631.84714419,  929819.1776411 ,\n",
       "       1761083.62018238, 1659001.7508367 , 1247438.96208988,\n",
       "        713427.40837866, 1778756.53025782,  461932.4961174 ,\n",
       "       2167306.95873267,  664672.42431929, 1801836.62367735,\n",
       "       1265099.18805368, 1139217.30086013, 1173989.48300958,\n",
       "       1748192.41949273, 1147793.31302196, 1029923.90766742,\n",
       "        947126.10538086, 1182469.49434718,  927601.20005207,\n",
       "       1566514.6168574 , 1175827.55938911,  388087.5480148 ,\n",
       "       1288959.37006155,  986658.19197291, 1340019.64945833,\n",
       "       1044418.8454109 , 1286342.56336185, 1531000.55785367,\n",
       "       1667768.88543345, 1084796.51405691,  720967.43062553,\n",
       "        811997.72885678, 1328871.66384419, 1519499.84416136,\n",
       "       1379415.47205365, 1457746.58240929,  998979.7397246 ,\n",
       "       2252173.82126787, 1491966.70905194, 1349013.08643536,\n",
       "       1042666.25727798,  486559.46844396, 1792549.96363365,\n",
       "       1193458.84754759, 1247203.26503457, 1122698.47045892,\n",
       "       1004013.2801844 , 1699121.458163  , 1504252.14207274,\n",
       "       1432835.58985638, 1342786.68025942, 1601414.77106588,\n",
       "        821506.76488333, 1126578.53904205, 1291476.44544071,\n",
       "       1698968.44222494, 1232602.93325317, 1489643.67510287,\n",
       "       1233262.35005555, 1135048.11749452, 1732127.82573492,\n",
       "       1348162.21747027,  621085.06641216, 1501389.10755781,\n",
       "       1201749.81984393, 1326727.70232237, 1097551.72695622,\n",
       "       1221290.66261422,  788262.02543881,  935562.28249792,\n",
       "       1287412.17867094, 1473888.67757759,  609893.86640502,\n",
       "       1183181.37838122, 1035484.44410105,  809285.45806938,\n",
       "        655567.08949324,  983743.80081315,  986631.41757965,\n",
       "       1320596.67974115, 1196954.70045297,  961010.9197037 ,\n",
       "       1275847.42178952, 1425242.66569545, 1654320.54624645,\n",
       "       1521722.43867609, 1396978.62698709, 1413827.92718159,\n",
       "       1219885.02000691, 1232374.59901518, 1654016.6338654 ,\n",
       "       1328324.05157965, 1321091.57152382, 1299216.74514684,\n",
       "       1347305.90163784, 1688687.80000856, 1574519.36949693,\n",
       "       1045335.69889281, 1356261.70016953, 1439514.97152501,\n",
       "       1504156.15649866, 1138145.82597034, 1500051.72294341,\n",
       "       1486912.30437995,  385027.92485996, 1216217.42146599,\n",
       "       1726329.91434918, 1207805.98489521,  894601.19092623,\n",
       "       1240643.83179285, 1308440.22054391, 1437359.37891255,\n",
       "        893239.6816687 , 1792787.36750136, 2076933.42343298,\n",
       "        922567.65701978, 1458351.25849101, 1249772.50297778,\n",
       "       1370805.23907779, 1121245.98909361,  963231.49570943,\n",
       "       1327241.12918487, 1187327.23418151,  943716.62278246,\n",
       "        424854.57298675, 1223724.58352513, 1411756.82716379,\n",
       "       1236002.32151798, 1449021.08576001, 1411706.42320675,\n",
       "        926881.67780973, 1006631.71873007, 1325140.65527614,\n",
       "        470014.10664421, 1568408.54620669, 1071690.67501271,\n",
       "       1261709.43785537,  983184.15258549, 1086377.76905145,\n",
       "        726363.60820775,  814172.12713781,  803025.54888481,\n",
       "       1619615.99437125,  459335.1366362 , 1300390.90011251,\n",
       "        961516.33244582, 1025131.04020143, 1384778.89206911,\n",
       "       1235853.6636986 ,  769788.89201937, 1026166.69741535,\n",
       "       1405638.84930899, 1756291.11652804, 1280487.11746939,\n",
       "        622591.98844795, 1449923.84156157, 1198418.94698591,\n",
       "       1356968.16583373, 1079271.72703224, 1352329.77296904,\n",
       "       1057107.45852888, 1290462.77150213,  705163.48550143,\n",
       "       1200364.66997073, 1507695.00401124,  962337.84598504,\n",
       "       1204232.84729754, 1571860.58065076, 1209464.73857384,\n",
       "       1549865.08072301,  769645.60725032, 1404674.43922861,\n",
       "       1240637.52783346, 1029500.080016  , 1335457.58612472,\n",
       "       1088594.03736502, 1047144.04180909, 1388984.12610591,\n",
       "        918924.0160505 , 1096407.50174596, 1406966.35948352,\n",
       "        806952.29876924, 1196187.41426745, 1010141.32136387,\n",
       "       1394711.98478671, 1257521.42006913, 1299693.11290885,\n",
       "       1294970.9428875 , 1723105.21964978, 1711247.39032017,\n",
       "       1174489.95194178,  897740.7411008 , 1356640.83884511,\n",
       "       1219851.03447608, 1366674.22214344, 1644472.14734961,\n",
       "        724989.37808678, 1570999.00692573,  924989.3629067 ,\n",
       "        673283.26497668, 1589694.7064867 , 1373578.191451  ,\n",
       "       1236758.80570283, 1939038.5944139 , 1248340.03854151,\n",
       "       1393184.15037955, 1703469.17720891, 1059230.86749246,\n",
       "       1268676.36389753, 1304697.18785126,  892460.12277115,\n",
       "        964864.99058499,  818820.07759942, 1401580.54747611,\n",
       "       1180874.94215976, 1259247.43803591, 1702902.04493212,\n",
       "       1649087.11983957, 1731289.88335348, 1125719.05993076,\n",
       "        865172.86237616,  968232.22605794,  784711.55849769,\n",
       "        781822.82332169, 1209737.47415573,  972635.23672595,\n",
       "       1576919.83616695, 1060076.42506713,  694196.84219451,\n",
       "       1610587.67993026, 1309658.61630397, 1141463.96987412,\n",
       "       1205906.98599986, 1281336.18444202, 1171886.92407685,\n",
       "       1567896.45068229, 1322659.49232211, 1166515.84227933,\n",
       "        789697.3883071 , 1143720.96771711,  648247.70636865,\n",
       "       1071126.44204641, 1428574.57982158, 1424322.83234084,\n",
       "       1057501.45875364, 1430509.55156469, 1324079.70373624,\n",
       "       1292014.89736633, 1071126.32745123, 1287175.72484579,\n",
       "       1019167.68338671, 1037478.15143998, 1049936.76364929,\n",
       "        731789.18467474,  782568.77309977, 1002203.86002292,\n",
       "       1067321.67597074, 1124201.97076035, 1457954.83235619,\n",
       "       1108354.56185649, 1598770.0790141 , 1176022.8557993 ,\n",
       "       1096986.73368016, 1247383.41805666, 1363559.48178172,\n",
       "        773372.64579653,  822330.64613229,  993393.81206808,\n",
       "       1543915.09520886, 1493186.91902698, 1175891.67528418,\n",
       "       1253692.12639576, 1521005.7668647 , 1627802.51180477,\n",
       "       1686082.39992538, 1980124.37797509,  977460.80106582,\n",
       "       1109687.22060459, 1113007.40549505, 1211544.64900677,\n",
       "       1407486.32673228,  789313.25630096, 1234898.66189967,\n",
       "       1209078.69432805, 1803383.95080046, 2114888.79328758,\n",
       "       1118853.92157738, 1206707.38468575, 1352852.99343918,\n",
       "       1396175.67664054, 1546374.75741952,  666842.59065989,\n",
       "       1481420.71952322, 1021477.45518557,  968486.88335857,\n",
       "       1424082.26366331, 1914787.24107153,  914204.87835356,\n",
       "       1489860.90731122,  693922.34630681, 1031062.51065993,\n",
       "       1352126.03254335, 1373512.52703589, 1049109.83383344,\n",
       "       1486525.47762769, 1310520.395959  , 1647941.9931186 ,\n",
       "       1283575.2405586 , 1452989.07762646, 1429414.83148144,\n",
       "       1034083.03488037, 1134634.51460329, 1403564.88673514,\n",
       "       1584896.61276078, 1746823.45559169, 1466283.25973611,\n",
       "       1294745.41392545, 1051682.47255808, 1101548.76032234,\n",
       "       1465167.00089535, 1382725.06572448,  939224.93035358,\n",
       "       1337350.76799395, 1120979.5949805 , 1319831.03770852,\n",
       "        558962.93258731, 1401611.09978705, 1354544.07306021,\n",
       "       1306334.89969639, 2086259.1709201 , 1904134.11165538,\n",
       "        539895.35619527, 1525528.05146317, 1235213.44650031,\n",
       "        750639.88255382, 1127965.98258831, 1471490.85051141,\n",
       "        619419.48787409, 1114997.61194405, 1061464.69123062,\n",
       "       1013604.11379727, 1581434.85227402, 1079499.50514177,\n",
       "       1055056.29175868, 1034589.95466526, 1224314.04495441,\n",
       "        887268.18862751, 1516254.20491774, 1865327.56742207,\n",
       "       1027371.06429436, 1490055.38180712, 1337289.95134345,\n",
       "       1119421.33157709,  979092.31019062,  679557.25776095,\n",
       "       1325905.50178095, 1171590.73226993, 1567491.12331949,\n",
       "       1143856.1916678 , 1126148.6441649 ,  864154.38857824,\n",
       "        490147.41546328, 1291071.27278512, 1038384.50618605,\n",
       "       1662679.55956739, 1160624.90934377, 2037284.10126651,\n",
       "       1516262.8932747 , 1229075.23311264, 1547218.08935961,\n",
       "       1434753.65392652, 1709132.86008374, 1281184.09975518,\n",
       "       1524044.07660809,  968015.40091304, 1293671.18547091,\n",
       "       1106474.84699344, 1431104.22750489, 1712068.30269068,\n",
       "       1160254.525011  ,  655742.41586139, 1226710.98389832,\n",
       "        927585.91056686, 1267635.28046126,  891680.82011575,\n",
       "       1234379.98343492,  921258.67102359,  973622.38506841,\n",
       "       1211118.49159504, 1152861.17191027, 1769241.04652312,\n",
       "       1185559.02437247,  982633.08890845, 1332532.61460762,\n",
       "       1642473.93936996,  965382.57146925, 1281975.93146427,\n",
       "       1406343.90582019,  677673.85740124, 1209557.69139082,\n",
       "        732921.10636371, 1682132.45242378,  872620.43651359,\n",
       "       1136143.09175228,  510258.75506176, 1288102.88621592,\n",
       "       1371033.33463936, 1310113.78224341, 1436855.3124118 ,\n",
       "       1051232.72974602,  684828.48739319, 1101019.83617955,\n",
       "       1567983.5129489 , 1018012.6821631 , 1050698.11270264,\n",
       "        825827.00943831, 1173621.66011305, 1591981.75730177,\n",
       "       1595728.9914928 , 1360891.37529096, 1192754.82897989,\n",
       "        655836.47938465, 1560112.78530447,  813169.25379903,\n",
       "       1132145.75967389, 1564590.92451782, 1118669.76459821,\n",
       "       1569760.45331562, 1383018.3313705 , 1609536.23008603,\n",
       "       1045549.71074358, 1174361.92171496, 1447869.79959208,\n",
       "       1824783.76109705, 1639844.91468785, 1488884.78527549,\n",
       "       1427514.92585401, 1231681.33305854, 1368014.03189646,\n",
       "       1424922.73584783, 1551131.49668389,  914701.22781688,\n",
       "       1249841.22219094,  258045.70919502, 1230968.70157305,\n",
       "       1126752.12639155,  858783.44109483,  739043.62099859,\n",
       "       1044214.90471307, 1112387.60767863, 1223250.56468715,\n",
       "       1447909.23403633, 1328619.03653293, 1049307.01433403,\n",
       "        769590.672671  , 1751850.8883347 , 1463027.89759092,\n",
       "       2139919.10952315, 1718412.13713037, 1115993.45943525,\n",
       "       1995828.29499036, 1193379.31596023,  660188.56028329,\n",
       "        660678.46196094, 1798655.5503712 ,  470131.44658328,\n",
       "       1364102.16506281,  889323.70683908,  706548.24954177,\n",
       "       1399891.22458728, 1416306.27235871,  967240.3261329 ,\n",
       "       1729652.56536683,  869958.83238847, 1437817.09450812,\n",
       "       1122484.53203985, 1673255.03691765, 1440039.59230988,\n",
       "       1500539.40538994,  971584.27416925, 1043184.93567322,\n",
       "       1317543.16932975, 1007627.13026025, 1323354.40365531,\n",
       "       1135667.17490206, 1510351.76679843,  993056.44789451,\n",
       "       1208831.65832729, 1988655.64291126, 1230200.72390602,\n",
       "       1390403.7227665 , 1262914.99801445, 1582327.50953628,\n",
       "       1028414.83031282, 1672107.67442153, 1265752.82959188,\n",
       "       1236601.4330695 ,  329710.11232855,  717954.11280875,\n",
       "       1103733.13974501, 1188712.8982572 , 1261796.72795392,\n",
       "       1193848.82152227, 1303384.58750897, 1076900.53575828,\n",
       "       1169750.68418015, 1458470.38909864, 1190650.84525938,\n",
       "       1360612.20338315, 1497401.76740674,  916161.01831792,\n",
       "       1311284.98583231, 1579839.09403369, 1155915.54541585,\n",
       "       1425748.49376125, 1287287.54555759, 1153862.22489226,\n",
       "       1825980.94614807, 1049734.15221282,  909542.4747019 ,\n",
       "       1253936.42188571, 1467206.44416934, 1639991.73405574,\n",
       "       1521767.77491757, 1019769.2038237 ,  652300.40469396,\n",
       "        643377.65271608, 1142025.91271089, 1263237.98299637,\n",
       "       1258087.1181922 ,  589606.05536889, 1187007.1645645 ,\n",
       "       1121740.50402049, 1808959.71031404, 1800055.63690862,\n",
       "       1123524.63673949, 1425287.86106954, 1510529.71215093,\n",
       "       1323072.46306192, 1443101.2262092 , 1296655.19033898,\n",
       "       1551943.68696701, 1237292.00298139,  665445.4948569 ,\n",
       "       1262709.17153438, 1048886.41492119, 1867303.54970987,\n",
       "       1562894.27357002,  731321.70170494, 1239100.56464209,\n",
       "        909236.28293362, 1752100.4228616 , 1602831.78580391,\n",
       "       1504851.06631703, 1411568.94781546, 1394422.38818576,\n",
       "        370722.62126879, 1672311.97769414, 2120154.65355491,\n",
       "        421201.54386695, 1486648.1916993 , 1200115.30671939,\n",
       "       1531544.96637826, 1031782.76469186,  842914.91778092,\n",
       "        838950.40676537,  596819.74942471,  855574.21947013,\n",
       "       1040351.51174884, 1499196.3943261 , 1353188.18645252,\n",
       "       1167128.79448673,  980462.42074907, 1615652.70345447,\n",
       "       1192255.12726468, 1280277.40202391,  542769.58059214,\n",
       "       1121564.11390496, 1430520.80041342, 1187720.59708725,\n",
       "       1293444.79096478, 1344677.83092678, 1183418.13056164,\n",
       "       1508087.09800656, 1265155.24508896, 1342605.87097178,\n",
       "       1277584.98121775,  733241.48650822, 1553389.38956841,\n",
       "       1398171.05353062, 1187021.49985545, 1371024.29006941,\n",
       "       1108983.89166003,  975275.643677  , 1202021.72545548,\n",
       "       1933557.66279022,  753137.60441104,  972296.00805762,\n",
       "       1448918.48607918, 1859400.9727867 ,  914399.57695675,\n",
       "       1004535.08620298,  924307.91932906,  964217.30193321,\n",
       "       1220872.72352639, 1266519.75438384, 1619407.66363033,\n",
       "       1582521.89907631,  764723.6415234 , 1739052.84078002,\n",
       "       1593274.88965408, 1677324.99055393,  982954.91497658,\n",
       "       1370603.38372474,  906582.8568568 , 1631028.42785834,\n",
       "        690988.17276997, 1573202.07842787, 1466498.8806214 ,\n",
       "       1650267.0484558 , 1182468.07831994, 1173494.86869978,\n",
       "       1333497.96024403, 1256991.4637588 , 1859915.69316242,\n",
       "        758934.1049994 , 1392542.74052297, 1711869.49819376,\n",
       "       1561607.58741326,  886776.00191122, 1312020.95776131,\n",
       "       1174661.91515472, 1071955.83874377, 1381315.05056435,\n",
       "       1106592.4501098 , 1170614.82399644,  992963.00044652,\n",
       "       1471298.27839524, 1531571.13792555, 1609332.5414591 ,\n",
       "       1374687.26168952,  963514.8883381 , 1516653.6399768 ,\n",
       "       1161808.9337438 ,  874674.3630556 , 1168468.71316324,\n",
       "        608242.40551369, 1499895.89008411, 1020508.80251935,\n",
       "       1657914.8618016 ,  870372.42975708, 1469286.71372893,\n",
       "       1585005.10990058, 2474725.66527183, 1312108.9754553 ,\n",
       "        927776.12992532, 1291387.28478137, 1591848.64102578,\n",
       "        601180.27473416, 1595036.52624192, 1186556.5830517 ,\n",
       "       1569918.89962038,  775297.74281763, 1498585.74619855,\n",
       "        731227.25771125, 1504692.54832433, 1046686.00738147,\n",
       "       1305402.58575888, 1275949.48895667,  997331.42657929,\n",
       "        617836.40659073, 1591112.86332969, 1400763.16673465,\n",
       "       1311860.51933211, 1197044.05948892, 1041880.02840117,\n",
       "       1530068.19561836,  967934.24578167, 1427009.14149175,\n",
       "       1165147.25822176,  869045.49036542, 1541101.84334579,\n",
       "        952854.45148409, 1649273.5193357 , 1262902.39001211,\n",
       "        630780.85419621,  576868.98552469, 1709538.25511129,\n",
       "       1627857.63000977,  838666.12045417,  878776.97048188,\n",
       "       1299345.44781369, 1160416.62138426,  749980.452074  ,\n",
       "        983974.19311228, 1153309.90526992,  943191.01927423,\n",
       "       1123570.59504228, 1547446.72609465, 1298891.03780585,\n",
       "        694670.38901358, 1042411.7239971 ,  858369.88200379,\n",
       "       1238168.96478324, 1069914.16183725, 1032803.77343619,\n",
       "       1215816.4019039 , 1344361.73315605, 1128683.07322058,\n",
       "       1451580.234031  , 1094467.12735961, 1242819.75475178,\n",
       "       1312634.56732398, 1501591.70729102, 1577868.55728489,\n",
       "       1263870.34957585,  966363.73113401, 1304929.99505727,\n",
       "        948730.96917376, 1116943.5196458 , 1177297.49011037,\n",
       "        988220.39094904, 1035263.71039914, 1114925.57767818,\n",
       "       1691529.13991524,  493943.88206235, 1819479.31451055,\n",
       "       1387271.64234129,  632696.71378532, 1224357.78570427,\n",
       "       1180743.31764254, 1036241.70518269,  921234.34851312,\n",
       "       1754054.11179498, 1583328.0618723 , 1563758.96394322,\n",
       "       1342866.59984789, 1173594.23690929, 1042902.57541101,\n",
       "       1318531.80156902, 1870001.48200105, 1663623.85817637,\n",
       "       1045096.55057759])"
      ]
     },
     "execution_count": 37,
     "metadata": {},
     "output_type": "execute_result"
    }
   ],
   "source": [
    "predictions = lm.predict(X_test)\n",
    "predictions"
   ]
  },
  {
   "cell_type": "code",
   "execution_count": 38,
   "metadata": {},
   "outputs": [
    {
     "data": {
      "image/png": "[encoded data removed]",
      "text/plain": [
       "<Figure size 640x480 with 1 Axes>"
      ]
     },
     "metadata": {},
     "output_type": "display_data"
    }
   ],
   "source": [
    "sns.scatterplot(x=predictions,y=y_test);\n",
    "plt.plot([0,2.5e6],[0,2.5e6],'red')\n",
    "plt.show()"
   ]
  },
  {
   "cell_type": "markdown",
   "metadata": {},
   "source": [
    "No parece un mal modelo, pero para poder evaluarlo correctamente usemos las métricas de error, comparando train error con test error\n"
   ]
  },
  {
   "cell_type": "markdown",
   "metadata": {},
   "source": [
    "### Evaluación a partir de las Métricas de error"
   ]
  },
  {
   "cell_type": "markdown",
   "metadata": {},
   "source": [
    "- **MAE** (Mean Absolute Error): es el error medio (la más fácil de entender)\n",
    "- **MSE** (Mean Squared Error): es más popular que el MAE ya que penaliza errores grandes\n",
    "- **RMSE** (Root Mean Squared Error): es todavía más popular que el MSE porque está en las mismas unidades que la variable objetivo $y$\n",
    "- **$R^2$** (Coeficiente de determinación): proporción de la varianza total de la variable objetivo explicada por la regresión"
   ]
  },
  {
   "cell_type": "code",
   "execution_count": null,
   "metadata": {},
   "outputs": [],
   "source": [
    "from sklearn import metrics"
   ]
  },
  {
   "cell_type": "markdown",
   "metadata": {},
   "source": [
    "### Train error"
   ]
  },
  {
   "cell_type": "code",
   "execution_count": 40,
   "metadata": {},
   "outputs": [
    {
     "name": "stdout",
     "output_type": "stream",
     "text": [
      "MAE train 81509.39331244404\n",
      "MSE train 10256318867.482723\n",
      "RMSE train 101273.48551068401\n",
      "R2 train 0.9179787435623722\n"
     ]
    }
   ],
   "source": [
    "pred_train = lm.predict(X_train)\n",
    "print('MAE train', metrics.mean_absolute_error(y_train, pred_train))\n",
    "print('MSE train', metrics.mean_squared_error(y_train, pred_train))\n",
    "print('RMSE train', np.sqrt(metrics.mean_squared_error(y_train, pred_train)))\n",
    "print('R2 train', lm.score(X_train,y_train))"
   ]
  },
  {
   "cell_type": "markdown",
   "metadata": {},
   "source": [
    "### Test Error"
   ]
  },
  {
   "cell_type": "code",
   "execution_count": 41,
   "metadata": {},
   "outputs": [
    {
     "name": "stdout",
     "output_type": "stream",
     "text": [
      "MAE test 80879.09723489822\n",
      "MSE test 10089009300.894522\n",
      "RMSE test 100444.06055558746\n",
      "R2 test 0.9179971706834288\n"
     ]
    }
   ],
   "source": [
    "print('MAE test', metrics.mean_absolute_error(y_test, predictions))\n",
    "print('MSE test', metrics.mean_squared_error(y_test, predictions))\n",
    "print('RMSE test', np.sqrt(metrics.mean_squared_error(y_test, predictions)))\n",
    "print('R2 test', lm.score(X_test,y_test))"
   ]
  },
  {
   "cell_type": "markdown",
   "metadata": {},
   "source": [
    "## Importancia de variables "
   ]
  },
  {
   "cell_type": "markdown",
   "metadata": {},
   "source": [
    "Recordemos los coeficientes:"
   ]
  },
  {
   "cell_type": "code",
   "execution_count": 43,
   "metadata": {},
   "outputs": [
    {
     "data": {
      "text/html": [
       "<div>\n",
       "<style scoped>\n",
       "    .dataframe tbody tr th:only-of-type {\n",
       "        vertical-align: middle;\n",
       "    }\n",
       "\n",
       "    .dataframe tbody tr th {\n",
       "        vertical-align: top;\n",
       "    }\n",
       "\n",
       "    .dataframe thead th {\n",
       "        text-align: right;\n",
       "    }\n",
       "</style>\n",
       "<table border=\"1\" class=\"dataframe\">\n",
       "  <thead>\n",
       "    <tr style=\"text-align: right;\">\n",
       "      <th></th>\n",
       "      <th>Coefficient</th>\n",
       "    </tr>\n",
       "  </thead>\n",
       "  <tbody>\n",
       "    <tr>\n",
       "      <th>Avg. Area House Age</th>\n",
       "      <td>164666.480722</td>\n",
       "    </tr>\n",
       "    <tr>\n",
       "      <th>Avg. Area Number of Rooms</th>\n",
       "      <td>119624.012232</td>\n",
       "    </tr>\n",
       "    <tr>\n",
       "      <th>Avg. Area Number of Bedrooms</th>\n",
       "      <td>2440.377611</td>\n",
       "    </tr>\n",
       "    <tr>\n",
       "      <th>Avg. Area Income</th>\n",
       "      <td>21.652206</td>\n",
       "    </tr>\n",
       "    <tr>\n",
       "      <th>Area Population</th>\n",
       "      <td>15.270313</td>\n",
       "    </tr>\n",
       "  </tbody>\n",
       "</table>\n",
       "</div>"
      ],
      "text/plain": [
       "                                Coefficient\n",
       "Avg. Area House Age           164666.480722\n",
       "Avg. Area Number of Rooms     119624.012232\n",
       "Avg. Area Number of Bedrooms    2440.377611\n",
       "Avg. Area Income                  21.652206\n",
       "Area Population                   15.270313"
      ]
     },
     "execution_count": 43,
     "metadata": {},
     "output_type": "execute_result"
    }
   ],
   "source": [
    "coef_df.sort_values('Coefficient', ascending=False)"
   ]
  },
  {
   "cell_type": "markdown",
   "metadata": {},
   "source": [
    "Una habitación extra incrementa el precio (y) en 2440 dólares, y un dolar extra en area income \n",
    "incrementa el precio en 21 dólares. Esto es el significado de los coeficientes, pero no quiere decir\n",
    "que el número de habitaciones sea más importante/relevante que el area income  \n",
    "\n",
    "Para conocer la importancia de variables tenemos que **estandarizar** los datos antes de entrenar el modelo"
   ]
  },
  {
   "cell_type": "code",
   "execution_count": 46,
   "metadata": {},
   "outputs": [],
   "source": [
    "from sklearn.preprocessing import StandardScaler\n",
    "\n",
    "scaler = StandardScaler()\n",
    "scaler.fit(X_train)\n",
    "\n",
    "X_train_scaled = scaler.transform(X_train)"
   ]
  },
  {
   "cell_type": "code",
   "execution_count": 47,
   "metadata": {},
   "outputs": [
    {
     "data": {
      "text/plain": [
       "array([[-0.19049241, -0.12817719, -0.13160635,  0.12038585, -0.82761782],\n",
       "       [-1.38876401,  0.43080443,  0.80028487, -0.55648895,  1.15829878],\n",
       "       [-0.35012392,  0.46680752,  1.70375078,  0.03067955, -0.31904298],\n",
       "       ...,\n",
       "       [-0.22335061,  0.53809182, -0.36489661, -0.68697084,  0.11908894],\n",
       "       [-0.92417067,  1.43077434,  2.26846315,  0.2753331 ,  1.39018355],\n",
       "       [-0.69357335, -0.07762332,  0.89219611,  1.67801341, -0.00681852]])"
      ]
     },
     "execution_count": 47,
     "metadata": {},
     "output_type": "execute_result"
    }
   ],
   "source": [
    "X_train_scaled"
   ]
  },
  {
   "cell_type": "code",
   "execution_count": 48,
   "metadata": {},
   "outputs": [
    {
     "data": {
      "text/html": [
       "<style>#sk-container-id-2 {color: black;}#sk-container-id-2 pre{padding: 0;}#sk-container-id-2 div.sk-toggleable {background-color: white;}#sk-container-id-2 label.sk-toggleable__label {cursor: pointer;display: block;width: 100%;margin-bottom: 0;padding: 0.3em;box-sizing: border-box;text-align: center;}#sk-container-id-2 label.sk-toggleable__label-arrow:before {content: \"▸\";float: left;margin-right: 0.25em;color: #696969;}#sk-container-id-2 label.sk-toggleable__label-arrow:hover:before {color: black;}#sk-container-id-2 div.sk-estimator:hover label.sk-toggleable__label-arrow:before {color: black;}#sk-container-id-2 div.sk-toggleable__content {max-height: 0;max-width: 0;overflow: hidden;text-align: left;background-color: #f0f8ff;}#sk-container-id-2 div.sk-toggleable__content pre {margin: 0.2em;color: black;border-radius: 0.25em;background-color: #f0f8ff;}#sk-container-id-2 input.sk-toggleable__control:checked~div.sk-toggleable__content {max-height: 200px;max-width: 100%;overflow: auto;}#sk-container-id-2 input.sk-toggleable__control:checked~label.sk-toggleable__label-arrow:before {content: \"▾\";}#sk-container-id-2 div.sk-estimator input.sk-toggleable__control:checked~label.sk-toggleable__label {background-color: #d4ebff;}#sk-container-id-2 div.sk-label input.sk-toggleable__control:checked~label.sk-toggleable__label {background-color: #d4ebff;}#sk-container-id-2 input.sk-hidden--visually {border: 0;clip: rect(1px 1px 1px 1px);clip: rect(1px, 1px, 1px, 1px);height: 1px;margin: -1px;overflow: hidden;padding: 0;position: absolute;width: 1px;}#sk-container-id-2 div.sk-estimator {font-family: monospace;background-color: #f0f8ff;border: 1px dotted black;border-radius: 0.25em;box-sizing: border-box;margin-bottom: 0.5em;}#sk-container-id-2 div.sk-estimator:hover {background-color: #d4ebff;}#sk-container-id-2 div.sk-parallel-item::after {content: \"\";width: 100%;border-bottom: 1px solid gray;flex-grow: 1;}#sk-container-id-2 div.sk-label:hover label.sk-toggleable__label {background-color: #d4ebff;}#sk-container-id-2 div.sk-serial::before {content: \"\";position: absolute;border-left: 1px solid gray;box-sizing: border-box;top: 0;bottom: 0;left: 50%;z-index: 0;}#sk-container-id-2 div.sk-serial {display: flex;flex-direction: column;align-items: center;background-color: white;padding-right: 0.2em;padding-left: 0.2em;position: relative;}#sk-container-id-2 div.sk-item {position: relative;z-index: 1;}#sk-container-id-2 div.sk-parallel {display: flex;align-items: stretch;justify-content: center;background-color: white;position: relative;}#sk-container-id-2 div.sk-item::before, #sk-container-id-2 div.sk-parallel-item::before {content: \"\";position: absolute;border-left: 1px solid gray;box-sizing: border-box;top: 0;bottom: 0;left: 50%;z-index: -1;}#sk-container-id-2 div.sk-parallel-item {display: flex;flex-direction: column;z-index: 1;position: relative;background-color: white;}#sk-container-id-2 div.sk-parallel-item:first-child::after {align-self: flex-end;width: 50%;}#sk-container-id-2 div.sk-parallel-item:last-child::after {align-self: flex-start;width: 50%;}#sk-container-id-2 div.sk-parallel-item:only-child::after {width: 0;}#sk-container-id-2 div.sk-dashed-wrapped {border: 1px dashed gray;margin: 0 0.4em 0.5em 0.4em;box-sizing: border-box;padding-bottom: 0.4em;background-color: white;}#sk-container-id-2 div.sk-label label {font-family: monospace;font-weight: bold;display: inline-block;line-height: 1.2em;}#sk-container-id-2 div.sk-label-container {text-align: center;}#sk-container-id-2 div.sk-container {/* jupyter's `normalize.less` sets `[hidden] { display: none; }` but bootstrap.min.css set `[hidden] { display: none !important; }` so we also need the `!important` here to be able to override the default hidden behavior on the sphinx rendered scikit-learn.org. See: https://github.com/scikit-learn/scikit-learn/issues/21755 */display: inline-block !important;position: relative;}#sk-container-id-2 div.sk-text-repr-fallback {display: none;}</style><div id=\"sk-container-id-2\" class=\"sk-top-container\"><div class=\"sk-text-repr-fallback\"><pre>LinearRegression()</pre><b>In a Jupyter environment, please rerun this cell to show the HTML representation or trust the notebook. <br />On GitHub, the HTML representation is unable to render, please try loading this page with nbviewer.org.</b></div><div class=\"sk-container\" hidden><div class=\"sk-item\"><div class=\"sk-estimator sk-toggleable\"><input class=\"sk-toggleable__control sk-hidden--visually\" id=\"sk-estimator-id-2\" type=\"checkbox\" checked><label for=\"sk-estimator-id-2\" class=\"sk-toggleable__label sk-toggleable__label-arrow\">LinearRegression</label><div class=\"sk-toggleable__content\"><pre>LinearRegression()</pre></div></div></div></div></div>"
      ],
      "text/plain": [
       "LinearRegression()"
      ]
     },
     "execution_count": 48,
     "metadata": {},
     "output_type": "execute_result"
    }
   ],
   "source": [
    "lm_scaled = LinearRegression()\n",
    "lm_scaled.fit(X_train_scaled, y_train)"
   ]
  },
  {
   "cell_type": "code",
   "execution_count": 49,
   "metadata": {},
   "outputs": [
    {
     "data": {
      "text/html": [
       "<div>\n",
       "<style scoped>\n",
       "    .dataframe tbody tr th:only-of-type {\n",
       "        vertical-align: middle;\n",
       "    }\n",
       "\n",
       "    .dataframe tbody tr th {\n",
       "        vertical-align: top;\n",
       "    }\n",
       "\n",
       "    .dataframe thead th {\n",
       "        text-align: right;\n",
       "    }\n",
       "</style>\n",
       "<table border=\"1\" class=\"dataframe\">\n",
       "  <thead>\n",
       "    <tr style=\"text-align: right;\">\n",
       "      <th></th>\n",
       "      <th>importance_standarized</th>\n",
       "    </tr>\n",
       "  </thead>\n",
       "  <tbody>\n",
       "    <tr>\n",
       "      <th>Avg. Area Income</th>\n",
       "      <td>231741.876652</td>\n",
       "    </tr>\n",
       "    <tr>\n",
       "      <th>Avg. Area House Age</th>\n",
       "      <td>163580.776566</td>\n",
       "    </tr>\n",
       "    <tr>\n",
       "      <th>Area Population</th>\n",
       "      <td>152235.900097</td>\n",
       "    </tr>\n",
       "    <tr>\n",
       "      <th>Avg. Area Number of Rooms</th>\n",
       "      <td>120724.771387</td>\n",
       "    </tr>\n",
       "    <tr>\n",
       "      <th>Avg. Area Number of Bedrooms</th>\n",
       "      <td>2992.449135</td>\n",
       "    </tr>\n",
       "  </tbody>\n",
       "</table>\n",
       "</div>"
      ],
      "text/plain": [
       "                              importance_standarized\n",
       "Avg. Area Income                       231741.876652\n",
       "Avg. Area House Age                    163580.776566\n",
       "Area Population                        152235.900097\n",
       "Avg. Area Number of Rooms              120724.771387\n",
       "Avg. Area Number of Bedrooms             2992.449135"
      ]
     },
     "execution_count": 49,
     "metadata": {},
     "output_type": "execute_result"
    }
   ],
   "source": [
    "feat_coef = pd.DataFrame(lm_scaled.coef_,\n",
    "                        X_train.columns, \n",
    "                        columns=['importance_standarized']).sort_values('importance_standarized',\n",
    "                                                                       ascending=False)\n",
    "feat_coef"
   ]
  },
  {
   "cell_type": "code",
   "execution_count": 50,
   "metadata": {},
   "outputs": [
    {
     "data": {
      "image/png": "[encoded data removed]",
      "text/plain": [
       "<Figure size 640x480 with 1 Axes>"
      ]
     },
     "metadata": {},
     "output_type": "display_data"
    }
   ],
   "source": [
    "features = feat_coef.sort_values('importance_standarized')\n",
    "plt.barh(features.index,features.importance_standarized)\n",
    "plt.show()"
   ]
  },
  {
   "cell_type": "markdown",
   "metadata": {},
   "source": [
    "Si lo comparamos con las correlaciones que obtuvimos en el EDA veras que hay una relación directa, pero no necesariamente \"lineal\". "
   ]
  },
  {
   "cell_type": "markdown",
   "metadata": {},
   "source": [
    "## Eliminar variables poco importantes"
   ]
  },
  {
   "cell_type": "markdown",
   "metadata": {},
   "source": [
    "Para terminar, eliminemos las variables cuya importancia es mínima y veamos como afecta a las métricas del modelo (observa también que rápido es volver a crear un modelo y por lo tanto jugar con él)"
   ]
  },
  {
   "cell_type": "code",
   "execution_count": 51,
   "metadata": {},
   "outputs": [
    {
     "data": {
      "text/plain": [
       "Index(['Avg. Area Income', 'Avg. Area House Age', 'Avg. Area Number of Rooms',\n",
       "       'Avg. Area Number of Bedrooms', 'Area Population', 'Price', 'Address'],\n",
       "      dtype='object')"
      ]
     },
     "execution_count": 51,
     "metadata": {},
     "output_type": "execute_result"
    }
   ],
   "source": [
    "USA_Housing.columns"
   ]
  },
  {
   "cell_type": "code",
   "execution_count": 52,
   "metadata": {},
   "outputs": [
    {
     "name": "stdout",
     "output_type": "stream",
     "text": [
      "MAE test 80857.78944046369\n",
      "MSE test 10073721633.872656\n",
      "RMSE test 100367.93130214777\n",
      "R2 test 0.9181214278738083\n"
     ]
    }
   ],
   "source": [
    "X_train.drop(columns='Avg. Area Number of Bedrooms',inplace=True)\n",
    "X_test.drop(columns='Avg. Area Number of Bedrooms',inplace=True)\n",
    "\n",
    "lm2 = LinearRegression()\n",
    "lm2.fit(X_train,y_train)\n",
    "\n",
    "pred2 = lm2.predict(X_test)\n",
    "\n",
    "print('MAE test', metrics.mean_absolute_error(y_test, pred2))\n",
    "print('MSE test', metrics.mean_squared_error(y_test, pred2))\n",
    "print('RMSE test', np.sqrt(metrics.mean_squared_error(y_test, pred2)))\n",
    "print('R2 test', lm2.score(X_test,y_test))"
   ]
  },
  {
   "cell_type": "markdown",
   "metadata": {},
   "source": [
    "No hay apenas diferencia y además ganamos en velocidad y simplificamos. En general, no siempre, querremos utilizar el menor número de features posible."
   ]
  },
  {
   "cell_type": "markdown",
   "metadata": {},
   "source": [
    "## Regularización\n",
    "\n",
    "La regularización es el proceso de \"penalizar\" un modelo o utilizar un modelo más sencillo al que inicialmente habíamos apuntado con la intención de conseguir que generalice mejor (es decir que la diferencia entre error de train y test sea reduzca aunque ambos errores sean grandes). La regularización es un proceso que se aplica a cualquier modelo, pero en esta sesión vamos a verlo en modelos de regresión lineal.  \n",
    " \n",
    "En concreto para ver el impacto de la regularización en modelos de regresión lineal vamos a crear un modelo de regresión lineal sin regularización y luego varios modelos en los que aplicaremos penalizaciones L2 y L1 (o regularizaciones L2 y L1) también basados en la regresión lineal (los que hemos llamado Ridge y Lasso)"
   ]
  },
  {
   "cell_type": "markdown",
   "metadata": {},
   "source": [
    "### Problema y Datos\n",
    "\n",
    "Consideramos un estudio médico realizado en 97 hombres con cáncer de próstata.\n",
    "El enfoque se centra en la relación entre el antígeno prostático específico (psa), que se eleva en hombres con cáncer de próstata, y otras medidas clínicas.\n",
    "Las otras medidas clínicas son las variables predictoras, recogidas en un examen médico, y la cantidad de expresión del antígeno asociado con la detección del cáncer es la variable de respuesta (lpsa).\n",
    "\n",
    "Así, el marco de datos se compone de 97 observaciones sobre 9 variables:\n",
    "* lcavol: logaritmo del volumen del cáncer\n",
    "* lweight: logaritmo del peso de la próstata\n",
    "* edad: edad del paciente en años\n",
    "* lbph: logaritmo de la cantidad de hiperplasia prostática benigna\n",
    "* svi: invasión de vesícula seminal\n",
    "* lcp: logaritmo de la penetración capsular\n",
    "* gleason: puntuación de Gleason\n",
    "* pgg45: porcentaje de la puntuación de Gleason 4 o 5\n",
    "* lpsa: logaritmo del antígeno prostático específico\n",
    "\n",
    "**El objetivo es encontrar modelos que predigan la respuesta lpsa.**\n",
    "\n",
    "\n"
   ]
  },
  {
   "cell_type": "code",
   "execution_count": 2,
   "metadata": {},
   "outputs": [],
   "source": [
    "import numpy as np\n",
    "import pandas as pd\n",
    "from sklearn import linear_model, metrics, model_selection\n",
    "from sklearn.linear_model import ElasticNet\n",
    "import matplotlib.pyplot as plt\n",
    "from sklearn.linear_model import Ridge\n",
    "import seaborn as sns"
   ]
  },
  {
   "cell_type": "markdown",
   "metadata": {},
   "source": [
    "### Carga de datos y primera visulización"
   ]
  },
  {
   "cell_type": "code",
   "execution_count": 3,
   "metadata": {},
   "outputs": [
    {
     "data": {
      "text/html": [
       "<div>\n",
       "<style scoped>\n",
       "    .dataframe tbody tr th:only-of-type {\n",
       "        vertical-align: middle;\n",
       "    }\n",
       "\n",
       "    .dataframe tbody tr th {\n",
       "        vertical-align: top;\n",
       "    }\n",
       "\n",
       "    .dataframe thead th {\n",
       "        text-align: right;\n",
       "    }\n",
       "</style>\n",
       "<table border=\"1\" class=\"dataframe\">\n",
       "  <thead>\n",
       "    <tr style=\"text-align: right;\">\n",
       "      <th></th>\n",
       "      <th>lcavol</th>\n",
       "      <th>lweight</th>\n",
       "      <th>age</th>\n",
       "      <th>lbph</th>\n",
       "      <th>svi</th>\n",
       "      <th>lcp</th>\n",
       "      <th>gleason</th>\n",
       "      <th>pgg45</th>\n",
       "      <th>lpsa</th>\n",
       "    </tr>\n",
       "  </thead>\n",
       "  <tbody>\n",
       "    <tr>\n",
       "      <th>0</th>\n",
       "      <td>-0.579818</td>\n",
       "      <td>2.769459</td>\n",
       "      <td>50</td>\n",
       "      <td>-1.386294</td>\n",
       "      <td>0</td>\n",
       "      <td>-1.386294</td>\n",
       "      <td>6</td>\n",
       "      <td>0</td>\n",
       "      <td>-0.430783</td>\n",
       "    </tr>\n",
       "    <tr>\n",
       "      <th>1</th>\n",
       "      <td>-0.994252</td>\n",
       "      <td>3.319626</td>\n",
       "      <td>58</td>\n",
       "      <td>-1.386294</td>\n",
       "      <td>0</td>\n",
       "      <td>-1.386294</td>\n",
       "      <td>6</td>\n",
       "      <td>0</td>\n",
       "      <td>-0.162519</td>\n",
       "    </tr>\n",
       "    <tr>\n",
       "      <th>2</th>\n",
       "      <td>-0.510826</td>\n",
       "      <td>2.691243</td>\n",
       "      <td>74</td>\n",
       "      <td>-1.386294</td>\n",
       "      <td>0</td>\n",
       "      <td>-1.386294</td>\n",
       "      <td>7</td>\n",
       "      <td>20</td>\n",
       "      <td>-0.162519</td>\n",
       "    </tr>\n",
       "    <tr>\n",
       "      <th>3</th>\n",
       "      <td>-1.203973</td>\n",
       "      <td>3.282789</td>\n",
       "      <td>58</td>\n",
       "      <td>-1.386294</td>\n",
       "      <td>0</td>\n",
       "      <td>-1.386294</td>\n",
       "      <td>6</td>\n",
       "      <td>0</td>\n",
       "      <td>-0.162519</td>\n",
       "    </tr>\n",
       "    <tr>\n",
       "      <th>4</th>\n",
       "      <td>0.751416</td>\n",
       "      <td>3.432373</td>\n",
       "      <td>62</td>\n",
       "      <td>-1.386294</td>\n",
       "      <td>0</td>\n",
       "      <td>-1.386294</td>\n",
       "      <td>6</td>\n",
       "      <td>0</td>\n",
       "      <td>0.371564</td>\n",
       "    </tr>\n",
       "  </tbody>\n",
       "</table>\n",
       "</div>"
      ],
      "text/plain": [
       "     lcavol   lweight  age      lbph  svi       lcp  gleason  pgg45      lpsa\n",
       "0 -0.579818  2.769459   50 -1.386294    0 -1.386294        6      0 -0.430783\n",
       "1 -0.994252  3.319626   58 -1.386294    0 -1.386294        6      0 -0.162519\n",
       "2 -0.510826  2.691243   74 -1.386294    0 -1.386294        7     20 -0.162519\n",
       "3 -1.203973  3.282789   58 -1.386294    0 -1.386294        6      0 -0.162519\n",
       "4  0.751416  3.432373   62 -1.386294    0 -1.386294        6      0  0.371564"
      ]
     },
     "execution_count": 3,
     "metadata": {},
     "output_type": "execute_result"
    }
   ],
   "source": [
    "lpsa_data = pd.read_csv('data/prostate_dataset.txt', delimiter='\\t')\n",
    "lpsa_data = lpsa_data.loc[:, 'lcavol':]\n",
    "lpsa_data.head()"
   ]
  },
  {
   "cell_type": "code",
   "execution_count": 4,
   "metadata": {},
   "outputs": [
    {
     "name": "stdout",
     "output_type": "stream",
     "text": [
      "<class 'pandas.core.frame.DataFrame'>\n",
      "RangeIndex: 97 entries, 0 to 96\n",
      "Data columns (total 9 columns):\n",
      " #   Column   Non-Null Count  Dtype  \n",
      "---  ------   --------------  -----  \n",
      " 0   lcavol   97 non-null     float64\n",
      " 1   lweight  97 non-null     float64\n",
      " 2   age      97 non-null     int64  \n",
      " 3   lbph     97 non-null     float64\n",
      " 4   svi      97 non-null     int64  \n",
      " 5   lcp      97 non-null     float64\n",
      " 6   gleason  97 non-null     int64  \n",
      " 7   pgg45    97 non-null     int64  \n",
      " 8   lpsa     97 non-null     float64\n",
      "dtypes: float64(5), int64(4)\n",
      "memory usage: 6.9 KB\n"
     ]
    }
   ],
   "source": [
    "lpsa_data.info()"
   ]
  },
  {
   "cell_type": "markdown",
   "metadata": {},
   "source": [
    "### Data train/test splitting"
   ]
  },
  {
   "cell_type": "markdown",
   "metadata": {},
   "source": [
    "Podemos hacer un split como queramos, si suponemos que ya hay un orden aleatorio en los datos, podemos hacer una selección de las n primeras filas para train y las siguientes para test. Aunque se aconseja usar sklearn en general:"
   ]
  },
  {
   "cell_type": "code",
   "execution_count": 5,
   "metadata": {},
   "outputs": [],
   "source": [
    "# train : the first rows \n",
    "# test : the last rows \n",
    "n_split = 60\n",
    "train_set = lpsa_data.iloc[:n_split] # without pgg45\n",
    "test_set = lpsa_data.iloc[n_split:]\n",
    "target = \"lpsa\"\n",
    "X_train = train_set.drop(target, axis = 1)\n",
    "y_train = train_set[target]\n",
    "X_test = test_set.drop(target, axis = 1)\n",
    "y_test = test_set[target]"
   ]
  },
  {
   "cell_type": "code",
   "execution_count": 6,
   "metadata": {},
   "outputs": [
    {
     "name": "stdout",
     "output_type": "stream",
     "text": [
      "(60, 8)\n",
      "(37, 8)\n",
      "(60,)\n",
      "(37,)\n"
     ]
    }
   ],
   "source": [
    "print(X_train.shape)\n",
    "print(X_test.shape)\n",
    "print(y_train.shape)\n",
    "print(y_test.shape)"
   ]
  },
  {
   "cell_type": "markdown",
   "metadata": {},
   "source": [
    "### EDA y seleccion de features"
   ]
  },
  {
   "cell_type": "markdown",
   "metadata": {},
   "source": [
    "Tenemos un dataset numérico continuo (de pontenciales features numéricas continuas) y aunque deberíamos hacer un EDA un poco más exhaustivo, nos vamos a centrar en el análisis de correlaciones para la selección de features. Pero antes analicemos el target univariantemente. "
   ]
  },
  {
   "cell_type": "markdown",
   "metadata": {},
   "source": [
    "#### Target"
   ]
  },
  {
   "cell_type": "code",
   "execution_count": 8,
   "metadata": {},
   "outputs": [
    {
     "data": {
      "image/png": "[encoded data removed]",
      "text/plain": [
       "<Figure size 640x480 with 1 Axes>"
      ]
     },
     "metadata": {},
     "output_type": "display_data"
    }
   ],
   "source": [
    "sns.histplot(lpsa_data[\"lpsa\"], kde= True);"
   ]
  },
  {
   "cell_type": "markdown",
   "metadata": {},
   "source": [
    "La variable target tiene una distribución casi normal, lo que es bueno para aplicar regresiones lineales."
   ]
  },
  {
   "cell_type": "markdown",
   "metadata": {},
   "source": [
    "Veamos las correlaciones:"
   ]
  },
  {
   "cell_type": "code",
   "execution_count": 9,
   "metadata": {},
   "outputs": [
    {
     "data": {
      "image/png": "[encoded data removed]",
      "text/plain": [
       "<Figure size 700x700 with 2 Axes>"
      ]
     },
     "metadata": {},
     "output_type": "display_data"
    }
   ],
   "source": [
    "\n",
    "plt.figure(figsize=(7,7))\n",
    "sns.heatmap(train_set.corr(),\n",
    "           vmin=-0.1,\n",
    "           vmax=1,\n",
    "           cmap=sns.diverging_palette(145, 280, s=85, l=25, n=7),\n",
    "           annot=True);"
   ]
  },
  {
   "cell_type": "markdown",
   "metadata": {},
   "source": [
    "* La variable más correlacionada con la respuesta lpsa es lcavol.\n",
    "  Por lo tanto, en un análisis de datos, la variable lcavol debe incluirse como predictor.\n",
    "\n",
    "* La matriz de correlación muestra que gleason y pgg45 están realmente correlacionados.\n",
    "  De hecho, la variable pgg45 mide el porcentaje de puntuaciones de Gleason 4 o 5 que se registraron antes de la puntuación final actual de Gleason. Descartaremos pgg45 por esta relación. \n",
    "\n",
    "* Observa que hay otras correlaciones entre las posibles features que nos invitarían a hacer un pequeño análisis de colinearidad (svi-lcp, 0.68 de correlación, pej.), pero no tenemos hueco, aunque probablemente sería una mejora del modelo.\n",
    "\n",
    "Vamos a mostrar  gráficamente la relación entre la respuesta lpsa y la característica lcavol.\n"
   ]
  },
  {
   "cell_type": "code",
   "execution_count": 10,
   "metadata": {},
   "outputs": [
    {
     "data": {
      "image/png": "[encoded data removed]",
      "text/plain": [
       "<Figure size 640x480 with 1 Axes>"
      ]
     },
     "metadata": {},
     "output_type": "display_data"
    }
   ],
   "source": [
    "plt.scatter(train_set['lcavol'], train_set['lpsa'])\n",
    "plt.xlabel('lcavol', fontsize=16)\n",
    "plt.ylabel('lpsa', fontsize=16)\n",
    "plt.title(\"Relationship between lpsa and lcavol\", fontsize=14)\n",
    "plt.show()"
   ]
  },
  {
   "cell_type": "code",
   "execution_count": 11,
   "metadata": {},
   "outputs": [],
   "source": [
    "exclude = [\"pgg45\"]\n",
    "X_train = X_train.drop(columns= exclude)\n",
    "X_test = X_test.drop(columns = exclude)"
   ]
  },
  {
   "cell_type": "markdown",
   "metadata": {},
   "source": [
    "### Modelados\n",
    "\n",
    "\n",
    "### Baseline a partir de un regresor lineal\n",
    "\n"
   ]
  },
  {
   "cell_type": "code",
   "execution_count": 12,
   "metadata": {},
   "outputs": [
    {
     "name": "stdout",
     "output_type": "stream",
     "text": [
      "Train MSE: 0.2877748864599949\n",
      "Test MSE: 2.864149965701442\n"
     ]
    }
   ],
   "source": [
    "lr = linear_model.LinearRegression()\n",
    "\n",
    "lr.fit(X_train, y_train)\n",
    "\n",
    "y_pred = lr.predict(X_test)\n",
    "#baseline_error = metrics.mean_squared_error(y_test, y_pred)\n",
    "\n",
    "print(\"Train MSE:\", metrics.mean_squared_error(y_train, lr.predict(X_train)))\n",
    "print(\"Test MSE:\", metrics.mean_squared_error(y_test, lr.predict(X_test)))\n",
    "# print(\"Test RMSE:\", np.sqrt(metrics.mean_squared_error(y_test, lr.predict(X_test))))"
   ]
  },
  {
   "cell_type": "markdown",
   "metadata": {},
   "source": [
    "Fíjate que existe una gran diferencia entre el error de Test y el error de Train, eso nos dice que el modelo generaliza mal y que fallará bastante con datos nuevos. Es hora de ganar bias (tener un error mayor en general) al precio de reducir varianza (ganar generalización) y para ello aplicaremos la regularización."
   ]
  },
  {
   "cell_type": "markdown",
   "metadata": {},
   "source": [
    "### Aplicamos Regularización (particularizado para regresión lineal)\n",
    "\n",
    "Para evitar el sobreajuste, empleamos la regularización, que básicamente es controlar la complejidad del modelo (o ponerle \"trabas\").\n",
    "En las sesioines teóricas hemos visto mecanismos de regularización basados en incluir una penalización adicional a la función de error. Esta \"penalización\" se denomina término de regularización ($\\lambda Reg(\\beta)$). Y en general esta compuesta por dos partes:\n",
    "\n",
    "* $Reg(\\beta)$ que es una forma de penalizar (depende del método, y se usará si quiero limitar los coeficientes menos útiles, el rango de los mismos, etc) -> Depende del método de regularización.\n",
    "* Y lambda que es el peso que le damos a la penalización (a mayor lambda más estamos \"fastidiando\" al modelo y más lo estamos regularizando)\n",
    "\n",
    "Lambda ( o alpha en algunas versiones) es nuestro primer \"hiperparámetros\", recuerda esos valores que sí controlamos desde fuera del modelo (y que además en este caso vamos a poder aplicar a casi todos los modelos) y que nos ayudan a gestionar el entrenamiento. Los mejores valores de los hiperparámetros y no solo los de regularización, se buscan con diferentes técnicas que veremos cuando tratemos específicamente el \"ajuste\" o *tuning* de los modelos. Volviendo a la regularización que hemos visto en teoría:\n"
   ]
  },
  {
   "cell_type": "markdown",
   "metadata": {},
   "source": [
    "\n",
    "### Regresión Ridge\n",
    "\n",
    "En la regresión Ridge, el término de regularización es $Reg(\\beta) = \\sum_{j=0}^{j=p}\\beta_j^2$. (recuerda que $\\beta$ son los coeficientes o pesos de la regresión y p el número de coeficientes que hayamos incluido, tantos como numero de features más 1)  \n",
    "\n",
    "La regresión Ridge permite reducir la magnitud de los pesos $\\beta_i$ de la regresión lineal, y así evitar el sobreaprendizaje.  \n",
    "\n",
    "La regresión Ridge tiene un efecto de selección agrupada: las variables correlacionadas tienen los mismos pesos.\n"
   ]
  },
  {
   "cell_type": "code",
   "execution_count": 14,
   "metadata": {},
   "outputs": [
    {
     "name": "stdout",
     "output_type": "stream",
     "text": [
      "Train MSE sin regularización: 0.29\n",
      "Test MSE sin regularización: 2.86\n",
      "Train MSE: 0.32\n",
      "Test MSE: 2.07\n"
     ]
    }
   ],
   "source": [
    "from sklearn.linear_model import Ridge\n",
    "\n",
    "ridgeR = Ridge(alpha = 10) # alpha es lambda \n",
    "ridgeR.fit(X_train, y_train)\n",
    "\n",
    "print(\"Train MSE sin regularización:\", round(metrics.mean_squared_error(y_train, lr.predict(X_train)),2))\n",
    "print(\"Test MSE sin regularización:\", round(metrics.mean_squared_error(y_test, lr.predict(X_test)),2))\n",
    "\n",
    "print(\"Train MSE:\", round(metrics.mean_squared_error(y_train, ridgeR.predict(X_train)),2))\n",
    "print(\"Test MSE:\", round(metrics.mean_squared_error(y_test, ridgeR.predict(X_test)),2))\n",
    "# print(\"Test RMSE:\", np.sqrt(metrics.mean_squared_error(y_test, ridgeR.predict(X_test))))"
   ]
  },
  {
   "cell_type": "markdown",
   "metadata": {},
   "source": [
    "### Regresión LASSO (Least Absolute Shrinkage and Selection Operator)\n",
    "\n",
    "El Lasso realiza una selección de características del modelo: para variables correlacionadas, retiene solo una variable y establece otras variables correlacionadas en cero.\n",
    "La contraparte es que obviamente induce una pérdida de información que resulta en menor precisión.\n",
    "\n",
    "En Lasso, el término de regularización se define por $Reg(\\beta) = \\sum_{j=0}^{j=p}|\\beta_j|$. Al igual que Ridge, tiene un peso para ese término (alpha o lambda).\n"
   ]
  },
  {
   "cell_type": "code",
   "execution_count": 15,
   "metadata": {},
   "outputs": [
    {
     "name": "stdout",
     "output_type": "stream",
     "text": [
      "Train MSE sin regularización: 0.29\n",
      "Test MSE sin regularización: 2.86\n",
      "Train MSE: 0.3740\n",
      "Test MSE: 2.0788\n"
     ]
    }
   ],
   "source": [
    "from sklearn.linear_model import Lasso\n",
    "\n",
    "lassoR = Lasso(alpha=0.1)\n",
    "lassoR.fit(X_train, y_train)\n",
    "\n",
    "print(\"Train MSE sin regularización:\", round(metrics.mean_squared_error(y_train, lr.predict(X_train)),2))\n",
    "print(\"Test MSE sin regularización:\", round(metrics.mean_squared_error(y_test, lr.predict(X_test)),2))\n",
    "\n",
    "print(\"Train MSE: %0.4f\" % metrics.mean_squared_error(y_train, lassoR.predict(X_train)))\n",
    "print(\"Test MSE: %0.4f\" % metrics.mean_squared_error(y_test, lassoR.predict(X_test)))"
   ]
  },
  {
   "cell_type": "code",
   "execution_count": 16,
   "metadata": {},
   "outputs": [
    {
     "name": "stdout",
     "output_type": "stream",
     "text": [
      "Train MSE: 0.3061\n",
      "Test MSE: 1.8514\n"
     ]
    }
   ],
   "source": [
    "lassoR = Lasso(alpha = 0.02) \n",
    "lassoR.fit(X_train, y_train) \n",
    "\n",
    "print(\"Train MSE: %0.4f\" % metrics.mean_squared_error(y_train, lassoR.predict(X_train)))\n",
    "print(\"Test MSE: %0.4f\" % metrics.mean_squared_error(y_test, lassoR.predict(X_test)))"
   ]
  },
  {
   "cell_type": "markdown",
   "metadata": {},
   "source": [
    "### Regresion Elastic net\n",
    "\n",
    "El método Elastic Net es un híbrido de la regresión Ridge y el Lasso.\n",
    "El término de regularización combina tanto las regularizaciones $L_1$ (Lasso) como $L_2$ (Ridge).\n",
    "\n",
    "Más precisamente, el término de regularización se establece en $Reg(\\beta) = \\lambda((l1_{ratio})||\\beta||_1+(1-l1_{ratio})||\\beta||_2^2)$ donde $l1_{ratio}$ es un hiperparámetro adicional a ajustar.\n",
    "\n",
    "El Elastic Net tiene un efecto de selección sobre las variables como el Lasso, pero mantiene variables correlacionadas como la regresión Ridge.\n",
    "Por lo tanto, el modelo Elastic Net es menos disperso que el Lasso, conservando más información.\n",
    "Sin embargo, el modelo demanda más recursos computacionales.\n",
    "\n"
   ]
  },
  {
   "cell_type": "code",
   "execution_count": 17,
   "metadata": {},
   "outputs": [
    {
     "name": "stdout",
     "output_type": "stream",
     "text": [
      "Train MSE: 0.4842\n",
      "Test MSE: 2.8103\n"
     ]
    }
   ],
   "source": [
    "from sklearn.linear_model import ElasticNet\n",
    "\n",
    "elastic_net = ElasticNet(alpha = 0.5, l1_ratio = 0.5)\n",
    "elastic_net.fit(X_train, y_train)\n",
    "\n",
    "print(\"Train MSE: %0.4f\" % metrics.mean_squared_error(y_train, elastic_net.predict(X_train)))\n",
    "print(\"Test MSE: %0.4f\" % metrics.mean_squared_error(y_test, elastic_net.predict(X_test)))"
   ]
  },
  {
   "cell_type": "code",
   "execution_count": 18,
   "metadata": {},
   "outputs": [
    {
     "name": "stdout",
     "output_type": "stream",
     "text": [
      "Train MSE: 0.3061\n",
      "Test MSE: 1.8514\n"
     ]
    }
   ],
   "source": [
    "elastic_net = ElasticNet(alpha = 0.02, l1_ratio=1)\n",
    "elastic_net.fit(X_train, y_train) \n",
    "\n",
    "print(\"Train MSE: %0.4f\" % metrics.mean_squared_error(y_train, elastic_net.predict(X_train)))\n",
    "print(\"Test MSE: %0.4f\" % metrics.mean_squared_error(y_test, elastic_net.predict(X_test)))"
   ]
  },
  {
   "cell_type": "markdown",
   "metadata": {},
   "source": [
    "En este caso, sin tunear exahustivamente los hiperparámetros, parece interesante aplicar una Ridge Regression, o una Regularización Ridge a la regresión lineal."
   ]
  },
  {
   "cell_type": "markdown",
   "metadata": {},
   "source": [
    "### RESUMEN IMPORTANTE:  \n",
    "\n",
    "¿Y sólo hay estos métodos para la regresión lineal?\n",
    "\n",
    "No, se pueden aplicar penalizaciones L2 y L1 a todas las funciones de pérdidas y veremos que los modelos tienen sus hiperparámetros relacionados para poder \"castigar\"/\"regularizar\" con las mismas ideas que Ridge y Lasso (limitar el valor de los coeficientes o parámetros, quitar coeficientes correlados). Eso sí, como no todos los modelos tienen \"pesos\", no siempre será igual...\n",
    "\n",
    "Entonces, ¿qué lío?¿Con qué me quedo? Con lo siguiente:\n",
    "* Todos los modelos tienen hiperparametros (argumentos que nosotros podemos controlar, aka dar el valor que queramos) que sirven para regularizarlos más o menos y controlar el overfitting. Aprenderemos de cada modelo cuáles son.\n",
    "* El mejor valor de estos hiperparámetros dependerá del nivel de generalización que queramos frente al error (bias) particular en cada predicción. Y aprenderemos a ajustarlos una vez tengamos nuestro modelo ganador.\n",
    "* Tres tipos de regularización son la Ridge, la Lasso y la combinación (Elastic Net)\n",
    "* La regularización no sólo es \"fastidiar\" la función de pérdida, es simplificar el modelo (quitar features, por ejemplo, limitar los valores, usar modelos que internamente son más sencillos, etc)"
   ]
  },
  {
   "cell_type": "markdown",
   "metadata": {},
   "source": []
  }
 ],
 "metadata": {
  "kernelspec": {
   "display_name": "Python 3",
   "language": "python",
   "name": "python3"
  },
  "language_info": {
   "codemirror_mode": {
    "name": "ipython",
    "version": 3
   },
   "file_extension": ".py",
   "mimetype": "text/x-python",
   "name": "python",
   "nbconvert_exporter": "python",
   "pygments_lexer": "ipython3",
   "version": "3.10.11"
  }
 },
 "nbformat": 4,
 "nbformat_minor": 2
}
