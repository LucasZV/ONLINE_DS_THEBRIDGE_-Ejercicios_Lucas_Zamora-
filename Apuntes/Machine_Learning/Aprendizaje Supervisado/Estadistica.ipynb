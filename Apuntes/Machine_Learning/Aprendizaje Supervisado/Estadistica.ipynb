{
 "cells": [
  {
   "cell_type": "markdown",
   "metadata": {},
   "source": [
    "# Introducción a Machine Learning "
   ]
  },
  {
   "cell_type": "code",
   "execution_count": 2,
   "metadata": {},
   "outputs": [],
   "source": [
    "import matplotlib.pyplot as plt\n",
    "import pandas as pd"
   ]
  },
  {
   "cell_type": "markdown",
   "metadata": {},
   "source": [
    "## INFERENCIAL (I): POBLACION, MUESTRA Y SESGO"
   ]
  },
  {
   "cell_type": "markdown",
   "metadata": {},
   "source": [
    "### Población y muestra"
   ]
  },
  {
   "cell_type": "markdown",
   "metadata": {},
   "source": [
    "#### Conceptos básicos:  \n",
    "  \n",
    "+ Población: conjunto sobre el que queremos obtener conclusiones (hacer inferencias).  \n",
    "\n",
    "+ Muestra: subconjunto de la población al que tenemos acceso y sobre el que hacemos las observaciones (mediciones). Debe ser representativo.\n"
   ]
  },
  {
   "cell_type": "markdown",
   "metadata": {},
   "source": [
    "Lo que suele ocurrir es que no tenemos acceso a toda la población, bien porque es muy grande o bien porque en realidad queremos considerar no sólo los elementos actuales de la población sino los futuros también para poder hacer predicciones sobre ellos (por ejemplo, si quiero estimar el resultado de los partidos de fútbol de la semana que viene o el impacto de un medicamento en los futuros pacientes). \n",
    "\n",
    "En definitiva, a partir de ahora trabajaremos casi siempre con datos que consideraremos muestras de una población más amplia."
   ]
  },
  {
   "cell_type": "code",
   "execution_count": 3,
   "metadata": {},
   "outputs": [],
   "source": [
    "df_titanic = pd.read_csv(\"./data/titanic.csv\")\n",
    "df_life_satisfaction = pd.read_csv(\"./data/lifesat_full.csv\")"
   ]
  },
  {
   "cell_type": "code",
   "execution_count": 4,
   "metadata": {},
   "outputs": [
    {
     "data": {
      "text/html": [
       "<div>\n",
       "<style scoped>\n",
       "    .dataframe tbody tr th:only-of-type {\n",
       "        vertical-align: middle;\n",
       "    }\n",
       "\n",
       "    .dataframe tbody tr th {\n",
       "        vertical-align: top;\n",
       "    }\n",
       "\n",
       "    .dataframe thead th {\n",
       "        text-align: right;\n",
       "    }\n",
       "</style>\n",
       "<table border=\"1\" class=\"dataframe\">\n",
       "  <thead>\n",
       "    <tr style=\"text-align: right;\">\n",
       "      <th></th>\n",
       "      <th>Country</th>\n",
       "      <th>GDP per capita (USD)</th>\n",
       "      <th>Life satisfaction</th>\n",
       "      <th>Life expectancy</th>\n",
       "      <th>Homicide rate</th>\n",
       "      <th>Employment rate</th>\n",
       "    </tr>\n",
       "  </thead>\n",
       "  <tbody>\n",
       "    <tr>\n",
       "      <th>0</th>\n",
       "      <td>South Africa</td>\n",
       "      <td>11466.189672</td>\n",
       "      <td>4.725336</td>\n",
       "      <td>57.5</td>\n",
       "      <td>13.7</td>\n",
       "      <td>43.0</td>\n",
       "    </tr>\n",
       "    <tr>\n",
       "      <th>1</th>\n",
       "      <td>Colombia</td>\n",
       "      <td>13441.492952</td>\n",
       "      <td>6.302556</td>\n",
       "      <td>76.2</td>\n",
       "      <td>24.5</td>\n",
       "      <td>67.0</td>\n",
       "    </tr>\n",
       "    <tr>\n",
       "      <th>2</th>\n",
       "      <td>Brazil</td>\n",
       "      <td>14063.982505</td>\n",
       "      <td>6.415187</td>\n",
       "      <td>74.8</td>\n",
       "      <td>26.7</td>\n",
       "      <td>61.0</td>\n",
       "    </tr>\n",
       "    <tr>\n",
       "      <th>3</th>\n",
       "      <td>Mexico</td>\n",
       "      <td>17887.750736</td>\n",
       "      <td>6.536861</td>\n",
       "      <td>75.4</td>\n",
       "      <td>18.1</td>\n",
       "      <td>61.0</td>\n",
       "    </tr>\n",
       "    <tr>\n",
       "      <th>4</th>\n",
       "      <td>Chile</td>\n",
       "      <td>23324.524751</td>\n",
       "      <td>6.538143</td>\n",
       "      <td>79.9</td>\n",
       "      <td>4.2</td>\n",
       "      <td>63.0</td>\n",
       "    </tr>\n",
       "  </tbody>\n",
       "</table>\n",
       "</div>"
      ],
      "text/plain": [
       "        Country  GDP per capita (USD)  Life satisfaction  Life expectancy  \\\n",
       "0  South Africa          11466.189672           4.725336             57.5   \n",
       "1      Colombia          13441.492952           6.302556             76.2   \n",
       "2        Brazil          14063.982505           6.415187             74.8   \n",
       "3        Mexico          17887.750736           6.536861             75.4   \n",
       "4         Chile          23324.524751           6.538143             79.9   \n",
       "\n",
       "   Homicide rate  Employment rate  \n",
       "0           13.7             43.0  \n",
       "1           24.5             67.0  \n",
       "2           26.7             61.0  \n",
       "3           18.1             61.0  \n",
       "4            4.2             63.0  "
      ]
     },
     "execution_count": 4,
     "metadata": {},
     "output_type": "execute_result"
    }
   ],
   "source": [
    "df_life_satisfaction.head()"
   ]
  },
  {
   "cell_type": "code",
   "execution_count": 5,
   "metadata": {},
   "outputs": [
    {
     "data": {
      "text/plain": [
       "(891, 36)"
      ]
     },
     "execution_count": 5,
     "metadata": {},
     "output_type": "execute_result"
    }
   ],
   "source": [
    "len(df_titanic), len(df_life_satisfaction)"
   ]
  },
  {
   "cell_type": "markdown",
   "metadata": {},
   "source": [
    "Realmente los dos son muestras de una población mayor, el dataset de Titanic tiene 891 registros de los dos mil y picos posibles (la población completa de todos los pasajeros que viajaron en él) y el dataset de nivel de satisfacción vital contiene datos de 36 países de los más de 190 países reconocidos en el mundo. En ese sentido ambos datasets son muestras de poblaciones mayores. "
   ]
  },
  {
   "cell_type": "markdown",
   "metadata": {},
   "source": [
    "**Lo importante de una muesta es que sea \"REPRESENTATIVA\" de la población de la que ha sido extraída**. Esto quiere decir que lo que podamos estudiar y deducir de los datos de la muestra podamos aplicarlo al resto de la población. De esa manera podremos hacer estimaciones, deducciones e inferencias sobre la población en general sin necesidad de tener todos los datos o estudiar la población completa."
   ]
  },
  {
   "cell_type": "markdown",
   "metadata": {},
   "source": [
    "### Muestra aleatoria"
   ]
  },
  {
   "cell_type": "markdown",
   "metadata": {},
   "source": [
    "En general, cuando queremos estudiar una población de la que no podemos obtener todos los datos (por los motivos que sean) acudimos a obtener una muestra de la misma. La forma de obtener la muestra impacta en la representatividad de la misma y por lo tanto en la validez de las inferencias que hagamos de lo analizado sobre dicha muestra.  \n",
    "\n",
    "Para mantener en la muestra las propiedades de la población, es decir su representatividad, intentaremos obtener una muestra aleatoria (más adelante intentaremos que además sea estratificada, pero por ahora sólo que te suene). Es decir, escogiendo al azar los elementos que van a formar parte de nuestra muestra. Al proceso de obtención de una o varias muestras aleatorias se le denomina **muestreo aleatorio**."
   ]
  },
  {
   "cell_type": "markdown",
   "metadata": {},
   "source": [
    "Como muestra la figura es como hacer un sorteo y escoger a los ganadores para la muestra. Vamos a verlo con nuestros datasets, suponiendo que estos sean TODA la población y no muestras. Obtengamos una muestra de cada uno de ellos de forma aleatoria aprovechando el método `sample` de pandas:"
   ]
  },
  {
   "cell_type": "code",
   "execution_count": 6,
   "metadata": {},
   "outputs": [
    {
     "name": "stdout",
     "output_type": "stream",
     "text": [
      "Poblacion titanic: 891 pasajeros\n",
      "Muestra titanic: 178 pasajeros\n",
      "Poblacion Indice Satifaccion: 36 países\n",
      "Muestra titanic: 7 países\n"
     ]
    }
   ],
   "source": [
    "num_muestras_titanic = int(len(df_titanic) * 0.2) #--> va a cojer el 20% de los datos de la población total\n",
    "muestra_titanic = df_titanic.sample(num_muestras_titanic, random_state = 42) # --> .sample elije valores al azar. / random_state es como seed, para que se mantengan esos valores \n",
    "print(f\"Poblacion titanic: {len(df_titanic)} pasajeros\")\n",
    "print(f\"Muestra titanic: {len(muestra_titanic)} pasajeros\")\n",
    "\n",
    "num_muestras_paises = int(len(df_life_satisfaction) * 0.2)\n",
    "muestra_paises = df_life_satisfaction.sample(num_muestras_paises, random_state = 42)\n",
    "print(f\"Poblacion Indice Satifaccion: {len(df_life_satisfaction)} países\")\n",
    "print(f\"Muestra titanic: {len(muestra_paises)} países\")"
   ]
  },
  {
   "cell_type": "markdown",
   "metadata": {},
   "source": [
    "En este ejemplo hemos obtenido dos muestras aleatorias (escogidas al azar) del 20% del tamaño de la población. ¿Y el tamaño importa? Sí, importa pero el tamaño no asegura la representatividad aunque la mejore.  \n",
    "\n",
    "Viendo los números de nuestro muestreo, ¿serán representativas nuestras muestras? Para poder contestar ahondemos en eso de la representatividad y en dos conceptos \"nuevos\": parámetros y estadísticos."
   ]
  },
  {
   "cell_type": "markdown",
   "metadata": {},
   "source": [
    "### Representatividad, parámetros y estadísticos"
   ]
  },
  {
   "cell_type": "markdown",
   "metadata": {},
   "source": [
    "Nuestras muestras aleatorias serían representativas si sus características son muy muy parecidas a las de las población a la que \"representan\". Es decir, si las medidas que obtengamos sobre las muestras son parecidas a las que obtendríamos en la población. "
   ]
  },
  {
   "cell_type": "markdown",
   "metadata": {},
   "source": [
    "¿Y qué medidas? Pues las que vimos al tratar la estadística descriptiva y el análisis de datos en el módulo anterior. Sí, las medidas univariantes (frecuencias, medias, desviaciones), bivariantes, etc de una muestra deberían parecerse a las de la población para que podamos decir que esta es representativa."
   ]
  },
  {
   "cell_type": "markdown",
   "metadata": {},
   "source": [
    "Por ejemplo, comparemos el ratio de supervivencia en la muestra aleatoria y en la \"población\" total del dataset del titanic:"
   ]
  },
  {
   "cell_type": "code",
   "execution_count": 7,
   "metadata": {},
   "outputs": [
    {
     "data": {
      "text/plain": [
       "(0.0, 0.7)"
      ]
     },
     "execution_count": 7,
     "metadata": {},
     "output_type": "execute_result"
    },
    {
     "data": {
      "image/png": "[encoded data removed]",
      "text/plain": [
       "<Figure size 1000x800 with 2 Axes>"
      ]
     },
     "metadata": {},
     "output_type": "display_data"
    }
   ],
   "source": [
    "fig,axs = plt.subplots(1,2,figsize = (10,8))\n",
    "\n",
    "freq = df_titanic[\"alive\"].value_counts(normalize = True)\n",
    "axs[0].bar(x = freq.index, height = freq.values, label = \"Poblacion\")\n",
    "axs[0].set_title(\"superviviencia poblacion\")\n",
    "axs[0].set_ylim(0,0.7)\n",
    "freq_m = muestra_titanic[\"alive\"].value_counts(normalize = True)\n",
    "axs[1].bar(x = freq_m.index, height = freq_m.values, label = \"Muestra\")\n",
    "axs[1].set_title(\"supervivencia muestra\")\n",
    "axs[1].set_ylim(0,0.7)"
   ]
  },
  {
   "cell_type": "markdown",
   "metadata": {},
   "source": [
    "Se parecen pero hmmm, no del todo.  \n",
    "\n",
    "Ahora comprobemos las medidas de tendencia central, posición y dispersión de la edad y el precio del ticket, por comparar variables numéricas:"
   ]
  },
  {
   "cell_type": "code",
   "execution_count": 8,
   "metadata": {},
   "outputs": [
    {
     "data": {
      "text/html": [
       "<div>\n",
       "<style scoped>\n",
       "    .dataframe tbody tr th:only-of-type {\n",
       "        vertical-align: middle;\n",
       "    }\n",
       "\n",
       "    .dataframe tbody tr th {\n",
       "        vertical-align: top;\n",
       "    }\n",
       "\n",
       "    .dataframe thead th {\n",
       "        text-align: right;\n",
       "    }\n",
       "</style>\n",
       "<table border=\"1\" class=\"dataframe\">\n",
       "  <thead>\n",
       "    <tr style=\"text-align: right;\">\n",
       "      <th></th>\n",
       "      <th>age_pob</th>\n",
       "      <th>fare_pob</th>\n",
       "      <th>age_muestra</th>\n",
       "      <th>fare_muestra</th>\n",
       "    </tr>\n",
       "  </thead>\n",
       "  <tbody>\n",
       "    <tr>\n",
       "      <th>count</th>\n",
       "      <td>891.000000</td>\n",
       "      <td>891.000000</td>\n",
       "      <td>178.000000</td>\n",
       "      <td>178.000000</td>\n",
       "    </tr>\n",
       "    <tr>\n",
       "      <th>mean</th>\n",
       "      <td>30.319458</td>\n",
       "      <td>32.204208</td>\n",
       "      <td>31.110330</td>\n",
       "      <td>30.763038</td>\n",
       "    </tr>\n",
       "    <tr>\n",
       "      <th>std</th>\n",
       "      <td>13.063839</td>\n",
       "      <td>49.693429</td>\n",
       "      <td>12.955804</td>\n",
       "      <td>39.544957</td>\n",
       "    </tr>\n",
       "    <tr>\n",
       "      <th>min</th>\n",
       "      <td>0.420000</td>\n",
       "      <td>0.000000</td>\n",
       "      <td>0.830000</td>\n",
       "      <td>0.000000</td>\n",
       "    </tr>\n",
       "    <tr>\n",
       "      <th>25%</th>\n",
       "      <td>22.000000</td>\n",
       "      <td>7.910400</td>\n",
       "      <td>22.000000</td>\n",
       "      <td>7.895800</td>\n",
       "    </tr>\n",
       "    <tr>\n",
       "      <th>50%</th>\n",
       "      <td>32.000000</td>\n",
       "      <td>14.454200</td>\n",
       "      <td>32.000000</td>\n",
       "      <td>14.479150</td>\n",
       "    </tr>\n",
       "    <tr>\n",
       "      <th>75%</th>\n",
       "      <td>35.000000</td>\n",
       "      <td>31.000000</td>\n",
       "      <td>36.000000</td>\n",
       "      <td>32.455200</td>\n",
       "    </tr>\n",
       "    <tr>\n",
       "      <th>max</th>\n",
       "      <td>80.000000</td>\n",
       "      <td>512.329200</td>\n",
       "      <td>71.000000</td>\n",
       "      <td>262.375000</td>\n",
       "    </tr>\n",
       "  </tbody>\n",
       "</table>\n",
       "</div>"
      ],
      "text/plain": [
       "          age_pob    fare_pob  age_muestra  fare_muestra\n",
       "count  891.000000  891.000000   178.000000    178.000000\n",
       "mean    30.319458   32.204208    31.110330     30.763038\n",
       "std     13.063839   49.693429    12.955804     39.544957\n",
       "min      0.420000    0.000000     0.830000      0.000000\n",
       "25%     22.000000    7.910400    22.000000      7.895800\n",
       "50%     32.000000   14.454200    32.000000     14.479150\n",
       "75%     35.000000   31.000000    36.000000     32.455200\n",
       "max     80.000000  512.329200    71.000000    262.375000"
      ]
     },
     "execution_count": 8,
     "metadata": {},
     "output_type": "execute_result"
    }
   ],
   "source": [
    "df_titanic_medidas = df_titanic[[\"age\",\"fare\"]].describe()\n",
    "df_muestra_medidas = muestra_titanic[[\"age\",\"fare\"]].describe()\n",
    "\n",
    "df_titanic_medidas.merge(df_muestra_medidas, left_index = True, right_index= True, suffixes= [\"_pob\",\"_muestra\"])\n"
   ]
  },
  {
   "cell_type": "markdown",
   "metadata": {},
   "source": [
    "Aquí hay más parecido \"visual\", pero todavía no podemos asegurarnos... Y eso que aquí podemos comparar muestra y población... Pero, lo normal no será tener la población (en cuyo caso no necesitamos la muestra), para esas situaciones para saber si las medidas son representativas acudiremos a... los test de hipótesis. Y lo veremos en las siguientes unidades. Antes apliquemos esto mismo al dataset de satisfacción vital y hablemos del sesgo."
   ]
  },
  {
   "cell_type": "code",
   "execution_count": 9,
   "metadata": {},
   "outputs": [
    {
     "data": {
      "text/plain": [
       "GDP per capita (USD)_pob        42620.982007\n",
       "Life satisfaction_pob               6.599421\n",
       "Life expectancy_pob                79.455556\n",
       "Homicide rate_pob                   3.741667\n",
       "Employment rate_pob                68.250000\n",
       "GDP per capita (USD)_muestra    56824.405352\n",
       "Life satisfaction_muestra           7.072510\n",
       "Life expectancy_muestra            81.600000\n",
       "Homicide rate_muestra               1.557143\n",
       "Employment rate_muestra            69.857143\n",
       "Name: mean, dtype: float64"
      ]
     },
     "execution_count": 9,
     "metadata": {},
     "output_type": "execute_result"
    }
   ],
   "source": [
    "df_lifesat_medidas = df_life_satisfaction.describe()\n",
    "df_muestra_medidas = muestra_paises.describe()\n",
    "\n",
    "df_lifesat_medidas.merge(df_muestra_medidas, left_index= True, right_index= True, suffixes = [\"_pob\",\"_muestra\"]).loc[\"mean\"].T"
   ]
  },
  {
   "cell_type": "markdown",
   "metadata": {},
   "source": [
    "Este es incluso más difícil, porque hay medias que se parecen y otras no mucho..."
   ]
  },
  {
   "cell_type": "markdown",
   "metadata": {},
   "source": [
    "Cuando las medidas hacen referencia a la población (nuetros \"_pob\" en los ejemplos anteriores) se les llama **parámetros**. Cuando son las medidas hechas sobre las muestras, se les denomina **estadísticos**."
   ]
  },
  {
   "cell_type": "markdown",
   "metadata": {},
   "source": [
    "### Sesgos"
   ]
  },
  {
   "cell_type": "markdown",
   "metadata": {},
   "source": [
    "Se trata de una **distorsión no aleatoria que introducimos en la muestra como consecuencia de la selección de dicha muestra**. Si existe sesgo y no se controla, entonces, en general, haremos inferencias y deducciones erróneas a partir de la muestra. \n",
    "\n",
    "Por ejemplo, si realizamos una encuesta sobre cómo va el país, no será lo mismo si todos los encuestados son de una clase social determinada, o de un partido político concreto.\n",
    "\n",
    "Para verlo, supongamos que escojemos nuestra muestra del titanic pero sin darnos cuenta lo hacemos únicamente sobre pasajeros de Cherbourgh, por ejemplo porque sólo teníamos datos de esa ciudad:"
   ]
  },
  {
   "cell_type": "code",
   "execution_count": 10,
   "metadata": {},
   "outputs": [],
   "source": [
    "muestra_sesgada = df_titanic.loc[df_titanic.embark_town == \"Cherbourg\"]"
   ]
  },
  {
   "cell_type": "markdown",
   "metadata": {},
   "source": [
    "Si consideramos los estadísticos de nuestra como parámetros, veamos que error habríamos cometido, por ejemplo con el ratio de supervivencia:"
   ]
  },
  {
   "cell_type": "code",
   "execution_count": 11,
   "metadata": {},
   "outputs": [
    {
     "data": {
      "text/plain": [
       "(0.0, 0.7)"
      ]
     },
     "execution_count": 11,
     "metadata": {},
     "output_type": "execute_result"
    },
    {
     "data": {
      "image/png": "[encoded data removed]",
      "text/plain": [
       "<Figure size 1000x800 with 2 Axes>"
      ]
     },
     "metadata": {},
     "output_type": "display_data"
    }
   ],
   "source": [
    "fig,axs = plt.subplots(1,2,figsize = (10,8))\n",
    "\n",
    "freq = df_titanic[\"alive\"].value_counts(normalize = True)\n",
    "axs[0].bar(x = freq.index, height = freq.values, label = \"Poblacion\")\n",
    "axs[0].set_title(\"superviviencia poblacion\")\n",
    "axs[0].set_ylim(0,0.7)\n",
    "freq_m = muestra_sesgada[\"alive\"].value_counts(normalize = True)\n",
    "axs[1].bar(x = freq_m.index, height = freq_m.values, label = \"Muestra\")\n",
    "axs[1].set_title(\"supervivencia muestra\")\n",
    "axs[1].set_ylim(0,0.7)"
   ]
  },
  {
   "cell_type": "markdown",
   "metadata": {},
   "source": [
    "Como ya sabíamos hay una gran diferencia, tanto como para convertir al Titanic de una catastrofe a un accidente grave pero no tanto..."
   ]
  },
  {
   "cell_type": "markdown",
   "metadata": {},
   "source": [
    "Por eso a la hora de seleccionar nuestra muestra debemos controlar mucho los posibles sesgos. Las implicaciones pueden ser mucho más impactantes incluso..."
   ]
  },
  {
   "cell_type": "markdown",
   "metadata": {},
   "source": [
    "#### Otro ejemplo de sesgo: El sesgo de supervivencia\n",
    "\n",
    "**El sesgo de supervivencia** (nada que ver con la supervivencia del Titanic) es un sesgo muy difícil de controlar ya que es el sesgo que se produce por tratar con los datos que tenemos y no con todos los posibles, porque son los datos que nos han llegado (que han sobrevivido). Dos ejemplos característicos son el estudio de los castillos y el de los aviones británicos en la segunda guerra mundial\n",
    "\n",
    "\n"
   ]
  },
  {
   "cell_type": "markdown",
   "metadata": {},
   "source": [
    "### Estadistica Inferencial\n",
    "\n",
    "Para terminar recordar qué es lo que buscamos con la estadística inferencial frente a la estadística descriptiva:"
   ]
  },
  {
   "cell_type": "markdown",
   "metadata": {},
   "source": [
    "+ Estadística descriptiva: Busca obtener información sobre la población basandose enm el estudio de datos de una muestra tomada de ella.  \n",
    "\n",
    "+ Estadística inferencial: Llegar a conclusiones basadas en la muestra y luego hacerlos validos para toda la población."
   ]
  },
  {
   "cell_type": "markdown",
   "metadata": {},
   "source": [
    "## INFERENCIAL (II): Media, intervalo de confianza y error estándar"
   ]
  },
  {
   "cell_type": "markdown",
   "metadata": {},
   "source": [
    "La media de las variables de una muestra, en general, no coincidirá con la media de la población [aunque no es imposible, por ejemplo si consideramos el conjunto de coches con cuatro ruedas, la media de ruedas es constante e igual para cualquier muestra, pero salvo casos tan \"simples\" como este ejemplo en general no será el mismo valor]. Eso no quiere decir que no sea representativa o no nos sirva para estimar la media poblacional. Por ejemplo en el caso de la edad del Titanic y una muestra aleatoria:"
   ]
  },
  {
   "cell_type": "code",
   "execution_count": 12,
   "metadata": {},
   "outputs": [
    {
     "name": "stdout",
     "output_type": "stream",
     "text": [
      "Media de edad de la muestra: 30.786685189215653 años\n",
      "Muestra poblacion: 30.319458263017587 años\n",
      "Error muestral: 0.47\n"
     ]
    }
   ],
   "source": [
    "num_muestras_titanic = int(len(df_titanic) * 0.4)\n",
    "muestra_titanic = df_titanic.sample(num_muestras_titanic, random_state = 42)\n",
    "print(f\"Media de edad de la muestra: {muestra_titanic['age'].mean()} años\")\n",
    "print(f\"Muestra poblacion: {df_titanic['age'].mean()} años\")\n",
    "print(rf\"Error muestral: {round(abs(muestra_titanic['age'].mean() - df_titanic['age'].mean()),2)}\")"
   ]
  },
  {
   "cell_type": "markdown",
   "metadata": {},
   "source": [
    "Si consideramos que ese \"error muestral\" es asumible, nuestra muestras será, en términos de edad, representativa de la media de edad poblacional."
   ]
  },
  {
   "cell_type": "markdown",
   "metadata": {},
   "source": [
    "Pero claro, no vamos a tener la media poblacional para calcular el error, y en caso de tenerla para que andarnos con muestras... Entonces, ¿qué hacemos?¿qué podemos decir de la edad media del pasaje del Titanic a partir de la edad media de nuestra muestra? \n",
    "\n",
    "Aquí es donde entra **el intervalo de confianza.**"
   ]
  },
  {
   "cell_type": "markdown",
   "metadata": {},
   "source": [
    "### Intervalo de Confianza"
   ]
  },
  {
   "cell_type": "markdown",
   "metadata": {},
   "source": [
    "El intervalo de confianza nos da una idea del margen de error al realizar un muestreo.  \n",
    "\n",
    "El intervalo de confianza nos da un rango en el que podemos estar seguros con una probabilidad normalmente del 95% de que la media real de la población estará en ese rango."
   ]
  },
  {
   "cell_type": "markdown",
   "metadata": {},
   "source": [
    "Es decir, ese margen asumible de error es el intervalo de confianza, que depende de la probabilidad que queramos tener de que la media poblacional esté en el intervalo indicado. En nuestro caso anterior un intervalo de confianza de un año, supondría que estamos seguros con una cierta pobrabilidad de que la media poblacional estará en el intervalo 29,31. \n",
    "  \n",
    "De hecho como sabemos la media poblacional estamos al 100% seguros, pero ese no es el caso general. ¿Pero cómo se obtiene el IC y para qué probabilidades, o siempre es para el 95% como en la diapositiva?\n"
   ]
  },
  {
   "cell_type": "markdown",
   "metadata": {},
   "source": [
    "Tranquilidad, tenemos una fórmula de cálculo que dependerá de esa probabilidad que nos deje tranquilos. Para eso tenemos que introducir el conceptor de **error estándar** y además un poquito de \"fe\"."
   ]
  },
  {
   "cell_type": "markdown",
   "metadata": {},
   "source": [
    "### Error Estándar"
   ]
  },
  {
   "cell_type": "markdown",
   "metadata": {},
   "source": [
    "+ Es la desviación estandar de todas las posibles muestras escogidas en una población.  \n",
    "\n",
    "SE = S/raizN\n",
    "\n",
    "+ Se calcula como IC = +- 1.96 * SE  \n",
    "\n",
    "+ El valor z = 1.96 proviene del 95% de la distribución normal estandar.  \n",
    "\n",
    "+ Cuanto más se quiera aumentar la confianza, mayor será el IC."
   ]
  },
  {
   "cell_type": "markdown",
   "metadata": {},
   "source": [
    "Recordemos que la desviación estándar es una medida de dispersión de las variables continuas que se obtiene con la siguiente fórmula (cuando es un estadístico de una muestra):  \n",
    "\n",
    "$$s = \\sqrt{\\frac{\\sum\\limits_{i=1}^n(x_i - \\bar x)^2}{n-1}} $$"
   ]
  },
  {
   "cell_type": "markdown",
   "metadata": {},
   "source": [
    "Obtengamos el IC (intervalo de confianza) de nuestra muestra del titanic para una probabilidad del 95%, con matices que veremos luego:"
   ]
  },
  {
   "cell_type": "code",
   "execution_count": 13,
   "metadata": {},
   "outputs": [
    {
     "name": "stdout",
     "output_type": "stream",
     "text": [
      "IC =  1.36\n",
      "Intervalo de confianza: [29.43,32.15]\n"
     ]
    }
   ],
   "source": [
    "from math import sqrt\n",
    "\n",
    "s = muestra_titanic[\"age\"].std()\n",
    "SE = s/sqrt(len(muestra_titanic))\n",
    "media_edad = round(muestra_titanic.age.mean(),2)\n",
    "IC = round(1.96 * SE,2)\n",
    "print(\"IC = \", IC)\n",
    "print(f\"Intervalo de confianza: [{media_edad -IC},{media_edad +IC}]\")"
   ]
  },
  {
   "cell_type": "markdown",
   "metadata": {},
   "source": [
    "Es decir, con una confianza del 95% podríamos decir que la media de edad poblacional del titanic está entre esos dos valores (que sabemos que es así, porque tenemos la población)"
   ]
  },
  {
   "cell_type": "markdown",
   "metadata": {},
   "source": [
    "**El matiz**: Para poder usar este estadístico hemos supuesto que la distribución de la variable que queremos caracterízar sigue una figura específica de la que hemos hablado, la distribución normal o gaussiana."
   ]
  },
  {
   "cell_type": "markdown",
   "metadata": {},
   "source": [
    "Hasta aquí hemos visto como obtener el intervalo en el cuál podríamos situar la media poblacional a partir de la media de la muestra, pero la pregunta era si podíamos tener cierta confianza estadística de si la media de la muestra representa la media poblacional. \n",
    "\n",
    "En general, la media muestral estadísticamente hablando tiene probabilidad 0 de ser la media poblacional, siempre hablaremos de un intervalo de confianza, pero lo que podemos hacer es ajustar ese IC, en función de la probabilidad de estar seguros. \n",
    "En las siguientes sesiones veremos el mecanismo para cambiar el IC en función de la confianza estadística que queramos tener. Y el mismo mecanismo, nos permitirá también analizar si a partir de la media muestral podemos saber si la media poblacional estará por encima o por debajo de un umbral. Para ello utilizaremos contraste de hipótesis y test como los empleados durante el módulo de análisis de datos."
   ]
  },
  {
   "cell_type": "markdown",
   "metadata": {},
   "source": [
    "## INFERENCIAL (III): Contraste de hipótesis para la media"
   ]
  },
  {
   "cell_type": "markdown",
   "metadata": {},
   "source": [
    "### Contraste de hipótesis"
   ]
  },
  {
   "cell_type": "markdown",
   "metadata": {},
   "source": [
    "Dentro de la inferencia estadística, un contraste de hipótesis (también denominado test de hipótesis o prueba de significación) es un procedimiento para juzgar si una propiedad que se supone en una población estadística es compatible con lo observado en una muestra de dicha población.\n",
    "\n",
    "La mayoría de las veces, vamos a realizar **T-test** o **Z-test**"
   ]
  },
  {
   "cell_type": "markdown",
   "metadata": {},
   "source": [
    "+ Si no se sabe la desviación estandar de la población usar T-Test.  \n",
    "\n",
    "+ Si se sabe la desviación estandar de la población.\n",
    "\n",
    "+ + Tamaño > 30: Usar Z-Test\n",
    "\n",
    "+ + Tamaño es < 30: Usar T-Test.  "
   ]
  },
  {
   "cell_type": "markdown",
   "metadata": {},
   "source": [
    "En general no sabremos cual es la desviación estándar de la variable que estamos estudiando para la población así que lo que haremos será aplicar el test T o T-test o T de Student."
   ]
  },
  {
   "cell_type": "markdown",
   "metadata": {},
   "source": [
    "#### T-Test: Consideraciones"
   ]
  },
  {
   "cell_type": "markdown",
   "metadata": {},
   "source": [
    "En una **prueba t de Student**, o **Test-T**, el estadístico utilizado tiene una distribución t de Student si la hipótesis nula es cierta. *Se aplica cuando la población estudiada sigue una distribución normal, pero el tamaño muestral es pequeño* (ojo, porque nosotros nos vamos a saltar esta comprobación, hay otras técnicas como el boostraping, para aplicar cuando no se cumplen estas condiciones pero se escapan del ámbito abarcable por el curso)"
   ]
  },
  {
   "cell_type": "markdown",
   "metadata": {},
   "source": [
    "### T-Test para comprobar la igualdad a un valor"
   ]
  },
  {
   "cell_type": "markdown",
   "metadata": {},
   "source": [
    "Si lo que queremos es testar la hipótesis de que no hay diferencia estadística significativa entre la media poblacional y un valor concreto, emplearemos el **T-test bilateral**. Esto lo vamos a emplear para \"estrechar\" o \"ensanchar\" el IC:"
   ]
  },
  {
   "cell_type": "markdown",
   "metadata": {},
   "source": [
    "En este caso, la hipótesis nula (la que rechazaremos si el p-value del test nos sale por debajo de nuestro 0.05 o el grado de confianza que queramos poner) es:"
   ]
  },
  {
   "cell_type": "markdown",
   "metadata": {},
   "source": [
    "$$H_0: \\mu = a$$\n"
   ]
  },
  {
   "cell_type": "markdown",
   "metadata": {},
   "source": [
    "**Es decir media poblacional ($\\mu$) es igual a un hipotético valor a ($a$)**"
   ]
  },
  {
   "cell_type": "markdown",
   "metadata": {},
   "source": [
    "Y la hipotesis alternativa, la que ganará confianza si el p-value del test nos sale por debajo de nuestro umbral de confianza (hasta ahora siempre hemos usado 0.05), sería:"
   ]
  },
  {
   "cell_type": "markdown",
   "metadata": {},
   "source": [
    "$$H_a: \\mu \\neq a$$"
   ]
  },
  {
   "cell_type": "markdown",
   "metadata": {},
   "source": [
    "Si el p-value nos sale por debajo del umbral de confianza, rechazaremos la hipótesis nula y diremos que estamos seguros (al nivel de confianza escogido) de que la media poblacional no es ese valor a (es decir aceptamos la hipótesis alternativa)"
   ]
  },
  {
   "cell_type": "markdown",
   "metadata": {},
   "source": [
    "Vamos a hacer el test para nuestras muestras respecto a la \"edad\" en el caso de Titanic y al nivel de satisfacción vital para ese otro dataset, pero poniendo como valor de $a$ las medias muestrarles, a ver qué ocurre:"
   ]
  },
  {
   "cell_type": "code",
   "execution_count": 14,
   "metadata": {},
   "outputs": [
    {
     "name": "stdout",
     "output_type": "stream",
     "text": [
      "Poblacion titanic: 891 pasajeros\n",
      "Muestra titanic: 356 pasajeros\n",
      "Poblacion Indice Satifaccion: 36 países\n",
      "Muestra titanic: 14 países\n"
     ]
    }
   ],
   "source": [
    "num_muestras_titanic = int(len(df_titanic) * 0.4)\n",
    "muestra_titanic = df_titanic.sample(num_muestras_titanic, random_state = 42)\n",
    "print(f\"Poblacion titanic: {len(df_titanic)} pasajeros\")\n",
    "print(f\"Muestra titanic: {len(muestra_titanic)} pasajeros\")\n",
    "\n",
    "num_muestras_paises = int(len(df_life_satisfaction) * 0.4)\n",
    "muestra_paises = df_life_satisfaction.sample(num_muestras_paises, random_state = 42)\n",
    "print(f\"Poblacion Indice Satifaccion: {len(df_life_satisfaction)} países\")\n",
    "print(f\"Muestra titanic: {len(muestra_paises)} países\")"
   ]
  },
  {
   "cell_type": "markdown",
   "metadata": {},
   "source": [
    "Utilizamos nuestro viejo amigo `scipy`:"
   ]
  },
  {
   "cell_type": "code",
   "execution_count": 15,
   "metadata": {},
   "outputs": [
    {
     "data": {
      "text/plain": [
       "TtestResult(statistic=0.0, pvalue=1.0, df=355)"
      ]
     },
     "execution_count": 15,
     "metadata": {},
     "output_type": "execute_result"
    }
   ],
   "source": [
    "import scipy.stats as stats\n",
    "a = muestra_titanic.age.mean()\n",
    "stats.ttest_1samp(muestra_titanic.age.values,popmean= a)"
   ]
  },
  {
   "cell_type": "code",
   "execution_count": 16,
   "metadata": {},
   "outputs": [
    {
     "data": {
      "text/plain": [
       "TtestResult(statistic=0.0, pvalue=1.0, df=13)"
      ]
     },
     "execution_count": 16,
     "metadata": {},
     "output_type": "execute_result"
    }
   ],
   "source": [
    "a = muestra_paises[\"Life satisfaction\"].mean()\n",
    "stats.ttest_1samp(muestra_paises[\"Life satisfaction\"].values, popmean = a)"
   ]
  },
  {
   "cell_type": "markdown",
   "metadata": {},
   "source": [
    "Como puedes ver en ambos casos sale un p-value = 1, es decir no podemos rechazar que la media muestral no sea la media poblacional, pero eso ya lo suponíamos o de ahí partíamos, que una muestra siempre puede ser la media de la Población si no...  \n",
    "\n",
    "El T-test nos sirve, entre otras cosas para obtener un IC más ancho o estrecho que el otorgado por la fórmula de la sesión anterior."
   ]
  },
  {
   "cell_type": "markdown",
   "metadata": {},
   "source": [
    "Para ello, interpretamos $a$ como si fuera el resultado de aplicar el intervalo de confianza $IC$:\n",
    "\n",
    "$$a = \\bar x \\pm IC$$\n",
    " "
   ]
  },
  {
   "cell_type": "markdown",
   "metadata": {},
   "source": [
    "Fijado un p-value podemos ir forzando los IC hasta encontrar el que da justo un p-value en el test ligeramente superior.  \n",
    "\n",
    "Para empezar, comprobemos que para la \"muestra\" del titanic el valor de IC que nos da un p-value límite de 0.05 es precisamente el calculado con la fórmula de la sesión anterior ($IC = 1.96 * SE$), es decir 1.36 años:"
   ]
  },
  {
   "cell_type": "code",
   "execution_count": 17,
   "metadata": {},
   "outputs": [
    {
     "name": "stdout",
     "output_type": "stream",
     "text": [
      "Para un IC: 0.0, comprobamos a = 30.786685189215653 y nos da un p-value = 1.0\n",
      "Para un IC: 0.05, comprobamos a = 30.836685189215654 y nos da un p-value = 0.9426585918232326\n",
      "Para un IC: 0.1, comprobamos a = 30.886685189215655 y nos da un p-value = 0.8856142034354949\n",
      "Para un IC: 0.15000000000000002, comprobamos a = 30.936685189215652 y nos da un p-value = 0.829159221404719\n",
      "Para un IC: 0.2, comprobamos a = 30.986685189215653 y nos da un p-value = 0.7735768867669685\n",
      "Para un IC: 0.25, comprobamos a = 31.036685189215653 y nos da un p-value = 0.7191370201025511\n",
      "Para un IC: 0.30000000000000004, comprobamos a = 31.086685189215654 y nos da un p-value = 0.6660920918175457\n",
      "Para un IC: 0.35000000000000003, comprobamos a = 31.136685189215655 y nos da un p-value = 0.6146737329749277\n",
      "Para un IC: 0.4, comprobamos a = 31.186685189215652 y nos da un p-value = 0.5650897663098774\n",
      "Para un IC: 0.45, comprobamos a = 31.236685189215653 y nos da un p-value = 0.5175218188417169\n",
      "Para un IC: 0.5, comprobamos a = 31.286685189215653 y nos da un p-value = 0.4721235575827958\n",
      "Para un IC: 0.55, comprobamos a = 31.336685189215654 y nos da un p-value = 0.42901956911951244\n",
      "Para un IC: 0.6000000000000001, comprobamos a = 31.386685189215655 y nos da un p-value = 0.38830488318756884\n",
      "Para un IC: 0.65, comprobamos a = 31.436685189215652 y nos da un p-value = 0.3500451206280947\n",
      "Para un IC: 0.7000000000000001, comprobamos a = 31.486685189215653 y nos da un p-value = 0.31427722805914643\n",
      "Para un IC: 0.75, comprobamos a = 31.536685189215653 y nos da un p-value = 0.28101074587754266\n",
      "Para un IC: 0.8, comprobamos a = 31.586685189215654 y nos da un p-value = 0.25022954332502667\n",
      "Para un IC: 0.8500000000000001, comprobamos a = 31.636685189215655 y nos da un p-value = 0.22189394465598783\n",
      "Para un IC: 0.9, comprobamos a = 31.686685189215652 y nos da un p-value = 0.19594316410831683\n",
      "Para un IC: 0.9500000000000001, comprobamos a = 31.736685189215653 y nos da un p-value = 0.1722979644161417\n",
      "Para un IC: 1.0, comprobamos a = 31.786685189215653 y nos da un p-value = 0.15086345387051053\n",
      "Para un IC: 1.05, comprobamos a = 31.836685189215654 y nos da un p-value = 0.1315319401540534\n",
      "Para un IC: 1.1, comprobamos a = 31.886685189215655 y nos da un p-value = 0.11418576496137979\n",
      "Para un IC: 1.1500000000000001, comprobamos a = 31.936685189215652 y nos da un p-value = 0.09870005130063607\n",
      "Para un IC: 1.2000000000000002, comprobamos a = 31.986685189215653 y nos da un p-value = 0.08494530483616042\n",
      "Para un IC: 1.25, comprobamos a = 32.03668518921565 y nos da un p-value = 0.07278982114125018\n",
      "Para un IC: 1.3, comprobamos a = 32.08668518921565 y nos da un p-value = 0.062101861757017346\n",
      "Para un IC: 1.35, comprobamos a = 32.136685189215655 y nos da un p-value = 0.05275157300630952\n",
      "Para un IC: 1.4000000000000001, comprobamos a = 32.18668518921565 y nos da un p-value = 0.04461263215372979\n",
      "para IC =  1.4000000000000001 se rechaza la hipótesis nula de igualda, es decir a = 32.18668518921565 ya no es una posible media poblacional al 95.0% de signifcacion\n",
      "Nuestro IC escogido es entonces, IC = 1.35\n"
     ]
    }
   ],
   "source": [
    "# Vamos a ir probando ICs desde 0 años,cada vez más grandes hasta llegar a dar un p-value menor que 0.05 el anterior lo consideraremos nuestro IC máximo de garantía\n",
    "# para el caso de p-value = 0.05\n",
    "import numpy as np \n",
    "\n",
    "p_value_target = 0.05\n",
    "\n",
    "previous_IC = 0\n",
    "for IC in np.arange(0,1.5,0.05): # partimos de IC de 0 años (a = media muestral) y vamos subiendo hasta 1.5, \n",
    "                                      # hasta encontrar el IC máximo (que debería ser 1.35), que nos garantice al 95% que la media puede ser ese valor\n",
    "    a = muestra_titanic.age.mean() + IC # La curva es simétrica nos vale con testar un lado solo\n",
    "    p_value  = stats.ttest_1samp(a=muestra_titanic.age.values,popmean= a).pvalue\n",
    "    print(f\"Para un IC: {IC}, comprobamos a = {a} y nos da un p-value = {p_value}\")\n",
    "    if p_value <= p_value_target:\n",
    "        print(f\"para IC =  {IC} se rechaza la hipótesis nula de igualda, es decir a = {a}\",\\\n",
    "               f\"ya no es una posible media poblacional al {(1-p_value_target)*100}% de signifcacion\")\n",
    "        print(f\"Nuestro IC escogido es entonces, IC = {previous_IC}\")\n",
    "        break\n",
    "    previous_IC = IC"
   ]
  },
  {
   "cell_type": "markdown",
   "metadata": {},
   "source": [
    "Pero podemos cambiar el target y ver cómo reducir el IC a expensas de la confianza estadística, por ejemplo p-value = 0.1 (el 90% de significación)"
   ]
  },
  {
   "cell_type": "code",
   "execution_count": 18,
   "metadata": {},
   "outputs": [
    {
     "name": "stdout",
     "output_type": "stream",
     "text": [
      "para IC =  1.1500000000000006 se rechaza la hipótesis nula de igualda, es decir a = 31.936685189215655 ya no es una posible media poblacional al 90.0% de signifcacion\n",
      "Nuestro IC escogido es entonces, IC = 1.1000000000000005\n"
     ]
    }
   ],
   "source": [
    "# Vamos a ir probando ICs cada vez más grandes hasta llegar a dar un p-value menor que 0.05 el anterior lo consideraremos nuestro IC máximo de garantía\n",
    "# para el caso de p-value = 0.05\n",
    "p_value_target = 0.1\n",
    "import numpy as np\n",
    "previous_IC = 0.5\n",
    "for IC in np.arange(0.5,1.5,0.05): # partimos de IC de 0.5 años y vamos subiendo hasta 1.5 hasta encontrar el IC máximo (que debería ser 1.35)\n",
    "    a = muestra_titanic.age.mean() + IC # La curva es simétrica nos vale con testar un lado solo\n",
    "    p_value  = stats.ttest_1samp(a=muestra_titanic.age.values,popmean= a).pvalue\n",
    "    if p_value <= p_value_target:\n",
    "        print(f\"para IC =  {IC} se rechaza la hipótesis nula de igualda, es decir a = {a}\",\\\n",
    "               f\"ya no es una posible media poblacional al {(1-p_value_target)*100}% de signifcacion\")\n",
    "        print(f\"Nuestro IC escogido es entonces, IC = {previous_IC}\")\n",
    "        break\n",
    "    previous_IC = IC"
   ]
  },
  {
   "cell_type": "markdown",
   "metadata": {},
   "source": [
    "O podemos aumentar el IC para estar más seguros todavía de que la media poblacional caerá en ese intervalor, por ejemplo al 99%, p-target = 0.01"
   ]
  },
  {
   "cell_type": "code",
   "execution_count": 19,
   "metadata": {},
   "outputs": [
    {
     "name": "stdout",
     "output_type": "stream",
     "text": [
      "para IC =  1.8000000000000012 se rechaza la hipótesis nula de igualda, es decir a = 32.58668518921566 ya no es una posible media poblacional al 99.0% de signifcacion\n",
      "Nuestro IC escogido es entonces, IC = 1.750000000000001\n"
     ]
    }
   ],
   "source": [
    "# Vamos a ir probando ICs cada vez más grandes hasta llegar a dar un p-value menor que 0.05 el anterior lo consideraremos nuestro IC máximo de garantía\n",
    "# para el caso de p-value = 0.05\n",
    "p_value_target = 0.01\n",
    "import numpy as np\n",
    "previous_IC = 0.5\n",
    "for IC in np.arange(0.5,2,0.05): # partimos de IC de 0.5 años y vamos subiendo hasta 1.5 hasta encontrar el IC máximo (que debería ser 1.35)\n",
    "    a = muestra_titanic.age.mean() + IC # La curva es simétrica nos vale con testar un lado solo\n",
    "    p_value  = stats.ttest_1samp(a=muestra_titanic.age.values,popmean= a).pvalue\n",
    "    if p_value <= p_value_target:\n",
    "        print(f\"para IC =  {IC} se rechaza la hipótesis nula de igualda, es decir a = {a}\",\\\n",
    "               f\"ya no es una posible media poblacional al {(1-p_value_target)*100}% de signifcacion\")\n",
    "        print(f\"Nuestro IC escogido es entonces, IC = {previous_IC}\")\n",
    "        break\n",
    "    previous_IC = IC"
   ]
  },
  {
   "cell_type": "markdown",
   "metadata": {},
   "source": [
    "Ahora necesitaríamos un IC de 1.75 años."
   ]
  },
  {
   "cell_type": "markdown",
   "metadata": {},
   "source": [
    "Para terminar apliquémoslo a la satisfacción vital y obtener el IC para pvalue de 0.05 (el IC según la fórmula) y para pvalue del 0.1:"
   ]
  },
  {
   "cell_type": "code",
   "execution_count": 20,
   "metadata": {},
   "outputs": [
    {
     "name": "stdout",
     "output_type": "stream",
     "text": [
      "6.503470342300567\n",
      "6.599421401893583\n"
     ]
    }
   ],
   "source": [
    "# Nos hacemos una idea de donde puede estar el margen\n",
    "print(muestra_paises[\"Life satisfaction\"].mean())\n",
    "print(df_life_satisfaction[\"Life satisfaction\"].mean())"
   ]
  },
  {
   "cell_type": "code",
   "execution_count": 21,
   "metadata": {},
   "outputs": [
    {
     "name": "stdout",
     "output_type": "stream",
     "text": [
      "IC escogido: 0.4\n"
     ]
    }
   ],
   "source": [
    "# Para p-value = 0.05\n",
    "previous_IC = 0.1\n",
    "p_target = 0.05\n",
    "for IC in np.arange(0.1,1,0.1): # Probamos de 0.1 a 1 puntos de IC en saltos de 0.1\n",
    "    a = muestra_paises[\"Life satisfaction\"].mean() + IC\n",
    "    pvalue = stats.ttest_1samp(a=muestra_paises[\"Life satisfaction\"].values,popmean= a).pvalue\n",
    "    if pvalue <= p_target:\n",
    "        print(\"IC escogido:\", round(previous_IC,2))\n",
    "        break\n",
    "    previous_IC = IC\n",
    "    "
   ]
  },
  {
   "cell_type": "code",
   "execution_count": 22,
   "metadata": {},
   "outputs": [
    {
     "name": "stdout",
     "output_type": "stream",
     "text": [
      "IC escogido: 0.3\n"
     ]
    }
   ],
   "source": [
    "# Para p-value = 0.1\n",
    "previous_IC = 0.1\n",
    "p_target = 0.1\n",
    "for IC in np.arange(0.1,1,0.1): # Probamos de 0.1 a 1 puntos de IC en saltos de 0.1\n",
    "    a = muestra_paises[\"Life satisfaction\"].mean() + IC\n",
    "    pvalue = stats.ttest_1samp(a=muestra_paises[\"Life satisfaction\"].values,popmean= a).pvalue\n",
    "    if pvalue <= p_target:\n",
    "        print(\"IC escogido:\", round(previous_IC,2))\n",
    "        break\n",
    "    previous_IC = IC"
   ]
  },
  {
   "cell_type": "code",
   "execution_count": 23,
   "metadata": {},
   "outputs": [
    {
     "name": "stdout",
     "output_type": "stream",
     "text": [
      "IC escogido: 0.6\n"
     ]
    }
   ],
   "source": [
    "# Para p-value = 0.01\n",
    "previous_IC = 0.1\n",
    "p_target = 0.01\n",
    "for IC in np.arange(0.1,1,0.1): # Probamos de 0.1 a 1 puntos de IC en saltos de 0.1\n",
    "    a = muestra_paises[\"Life satisfaction\"].mean() + IC\n",
    "    pvalue = stats.ttest_1samp(a=muestra_paises[\"Life satisfaction\"].values,popmean= a).pvalue\n",
    "    if pvalue <= p_target:\n",
    "        print(\"IC escogido:\", round(previous_IC,2))\n",
    "        break\n",
    "    previous_IC = IC"
   ]
  },
  {
   "cell_type": "markdown",
   "metadata": {},
   "source": [
    "## INFERENCIAL (IV): Contraste de hipótesis para la media (II)"
   ]
  },
  {
   "cell_type": "code",
   "execution_count": 24,
   "metadata": {},
   "outputs": [
    {
     "name": "stdout",
     "output_type": "stream",
     "text": [
      "Poblacion titanic: 891 pasajeros\n",
      "Muestra titanic: 356 pasajeros\n",
      "Poblacion Indice Satifaccion: 36 países\n",
      "Muestra titanic: 14 países\n"
     ]
    }
   ],
   "source": [
    "num_muestras_titanic = int(len(df_titanic) * 0.4)\n",
    "muestra_titanic = df_titanic.sample(num_muestras_titanic, random_state = 42)\n",
    "print(f\"Poblacion titanic: {len(df_titanic)} pasajeros\")\n",
    "print(f\"Muestra titanic: {len(muestra_titanic)} pasajeros\")\n",
    "\n",
    "num_muestras_paises = int(len(df_life_satisfaction) * 0.4)\n",
    "muestra_paises = df_life_satisfaction.sample(num_muestras_paises, random_state = 42)\n",
    "print(f\"Poblacion Indice Satifaccion: {len(df_life_satisfaction)} países\")\n",
    "print(f\"Muestra titanic: {len(muestra_paises)} países\")\n"
   ]
  },
  {
   "cell_type": "markdown",
   "metadata": {},
   "source": [
    "### T-test para umbrales"
   ]
  },
  {
   "cell_type": "markdown",
   "metadata": {},
   "source": [
    "En este caso la hipótesis nula puede tomar dos \"aspectos\":\n",
    "\n",
    "\n",
    "$$H_0: \\mu \\leq a$$\n",
    "$$o$$\n",
    "$$H_0: \\mu \\geq a$$\n"
   ]
  },
  {
   "cell_type": "markdown",
   "metadata": {},
   "source": [
    "Y las hipótesis alternativas equivalentes quedarían:  \n",
    "\n",
    "$$H_a: \\mu > a$$\n",
    "$$o$$\n",
    "$$H_a: \\mu < a$$  \n",
    "\n",
    "¿Cómo se aplica? Comprobemos si la media de \"Life satisfaction\" de la poblacion de países es mayor que 6.6, por ejemplo (que sabemos que es menor) con una confianza estadística del 95%. En este caso nuestra hipótesis alternativa es $H_a: \\mu > 6.6$ y la hipótesis nula $H_0: \\mu \\leq a$."
   ]
  },
  {
   "cell_type": "code",
   "execution_count": 25,
   "metadata": {},
   "outputs": [
    {
     "data": {
      "text/plain": [
       "TtestResult(statistic=-0.43985840098335277, pvalue=0.6663681557371673, df=13)"
      ]
     },
     "execution_count": 25,
     "metadata": {},
     "output_type": "execute_result"
    }
   ],
   "source": [
    "data = muestra_paises[\"Life satisfaction\"]\n",
    "stats.ttest_1samp(a=data,popmean=6.6,alternative='greater')"
   ]
  },
  {
   "cell_type": "markdown",
   "metadata": {},
   "source": [
    "Es decir en este caso no podemos rechazar la hipótesis nula, y no podemos afirmar que la media de la satisfacción vital sea para la población mayor que 6.6 con una significación del 95%. Probemos ahora a ver si podemos aceptar que la satisfacción vital media es menor que 4.5, por ejemplo:"
   ]
  },
  {
   "cell_type": "markdown",
   "metadata": {},
   "source": [
    "$H_0: \\mu \\ge 4.5$  \n",
    "\n",
    "$H_a: \\mu < 4.5$"
   ]
  },
  {
   "cell_type": "code",
   "execution_count": 26,
   "metadata": {},
   "outputs": [
    {
     "data": {
      "text/plain": [
       "TtestResult(statistic=9.129248794457022, pvalue=0.9999997438782476, df=13)"
      ]
     },
     "execution_count": 26,
     "metadata": {},
     "output_type": "execute_result"
    }
   ],
   "source": [
    "data = muestra_paises[\"Life satisfaction\"]\n",
    "stats.ttest_1samp(a=data,popmean=4.5,alternative='less')"
   ]
  },
  {
   "cell_type": "markdown",
   "metadata": {},
   "source": [
    "Claramente tampoco podemos aceptar la hipótesis alternativa de que la media de la satisfacción vital de todos los países estás por debajo de 4.5, al menos no al 95%. "
   ]
  },
  {
   "cell_type": "markdown",
   "metadata": {},
   "source": [
    "### T-test para dos muestras\n",
    "Podemos comparar las medias de variables de dos muestras de poblaciones diferentes. \n",
    "\n",
    "Ejemplo: Queremos comprobar el desempeño de dos call centers en términos de longitud media de las llamadas y encontrar si hay diferencias estadísticamente significativas. \n",
    "\n",
    "**$H_0$** (hipótesis nula): no hay diferencia entre la media del tiempo de llamadas entre ambos call centers  \n",
    "**$H_a$** (hipótesis alternativa): existe una diferencia entre la media del tiempo de llamadas de ambos call centers\n",
    "\n",
    "Seleccionamos aleatoriamente 20 llamadas de cada call center y medimos la longitud media de cada llamada (en segundos):\n",
    "\n",
    "\n",
    "Call Center A: 115, 138, 109, 141, 139, 131, 123, 128, 144, 167, 134, 142, 174, 149, 115, 152, 131, 161, 131, 121  \n",
    "Call Center B: 137, 125, 86, 121, 101, 110, 129, 136, 102, 114, 131, 109, 119, 144, 145, 121, 137, 131, 134, 126  "
   ]
  },
  {
   "cell_type": "code",
   "execution_count": 27,
   "metadata": {},
   "outputs": [],
   "source": [
    "# Call Center A\n",
    "A = [115, 138, 109, 141, 139, 131, 123, 128, 144, 167, 134, 142, 174, 149, 115, 152, 131, 161, 131, 121]\n",
    "\n",
    "# Call Center B\n",
    "B = [137, 125, 86, 121, 101, 110, 129, 136, 102, 114, 131, 109, 119, 144, 145, 121, 137, 131, 134, 126]"
   ]
  },
  {
   "cell_type": "code",
   "execution_count": 28,
   "metadata": {},
   "outputs": [
    {
     "data": {
      "text/plain": [
       "TtestResult(statistic=2.761988576903894, pvalue=0.008802045351068372, df=38.0)"
      ]
     },
     "execution_count": 28,
     "metadata": {},
     "output_type": "execute_result"
    }
   ],
   "source": [
    "stats.ttest_ind(a=A, b=B, alternative='two-sided')"
   ]
  },
  {
   "cell_type": "markdown",
   "metadata": {},
   "source": [
    "Con este p-value podemos rechazar la hipótesis nula de que no existe diferencia entre ambas y aceptar que existe una diferencia en la duración media de las llamadas a un call center y otro."
   ]
  },
  {
   "cell_type": "markdown",
   "metadata": {},
   "source": [
    "## INFERENCIAL (V): Frecuencias Muestrales"
   ]
  },
  {
   "cell_type": "code",
   "execution_count": 29,
   "metadata": {},
   "outputs": [
    {
     "name": "stdout",
     "output_type": "stream",
     "text": [
      "Poblacion titanic: 891 pasajeros\n",
      "Muestra titanic: 356 pasajeros\n"
     ]
    }
   ],
   "source": [
    "num_muestras_titanic = int(len(df_titanic) * 0.4)\n",
    "muestra_titanic = df_titanic.sample(num_muestras_titanic, random_state = 42)\n",
    "print(f\"Poblacion titanic: {len(df_titanic)} pasajeros\")\n",
    "print(f\"Muestra titanic: {len(muestra_titanic)} pasajeros\")\n"
   ]
  },
  {
   "cell_type": "markdown",
   "metadata": {},
   "source": [
    "### Z-test para proporciones y frecuencias"
   ]
  },
  {
   "cell_type": "markdown",
   "metadata": {},
   "source": [
    "Es hora de trabajar sobre las medidas que tomamos en las variables categóricas, es decir sobre sus frecuencias y poder hacer suposiciones y testar hipótesis sobre las frecuencias de esas mismas variables para la población total de la que hemos obtenido nuestra muestra."
   ]
  },
  {
   "cell_type": "markdown",
   "metadata": {},
   "source": [
    "### Test para un valor concreto de frecuencia o proporción"
   ]
  },
  {
   "cell_type": "markdown",
   "metadata": {},
   "source": [
    "Usemos un ejemplo para ver el Z-test aplicado a una frecuencia. En concreto, supongamos que queremos saber si dada la tasa de supervivencia de nuestra muestra:"
   ]
  },
  {
   "cell_type": "code",
   "execution_count": 30,
   "metadata": {},
   "outputs": [
    {
     "data": {
      "text/plain": [
       "39.33"
      ]
     },
     "execution_count": 30,
     "metadata": {},
     "output_type": "execute_result"
    }
   ],
   "source": [
    "tasa_supervivencia_muestral = round(muestra_titanic[\"alive\"].value_counts(normalize = True)[\"yes\"] * 100,2)\n",
    "tasa_supervivencia_muestral"
   ]
  },
  {
   "cell_type": "markdown",
   "metadata": {},
   "source": [
    "podemos rechazar una tasa un poco menor, digamos un 37%, con una significación del 95% (probabilidad de no equivocarnos al rechazar la hipótesis nula). En términos de hipótesis:\n",
    "\n",
    "$$H_0: \\pi = 37\\,\\% \\; \\text{(La hipótesis nula es la contraria a lo que estamos queriendo reforzar)}$$\n",
    "\n",
    "$$H_a: \\pi \\neq 37\\,\\%$$"
   ]
  },
  {
   "cell_type": "markdown",
   "metadata": {},
   "source": [
    "Para aplicar el test recurrimos a otro paquete, esta vez `statsmodels`:"
   ]
  },
  {
   "cell_type": "code",
   "execution_count": 31,
   "metadata": {},
   "outputs": [
    {
     "name": "stdout",
     "output_type": "stream",
     "text": [
      "Estadístico Z: 0.8999781162822953\n",
      "P-valor: 0.3681318966771918\n"
     ]
    }
   ],
   "source": [
    "from statsmodels.stats.proportion import proportions_ztest\n",
    "\n",
    "p_hat = tasa_supervivencia_muestral/100 # Proporcion o frecuecia de la variable en la muestra\n",
    "n = len(muestra_titanic)       # Tamaño de la muestra\n",
    "Pi = 0.37     # Proporción o frecuencia que queremos probar en la población\n",
    "# Calcular el estadístico Z y el p-valor\n",
    "z_stat, p_value = proportions_ztest(p_hat * n, n, Pi)\n",
    "\n",
    "# Mostrar resultados\n",
    "print(f\"Estadístico Z: {z_stat}\")\n",
    "print(f\"P-valor: {p_value}\")\n"
   ]
  },
  {
   "cell_type": "markdown",
   "metadata": {},
   "source": [
    "El p-valor obtenido no nos permite rechazar la hipótesis nula, por lo que la tasa de supervivencia en la población para una confianza del 95% no podría ser 37. Probemos un valor aún menor, 32% (y sí así podríamos encontrar el equivalente al IC para esta tasa)"
   ]
  },
  {
   "cell_type": "code",
   "execution_count": 32,
   "metadata": {},
   "outputs": [
    {
     "name": "stdout",
     "output_type": "stream",
     "text": [
      "Estadístico Z: 2.8312616276176983\n",
      "P-valor: 0.004636477880043043\n"
     ]
    }
   ],
   "source": [
    "p_hat = tasa_supervivencia_muestral/100 # Proporcion o frecuecia de la variable en la muestra\n",
    "n = len(muestra_titanic)       # Tamaño de la muestra\n",
    "Pi = 0.32   # Proporción o frecuencia que queremos probar en la población\n",
    "# Calcular el estadístico Z y el p-valor\n",
    "z_stat, p_value = proportions_ztest(p_hat * n, n, Pi)\n",
    "\n",
    "# Mostrar resultados\n",
    "print(f\"Estadístico Z: {z_stat}\")\n",
    "print(f\"P-valor: {p_value}\")\n"
   ]
  },
  {
   "cell_type": "markdown",
   "metadata": {},
   "source": [
    "Para ese p-value sí que podríamos rechazar la hipótesis nula y decir que la tasa de supervivencia en la \"población\" del titanic es superior a 32%, con una confianza del 95%"
   ]
  },
  {
   "cell_type": "markdown",
   "metadata": {},
   "source": [
    "### Test para umbrales de una proporción"
   ]
  },
  {
   "cell_type": "markdown",
   "metadata": {},
   "source": [
    "Al igual que ocurría con el caso de testar si la media de una población sería mayor o menor que un umbral, podemos aplicar el test Z para estimar la significación estadística de hipótesis análogas sobre proporciones o frecuencias"
   ]
  },
  {
   "cell_type": "markdown",
   "metadata": {},
   "source": [
    "Por ejemplo, supongamos que nuestra hipótesis es que la tasa de supervivencia es menor que 40%, cómo serían nuestras hipótesis nula y alternativa:"
   ]
  },
  {
   "cell_type": "markdown",
   "metadata": {},
   "source": [
    "$$H_0: \\pi \\ge 40\\,\\%$$\n",
    "$$H_a: \\pi < 40\\,\\%$$"
   ]
  },
  {
   "cell_type": "markdown",
   "metadata": {},
   "source": [
    "Y nuestro test:"
   ]
  },
  {
   "cell_type": "code",
   "execution_count": 33,
   "metadata": {},
   "outputs": [
    {
     "name": "stdout",
     "output_type": "stream",
     "text": [
      "Estadístico Z: -0.2587919905189477\n",
      "P-valor: 0.3978978690261754\n"
     ]
    }
   ],
   "source": [
    "p_hat = tasa_supervivencia_muestral/100 # Proporcion o frecuecia de la variable en la muestra\n",
    "n = len(muestra_titanic)       # Tamaño de la muestra\n",
    "Pi = 0.40     # Proporción o frecuencia que queremos probar en la población\n",
    "# Calcular el estadístico Z y el p-valor\n",
    "z_stat, p_value = proportions_ztest(p_hat * n, n, Pi, alternative = \"smaller\")\n",
    "\n",
    "# Mostrar resultados\n",
    "print(f\"Estadístico Z: {z_stat}\")\n",
    "print(f\"P-valor: {p_value}\")"
   ]
  },
  {
   "cell_type": "markdown",
   "metadata": {},
   "source": [
    "No podemos rechazar la hipótesis nula y por tanto no podemos asumir que la tasa de supervivencia en la población sea menor al 40%, con un 95% de confianza estadística.\n"
   ]
  },
  {
   "cell_type": "markdown",
   "metadata": {},
   "source": [
    "Probemos ahora para la hipótesis de que la tasa debe ser mayor que un 30%:"
   ]
  },
  {
   "cell_type": "markdown",
   "metadata": {},
   "source": [
    "$$H_0: \\pi \\leq 30\\,\\%$$\n",
    "$$H_a: \\pi > 30\\,\\%$$"
   ]
  },
  {
   "cell_type": "code",
   "execution_count": 35,
   "metadata": {},
   "outputs": [
    {
     "name": "stdout",
     "output_type": "stream",
     "text": [
      "Estadístico Z: 3.60377503215186\n",
      "P-valor: 0.0001568142715050189\n"
     ]
    }
   ],
   "source": [
    "p_hat = tasa_supervivencia_muestral/100 # Proporcion o frecuecia de la variable en la muestra\n",
    "n = len(muestra_titanic)       # Tamaño de la muestra\n",
    "Pi = 0.30     # Proporción o frecuencia que queremos probar en la población\n",
    "# Calcular el estadístico Z y el p-valor\n",
    "z_stat, p_value = proportions_ztest(p_hat * n, n, Pi, alternative = \"larger\") # Fijate que los valores alternative son diferentes a los usados t-test\n",
    "\n",
    "# Mostrar resultados\n",
    "print(f\"Estadístico Z: {z_stat}\")\n",
    "print(f\"P-valor: {p_value}\")"
   ]
  },
  {
   "cell_type": "markdown",
   "metadata": {},
   "source": [
    "El p-value obtenido nos lleva a rechazar la hipótesis nula y por tanto podemos decir con una confianza estadística del 95% que la tasa de supervivencia en la población es mayor al 30%."
   ]
  },
  {
   "cell_type": "markdown",
   "metadata": {},
   "source": [
    "### Z-Test para comprobar proporciones y ratios en dos poblaciones"
   ]
  },
  {
   "cell_type": "markdown",
   "metadata": {},
   "source": [
    "Igual que en la sesión anterior comparamos dos muestras de llamadas de dos callcenter diferentes para poder decir si la media de la duración de llamadas era diferetne, podemos hacer lo mismo respecto a la frecuencia o ratio o proporción de una variable categórica medida en dos muestras distintas."
   ]
  },
  {
   "cell_type": "markdown",
   "metadata": {},
   "source": [
    "Por ejemplo: \n",
    "- Efectividad de medicamentos (proporción de personas que han mejorado tras un tratamiento con dos medicamentos distintos o un medicamento y un placebo)\n",
    "- Resultados electorales (proporción de personas que votan a cada candidato)\n",
    "- Comportamiento de consumidores (proporción de consumidores que compran un producto)\n",
    "- Resultados de encuestas (proporción de personas que responden en dos regiones diferentes)\n",
    "- **A/B testing**: En estudios de mercado, se implementan dos versiones de un producto (A y B) y se prueban en diferentes grupos de usuarios\n"
   ]
  },
  {
   "cell_type": "markdown",
   "metadata": {},
   "source": [
    "**Ejemplo**: Para conseguir registros en nuestra web, creamos dos secciones de registro diferentes (una más colorida, y otra más sobria). \n",
    "\n",
    "El primer diseño se muestra a 200 personas, de las cuales conseguimos 130 registros (65% de conversiones)  \n",
    "El segundo diseño se muestra a 100 personas, de las cuales conseguimos 56 registros (56% de conversiones)\n",
    "\n",
    "¿Es esta diferencia estadísticamente significativa? ¿Qué opción escojo?"
   ]
  },
  {
   "cell_type": "markdown",
   "metadata": {},
   "source": [
    "1. Definimos las hipótesis, en nuestro caso la alternativa es que la primera tiene un ratio de conversión mayor que la segunda:  \n",
    "$$H_0: p_1=p_2$$  \n",
    "$$H_1: p_1>p_2$$"
   ]
  },
  {
   "cell_type": "markdown",
   "metadata": {},
   "source": [
    "2. Calculamos el estadístico (fíjate en cómo introducimos las dos proporciones):"
   ]
  },
  {
   "cell_type": "code",
   "execution_count": 36,
   "metadata": {},
   "outputs": [
    {
     "name": "stdout",
     "output_type": "stream",
     "text": [
      "1.5139419980680997\n",
      "0.06502027550522334\n"
     ]
    }
   ],
   "source": [
    "\n",
    "exitos = np.array([130,56])\n",
    "muestras = np.array([200,100])\n",
    "\n",
    "\n",
    "(z,pvalor) = proportions_ztest(count=exitos, nobs=muestras, alternative='larger')\n",
    "\n",
    "print(z)\n",
    "print(pvalor)"
   ]
  },
  {
   "cell_type": "markdown",
   "metadata": {},
   "source": [
    "No podemos rechazar la hipótesis nula con un 95% de confianza y por tanto, no podemos decir que una de las webs haya resultado mejor que la otra con ese nivel de confianza estadística (ojo fíjate que sí podríamos decirlo con un 90% de confianza)"
   ]
  },
  {
   "cell_type": "markdown",
   "metadata": {},
   "source": []
  }
 ],
 "metadata": {
  "kernelspec": {
   "display_name": "Python 3",
   "language": "python",
   "name": "python3"
  },
  "language_info": {
   "codemirror_mode": {
    "name": "ipython",
    "version": 3
   },
   "file_extension": ".py",
   "mimetype": "text/x-python",
   "name": "python",
   "nbconvert_exporter": "python",
   "pygments_lexer": "ipython3",
   "version": "3.10.11"
  }
 },
 "nbformat": 4,
 "nbformat_minor": 2
}
