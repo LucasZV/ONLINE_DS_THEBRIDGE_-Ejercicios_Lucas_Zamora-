{
 "cells": [
  {
   "attachments": {},
   "cell_type": "markdown",
   "metadata": {},
   "source": [
    "# Simulacro Rampup"
   ]
  },
  {
   "cell_type": "code",
   "execution_count": 1,
   "metadata": {},
   "outputs": [],
   "source": [
    "# Escribe tu nombre y apellidos (apellido si solo tienes uno) en las variables:\n",
    "nombre = \"Lucas\"\n",
    "apellidos = \"Zamora Vera\""
   ]
  },
  {
   "cell_type": "code",
   "execution_count": 2,
   "metadata": {},
   "outputs": [
    {
     "name": "stdout",
     "output_type": "stream",
     "text": [
      "Bienvenido Lucas Zamora Vera. Mucha suerte!\n"
     ]
    }
   ],
   "source": [
    "# Solo ejecutar\n",
    "nombre_apellidos = nombre + ' ' + apellidos\n",
    "print(\"Bienvenido\", nombre_apellidos + '. Mucha suerte!')"
   ]
  },
  {
   "cell_type": "markdown",
   "metadata": {},
   "source": [
    "### Ejercicio 1: Calculadoras (3 puntos)\n"
   ]
  },
  {
   "cell_type": "markdown",
   "metadata": {},
   "source": [
    "Construye un programa que:\n",
    "\n",
    "- Salude al usuario por su nombre\n",
    "- Le pregunte si quiere sumar, restar, multiplicar o dividir\n",
    "- Pida que introduzca 2 números de manera sucesiva\n",
    "- Devuelva el resultado de manera formal con un mensaje apropiado \n",
    "\n",
    "**Ayuda**: No se puede dividir por 0"
   ]
  },
  {
   "cell_type": "code",
   "execution_count": 17,
   "metadata": {},
   "outputs": [
    {
     "name": "stdin",
     "output_type": "stream",
     "text": [
      "Introduce tu nombre asdf\n"
     ]
    },
    {
     "name": "stdout",
     "output_type": "stream",
     "text": [
      "Hola asdf, bienvenido a la calculadora.\n"
     ]
    },
    {
     "name": "stdin",
     "output_type": "stream",
     "text": [
      "¿Que operacion quieres realizar? Sumar(s), restar(r), multiplicar(m) o dividir(d). S\n",
      "Introduce aquí tus numeros separados por comas 2, 3\n"
     ]
    },
    {
     "name": "stdout",
     "output_type": "stream",
     "text": [
      "La suma de 2.0 y 3.0 es 5.0\n"
     ]
    }
   ],
   "source": [
    "nombre = input(\"Introduce tu nombre\")\n",
    "print(f\"Hola {nombre}, bienvenido a la calculadora.\")\n",
    "operacion = input(\"¿Que operacion quieres realizar? Sumar(s), restar(r), multiplicar(m) o dividir(d).\").lower()\n",
    "numeros = input(\"Introduce aquí tus numeros separados por comas\")\n",
    "lista_numeros = numeros.split(\",\")\n",
    "numero_1 = float(lista_numeros[0])\n",
    "numero_2 = float(lista_numeros[1])\n",
    "if operacion == \"sumar\" or operacion == \"s\":\n",
    "    print(f\"La suma de {numero_1} y {numero_2} es {numero_1 + numero_2}\")\n",
    "elif operacion == \"restar\" or operacion == \"r\":\n",
    "    print(f\"La resta de {numero_1} y {numero_2} es {numero_1 - numero_2}\")\n",
    "elif operacion == \"multiplicar\" or operacion == \"m\":\n",
    "     print(f\"La multiplicación de {numero_1} y {numero_2} es {numero_1 * numero_2}\")\n",
    "elif operacion == \"dividir\" or operacion == \"d\":\n",
    "    if numero_2 == 0 or numero_2 == 0.0:\n",
    "        print(\"No se puede dividir entre 0.\")\n",
    "    else:\n",
    "         print(f\"La división entre {numero_1} y {numero_2} es {numero_1 / numero_2}\")\n",
    "\n"
   ]
  },
  {
   "cell_type": "markdown",
   "metadata": {},
   "source": [
    "Construye una calculadora que sea como la anterior pero:\n",
    "\n",
    "- Acepte tantos valores de entrada como queramos\n",
    "- Devuelva mensajes con las cuentas que se van haciendo.\n",
    "- Permita salir con una palabra clave (exit, quit, ...)"
   ]
  },
  {
   "cell_type": "code",
   "execution_count": 23,
   "metadata": {},
   "outputs": [
    {
     "name": "stdin",
     "output_type": "stream",
     "text": [
      "Introduce tu nombre lucas\n"
     ]
    },
    {
     "name": "stdout",
     "output_type": "stream",
     "text": [
      "Hola lucas, bienvenido a la calculadora.\n"
     ]
    },
    {
     "name": "stdin",
     "output_type": "stream",
     "text": [
      "¿Que operacion quieres realizar? Sumar(s), restar(r), multiplicar(m) o dividir(d). Si quieres salir escirbe: Exit d\n",
      "Introduce aquí tus numeros separados por comas 2, 0\n"
     ]
    },
    {
     "name": "stdout",
     "output_type": "stream",
     "text": [
      "No se puede dividir entre 0.\n"
     ]
    }
   ],
   "source": [
    "nombre = input(\"Introduce tu nombre\")\n",
    "print(f\"Hola {nombre}, bienvenido a la calculadora.\")\n",
    "operacion = input(\"¿Que operacion quieres realizar? Sumar(s), restar(r), multiplicar(m) o dividir(d). Si quieres salir escirbe: Exit\").lower()\n",
    "if operacion == \"exit\":\n",
    "    print(\"Hasta luego\")\n",
    "else:\n",
    "    numeros = input(\"Introduce aquí tus numeros separados por comas\")\n",
    "    lista_numeros = numeros.split(\",\")\n",
    "    numero_1 = float(lista_numeros[0])\n",
    "    numero_2 = float(lista_numeros[1])\n",
    "    if operacion == \"sumar\" or operacion == \"s\":\n",
    "        print(f\"La suma de {numero_1} y {numero_2} es {numero_1 + numero_2}\")\n",
    "    elif operacion == \"restar\" or operacion == \"r\":\n",
    "        print(f\"La resta de {numero_1} y {numero_2} es {numero_1 - numero_2}\")\n",
    "    elif operacion == \"multiplicar\" or operacion == \"m\":\n",
    "        print(f\"La multiplicación de {numero_1} y {numero_2} es {numero_1 * numero_2}\")\n",
    "    elif operacion == \"dividir\" or operacion == \"d\":\n",
    "        if numero_2 == 0 or numero_2 == 0.0:\n",
    "            print(\"ERROR. No se puede dividir entre 0.\")\n",
    "        else:\n",
    "             print(f\"La división entre {numero_1} y {numero_2} es {numero_1 / numero_2}\")\n"
   ]
  },
  {
   "attachments": {},
   "cell_type": "markdown",
   "metadata": {},
   "source": [
    "### Ejercicio 2 (3 puntos)\n",
    "\n",
    "#### Crear un programa que calcule la cuota de una hipoteca\n",
    "\n",
    "Las cuotas hipotecarias se calculan utilizando la fórmula del interés francés. \n",
    "\n",
    "La fórmula del interés francés es la siguiente:\n",
    "\\begin{align*}\n",
    "C=V \\frac{(1+i)^n i}{(1+i)^n -1}\n",
    "\\end{align*}\n",
    "\n",
    "\n",
    "    C = cuota a pagar (mensual)\n",
    "    V = volumen del préstamo hipotecario\n",
    "    i = tipo de interés del período (mensual)\n",
    "    n = número de cuotas (mensuales)\n",
    "\n"
   ]
  },
  {
   "attachments": {},
   "cell_type": "markdown",
   "metadata": {},
   "source": [
    "1. Crea un programa que solicite al usuario los datos de su hipoteca mediante input() los datos (volumen, interés **anual**, y plazo en **años**) y le devuelva la cuota **mensual** a pagar. No es necesario encapsularlo en funciones. (0.4)"
   ]
  },
  {
   "cell_type": "code",
   "execution_count": 31,
   "metadata": {},
   "outputs": [
    {
     "name": "stdout",
     "output_type": "stream",
     "text": [
      "Vamos a calcular la cuota de tu hipotéca\n"
     ]
    },
    {
     "name": "stdin",
     "output_type": "stream",
     "text": [
      "Introduce el volumen del prestamo 100000\n",
      "Introduce el interés 4\n",
      "Introduce el plazo en años 30\n"
     ]
    },
    {
     "name": "stdout",
     "output_type": "stream",
     "text": [
      "Tu cuota es de 477.42 € mensuales.\n"
     ]
    }
   ],
   "source": [
    "print(\"Vamos a calcular la cuota de tu hipotéca\")\n",
    "volumen = float(input(\"Introduce el volumen del prestamo\"))\n",
    "interes = float((input(\"Introduce el interés\").replace(\"%\", \"\")))/100/12\n",
    "plazo = int(input(\"Introduce el plazo en años\")) * 12\n",
    "cuota = volumen * ((((1 + interes) ** plazo) * interes)  / ((1 + interes) ** plazo - 1))\n",
    "print(f\"Tu cuota es de {round(cuota, 2)} € mensuales.\")"
   ]
  },
  {
   "attachments": {},
   "cell_type": "markdown",
   "metadata": {},
   "source": [
    "2. Crea una función `calcular_hip` que realiza el cálculo y cuyos argumentos de entrada sean `volumen`, `interes_anual` y `años`, devolviendo la couta mensual(float). El argumento de `años` deberá de tener un valor por defecto de 30. Documenta la función con el estilo de Google.  (0.4)"
   ]
  },
  {
   "cell_type": "code",
   "execution_count": 40,
   "metadata": {},
   "outputs": [],
   "source": [
    "def calcular_hip(volumen, interes_anual, plazo = 30):\n",
    "    i = interes_anual / 100 / 12\n",
    "    plazo_men = plazo * 12\n",
    "    cuota = volumen * ((((1 + i) ** plazo_men) * i)  / ((1 + i) ** plazo_men - 1))\n",
    "    return f\"Tu cuota es de {round(cuota, 2)} € al mes.\"\n"
   ]
  },
  {
   "attachments": {},
   "cell_type": "markdown",
   "metadata": {},
   "source": [
    "3. Calcula la cuota y guárdala en la variable `res_cuota` si la cantidad de la hipoteca son 350000 euros, el interés anual es del 5% y la quiere pagar en 20 años a partir de la función `calcular_hip`. (0.4)\n",
    "\n"
   ]
  },
  {
   "cell_type": "code",
   "execution_count": 41,
   "metadata": {},
   "outputs": [
    {
     "name": "stdout",
     "output_type": "stream",
     "text": [
      "Tu cuota es de 2309.85 € al mes.\n"
     ]
    }
   ],
   "source": [
    "res_cuota = calcular_hip(350000, 5, 20)\n",
    "print(res_cuota)"
   ]
  },
  {
   "attachments": {},
   "cell_type": "markdown",
   "metadata": {},
   "source": [
    "4. Crea una función `gasto_vivienda`, con dos argumentos de entrada `ingreso` y `lista_hip`. Esta lista tendrá los 3 valores de los argumentos de entrada de `calcular_hip`, llamando a esta función desde dentro de `gasto_vivienda`. Tiene que devolver el valor del porcentaje de gasto en la hipoteca respecto a los ingresos. (Entre 0 y 1, es decir 0.5 si es del 50%) Documenta la función. (0.4)"
   ]
  },
  {
   "cell_type": "code",
   "execution_count": 47,
   "metadata": {},
   "outputs": [
    {
     "ename": "TypeError",
     "evalue": "unsupported operand type(s) for /: 'str' and 'int'",
     "output_type": "error",
     "traceback": [
      "\u001b[1;31m---------------------------------------------------------------------------\u001b[0m",
      "\u001b[1;31mTypeError\u001b[0m                                 Traceback (most recent call last)",
      "Cell \u001b[1;32mIn[47], line 6\u001b[0m\n\u001b[0;32m      3\u001b[0m     porcentaje \u001b[38;5;241m=\u001b[39m c\u001b[38;5;241m/\u001b[39mingreso\n\u001b[0;32m      4\u001b[0m     \u001b[38;5;28;01mreturn\u001b[39;00m porcentaje\n\u001b[1;32m----> 6\u001b[0m res_porcentaje \u001b[38;5;241m=\u001b[39m \u001b[43mgasto_vivienda\u001b[49m\u001b[43m(\u001b[49m\u001b[38;5;241;43m1700\u001b[39;49m\u001b[43m,\u001b[49m\u001b[43m \u001b[49m\u001b[43m[\u001b[49m\u001b[38;5;241;43m350000\u001b[39;49m\u001b[43m,\u001b[49m\u001b[43m \u001b[49m\u001b[38;5;241;43m5\u001b[39;49m\u001b[43m,\u001b[49m\u001b[43m \u001b[49m\u001b[38;5;241;43m20\u001b[39;49m\u001b[43m]\u001b[49m\u001b[43m)\u001b[49m\n\u001b[0;32m      7\u001b[0m \u001b[38;5;28mprint\u001b[39m(res_porcentaje)\n",
      "Cell \u001b[1;32mIn[47], line 3\u001b[0m, in \u001b[0;36mgasto_vivienda\u001b[1;34m(ingreso, lista_hip)\u001b[0m\n\u001b[0;32m      1\u001b[0m \u001b[38;5;28;01mdef\u001b[39;00m \u001b[38;5;21mgasto_vivienda\u001b[39m(ingreso, lista_hip):\n\u001b[0;32m      2\u001b[0m     c \u001b[38;5;241m=\u001b[39m calcular_hip(lista_hip[\u001b[38;5;241m0\u001b[39m], lista_hip[\u001b[38;5;241m1\u001b[39m], lista_hip[\u001b[38;5;241m2\u001b[39m])\n\u001b[1;32m----> 3\u001b[0m     porcentaje \u001b[38;5;241m=\u001b[39m \u001b[43mc\u001b[49m\u001b[38;5;241;43m/\u001b[39;49m\u001b[43mingreso\u001b[49m\n\u001b[0;32m      4\u001b[0m     \u001b[38;5;28;01mreturn\u001b[39;00m porcentaje\n",
      "\u001b[1;31mTypeError\u001b[0m: unsupported operand type(s) for /: 'str' and 'int'"
     ]
    }
   ],
   "source": [
    "def gasto_vivienda(ingreso, lista_hip):\n",
    "    c = calcular_hip(lista_hip[0], lista_hip[1], lista_hip[2])\n",
    "    porcentaje = c/ingreso\n",
    "    return porcentaje\n",
    "\n",
    "res_porcentaje = gasto_vivienda(1700, [350000, 5, 20])\n",
    "print(res_porcentaje)"
   ]
  },
  {
   "attachments": {},
   "cell_type": "markdown",
   "metadata": {},
   "source": [
    "5. Calcula el porcentaje de gasto en la hipoteca si el ingreso es de 1700 euros y guárdalo en la variable `res_porcentaje` a partir de la función `gasto_vivienda`. (0.4)\n"
   ]
  },
  {
   "cell_type": "markdown",
   "metadata": {},
   "source": [
    "#### Ejercicio 3 (3 puntos)\n",
    "\n",
    "Crea un programa que simule un carrusel infantil.\n",
    "\n",
    "\n",
    "El carrusel infantil tiene 3 posibles cochecitos: barco - bomberos - avioneta (una variable global de tipo lista, fuera de tu función).\n",
    "\n",
    "Debes escribir una **FUNCIÓN** llamada carrusel que tenga dos parámetros de entrada: el cochecito que eliges (puede valer el string barco, bomberos o avioneta) y un segundo parámetro llamado vueltas que es un entero.\n",
    "\n",
    "Tu función carrusel NO debe retornar nada, pero debe llamar internamente a coloca(cochecito), ya te lo doy programado. Si sientas al niño en \"avioneta\" y pones 3 vueltas, la función debería imprimir:\n",
    "\n",
    "\"vuelta 1: avioneta - barco - bomberos\"\n",
    "\n",
    "\"vuelta 2: avioneta - barco - bomberos\"\n",
    "\n",
    "\"vuelta 3: avioneta - barco - bomberos\"\n",
    "\n",
    "Se valorará positivamente que haya **UN BUCLE WHILE**.\n",
    "Si no te acaba de funcionar llamando a coloca(cochecito) tras un tiempo prudencial, escribe tu código sin usarlo."
   ]
  },
  {
   "cell_type": "code",
   "execution_count": 48,
   "metadata": {},
   "outputs": [],
   "source": [
    "lista_carrusel = [\"barco\", \"bomberos\", \"avioneta\"]\n",
    "\n",
    "def coloca(cochecito):  \n",
    "    if cochecito == \"barco\": \n",
    "        return lista_carrusel \n",
    "    elif cochecito == \"bomberos\" or cochecito == \"avioneta\": \n",
    "        elemento = lista_carrusel.pop(0)\n",
    "        lista_carrusel.append(elemento) \n",
    "    if cochecito == \"avioneta\":\n",
    "        elemento = lista_carrusel.pop(0) \n",
    "        lista_carrusel.append(elemento) \n",
    "    return lista_carrusel"
   ]
  },
  {
   "cell_type": "code",
   "execution_count": 52,
   "metadata": {},
   "outputs": [
    {
     "name": "stdout",
     "output_type": "stream",
     "text": [
      "vuelta 1: ['avioneta', 'barco', 'bomberos']\n",
      "vuelta 2: ['avioneta', 'barco', 'bomberos']\n",
      "vuelta 3: ['avioneta', 'barco', 'bomberos']\n",
      "vuelta 4: ['avioneta', 'barco', 'bomberos']\n",
      "vuelta 5: ['avioneta', 'barco', 'bomberos']\n"
     ]
    }
   ],
   "source": [
    "def carrusel(cochecito, num_vueltas):\n",
    "    orden_carrusel = coloca(cochecito)\n",
    "    for i in range(num_vueltas):\n",
    "        print(f\"vuelta {i + 1}: {orden_carrusel}\")\n",
    "\n",
    "carrusel(\"avioneta\", 5)"
   ]
  },
  {
   "cell_type": "markdown",
   "metadata": {},
   "source": [
    "**EJERCICIO BONUS:**\n",
    "1. Crea una función que, dado un input `x`, devuelva \n",
    "$$\n",
    "y = 4x + 2\n",
    "$$\n",
    "\n",
    "2. Crea una función que, dado un input `x`, devuelva \n",
    "$$\n",
    "y = 3x^2 + 4x + 2\n",
    "$$\n",
    "\n",
    "3. Dado el polinomio\n",
    "\n",
    "$$\n",
    "a_nx^n + a_{n-1}x^{n-1} + ... + a_2x^2 + a_1x + a_0\n",
    "$$\n",
    "\n",
    "Crea una función que reciba como input `x` y una lista de `[a_0, ..., a_n]` y devuelva el valor del polinomio en `x`.\n",
    "\n",
    "**Nota**: En caso de no poder con una función, hacerlo como se pueda.\n",
    "\n",
    "**Pista**: El primero cumple `n = 1` y los parámetros son `[2, 4]`. El segundo: `n = 2` y los parámetros `[2, 4, 3]`. Con esta información, intenta generalizar."
   ]
  },
  {
   "cell_type": "code",
   "execution_count": null,
   "metadata": {},
   "outputs": [],
   "source": []
  }
 ],
 "metadata": {
  "kernelspec": {
   "display_name": "Python 3 (ipykernel)",
   "language": "python",
   "name": "python3"
  },
  "language_info": {
   "codemirror_mode": {
    "name": "ipython",
    "version": 3
   },
   "file_extension": ".py",
   "mimetype": "text/x-python",
   "name": "python",
   "nbconvert_exporter": "python",
   "pygments_lexer": "ipython3",
   "version": "3.10.11"
  },
  "vscode": {
   "interpreter": {
    "hash": "90139cb9a825bf3d63f6f6704e828dbd1ff7edbd4d0c6e906a71235d6efc74af"
   }
  }
 },
 "nbformat": 4,
 "nbformat_minor": 4
}
