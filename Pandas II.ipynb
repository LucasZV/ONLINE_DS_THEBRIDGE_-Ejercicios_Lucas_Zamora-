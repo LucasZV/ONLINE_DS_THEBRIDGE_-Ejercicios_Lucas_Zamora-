{
 "cells": [
  {
   "cell_type": "markdown",
   "id": "01b56d24-0485-40c2-91c8-08098e7ff7cf",
   "metadata": {},
   "source": [
    "# **Pandas II** : Exploración y manipulación"
   ]
  },
  {
   "cell_type": "code",
   "execution_count": 2,
   "id": "85eddac1-f3f4-4a51-8f6e-6bdc0df9a4a8",
   "metadata": {},
   "outputs": [],
   "source": [
    "import numpy as np\n",
    "import pandas as pd"
   ]
  },
  {
   "cell_type": "code",
   "execution_count": 3,
   "id": "a680d201-b431-4eaf-88bb-a99b3a67a575",
   "metadata": {},
   "outputs": [],
   "source": [
    "df_aviones = pd.read_csv('data/dataset_aviones.csv', index_col = \"Id_vuelo\")"
   ]
  },
  {
   "cell_type": "markdown",
   "id": "4e7b801e-b7f2-4761-bc6b-37d960e376c0",
   "metadata": {},
   "source": [
    "### **Exploración inical**"
   ]
  },
  {
   "cell_type": "markdown",
   "id": "e6ec2efb-2389-4391-a747-190cdffda334",
   "metadata": {},
   "source": [
    "Para ver las primeras filas del data set: `.head()`"
   ]
  },
  {
   "cell_type": "code",
   "execution_count": 4,
   "id": "4ed401b3-4ee5-4e5e-865e-cdaaa2f24e92",
   "metadata": {},
   "outputs": [
    {
     "data": {
      "text/html": [
       "<div>\n",
       "<style scoped>\n",
       "    .dataframe tbody tr th:only-of-type {\n",
       "        vertical-align: middle;\n",
       "    }\n",
       "\n",
       "    .dataframe tbody tr th {\n",
       "        vertical-align: top;\n",
       "    }\n",
       "\n",
       "    .dataframe thead th {\n",
       "        text-align: right;\n",
       "    }\n",
       "</style>\n",
       "<table border=\"1\" class=\"dataframe\">\n",
       "  <thead>\n",
       "    <tr style=\"text-align: right;\">\n",
       "      <th></th>\n",
       "      <th>Aircompany</th>\n",
       "      <th>Origen</th>\n",
       "      <th>Destino</th>\n",
       "      <th>Distancia</th>\n",
       "      <th>avion</th>\n",
       "      <th>con_escala</th>\n",
       "      <th>consumo_kg</th>\n",
       "      <th>duracion</th>\n",
       "      <th>ingresos</th>\n",
       "    </tr>\n",
       "    <tr>\n",
       "      <th>Id_vuelo</th>\n",
       "      <th></th>\n",
       "      <th></th>\n",
       "      <th></th>\n",
       "      <th></th>\n",
       "      <th></th>\n",
       "      <th></th>\n",
       "      <th></th>\n",
       "      <th></th>\n",
       "      <th></th>\n",
       "    </tr>\n",
       "  </thead>\n",
       "  <tbody>\n",
       "    <tr>\n",
       "      <th>Air_PaGi_10737</th>\n",
       "      <td>Airnar</td>\n",
       "      <td>París</td>\n",
       "      <td>Ginebra</td>\n",
       "      <td>411</td>\n",
       "      <td>Boeing 737</td>\n",
       "      <td>False</td>\n",
       "      <td>1028.691900</td>\n",
       "      <td>51</td>\n",
       "      <td>14232.65</td>\n",
       "    </tr>\n",
       "    <tr>\n",
       "      <th>Fly_BaRo_10737</th>\n",
       "      <td>FlyQ</td>\n",
       "      <td>Bali</td>\n",
       "      <td>Roma</td>\n",
       "      <td>12738</td>\n",
       "      <td>Boeing 737</td>\n",
       "      <td>True</td>\n",
       "      <td>33479.132544</td>\n",
       "      <td>1167</td>\n",
       "      <td>468527.19</td>\n",
       "    </tr>\n",
       "    <tr>\n",
       "      <th>Tab_GiLo_11380</th>\n",
       "      <td>TabarAir</td>\n",
       "      <td>Ginebra</td>\n",
       "      <td>Los Angeles</td>\n",
       "      <td>9103</td>\n",
       "      <td>Airbus A380</td>\n",
       "      <td>False</td>\n",
       "      <td>109439.907200</td>\n",
       "      <td>626</td>\n",
       "      <td>584789.19</td>\n",
       "    </tr>\n",
       "    <tr>\n",
       "      <th>Mol_PaCi_10737</th>\n",
       "      <td>MoldaviAir</td>\n",
       "      <td>París</td>\n",
       "      <td>Cincinnati</td>\n",
       "      <td>6370</td>\n",
       "      <td>Boeing 737</td>\n",
       "      <td>False</td>\n",
       "      <td>17027.010000</td>\n",
       "      <td>503</td>\n",
       "      <td>233342.51</td>\n",
       "    </tr>\n",
       "    <tr>\n",
       "      <th>Tab_CiRo_10747</th>\n",
       "      <td>TabarAir</td>\n",
       "      <td>Cincinnati</td>\n",
       "      <td>Roma</td>\n",
       "      <td>7480</td>\n",
       "      <td>Boeing 747</td>\n",
       "      <td>False</td>\n",
       "      <td>86115.744000</td>\n",
       "      <td>518</td>\n",
       "      <td>438535.07</td>\n",
       "    </tr>\n",
       "  </tbody>\n",
       "</table>\n",
       "</div>"
      ],
      "text/plain": [
       "                Aircompany      Origen      Destino  Distancia        avion  \\\n",
       "Id_vuelo                                                                      \n",
       "Air_PaGi_10737      Airnar       París      Ginebra        411   Boeing 737   \n",
       "Fly_BaRo_10737        FlyQ        Bali         Roma      12738   Boeing 737   \n",
       "Tab_GiLo_11380    TabarAir     Ginebra  Los Angeles       9103  Airbus A380   \n",
       "Mol_PaCi_10737  MoldaviAir       París   Cincinnati       6370   Boeing 737   \n",
       "Tab_CiRo_10747    TabarAir  Cincinnati         Roma       7480   Boeing 747   \n",
       "\n",
       "                con_escala     consumo_kg  duracion   ingresos  \n",
       "Id_vuelo                                                        \n",
       "Air_PaGi_10737       False    1028.691900        51   14232.65  \n",
       "Fly_BaRo_10737        True   33479.132544      1167  468527.19  \n",
       "Tab_GiLo_11380       False  109439.907200       626  584789.19  \n",
       "Mol_PaCi_10737       False   17027.010000       503  233342.51  \n",
       "Tab_CiRo_10747       False   86115.744000       518  438535.07  "
      ]
     },
     "execution_count": 4,
     "metadata": {},
     "output_type": "execute_result"
    }
   ],
   "source": [
    "df_aviones.head(5)"
   ]
  },
  {
   "cell_type": "markdown",
   "id": "bcdc5f24-f446-4358-b274-da3e5eade08f",
   "metadata": {},
   "source": [
    "Para ver las últimas: `.tail()`"
   ]
  },
  {
   "cell_type": "code",
   "execution_count": 5,
   "id": "2c9e7c17-df67-4492-a135-9ccb6ee47027",
   "metadata": {},
   "outputs": [
    {
     "data": {
      "text/html": [
       "<div>\n",
       "<style scoped>\n",
       "    .dataframe tbody tr th:only-of-type {\n",
       "        vertical-align: middle;\n",
       "    }\n",
       "\n",
       "    .dataframe tbody tr th {\n",
       "        vertical-align: top;\n",
       "    }\n",
       "\n",
       "    .dataframe thead th {\n",
       "        text-align: right;\n",
       "    }\n",
       "</style>\n",
       "<table border=\"1\" class=\"dataframe\">\n",
       "  <thead>\n",
       "    <tr style=\"text-align: right;\">\n",
       "      <th></th>\n",
       "      <th>Aircompany</th>\n",
       "      <th>Origen</th>\n",
       "      <th>Destino</th>\n",
       "      <th>Distancia</th>\n",
       "      <th>avion</th>\n",
       "      <th>con_escala</th>\n",
       "      <th>consumo_kg</th>\n",
       "      <th>duracion</th>\n",
       "      <th>ingresos</th>\n",
       "    </tr>\n",
       "    <tr>\n",
       "      <th>Id_vuelo</th>\n",
       "      <th></th>\n",
       "      <th></th>\n",
       "      <th></th>\n",
       "      <th></th>\n",
       "      <th></th>\n",
       "      <th></th>\n",
       "      <th></th>\n",
       "      <th></th>\n",
       "      <th></th>\n",
       "    </tr>\n",
       "  </thead>\n",
       "  <tbody>\n",
       "    <tr>\n",
       "      <th>Fly_RoCi_11320</th>\n",
       "      <td>FlyQ</td>\n",
       "      <td>Roma</td>\n",
       "      <td>Cincinnati</td>\n",
       "      <td>7480</td>\n",
       "      <td>Airbus A320</td>\n",
       "      <td>True</td>\n",
       "      <td>19721.04992</td>\n",
       "      <td>662</td>\n",
       "      <td>285377.03</td>\n",
       "    </tr>\n",
       "    <tr>\n",
       "      <th>Tab_RoLo_10747</th>\n",
       "      <td>TabarAir</td>\n",
       "      <td>Roma</td>\n",
       "      <td>Londres</td>\n",
       "      <td>1433</td>\n",
       "      <td>Boeing 747</td>\n",
       "      <td>False</td>\n",
       "      <td>15734.05340</td>\n",
       "      <td>115</td>\n",
       "      <td>86373.94</td>\n",
       "    </tr>\n",
       "    <tr>\n",
       "      <th>Air_PaLo_10737</th>\n",
       "      <td>Airnar</td>\n",
       "      <td>París</td>\n",
       "      <td>Los Angeles</td>\n",
       "      <td>9099</td>\n",
       "      <td>Boeing 737</td>\n",
       "      <td>False</td>\n",
       "      <td>22331.67570</td>\n",
       "      <td>711</td>\n",
       "      <td>317996.77</td>\n",
       "    </tr>\n",
       "  </tbody>\n",
       "</table>\n",
       "</div>"
      ],
      "text/plain": [
       "               Aircompany Origen      Destino  Distancia        avion  \\\n",
       "Id_vuelo                                                                \n",
       "Fly_RoCi_11320       FlyQ   Roma   Cincinnati       7480  Airbus A320   \n",
       "Tab_RoLo_10747   TabarAir   Roma      Londres       1433   Boeing 747   \n",
       "Air_PaLo_10737     Airnar  París  Los Angeles       9099   Boeing 737   \n",
       "\n",
       "                con_escala   consumo_kg  duracion   ingresos  \n",
       "Id_vuelo                                                      \n",
       "Fly_RoCi_11320        True  19721.04992       662  285377.03  \n",
       "Tab_RoLo_10747       False  15734.05340       115   86373.94  \n",
       "Air_PaLo_10737       False  22331.67570       711  317996.77  "
      ]
     },
     "execution_count": 5,
     "metadata": {},
     "output_type": "execute_result"
    }
   ],
   "source": [
    "df_aviones.tail(3)"
   ]
  },
  {
   "cell_type": "markdown",
   "id": "0db6168f-1b5a-44d2-aec2-694451ff0fde",
   "metadata": {},
   "source": [
    "Para ver el total de filas: `Len()`"
   ]
  },
  {
   "cell_type": "code",
   "execution_count": 6,
   "id": "359a5251-414f-4fb4-b0e6-b4d0493dfc5e",
   "metadata": {},
   "outputs": [
    {
     "data": {
      "text/plain": [
       "1200"
      ]
     },
     "execution_count": 6,
     "metadata": {},
     "output_type": "execute_result"
    }
   ],
   "source": [
    "len(df_aviones)"
   ]
  },
  {
   "cell_type": "markdown",
   "id": "a59c5d8b-699b-4ec7-b45f-c7d2fea4549c",
   "metadata": {},
   "source": [
    "Para ver todas las columnas: `.colums`"
   ]
  },
  {
   "cell_type": "code",
   "execution_count": 7,
   "id": "c13a14f8-f8b7-4514-b85f-d2e37a12b9b3",
   "metadata": {},
   "outputs": [
    {
     "data": {
      "text/plain": [
       "Index(['Aircompany', 'Origen', 'Destino', 'Distancia', 'avion', 'con_escala',\n",
       "       'consumo_kg', 'duracion', 'ingresos'],\n",
       "      dtype='object')"
      ]
     },
     "execution_count": 7,
     "metadata": {},
     "output_type": "execute_result"
    }
   ],
   "source": [
    "df_aviones.columns"
   ]
  },
  {
   "cell_type": "markdown",
   "id": "d837b69f-975b-4a87-a4aa-efe9a6b90885",
   "metadata": {},
   "source": [
    "Para ver una descripción matemática básica de los valores **numéricos**: `.describe()`"
   ]
  },
  {
   "cell_type": "code",
   "execution_count": 8,
   "id": "e5b318bf-f95c-4fcf-8c38-d3c8153f5831",
   "metadata": {},
   "outputs": [
    {
     "data": {
      "text/html": [
       "<div>\n",
       "<style scoped>\n",
       "    .dataframe tbody tr th:only-of-type {\n",
       "        vertical-align: middle;\n",
       "    }\n",
       "\n",
       "    .dataframe tbody tr th {\n",
       "        vertical-align: top;\n",
       "    }\n",
       "\n",
       "    .dataframe thead th {\n",
       "        text-align: right;\n",
       "    }\n",
       "</style>\n",
       "<table border=\"1\" class=\"dataframe\">\n",
       "  <thead>\n",
       "    <tr style=\"text-align: right;\">\n",
       "      <th></th>\n",
       "      <th>Distancia</th>\n",
       "      <th>consumo_kg</th>\n",
       "      <th>duracion</th>\n",
       "      <th>ingresos</th>\n",
       "    </tr>\n",
       "  </thead>\n",
       "  <tbody>\n",
       "    <tr>\n",
       "      <th>count</th>\n",
       "      <td>1200.000000</td>\n",
       "      <td>1200.000000</td>\n",
       "      <td>1200.000000</td>\n",
       "      <td>1.200000e+03</td>\n",
       "    </tr>\n",
       "    <tr>\n",
       "      <th>mean</th>\n",
       "      <td>8231.710000</td>\n",
       "      <td>68736.758895</td>\n",
       "      <td>651.153333</td>\n",
       "      <td>4.248612e+05</td>\n",
       "    </tr>\n",
       "    <tr>\n",
       "      <th>std</th>\n",
       "      <td>5567.286768</td>\n",
       "      <td>67605.206302</td>\n",
       "      <td>454.035184</td>\n",
       "      <td>3.184731e+05</td>\n",
       "    </tr>\n",
       "    <tr>\n",
       "      <th>min</th>\n",
       "      <td>344.000000</td>\n",
       "      <td>835.920000</td>\n",
       "      <td>42.000000</td>\n",
       "      <td>1.169364e+04</td>\n",
       "    </tr>\n",
       "    <tr>\n",
       "      <th>25%</th>\n",
       "      <td>3073.000000</td>\n",
       "      <td>15733.520400</td>\n",
       "      <td>224.000000</td>\n",
       "      <td>1.586815e+05</td>\n",
       "    </tr>\n",
       "    <tr>\n",
       "      <th>50%</th>\n",
       "      <td>6969.000000</td>\n",
       "      <td>38315.157192</td>\n",
       "      <td>572.000000</td>\n",
       "      <td>3.853903e+05</td>\n",
       "    </tr>\n",
       "    <tr>\n",
       "      <th>75%</th>\n",
       "      <td>12738.000000</td>\n",
       "      <td>120858.499500</td>\n",
       "      <td>1053.000000</td>\n",
       "      <td>6.899085e+05</td>\n",
       "    </tr>\n",
       "    <tr>\n",
       "      <th>max</th>\n",
       "      <td>20029.000000</td>\n",
       "      <td>264876.314560</td>\n",
       "      <td>1721.000000</td>\n",
       "      <td>1.295516e+06</td>\n",
       "    </tr>\n",
       "  </tbody>\n",
       "</table>\n",
       "</div>"
      ],
      "text/plain": [
       "          Distancia     consumo_kg     duracion      ingresos\n",
       "count   1200.000000    1200.000000  1200.000000  1.200000e+03\n",
       "mean    8231.710000   68736.758895   651.153333  4.248612e+05\n",
       "std     5567.286768   67605.206302   454.035184  3.184731e+05\n",
       "min      344.000000     835.920000    42.000000  1.169364e+04\n",
       "25%     3073.000000   15733.520400   224.000000  1.586815e+05\n",
       "50%     6969.000000   38315.157192   572.000000  3.853903e+05\n",
       "75%    12738.000000  120858.499500  1053.000000  6.899085e+05\n",
       "max    20029.000000  264876.314560  1721.000000  1.295516e+06"
      ]
     },
     "execution_count": 8,
     "metadata": {},
     "output_type": "execute_result"
    }
   ],
   "source": [
    "df_aviones.describe()"
   ]
  },
  {
   "cell_type": "markdown",
   "id": "ea55605c-d2f6-455c-a291-b6b8a1e29a45",
   "metadata": {},
   "source": [
    "+ **count:** Cuantos valores válidos (no nulos) hay.\n",
    "+ **mean:** La media.\n",
    "+ **std:** desviación estandar\n",
    "+ **min:** Valor mínimo\n",
    "+ **25%, 50%, 75%:** Cuantos de los valores se encuentran por debajo del percentil.\n",
    "+ **max:** Valor máximo"
   ]
  },
  {
   "cell_type": "code",
   "execution_count": 9,
   "id": "4b2a7915-9a28-497a-b6be-8f96a3191c0a",
   "metadata": {},
   "outputs": [
    {
     "data": {
      "text/plain": [
       "Aircompany     object\n",
       "Origen         object\n",
       "Destino        object\n",
       "Distancia       int64\n",
       "avion          object\n",
       "con_escala       bool\n",
       "consumo_kg    float64\n",
       "duracion        int64\n",
       "ingresos      float64\n",
       "dtype: object"
      ]
     },
     "execution_count": 9,
     "metadata": {},
     "output_type": "execute_result"
    }
   ],
   "source": [
    "df_aviones.dtypes #---> muestra una descripción del tipo de datos en cada columna"
   ]
  },
  {
   "cell_type": "markdown",
   "id": "c8abf2e3-6ee4-4a0a-849f-b767bf3a6c6b",
   "metadata": {},
   "source": [
    "Para ver una **descripción más específica** del contenido: `.info()`"
   ]
  },
  {
   "cell_type": "code",
   "execution_count": 10,
   "id": "be669bc9-52cb-42dc-ae7f-3253a3ee4706",
   "metadata": {},
   "outputs": [
    {
     "name": "stdout",
     "output_type": "stream",
     "text": [
      "<class 'pandas.core.frame.DataFrame'>\n",
      "Index: 1200 entries, Air_PaGi_10737 to Air_PaLo_10737\n",
      "Data columns (total 9 columns):\n",
      " #   Column      Non-Null Count  Dtype  \n",
      "---  ------      --------------  -----  \n",
      " 0   Aircompany  1200 non-null   object \n",
      " 1   Origen      1200 non-null   object \n",
      " 2   Destino     1200 non-null   object \n",
      " 3   Distancia   1200 non-null   int64  \n",
      " 4   avion       1200 non-null   object \n",
      " 5   con_escala  1200 non-null   bool   \n",
      " 6   consumo_kg  1200 non-null   float64\n",
      " 7   duracion    1200 non-null   int64  \n",
      " 8   ingresos    1200 non-null   float64\n",
      "dtypes: bool(1), float64(2), int64(2), object(4)\n",
      "memory usage: 85.5+ KB\n"
     ]
    }
   ],
   "source": [
    "df_aviones.info()"
   ]
  },
  {
   "cell_type": "markdown",
   "id": "c3e48aaf-f40f-45d1-aa8e-2172406ce894",
   "metadata": {},
   "source": [
    "#### **Acceder a más información de las columnas:**"
   ]
  },
  {
   "cell_type": "markdown",
   "id": "fd416101-dde9-4db5-bc3e-b8ded3ff31dd",
   "metadata": {},
   "source": [
    "Con el método `.unique()` podemos ver cuales son los valores únicos tiene:"
   ]
  },
  {
   "cell_type": "code",
   "execution_count": 11,
   "id": "c09a8e9b-3015-46ab-b0f6-4a4e935353ac",
   "metadata": {},
   "outputs": [
    {
     "data": {
      "text/plain": [
       "array(['Airnar', 'FlyQ', 'TabarAir', 'MoldaviAir', 'PamPangea'],\n",
       "      dtype=object)"
      ]
     },
     "execution_count": 11,
     "metadata": {},
     "output_type": "execute_result"
    }
   ],
   "source": [
    "df_aviones[\"Aircompany\"].unique()"
   ]
  },
  {
   "cell_type": "markdown",
   "id": "d2430048-0fb3-4b6c-9cf8-9f87cade4190",
   "metadata": {},
   "source": [
    "Para ver como se distribuyen el total de esos valores se utiliza el método `.value_counts()`"
   ]
  },
  {
   "cell_type": "code",
   "execution_count": 12,
   "id": "4facd77a-ec84-4dbf-ab13-e4f57d733fbc",
   "metadata": {},
   "outputs": [
    {
     "data": {
      "text/plain": [
       "Aircompany\n",
       "TabarAir      271\n",
       "MoldaviAir    264\n",
       "PamPangea     231\n",
       "Airnar        218\n",
       "FlyQ          216\n",
       "Name: count, dtype: int64"
      ]
     },
     "execution_count": 12,
     "metadata": {},
     "output_type": "execute_result"
    }
   ],
   "source": [
    "df_aviones[\"Aircompany\"].value_counts()"
   ]
  },
  {
   "cell_type": "markdown",
   "id": "a9b90e0a-3c6b-4e73-810e-c02086ed6671",
   "metadata": {},
   "source": [
    "Para **añadir columnas nuevas** utilizar el método de acceso como diccionario (entre corchetes).\n"
   ]
  },
  {
   "cell_type": "code",
   "execution_count": 13,
   "id": "36950530-f5e7-475c-af74-df3c3fb8f837",
   "metadata": {},
   "outputs": [
    {
     "data": {
      "text/html": [
       "<div>\n",
       "<style scoped>\n",
       "    .dataframe tbody tr th:only-of-type {\n",
       "        vertical-align: middle;\n",
       "    }\n",
       "\n",
       "    .dataframe tbody tr th {\n",
       "        vertical-align: top;\n",
       "    }\n",
       "\n",
       "    .dataframe thead th {\n",
       "        text-align: right;\n",
       "    }\n",
       "</style>\n",
       "<table border=\"1\" class=\"dataframe\">\n",
       "  <thead>\n",
       "    <tr style=\"text-align: right;\">\n",
       "      <th></th>\n",
       "      <th>Aircompany</th>\n",
       "      <th>Origen</th>\n",
       "      <th>Destino</th>\n",
       "      <th>Distancia</th>\n",
       "      <th>avion</th>\n",
       "      <th>con_escala</th>\n",
       "      <th>consumo_kg</th>\n",
       "      <th>duracion</th>\n",
       "      <th>ingresos</th>\n",
       "      <th>Consumo por Km</th>\n",
       "    </tr>\n",
       "    <tr>\n",
       "      <th>Id_vuelo</th>\n",
       "      <th></th>\n",
       "      <th></th>\n",
       "      <th></th>\n",
       "      <th></th>\n",
       "      <th></th>\n",
       "      <th></th>\n",
       "      <th></th>\n",
       "      <th></th>\n",
       "      <th></th>\n",
       "      <th></th>\n",
       "    </tr>\n",
       "  </thead>\n",
       "  <tbody>\n",
       "    <tr>\n",
       "      <th>Air_PaGi_10737</th>\n",
       "      <td>Airnar</td>\n",
       "      <td>París</td>\n",
       "      <td>Ginebra</td>\n",
       "      <td>411</td>\n",
       "      <td>Boeing 737</td>\n",
       "      <td>False</td>\n",
       "      <td>1028.691900</td>\n",
       "      <td>51</td>\n",
       "      <td>14232.65</td>\n",
       "      <td>2.502900</td>\n",
       "    </tr>\n",
       "    <tr>\n",
       "      <th>Fly_BaRo_10737</th>\n",
       "      <td>FlyQ</td>\n",
       "      <td>Bali</td>\n",
       "      <td>Roma</td>\n",
       "      <td>12738</td>\n",
       "      <td>Boeing 737</td>\n",
       "      <td>True</td>\n",
       "      <td>33479.132544</td>\n",
       "      <td>1167</td>\n",
       "      <td>468527.19</td>\n",
       "      <td>2.628288</td>\n",
       "    </tr>\n",
       "  </tbody>\n",
       "</table>\n",
       "</div>"
      ],
      "text/plain": [
       "               Aircompany Origen  Destino  Distancia       avion  con_escala  \\\n",
       "Id_vuelo                                                                       \n",
       "Air_PaGi_10737     Airnar  París  Ginebra        411  Boeing 737       False   \n",
       "Fly_BaRo_10737       FlyQ   Bali     Roma      12738  Boeing 737        True   \n",
       "\n",
       "                  consumo_kg  duracion   ingresos  Consumo por Km  \n",
       "Id_vuelo                                                           \n",
       "Air_PaGi_10737   1028.691900        51   14232.65        2.502900  \n",
       "Fly_BaRo_10737  33479.132544      1167  468527.19        2.628288  "
      ]
     },
     "execution_count": 13,
     "metadata": {},
     "output_type": "execute_result"
    }
   ],
   "source": [
    "df_aviones[\"Consumo por Km\"] = df_aviones[\"consumo_kg\"] / df_aviones[\"Distancia\"]\n",
    "df_aviones.head(2)"
   ]
  },
  {
   "cell_type": "markdown",
   "id": "980a61b7-818f-4742-98af-7b31dfabcc4a",
   "metadata": {},
   "source": [
    "#### **Cambiar el nombre de las columnas:**"
   ]
  },
  {
   "cell_type": "markdown",
   "id": "7d0a9721-cf88-47a4-b3b1-9b6c3cf305cd",
   "metadata": {},
   "source": [
    "`.rename(columns = {\"nombre a cambiar\" : \"nombre cambiado\"})`  \n",
    "Este método no cambia el DataFrame original, para que los cambios sean permanentes hay que añadir el argumento `inplace = True`.  \n",
    "`.rename(columns = {\"nombre a cambiar\" : \"nombre cambiado\"}, inplace = True)`.  \n",
    "Otra opción es reasignarlo a otra variable:  \n",
    "`new_df_aviones = df_aviones.rename(columns = {\"nombre a cambiar\" : \"nombre cambiado\"})`"
   ]
  },
  {
   "cell_type": "code",
   "execution_count": 14,
   "id": "9f733754-2045-4b41-85d0-0540e59bd52d",
   "metadata": {},
   "outputs": [],
   "source": [
    "df_aviones.rename(columns = {\"avion\" : \"Avion\", \"con_escala\" : \"Escala\",\n",
    "                   \"duracion\" : \"Duración\", \"ingresos\" : \"Ingresos\",\n",
    "                   \"Consumo por Km\" : \"Consumo/Km\", \"consumo_kg\" : \"Consumo Kg\"\n",
    "                  }, inplace = True)"
   ]
  },
  {
   "cell_type": "code",
   "execution_count": 15,
   "id": "05a7f173-a611-4d49-b4b8-611cfd1fb0f5",
   "metadata": {},
   "outputs": [
    {
     "data": {
      "text/html": [
       "<div>\n",
       "<style scoped>\n",
       "    .dataframe tbody tr th:only-of-type {\n",
       "        vertical-align: middle;\n",
       "    }\n",
       "\n",
       "    .dataframe tbody tr th {\n",
       "        vertical-align: top;\n",
       "    }\n",
       "\n",
       "    .dataframe thead th {\n",
       "        text-align: right;\n",
       "    }\n",
       "</style>\n",
       "<table border=\"1\" class=\"dataframe\">\n",
       "  <thead>\n",
       "    <tr style=\"text-align: right;\">\n",
       "      <th></th>\n",
       "      <th>Aircompany</th>\n",
       "      <th>Origen</th>\n",
       "      <th>Destino</th>\n",
       "      <th>Distancia</th>\n",
       "      <th>Avion</th>\n",
       "      <th>Escala</th>\n",
       "      <th>Consumo Kg</th>\n",
       "      <th>Duración</th>\n",
       "      <th>Ingresos</th>\n",
       "      <th>Consumo/Km</th>\n",
       "    </tr>\n",
       "    <tr>\n",
       "      <th>Id_vuelo</th>\n",
       "      <th></th>\n",
       "      <th></th>\n",
       "      <th></th>\n",
       "      <th></th>\n",
       "      <th></th>\n",
       "      <th></th>\n",
       "      <th></th>\n",
       "      <th></th>\n",
       "      <th></th>\n",
       "      <th></th>\n",
       "    </tr>\n",
       "  </thead>\n",
       "  <tbody>\n",
       "    <tr>\n",
       "      <th>Air_PaGi_10737</th>\n",
       "      <td>Airnar</td>\n",
       "      <td>París</td>\n",
       "      <td>Ginebra</td>\n",
       "      <td>411</td>\n",
       "      <td>Boeing 737</td>\n",
       "      <td>False</td>\n",
       "      <td>1028.6919</td>\n",
       "      <td>51</td>\n",
       "      <td>14232.65</td>\n",
       "      <td>2.5029</td>\n",
       "    </tr>\n",
       "  </tbody>\n",
       "</table>\n",
       "</div>"
      ],
      "text/plain": [
       "               Aircompany Origen  Destino  Distancia       Avion  Escala  \\\n",
       "Id_vuelo                                                                   \n",
       "Air_PaGi_10737     Airnar  París  Ginebra        411  Boeing 737   False   \n",
       "\n",
       "                Consumo Kg  Duración  Ingresos  Consumo/Km  \n",
       "Id_vuelo                                                    \n",
       "Air_PaGi_10737   1028.6919        51  14232.65      2.5029  "
      ]
     },
     "execution_count": 15,
     "metadata": {},
     "output_type": "execute_result"
    }
   ],
   "source": [
    "df_aviones.head(1)"
   ]
  },
  {
   "cell_type": "markdown",
   "id": "cb0af45b-4b13-438e-8144-ad30306cff87",
   "metadata": {},
   "source": [
    "Algunos método de utilidad: valor máximo: `.max()`, valor mínimo: `.min()`, la media: `.mean()`"
   ]
  },
  {
   "cell_type": "code",
   "execution_count": 16,
   "id": "ae43447f-67f1-4278-8b4d-4b7f2c99a64d",
   "metadata": {},
   "outputs": [
    {
     "name": "stdout",
     "output_type": "stream",
     "text": [
      "20029\n",
      "344\n",
      "9878052\n",
      "8231.71\n"
     ]
    }
   ],
   "source": [
    "# Cual es la mayor distancia recorrida\n",
    "print(df_aviones[\"Distancia\"].max())\n",
    "# Cual es el menor consumo\n",
    "print(df_aviones[\"Distancia\"].min())\n",
    "# Cuanta distancia se han recorrido en los 1200 vuelos\n",
    "print(df_aviones[\"Distancia\"].sum())\n",
    "# Cual es la media recorrida por estos viajes\n",
    "print(df_aviones[\"Distancia\"].mean())"
   ]
  },
  {
   "cell_type": "code",
   "execution_count": 17,
   "id": "904dd9f3-201d-4edb-82f3-675ec3454682",
   "metadata": {},
   "outputs": [
    {
     "data": {
      "text/plain": [
       "'Mol_PaLo_10737'"
      ]
     },
     "execution_count": 17,
     "metadata": {},
     "output_type": "execute_result"
    }
   ],
   "source": [
    "# Cual es el viaje con menor consumo\n",
    "viaje = df_aviones[\"Consumo Kg\"].idxmin()\n",
    "viaje"
   ]
  },
  {
   "cell_type": "code",
   "execution_count": 18,
   "id": "71464ec9-a7f3-48b1-941d-56f6bf70195f",
   "metadata": {},
   "outputs": [
    {
     "data": {
      "text/html": [
       "<div>\n",
       "<style scoped>\n",
       "    .dataframe tbody tr th:only-of-type {\n",
       "        vertical-align: middle;\n",
       "    }\n",
       "\n",
       "    .dataframe tbody tr th {\n",
       "        vertical-align: top;\n",
       "    }\n",
       "\n",
       "    .dataframe thead th {\n",
       "        text-align: right;\n",
       "    }\n",
       "</style>\n",
       "<table border=\"1\" class=\"dataframe\">\n",
       "  <thead>\n",
       "    <tr style=\"text-align: right;\">\n",
       "      <th></th>\n",
       "      <th>Aircompany</th>\n",
       "      <th>Origen</th>\n",
       "      <th>Destino</th>\n",
       "      <th>Distancia</th>\n",
       "      <th>Avion</th>\n",
       "      <th>Escala</th>\n",
       "      <th>Consumo Kg</th>\n",
       "      <th>Duración</th>\n",
       "      <th>Ingresos</th>\n",
       "      <th>Consumo/Km</th>\n",
       "    </tr>\n",
       "    <tr>\n",
       "      <th>Id_vuelo</th>\n",
       "      <th></th>\n",
       "      <th></th>\n",
       "      <th></th>\n",
       "      <th></th>\n",
       "      <th></th>\n",
       "      <th></th>\n",
       "      <th></th>\n",
       "      <th></th>\n",
       "      <th></th>\n",
       "      <th></th>\n",
       "    </tr>\n",
       "  </thead>\n",
       "  <tbody>\n",
       "    <tr>\n",
       "      <th>Mol_PaLo_10737</th>\n",
       "      <td>MoldaviAir</td>\n",
       "      <td>París</td>\n",
       "      <td>Londres</td>\n",
       "      <td>344</td>\n",
       "      <td>Boeing 737</td>\n",
       "      <td>False</td>\n",
       "      <td>835.9200</td>\n",
       "      <td>46</td>\n",
       "      <td>11797.85</td>\n",
       "      <td>2.4300</td>\n",
       "    </tr>\n",
       "    <tr>\n",
       "      <th>Mol_PaLo_10737</th>\n",
       "      <td>MoldaviAir</td>\n",
       "      <td>París</td>\n",
       "      <td>Londres</td>\n",
       "      <td>344</td>\n",
       "      <td>Boeing 737</td>\n",
       "      <td>False</td>\n",
       "      <td>911.1528</td>\n",
       "      <td>46</td>\n",
       "      <td>12372.41</td>\n",
       "      <td>2.6487</td>\n",
       "    </tr>\n",
       "    <tr>\n",
       "      <th>Mol_PaLo_10737</th>\n",
       "      <td>MoldaviAir</td>\n",
       "      <td>París</td>\n",
       "      <td>Londres</td>\n",
       "      <td>344</td>\n",
       "      <td>Boeing 737</td>\n",
       "      <td>False</td>\n",
       "      <td>852.6384</td>\n",
       "      <td>46</td>\n",
       "      <td>11693.64</td>\n",
       "      <td>2.4786</td>\n",
       "    </tr>\n",
       "  </tbody>\n",
       "</table>\n",
       "</div>"
      ],
      "text/plain": [
       "                Aircompany Origen  Destino  Distancia       Avion  Escala  \\\n",
       "Id_vuelo                                                                    \n",
       "Mol_PaLo_10737  MoldaviAir  París  Londres        344  Boeing 737   False   \n",
       "Mol_PaLo_10737  MoldaviAir  París  Londres        344  Boeing 737   False   \n",
       "Mol_PaLo_10737  MoldaviAir  París  Londres        344  Boeing 737   False   \n",
       "\n",
       "                Consumo Kg  Duración  Ingresos  Consumo/Km  \n",
       "Id_vuelo                                                    \n",
       "Mol_PaLo_10737    835.9200        46  11797.85      2.4300  \n",
       "Mol_PaLo_10737    911.1528        46  12372.41      2.6487  \n",
       "Mol_PaLo_10737    852.6384        46  11693.64      2.4786  "
      ]
     },
     "execution_count": 18,
     "metadata": {},
     "output_type": "execute_result"
    }
   ],
   "source": [
    "df_aviones.loc[viaje]"
   ]
  },
  {
   "cell_type": "code",
   "execution_count": 19,
   "id": "a339680e-8ea8-497c-bf37-57b8ab3d9d7a",
   "metadata": {},
   "outputs": [
    {
     "data": {
      "text/plain": [
       "array(['Boeing 737'], dtype=object)"
      ]
     },
     "execution_count": 19,
     "metadata": {},
     "output_type": "execute_result"
    }
   ],
   "source": [
    "#Para ver el único:\n",
    "df_aviones.loc[viaje, \"Avion\"].unique()"
   ]
  },
  {
   "cell_type": "markdown",
   "id": "ef574423-9da6-4f77-a80a-3b1a5564c836",
   "metadata": {},
   "source": [
    "Las siguientes agregaciones vienen con el paquete de Pandas:\n",
    "\n",
    "| Agregación              | Descripción                     |\n",
    "|--------------------------|---------------------------------|\n",
    "| ``count()``              | Número total de elementos          |\n",
    "| ``first()``, ``last()``  | Primer y último elemento             |\n",
    "| ``mean()``, ``median()`` | Media y mediana                 |\n",
    "| ``min()``, ``max()``     | Mínimo y máximo             |\n",
    "| ``std()``, ``var()``     | Desviación estándar y varianza |\n",
    "| ``mad()``                | Desviación media absoluta         |\n",
    "| ``prod()``               | Producto de todos los elementos            |\n",
    "| ``sum()``                | Suma de todos los elementos               |\n",
    "\n",
    "Todos están presentes como objetos de ``Dataframe`` y ``Series``."
   ]
  },
  {
   "cell_type": "markdown",
   "id": "f29b9ada-7f61-47b3-a17c-6ab40f384112",
   "metadata": {},
   "source": [
    "### **Filtar y seleccionar filas**"
   ]
  },
  {
   "cell_type": "code",
   "execution_count": 20,
   "id": "e49cb813-49f8-4e2b-9d39-ada48d232b8c",
   "metadata": {},
   "outputs": [
    {
     "data": {
      "text/plain": [
       "Aircompany\n",
       "TabarAir      271\n",
       "MoldaviAir    264\n",
       "PamPangea     231\n",
       "Airnar        218\n",
       "FlyQ          216\n",
       "Name: count, dtype: int64"
      ]
     },
     "execution_count": 20,
     "metadata": {},
     "output_type": "execute_result"
    }
   ],
   "source": [
    "# Seleccionar los viajes de la compañía con menor nº de vuelos:\n",
    "df_aviones[\"Aircompany\"].value_counts()"
   ]
  },
  {
   "cell_type": "code",
   "execution_count": 21,
   "id": "ef11fa75-7dab-46a0-9ea5-b166c6afe9a4",
   "metadata": {},
   "outputs": [
    {
     "data": {
      "text/html": [
       "<div>\n",
       "<style scoped>\n",
       "    .dataframe tbody tr th:only-of-type {\n",
       "        vertical-align: middle;\n",
       "    }\n",
       "\n",
       "    .dataframe tbody tr th {\n",
       "        vertical-align: top;\n",
       "    }\n",
       "\n",
       "    .dataframe thead th {\n",
       "        text-align: right;\n",
       "    }\n",
       "</style>\n",
       "<table border=\"1\" class=\"dataframe\">\n",
       "  <thead>\n",
       "    <tr style=\"text-align: right;\">\n",
       "      <th></th>\n",
       "      <th>Aircompany</th>\n",
       "      <th>Origen</th>\n",
       "      <th>Destino</th>\n",
       "      <th>Distancia</th>\n",
       "      <th>Avion</th>\n",
       "      <th>Escala</th>\n",
       "      <th>Consumo Kg</th>\n",
       "      <th>Duración</th>\n",
       "      <th>Ingresos</th>\n",
       "      <th>Consumo/Km</th>\n",
       "    </tr>\n",
       "    <tr>\n",
       "      <th>Id_vuelo</th>\n",
       "      <th></th>\n",
       "      <th></th>\n",
       "      <th></th>\n",
       "      <th></th>\n",
       "      <th></th>\n",
       "      <th></th>\n",
       "      <th></th>\n",
       "      <th></th>\n",
       "      <th></th>\n",
       "      <th></th>\n",
       "    </tr>\n",
       "  </thead>\n",
       "  <tbody>\n",
       "    <tr>\n",
       "      <th>Fly_BaRo_10737</th>\n",
       "      <td>FlyQ</td>\n",
       "      <td>Bali</td>\n",
       "      <td>Roma</td>\n",
       "      <td>12738</td>\n",
       "      <td>Boeing 737</td>\n",
       "      <td>True</td>\n",
       "      <td>33479.132544</td>\n",
       "      <td>1167</td>\n",
       "      <td>468527.19</td>\n",
       "      <td>2.628288</td>\n",
       "    </tr>\n",
       "    <tr>\n",
       "      <th>Fly_RoNu_11320</th>\n",
       "      <td>FlyQ</td>\n",
       "      <td>Roma</td>\n",
       "      <td>Nueva York</td>\n",
       "      <td>6877</td>\n",
       "      <td>Airbus A320</td>\n",
       "      <td>True</td>\n",
       "      <td>18131.238008</td>\n",
       "      <td>618</td>\n",
       "      <td>273824.24</td>\n",
       "      <td>2.636504</td>\n",
       "    </tr>\n",
       "  </tbody>\n",
       "</table>\n",
       "</div>"
      ],
      "text/plain": [
       "               Aircompany Origen     Destino  Distancia        Avion  Escala  \\\n",
       "Id_vuelo                                                                       \n",
       "Fly_BaRo_10737       FlyQ   Bali        Roma      12738   Boeing 737    True   \n",
       "Fly_RoNu_11320       FlyQ   Roma  Nueva York       6877  Airbus A320    True   \n",
       "\n",
       "                  Consumo Kg  Duración   Ingresos  Consumo/Km  \n",
       "Id_vuelo                                                       \n",
       "Fly_BaRo_10737  33479.132544      1167  468527.19    2.628288  \n",
       "Fly_RoNu_11320  18131.238008       618  273824.24    2.636504  "
      ]
     },
     "execution_count": 21,
     "metadata": {},
     "output_type": "execute_result"
    }
   ],
   "source": [
    "viajes = df_aviones.loc[df_aviones[\"Aircompany\"] == \"FlyQ\"]\n",
    "viajes.head(2)"
   ]
  },
  {
   "cell_type": "markdown",
   "id": "51c8e228-be5d-4d6a-a281-4a4b70bcd6b6",
   "metadata": {},
   "source": [
    "#### **Para mantener la estructura del dataframe:**"
   ]
  },
  {
   "cell_type": "code",
   "execution_count": 22,
   "id": "c1936acc-a5df-4ce1-b105-5193ed13ff3d",
   "metadata": {},
   "outputs": [
    {
     "data": {
      "text/html": [
       "<div>\n",
       "<style scoped>\n",
       "    .dataframe tbody tr th:only-of-type {\n",
       "        vertical-align: middle;\n",
       "    }\n",
       "\n",
       "    .dataframe tbody tr th {\n",
       "        vertical-align: top;\n",
       "    }\n",
       "\n",
       "    .dataframe thead th {\n",
       "        text-align: right;\n",
       "    }\n",
       "</style>\n",
       "<table border=\"1\" class=\"dataframe\">\n",
       "  <thead>\n",
       "    <tr style=\"text-align: right;\">\n",
       "      <th></th>\n",
       "      <th>Aircompany</th>\n",
       "      <th>Origen</th>\n",
       "      <th>Destino</th>\n",
       "      <th>Distancia</th>\n",
       "      <th>Avion</th>\n",
       "      <th>Escala</th>\n",
       "      <th>Consumo Kg</th>\n",
       "      <th>Duración</th>\n",
       "      <th>Ingresos</th>\n",
       "      <th>Consumo/Km</th>\n",
       "    </tr>\n",
       "    <tr>\n",
       "      <th>Id_vuelo</th>\n",
       "      <th></th>\n",
       "      <th></th>\n",
       "      <th></th>\n",
       "      <th></th>\n",
       "      <th></th>\n",
       "      <th></th>\n",
       "      <th></th>\n",
       "      <th></th>\n",
       "      <th></th>\n",
       "      <th></th>\n",
       "    </tr>\n",
       "  </thead>\n",
       "  <tbody>\n",
       "    <tr>\n",
       "      <th>Air_PaGi_10737</th>\n",
       "      <td>NaN</td>\n",
       "      <td>NaN</td>\n",
       "      <td>NaN</td>\n",
       "      <td>NaN</td>\n",
       "      <td>NaN</td>\n",
       "      <td>NaN</td>\n",
       "      <td>NaN</td>\n",
       "      <td>NaN</td>\n",
       "      <td>NaN</td>\n",
       "      <td>NaN</td>\n",
       "    </tr>\n",
       "    <tr>\n",
       "      <th>Fly_BaRo_10737</th>\n",
       "      <td>FlyQ</td>\n",
       "      <td>Bali</td>\n",
       "      <td>Roma</td>\n",
       "      <td>12738.0</td>\n",
       "      <td>Boeing 737</td>\n",
       "      <td>True</td>\n",
       "      <td>33479.132544</td>\n",
       "      <td>1167.0</td>\n",
       "      <td>468527.19</td>\n",
       "      <td>2.628288</td>\n",
       "    </tr>\n",
       "    <tr>\n",
       "      <th>Tab_GiLo_11380</th>\n",
       "      <td>NaN</td>\n",
       "      <td>NaN</td>\n",
       "      <td>NaN</td>\n",
       "      <td>NaN</td>\n",
       "      <td>NaN</td>\n",
       "      <td>NaN</td>\n",
       "      <td>NaN</td>\n",
       "      <td>NaN</td>\n",
       "      <td>NaN</td>\n",
       "      <td>NaN</td>\n",
       "    </tr>\n",
       "  </tbody>\n",
       "</table>\n",
       "</div>"
      ],
      "text/plain": [
       "               Aircompany Origen Destino  Distancia       Avion Escala  \\\n",
       "Id_vuelo                                                                 \n",
       "Air_PaGi_10737        NaN    NaN     NaN        NaN         NaN    NaN   \n",
       "Fly_BaRo_10737       FlyQ   Bali    Roma    12738.0  Boeing 737   True   \n",
       "Tab_GiLo_11380        NaN    NaN     NaN        NaN         NaN    NaN   \n",
       "\n",
       "                  Consumo Kg  Duración   Ingresos  Consumo/Km  \n",
       "Id_vuelo                                                       \n",
       "Air_PaGi_10737           NaN       NaN        NaN         NaN  \n",
       "Fly_BaRo_10737  33479.132544    1167.0  468527.19    2.628288  \n",
       "Tab_GiLo_11380           NaN       NaN        NaN         NaN  "
      ]
     },
     "execution_count": 22,
     "metadata": {},
     "output_type": "execute_result"
    }
   ],
   "source": [
    "\n",
    "df_aviones.where(df_aviones[\"Aircompany\"] == \"FlyQ\").head(3)"
   ]
  },
  {
   "cell_type": "markdown",
   "id": "f9ef3e91-945f-48dc-91c8-3e6cdd68117f",
   "metadata": {},
   "source": [
    "Para cambiar `NaN` por otro valor: "
   ]
  },
  {
   "cell_type": "code",
   "execution_count": 23,
   "id": "4b86251e-c76e-495f-9853-f43330e22bfd",
   "metadata": {},
   "outputs": [
    {
     "data": {
      "text/html": [
       "<div>\n",
       "<style scoped>\n",
       "    .dataframe tbody tr th:only-of-type {\n",
       "        vertical-align: middle;\n",
       "    }\n",
       "\n",
       "    .dataframe tbody tr th {\n",
       "        vertical-align: top;\n",
       "    }\n",
       "\n",
       "    .dataframe thead th {\n",
       "        text-align: right;\n",
       "    }\n",
       "</style>\n",
       "<table border=\"1\" class=\"dataframe\">\n",
       "  <thead>\n",
       "    <tr style=\"text-align: right;\">\n",
       "      <th></th>\n",
       "      <th>Aircompany</th>\n",
       "      <th>Origen</th>\n",
       "      <th>Destino</th>\n",
       "      <th>Distancia</th>\n",
       "      <th>Avion</th>\n",
       "      <th>Escala</th>\n",
       "      <th>Consumo Kg</th>\n",
       "      <th>Duración</th>\n",
       "      <th>Ingresos</th>\n",
       "      <th>Consumo/Km</th>\n",
       "    </tr>\n",
       "    <tr>\n",
       "      <th>Id_vuelo</th>\n",
       "      <th></th>\n",
       "      <th></th>\n",
       "      <th></th>\n",
       "      <th></th>\n",
       "      <th></th>\n",
       "      <th></th>\n",
       "      <th></th>\n",
       "      <th></th>\n",
       "      <th></th>\n",
       "      <th></th>\n",
       "    </tr>\n",
       "  </thead>\n",
       "  <tbody>\n",
       "    <tr>\n",
       "      <th>Air_PaGi_10737</th>\n",
       "      <td>No usar</td>\n",
       "      <td>No usar</td>\n",
       "      <td>No usar</td>\n",
       "      <td>No usar</td>\n",
       "      <td>No usar</td>\n",
       "      <td>No usar</td>\n",
       "      <td>No usar</td>\n",
       "      <td>No usar</td>\n",
       "      <td>No usar</td>\n",
       "      <td>No usar</td>\n",
       "    </tr>\n",
       "    <tr>\n",
       "      <th>Fly_BaRo_10737</th>\n",
       "      <td>FlyQ</td>\n",
       "      <td>Bali</td>\n",
       "      <td>Roma</td>\n",
       "      <td>12738</td>\n",
       "      <td>Boeing 737</td>\n",
       "      <td>True</td>\n",
       "      <td>33479.132544</td>\n",
       "      <td>1167</td>\n",
       "      <td>468527.19</td>\n",
       "      <td>2.628288</td>\n",
       "    </tr>\n",
       "    <tr>\n",
       "      <th>Tab_GiLo_11380</th>\n",
       "      <td>No usar</td>\n",
       "      <td>No usar</td>\n",
       "      <td>No usar</td>\n",
       "      <td>No usar</td>\n",
       "      <td>No usar</td>\n",
       "      <td>No usar</td>\n",
       "      <td>No usar</td>\n",
       "      <td>No usar</td>\n",
       "      <td>No usar</td>\n",
       "      <td>No usar</td>\n",
       "    </tr>\n",
       "  </tbody>\n",
       "</table>\n",
       "</div>"
      ],
      "text/plain": [
       "               Aircompany   Origen  Destino Distancia       Avion   Escala  \\\n",
       "Id_vuelo                                                                     \n",
       "Air_PaGi_10737    No usar  No usar  No usar   No usar     No usar  No usar   \n",
       "Fly_BaRo_10737       FlyQ     Bali     Roma     12738  Boeing 737     True   \n",
       "Tab_GiLo_11380    No usar  No usar  No usar   No usar     No usar  No usar   \n",
       "\n",
       "                  Consumo Kg Duración   Ingresos Consumo/Km  \n",
       "Id_vuelo                                                     \n",
       "Air_PaGi_10737       No usar  No usar    No usar    No usar  \n",
       "Fly_BaRo_10737  33479.132544     1167  468527.19   2.628288  \n",
       "Tab_GiLo_11380       No usar  No usar    No usar    No usar  "
      ]
     },
     "execution_count": 23,
     "metadata": {},
     "output_type": "execute_result"
    }
   ],
   "source": [
    "df_aviones.where(df_aviones[\"Aircompany\"] == \"FlyQ\", \"No usar\").head(3)"
   ]
  },
  {
   "cell_type": "code",
   "execution_count": 24,
   "id": "ce970032-73a0-4e57-b139-99709f22b549",
   "metadata": {},
   "outputs": [
    {
     "data": {
      "text/html": [
       "<div>\n",
       "<style scoped>\n",
       "    .dataframe tbody tr th:only-of-type {\n",
       "        vertical-align: middle;\n",
       "    }\n",
       "\n",
       "    .dataframe tbody tr th {\n",
       "        vertical-align: top;\n",
       "    }\n",
       "\n",
       "    .dataframe thead th {\n",
       "        text-align: right;\n",
       "    }\n",
       "</style>\n",
       "<table border=\"1\" class=\"dataframe\">\n",
       "  <thead>\n",
       "    <tr style=\"text-align: right;\">\n",
       "      <th></th>\n",
       "      <th>Aircompany</th>\n",
       "      <th>Origen</th>\n",
       "      <th>Destino</th>\n",
       "      <th>Distancia</th>\n",
       "      <th>Avion</th>\n",
       "      <th>Escala</th>\n",
       "      <th>Consumo Kg</th>\n",
       "      <th>Duración</th>\n",
       "      <th>Ingresos</th>\n",
       "      <th>Consumo/Km</th>\n",
       "    </tr>\n",
       "    <tr>\n",
       "      <th>Id_vuelo</th>\n",
       "      <th></th>\n",
       "      <th></th>\n",
       "      <th></th>\n",
       "      <th></th>\n",
       "      <th></th>\n",
       "      <th></th>\n",
       "      <th></th>\n",
       "      <th></th>\n",
       "      <th></th>\n",
       "      <th></th>\n",
       "    </tr>\n",
       "  </thead>\n",
       "  <tbody>\n",
       "    <tr>\n",
       "      <th>Pam_PaMe_11380</th>\n",
       "      <td>PamPangea</td>\n",
       "      <td>París</td>\n",
       "      <td>Melbourne</td>\n",
       "      <td>16925</td>\n",
       "      <td>Airbus A380</td>\n",
       "      <td>True</td>\n",
       "      <td>217722.65840</td>\n",
       "      <td>1328</td>\n",
       "      <td>1056735.47</td>\n",
       "      <td>12.863968</td>\n",
       "    </tr>\n",
       "    <tr>\n",
       "      <th>Mol_LoMe_11380</th>\n",
       "      <td>MoldaviAir</td>\n",
       "      <td>Londres</td>\n",
       "      <td>Melbourne</td>\n",
       "      <td>16900</td>\n",
       "      <td>Airbus A380</td>\n",
       "      <td>True</td>\n",
       "      <td>213337.48800</td>\n",
       "      <td>1326</td>\n",
       "      <td>1092709.68</td>\n",
       "      <td>12.623520</td>\n",
       "    </tr>\n",
       "    <tr>\n",
       "      <th>Mol_CaMe_11380</th>\n",
       "      <td>MoldaviAir</td>\n",
       "      <td>Cádiz</td>\n",
       "      <td>Melbourne</td>\n",
       "      <td>20029</td>\n",
       "      <td>Airbus A380</td>\n",
       "      <td>True</td>\n",
       "      <td>264876.31456</td>\n",
       "      <td>1535</td>\n",
       "      <td>1256717.99</td>\n",
       "      <td>13.224640</td>\n",
       "    </tr>\n",
       "  </tbody>\n",
       "</table>\n",
       "</div>"
      ],
      "text/plain": [
       "                Aircompany   Origen    Destino  Distancia        Avion  \\\n",
       "Id_vuelo                                                                 \n",
       "Pam_PaMe_11380   PamPangea    París  Melbourne      16925  Airbus A380   \n",
       "Mol_LoMe_11380  MoldaviAir  Londres  Melbourne      16900  Airbus A380   \n",
       "Mol_CaMe_11380  MoldaviAir    Cádiz  Melbourne      20029  Airbus A380   \n",
       "\n",
       "                Escala    Consumo Kg  Duración    Ingresos  Consumo/Km  \n",
       "Id_vuelo                                                                \n",
       "Pam_PaMe_11380    True  217722.65840      1328  1056735.47   12.863968  \n",
       "Mol_LoMe_11380    True  213337.48800      1326  1092709.68   12.623520  \n",
       "Mol_CaMe_11380    True  264876.31456      1535  1256717.99   13.224640  "
      ]
     },
     "execution_count": 24,
     "metadata": {},
     "output_type": "execute_result"
    }
   ],
   "source": [
    "# Quiero quedarme con los vuelos de los A380 de más de 10000 km de distancia con destino a Melbourne\n",
    "vuelos_A380 = df_aviones[\"Avion\"] == \"Airbus A380\"\n",
    "mayor_10km = df_aviones[\"Distancia\"] > 10000\n",
    "a_melbourne = df_aviones[\"Destino\"] == \"Melbourne\"\n",
    "condicion = vuelos_A380 & mayor_10km & a_melbourne\n",
    "df_aviones[condicion].head(3)"
   ]
  },
  {
   "cell_type": "markdown",
   "id": "5118b8ec-ac3d-4acd-8982-9da5d672fed3",
   "metadata": {},
   "source": [
    "Para los condicionales en lo que se compara son `Series` se usa `&` en vez de `and` y `|` en vez de `or`"
   ]
  },
  {
   "cell_type": "markdown",
   "id": "c3b35231-9fd6-408b-b42f-6eb82454abef",
   "metadata": {},
   "source": [
    "### **Filtar todo el DataFrame**"
   ]
  },
  {
   "cell_type": "code",
   "execution_count": 25,
   "id": "870b1876-36e2-45b4-9243-97d65d138c91",
   "metadata": {},
   "outputs": [
    {
     "data": {
      "text/html": [
       "<div>\n",
       "<style scoped>\n",
       "    .dataframe tbody tr th:only-of-type {\n",
       "        vertical-align: middle;\n",
       "    }\n",
       "\n",
       "    .dataframe tbody tr th {\n",
       "        vertical-align: top;\n",
       "    }\n",
       "\n",
       "    .dataframe thead th {\n",
       "        text-align: right;\n",
       "    }\n",
       "</style>\n",
       "<table border=\"1\" class=\"dataframe\">\n",
       "  <thead>\n",
       "    <tr style=\"text-align: right;\">\n",
       "      <th></th>\n",
       "      <th>Protones</th>\n",
       "      <th>Neutrones</th>\n",
       "      <th>Quarks</th>\n",
       "    </tr>\n",
       "  </thead>\n",
       "  <tbody>\n",
       "    <tr>\n",
       "      <th>0</th>\n",
       "      <td>5</td>\n",
       "      <td>8</td>\n",
       "      <td>9</td>\n",
       "    </tr>\n",
       "    <tr>\n",
       "      <th>1</th>\n",
       "      <td>5</td>\n",
       "      <td>0</td>\n",
       "      <td>0</td>\n",
       "    </tr>\n",
       "    <tr>\n",
       "      <th>2</th>\n",
       "      <td>1</td>\n",
       "      <td>7</td>\n",
       "      <td>6</td>\n",
       "    </tr>\n",
       "    <tr>\n",
       "      <th>3</th>\n",
       "      <td>9</td>\n",
       "      <td>2</td>\n",
       "      <td>4</td>\n",
       "    </tr>\n",
       "  </tbody>\n",
       "</table>\n",
       "</div>"
      ],
      "text/plain": [
       "   Protones  Neutrones  Quarks\n",
       "0         5          8       9\n",
       "1         5          0       0\n",
       "2         1          7       6\n",
       "3         9          2       4"
      ]
     },
     "execution_count": 25,
     "metadata": {},
     "output_type": "execute_result"
    }
   ],
   "source": [
    "np.random.seed(1)\n",
    "df_test = pd.DataFrame(np.random.randint(0,10,(4,3)), columns = [\"Protones\", \"Neutrones\", \"Quarks\"])\n",
    "df_test"
   ]
  },
  {
   "cell_type": "code",
   "execution_count": 26,
   "id": "8af1886b-ecab-43d7-82fd-748a637b70ae",
   "metadata": {},
   "outputs": [
    {
     "data": {
      "text/html": [
       "<div>\n",
       "<style scoped>\n",
       "    .dataframe tbody tr th:only-of-type {\n",
       "        vertical-align: middle;\n",
       "    }\n",
       "\n",
       "    .dataframe tbody tr th {\n",
       "        vertical-align: top;\n",
       "    }\n",
       "\n",
       "    .dataframe thead th {\n",
       "        text-align: right;\n",
       "    }\n",
       "</style>\n",
       "<table border=\"1\" class=\"dataframe\">\n",
       "  <thead>\n",
       "    <tr style=\"text-align: right;\">\n",
       "      <th></th>\n",
       "      <th>Protones</th>\n",
       "      <th>Neutrones</th>\n",
       "      <th>Quarks</th>\n",
       "    </tr>\n",
       "  </thead>\n",
       "  <tbody>\n",
       "    <tr>\n",
       "      <th>0</th>\n",
       "      <td>5.0</td>\n",
       "      <td>NaN</td>\n",
       "      <td>NaN</td>\n",
       "    </tr>\n",
       "    <tr>\n",
       "      <th>1</th>\n",
       "      <td>5.0</td>\n",
       "      <td>0.0</td>\n",
       "      <td>0.0</td>\n",
       "    </tr>\n",
       "    <tr>\n",
       "      <th>2</th>\n",
       "      <td>1.0</td>\n",
       "      <td>NaN</td>\n",
       "      <td>NaN</td>\n",
       "    </tr>\n",
       "    <tr>\n",
       "      <th>3</th>\n",
       "      <td>NaN</td>\n",
       "      <td>2.0</td>\n",
       "      <td>4.0</td>\n",
       "    </tr>\n",
       "  </tbody>\n",
       "</table>\n",
       "</div>"
      ],
      "text/plain": [
       "   Protones  Neutrones  Quarks\n",
       "0       5.0        NaN     NaN\n",
       "1       5.0        0.0     0.0\n",
       "2       1.0        NaN     NaN\n",
       "3       NaN        2.0     4.0"
      ]
     },
     "execution_count": 26,
     "metadata": {},
     "output_type": "execute_result"
    }
   ],
   "source": [
    "df_test[df_test < 6]"
   ]
  },
  {
   "cell_type": "code",
   "execution_count": 27,
   "id": "de0e7c28-30c5-4302-957d-6fd4cf520fd3",
   "metadata": {},
   "outputs": [
    {
     "data": {
      "text/html": [
       "<div>\n",
       "<style scoped>\n",
       "    .dataframe tbody tr th:only-of-type {\n",
       "        vertical-align: middle;\n",
       "    }\n",
       "\n",
       "    .dataframe tbody tr th {\n",
       "        vertical-align: top;\n",
       "    }\n",
       "\n",
       "    .dataframe thead th {\n",
       "        text-align: right;\n",
       "    }\n",
       "</style>\n",
       "<table border=\"1\" class=\"dataframe\">\n",
       "  <thead>\n",
       "    <tr style=\"text-align: right;\">\n",
       "      <th></th>\n",
       "      <th>Protones</th>\n",
       "      <th>Neutrones</th>\n",
       "      <th>Quarks</th>\n",
       "    </tr>\n",
       "  </thead>\n",
       "  <tbody>\n",
       "    <tr>\n",
       "      <th>0</th>\n",
       "      <td>5</td>\n",
       "      <td>no usar</td>\n",
       "      <td>no usar</td>\n",
       "    </tr>\n",
       "    <tr>\n",
       "      <th>1</th>\n",
       "      <td>5</td>\n",
       "      <td>0</td>\n",
       "      <td>0</td>\n",
       "    </tr>\n",
       "    <tr>\n",
       "      <th>2</th>\n",
       "      <td>1</td>\n",
       "      <td>no usar</td>\n",
       "      <td>no usar</td>\n",
       "    </tr>\n",
       "    <tr>\n",
       "      <th>3</th>\n",
       "      <td>no usar</td>\n",
       "      <td>2</td>\n",
       "      <td>4</td>\n",
       "    </tr>\n",
       "  </tbody>\n",
       "</table>\n",
       "</div>"
      ],
      "text/plain": [
       "  Protones Neutrones   Quarks\n",
       "0        5   no usar  no usar\n",
       "1        5         0        0\n",
       "2        1   no usar  no usar\n",
       "3  no usar         2        4"
      ]
     },
     "execution_count": 27,
     "metadata": {},
     "output_type": "execute_result"
    }
   ],
   "source": [
    "df_test.where(df_test < 6, \"no usar\")"
   ]
  },
  {
   "cell_type": "markdown",
   "id": "c4381889-f0a5-49d4-bbf3-0aa96114a773",
   "metadata": {},
   "source": [
    "Se pueden usar bucles junto a los métodos anteriores para obtener valores específicos:"
   ]
  },
  {
   "cell_type": "code",
   "execution_count": 28,
   "id": "aeec1199-4f7e-4f29-8e08-dc4b40497051",
   "metadata": {},
   "outputs": [
    {
     "name": "stdout",
     "output_type": "stream",
     "text": [
      "La mayor distancia cubierta por la compañíaAirnar es de 15011 Km\n",
      "La mayor distancia cubierta por la compañíaFlyQ es de 16589 Km\n",
      "La mayor distancia cubierta por la compañíaTabarAir es de 10077 Km\n",
      "La mayor distancia cubierta por la compañíaMoldaviAir es de 20029 Km\n",
      "La mayor distancia cubierta por la compañíaPamPangea es de 16925 Km\n"
     ]
    }
   ],
   "source": [
    "# Mayor distancia por compañía\n",
    "for company in df_aviones[\"Aircompany\"].unique():   #---> Dá los valores únicos de compañías.\n",
    "    distancia_max = df_aviones.loc[df_aviones[\"Aircompany\"] == company, \"Distancia\"].max()  #-----> Filtra cada compañía aérea por su distáncia máxima\n",
    "    print(f\"La mayor distancia cubierta por la compañía{company} es de {distancia_max} Km\")"
   ]
  },
  {
   "cell_type": "code",
   "execution_count": 30,
   "id": "f0fb768a-7653-4dc6-bd47-aa6b5102f283",
   "metadata": {},
   "outputs": [
    {
     "name": "stdout",
     "output_type": "stream",
     "text": [
      "La distribución de uso por tipo de avion para la compañía Airnar es:\n",
      "Avion\n",
      "Boeing 747     68\n",
      "Airbus A380    64\n",
      "Boeing 737     49\n",
      "Airbus A320    37\n",
      "Name: count, dtype: int64\n",
      "La distribución de uso por tipo de avion para la compañía FlyQ es:\n",
      "Avion\n",
      "Boeing 747     67\n",
      "Airbus A380    61\n",
      "Boeing 737     54\n",
      "Airbus A320    34\n",
      "Name: count, dtype: int64\n",
      "La distribución de uso por tipo de avion para la compañía TabarAir es:\n",
      "Avion\n",
      "Boeing 747     77\n",
      "Airbus A380    71\n",
      "Boeing 737     62\n",
      "Airbus A320    61\n",
      "Name: count, dtype: int64\n",
      "La distribución de uso por tipo de avion para la compañía MoldaviAir es:\n",
      "Avion\n",
      "Boeing 737     84\n",
      "Airbus A380    74\n",
      "Boeing 747     71\n",
      "Airbus A320    35\n",
      "Name: count, dtype: int64\n",
      "La distribución de uso por tipo de avion para la compañía PamPangea es:\n",
      "Avion\n",
      "Airbus A380    73\n",
      "Boeing 737     66\n",
      "Boeing 747     61\n",
      "Airbus A320    31\n",
      "Name: count, dtype: int64\n"
     ]
    }
   ],
   "source": [
    "# Cuántos aviones usan de cada tipo en cada compañía\n",
    "for company in df_aviones[\"Aircompany\"].unique():\n",
    "    print(f\"La distribución de uso por tipo de avion para la compañía {company} es:\")\n",
    "    print(df_aviones.loc[df_aviones.Aircompany == company, \"Avion\"].value_counts())"
   ]
  },
  {
   "cell_type": "code",
   "execution_count": 32,
   "id": "5882b1bd-7aa6-48f3-9d27-b9aa9a5a3cbb",
   "metadata": {},
   "outputs": [
    {
     "name": "stdout",
     "output_type": "stream",
     "text": [
      "Hay 163 vuelos con destino a Ginebra\n"
     ]
    },
    {
     "data": {
      "text/plain": [
       "Origen\n",
       "Bali           32\n",
       "Nueva York     29\n",
       "Londres        21\n",
       "Cincinnati     17\n",
       "Los Angeles    17\n",
       "París          15\n",
       "Melbourne      10\n",
       "Barcelona       8\n",
       "Roma            7\n",
       "Cádiz           7\n",
       "Name: count, dtype: int64"
      ]
     },
     "execution_count": 32,
     "metadata": {},
     "output_type": "execute_result"
    }
   ],
   "source": [
    "# Cuántos vuelos hay a Ginebra\n",
    "condicion = df_aviones.Destino == \"Ginebra\"\n",
    "print(\"Hay\",len(df_aviones.loc[condicion]),\"vuelos con destino a Ginebra\")\n",
    "# Cómo se distribuyen los origenes de los vuelos anteriores\n",
    "df_aviones.loc[condicion, \"Origen\"].value_counts()"
   ]
  },
  {
   "cell_type": "markdown",
   "id": "c7875ac2-13f7-4786-9c33-ae41fb2f8113",
   "metadata": {},
   "source": [
    "### **Manipulaciónd del DataFrame**"
   ]
  },
  {
   "cell_type": "markdown",
   "id": "4bd8b13c-7aea-43ca-8f81-c41ab99b7e70",
   "metadata": {},
   "source": [
    "Supongamos que nos avisan de que los datos de TabarAir son erróneos porque para los vuelos a Los Angeles en realidad son a San Francisco.  \n"
   ]
  },
  {
   "cell_type": "code",
   "execution_count": 41,
   "id": "e38fc185-3edd-4620-88db-a8c43372cbc5",
   "metadata": {},
   "outputs": [
    {
     "data": {
      "text/html": [
       "<div>\n",
       "<style scoped>\n",
       "    .dataframe tbody tr th:only-of-type {\n",
       "        vertical-align: middle;\n",
       "    }\n",
       "\n",
       "    .dataframe tbody tr th {\n",
       "        vertical-align: top;\n",
       "    }\n",
       "\n",
       "    .dataframe thead th {\n",
       "        text-align: right;\n",
       "    }\n",
       "</style>\n",
       "<table border=\"1\" class=\"dataframe\">\n",
       "  <thead>\n",
       "    <tr style=\"text-align: right;\">\n",
       "      <th></th>\n",
       "      <th>Aircompany</th>\n",
       "      <th>Origen</th>\n",
       "      <th>Destino</th>\n",
       "      <th>Distancia</th>\n",
       "      <th>Avion</th>\n",
       "      <th>Escala</th>\n",
       "      <th>Consumo Kg</th>\n",
       "      <th>Duración</th>\n",
       "      <th>Ingresos</th>\n",
       "      <th>Consumo/Km</th>\n",
       "      <th>Super trayectos</th>\n",
       "    </tr>\n",
       "    <tr>\n",
       "      <th>Id_vuelo</th>\n",
       "      <th></th>\n",
       "      <th></th>\n",
       "      <th></th>\n",
       "      <th></th>\n",
       "      <th></th>\n",
       "      <th></th>\n",
       "      <th></th>\n",
       "      <th></th>\n",
       "      <th></th>\n",
       "      <th></th>\n",
       "      <th></th>\n",
       "    </tr>\n",
       "  </thead>\n",
       "  <tbody>\n",
       "    <tr>\n",
       "      <th>Air_PaGi_10737</th>\n",
       "      <td>Airnar</td>\n",
       "      <td>París</td>\n",
       "      <td>Ginebra</td>\n",
       "      <td>411</td>\n",
       "      <td>Boeing 737</td>\n",
       "      <td>False</td>\n",
       "      <td>1028.691900</td>\n",
       "      <td>51</td>\n",
       "      <td>14232.65</td>\n",
       "      <td>2.502900</td>\n",
       "      <td>False</td>\n",
       "    </tr>\n",
       "    <tr>\n",
       "      <th>Fly_BaRo_10737</th>\n",
       "      <td>FlyQ</td>\n",
       "      <td>Bali</td>\n",
       "      <td>Roma</td>\n",
       "      <td>12738</td>\n",
       "      <td>Boeing 737</td>\n",
       "      <td>True</td>\n",
       "      <td>33479.132544</td>\n",
       "      <td>1167</td>\n",
       "      <td>468527.19</td>\n",
       "      <td>2.628288</td>\n",
       "      <td>True</td>\n",
       "    </tr>\n",
       "    <tr>\n",
       "      <th>Tab_GiLo_11380</th>\n",
       "      <td>TabarAir</td>\n",
       "      <td>Ginebra</td>\n",
       "      <td>San Francisco</td>\n",
       "      <td>9103</td>\n",
       "      <td>Airbus A380</td>\n",
       "      <td>False</td>\n",
       "      <td>109439.907200</td>\n",
       "      <td>626</td>\n",
       "      <td>584789.19</td>\n",
       "      <td>12.022400</td>\n",
       "      <td>False</td>\n",
       "    </tr>\n",
       "  </tbody>\n",
       "</table>\n",
       "</div>"
      ],
      "text/plain": [
       "               Aircompany   Origen        Destino  Distancia        Avion  \\\n",
       "Id_vuelo                                                                    \n",
       "Air_PaGi_10737     Airnar    París        Ginebra        411   Boeing 737   \n",
       "Fly_BaRo_10737       FlyQ     Bali           Roma      12738   Boeing 737   \n",
       "Tab_GiLo_11380   TabarAir  Ginebra  San Francisco       9103  Airbus A380   \n",
       "\n",
       "                Escala     Consumo Kg  Duración   Ingresos  Consumo/Km  \\\n",
       "Id_vuelo                                                                 \n",
       "Air_PaGi_10737   False    1028.691900        51   14232.65    2.502900   \n",
       "Fly_BaRo_10737    True   33479.132544      1167  468527.19    2.628288   \n",
       "Tab_GiLo_11380   False  109439.907200       626  584789.19   12.022400   \n",
       "\n",
       "                Super trayectos  \n",
       "Id_vuelo                         \n",
       "Air_PaGi_10737            False  \n",
       "Fly_BaRo_10737             True  \n",
       "Tab_GiLo_11380            False  "
      ]
     },
     "execution_count": 41,
     "metadata": {},
     "output_type": "execute_result"
    }
   ],
   "source": [
    "es_TabarAir = df_aviones[\"Aircompany\"] == \"TabarAir\" # --> Primera condición: La compañía\n",
    "a_LosAngeles = df_aviones[\"Destino\"] == \"Los Angeles\" #--> Segunda condición: El destino\n",
    "df_aviones.loc[es_TabarAir & a_LosAngeles, \"Destino\"] = \"San Francisco\"  #---> Aplicar el filtro, despues de la condición se selecciona lo que hay que cambiar, el destino\n",
    "df_aviones.head(3)"
   ]
  },
  {
   "cell_type": "markdown",
   "id": "b8db0b1f-7d67-43f1-97f1-35933d0e6845",
   "metadata": {},
   "source": [
    "Y ahora nos dicen que creemos una columna nueva \"Supertrayectos\" que debe ser True cuando el trayecto es mayor de 12000Km y False en caso contrario"
   ]
  },
  {
   "cell_type": "code",
   "execution_count": 40,
   "id": "e8bf6770-0484-4b5c-bf0b-8edeb551d4e1",
   "metadata": {},
   "outputs": [
    {
     "data": {
      "text/html": [
       "<div>\n",
       "<style scoped>\n",
       "    .dataframe tbody tr th:only-of-type {\n",
       "        vertical-align: middle;\n",
       "    }\n",
       "\n",
       "    .dataframe tbody tr th {\n",
       "        vertical-align: top;\n",
       "    }\n",
       "\n",
       "    .dataframe thead th {\n",
       "        text-align: right;\n",
       "    }\n",
       "</style>\n",
       "<table border=\"1\" class=\"dataframe\">\n",
       "  <thead>\n",
       "    <tr style=\"text-align: right;\">\n",
       "      <th></th>\n",
       "      <th>Aircompany</th>\n",
       "      <th>Origen</th>\n",
       "      <th>Destino</th>\n",
       "      <th>Distancia</th>\n",
       "      <th>Avion</th>\n",
       "      <th>Escala</th>\n",
       "      <th>Consumo Kg</th>\n",
       "      <th>Duración</th>\n",
       "      <th>Ingresos</th>\n",
       "      <th>Consumo/Km</th>\n",
       "      <th>Super trayectos</th>\n",
       "    </tr>\n",
       "    <tr>\n",
       "      <th>Id_vuelo</th>\n",
       "      <th></th>\n",
       "      <th></th>\n",
       "      <th></th>\n",
       "      <th></th>\n",
       "      <th></th>\n",
       "      <th></th>\n",
       "      <th></th>\n",
       "      <th></th>\n",
       "      <th></th>\n",
       "      <th></th>\n",
       "      <th></th>\n",
       "    </tr>\n",
       "  </thead>\n",
       "  <tbody>\n",
       "    <tr>\n",
       "      <th>Air_PaGi_10737</th>\n",
       "      <td>Airnar</td>\n",
       "      <td>París</td>\n",
       "      <td>Ginebra</td>\n",
       "      <td>411</td>\n",
       "      <td>Boeing 737</td>\n",
       "      <td>False</td>\n",
       "      <td>1028.691900</td>\n",
       "      <td>51</td>\n",
       "      <td>14232.65</td>\n",
       "      <td>2.502900</td>\n",
       "      <td>False</td>\n",
       "    </tr>\n",
       "    <tr>\n",
       "      <th>Fly_BaRo_10737</th>\n",
       "      <td>FlyQ</td>\n",
       "      <td>Bali</td>\n",
       "      <td>Roma</td>\n",
       "      <td>12738</td>\n",
       "      <td>Boeing 737</td>\n",
       "      <td>True</td>\n",
       "      <td>33479.132544</td>\n",
       "      <td>1167</td>\n",
       "      <td>468527.19</td>\n",
       "      <td>2.628288</td>\n",
       "      <td>True</td>\n",
       "    </tr>\n",
       "    <tr>\n",
       "      <th>Tab_GiLo_11380</th>\n",
       "      <td>TabarAir</td>\n",
       "      <td>Ginebra</td>\n",
       "      <td>San Francisco</td>\n",
       "      <td>9103</td>\n",
       "      <td>Airbus A380</td>\n",
       "      <td>False</td>\n",
       "      <td>109439.907200</td>\n",
       "      <td>626</td>\n",
       "      <td>584789.19</td>\n",
       "      <td>12.022400</td>\n",
       "      <td>False</td>\n",
       "    </tr>\n",
       "  </tbody>\n",
       "</table>\n",
       "</div>"
      ],
      "text/plain": [
       "               Aircompany   Origen        Destino  Distancia        Avion  \\\n",
       "Id_vuelo                                                                    \n",
       "Air_PaGi_10737     Airnar    París        Ginebra        411   Boeing 737   \n",
       "Fly_BaRo_10737       FlyQ     Bali           Roma      12738   Boeing 737   \n",
       "Tab_GiLo_11380   TabarAir  Ginebra  San Francisco       9103  Airbus A380   \n",
       "\n",
       "                Escala     Consumo Kg  Duración   Ingresos  Consumo/Km  \\\n",
       "Id_vuelo                                                                 \n",
       "Air_PaGi_10737   False    1028.691900        51   14232.65    2.502900   \n",
       "Fly_BaRo_10737    True   33479.132544      1167  468527.19    2.628288   \n",
       "Tab_GiLo_11380   False  109439.907200       626  584789.19   12.022400   \n",
       "\n",
       "                Super trayectos  \n",
       "Id_vuelo                         \n",
       "Air_PaGi_10737            False  \n",
       "Fly_BaRo_10737             True  \n",
       "Tab_GiLo_11380            False  "
      ]
     },
     "execution_count": 40,
     "metadata": {},
     "output_type": "execute_result"
    }
   ],
   "source": [
    "# Creandolo con un filtro/Selección\n",
    "df_aviones[\"Super trayectos\"] = False  #---> Inicializar con un valor y luego cambiarlo para evitar movidas\n",
    "df_aviones.loc[df_aviones[\"Distancia\"] > 12000, \"Super trayectos\"] = True\n",
    "df_aviones.head(3)"
   ]
  },
  {
   "cell_type": "code",
   "execution_count": 43,
   "id": "279f7049-d360-45f3-bf15-d6426f1936b9",
   "metadata": {},
   "outputs": [
    {
     "data": {
      "text/plain": [
       "Destino\n",
       "Bali           114\n",
       "Melbourne       68\n",
       "Londres         47\n",
       "Ginebra         42\n",
       "Cincinnati      36\n",
       "Cádiz           22\n",
       "París           19\n",
       "Nueva York      18\n",
       "Roma            16\n",
       "Barcelona        7\n",
       "Los Angeles      3\n",
       "Name: count, dtype: int64"
      ]
     },
     "execution_count": 43,
     "metadata": {},
     "output_type": "execute_result"
    }
   ],
   "source": [
    "df_aviones.loc[df_aviones[\"Super trayectos\"], \"Destino\"].value_counts() #---> filtrar cuanto vuelos cumplen la condición"
   ]
  },
  {
   "cell_type": "code",
   "execution_count": null,
   "id": "c587794f-7a16-4d71-83af-5bc1832dbcdb",
   "metadata": {},
   "outputs": [],
   "source": []
  }
 ],
 "metadata": {
  "kernelspec": {
   "display_name": "Python 3 (ipykernel)",
   "language": "python",
   "name": "python3"
  },
  "language_info": {
   "codemirror_mode": {
    "name": "ipython",
    "version": 3
   },
   "file_extension": ".py",
   "mimetype": "text/x-python",
   "name": "python",
   "nbconvert_exporter": "python",
   "pygments_lexer": "ipython3",
   "version": "3.10.11"
  }
 },
 "nbformat": 4,
 "nbformat_minor": 5
}
