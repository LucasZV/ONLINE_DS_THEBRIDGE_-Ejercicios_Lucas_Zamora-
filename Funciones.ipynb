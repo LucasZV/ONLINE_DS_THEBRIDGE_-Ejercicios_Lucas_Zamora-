{
 "cells": [
  {
   "cell_type": "markdown",
   "id": "f4b8d63f-5808-49e7-a3c3-8045a09595b9",
   "metadata": {},
   "source": [
    "# **Funciones:**"
   ]
  },
  {
   "cell_type": "markdown",
   "id": "c4c5918e-ceeb-480e-bf28-3a6f2b74dd53",
   "metadata": {},
   "source": [
    "### **Vectores:**"
   ]
  },
  {
   "cell_type": "markdown",
   "id": "1e48c773-2cce-475e-9e4b-29fb1df16531",
   "metadata": {},
   "source": [
    "##### **Suma de vectores**"
   ]
  },
  {
   "cell_type": "code",
   "execution_count": 3,
   "id": "6e1fe331-325c-4f25-919a-63111b9c4a86",
   "metadata": {},
   "outputs": [],
   "source": [
    "def suma_vectores(vec1, vec2):\n",
    "    vector_resultado = []\n",
    "    for indice, componente in enumerate(vec1):\n",
    "        suma = componente + vec2[indice]\n",
    "        vector_resultado.append(suma)\n",
    "    return vector_resultado"
   ]
  },
  {
   "cell_type": "markdown",
   "id": "e6877920-4181-45fb-aa9b-5ab1f24744f7",
   "metadata": {},
   "source": [
    "##### **Distancia entre vectores**"
   ]
  },
  {
   "cell_type": "code",
   "execution_count": 1,
   "id": "4638b226-116a-4dfa-8221-15d6bc4bb3bc",
   "metadata": {},
   "outputs": [],
   "source": [
    "# 2 Dimensiones\n",
    "\n",
    "import math\n",
    "\n",
    "def distancia_2d(vec1, vec2, precision = 2):\n",
    "    suma = 0\n",
    "    for i in range(2):\n",
    "        suma += (vec1[i] - vec2[i]) ** 2\n",
    "        distancia = math.sqrt(suma)\n",
    "        distancia = round(distancia, precision)\n",
    "        return distancia"
   ]
  },
  {
   "cell_type": "code",
   "execution_count": 12,
   "id": "0a68fe95-7bd3-4b38-aa4b-328f7ab5f9bf",
   "metadata": {},
   "outputs": [],
   "source": [
    "# Varias Dimensiones\n",
    "\n",
    "import math\n",
    "\n",
    "def distancia_n_dimensiones(vec1, vec2, precision = 2):\n",
    "    suma = 0\n",
    "    for i in range(len(vec1)):\n",
    "        suma += (vec1[i] - vec2[i])**2\n",
    "    distancia = math.sqrt(suma)\n",
    "    distancia = round(distancia, precision)\n",
    "    return distancia"
   ]
  },
  {
   "cell_type": "markdown",
   "id": "b0c2e53d-4641-473d-9fa2-b5820fe61eb0",
   "metadata": {},
   "source": [
    "##### **Producto escalar**"
   ]
  },
  {
   "cell_type": "code",
   "execution_count": 2,
   "id": "2f7e447c-801f-412d-a364-7d352f602ace",
   "metadata": {},
   "outputs": [],
   "source": [
    "def dot_product(vec1, vec2, precision = 2):\n",
    "    producto = 0\n",
    "    for i in range(len(vec1)):\n",
    "        producto += vec1[i] * vec2[i]\n",
    "        producto = round(producto, precision)\n",
    "        return producto"
   ]
  },
  {
   "cell_type": "markdown",
   "id": "4a177b91-8a90-4622-91e2-cfe4fe30f9d6",
   "metadata": {},
   "source": [
    "##### **Longitud, magnitud o norma de vector**"
   ]
  },
  {
   "cell_type": "code",
   "execution_count": 13,
   "id": "e7b09458-f7b5-4f06-a817-f42b4e9d5362",
   "metadata": {},
   "outputs": [],
   "source": [
    "def norm_vec(vec, precision = 2):\n",
    "    import math\n",
    "    escalar = dot_product(vec, vec)\n",
    "    longitud = math.sqrt(escalar)\n",
    "    longitud = round(longitud, precision)\n",
    "    return longitud"
   ]
  },
  {
   "cell_type": "markdown",
   "id": "19de0770-b287-4e4a-9a78-954634f38506",
   "metadata": {},
   "source": [
    "##### **Angulos entre vectores**"
   ]
  },
  {
   "cell_type": "code",
   "execution_count": 11,
   "id": "b35c5b73-7f23-4265-a48e-6549ae07f1c4",
   "metadata": {},
   "outputs": [],
   "source": [
    "def cos_vec(vec1, vec2, precision = 2):\n",
    "    resultado = dot_product(vec1, vec2) / (norm_vec(vec1) * norrm_vec(vec2))\n",
    "    resultado = round(resultado, precision)\n",
    "    return resultado\n",
    "\n",
    "# Cos 0º = 1\n",
    "# Cos 90º = 0\n",
    "# Cos 180º = -1 "
   ]
  },
  {
   "cell_type": "markdown",
   "id": "d2957cc7-5384-4b2d-821e-4c8c64937707",
   "metadata": {},
   "source": [
    "### **Matrices:**"
   ]
  },
  {
   "cell_type": "markdown",
   "id": "7b3e9c41-86ff-494c-9c22-59913632c3cb",
   "metadata": {},
   "source": [
    "##### **Conseguir vector columna de una matriz**"
   ]
  },
  {
   "cell_type": "code",
   "execution_count": 12,
   "id": "58d9f104-d263-4f15-97d7-9d405abed524",
   "metadata": {},
   "outputs": [],
   "source": [
    "def get_vec_columna(matriz):        #----> Matriz ha de ser lista de vectores_fila\n",
    "    num_filas = len(matriz)\n",
    "    num_columnas = len(matriz[0])   #----> La longitud de cualquiera de los elementos\n",
    "    lista_vec_columnas = []\n",
    "    for j in range(len(num_columnas)):\n",
    "        new_vec = []\n",
    "        for i in range(num_filas):\n",
    "            new_vec.append([i][j])\n",
    "        lista_vec_columnas.append(new_vec)   \n",
    "    return lista_vec_columnas"
   ]
  },
  {
   "cell_type": "markdown",
   "id": "2af27f2b-6798-4ffb-8bf1-6fd0da2191de",
   "metadata": {},
   "source": [
    "##### **Producto por escalar (número)**"
   ]
  },
  {
   "cell_type": "code",
   "execution_count": 1,
   "id": "48cd0a34-26c9-44dc-be9d-d5a8172a168c",
   "metadata": {},
   "outputs": [],
   "source": [
    "def escalar_product(escalar, matriz):\n",
    "    matriz_resultado = []\n",
    "    for vector_fila in matriz:\n",
    "        nuevo_vector_fila = []\n",
    "        for componente in vector_fila:\n",
    "            producto = escalar * componente\n",
    "            nuevo_vector_fila.append(producto)\n",
    "        matriz_resultado.append(nuevo_vector_fila)\n",
    "    return matriz_resultado"
   ]
  },
  {
   "cell_type": "markdown",
   "id": "b19a1488-739c-4219-99f0-e7f523300ae6",
   "metadata": {},
   "source": [
    "##### **Suma de matrices**"
   ]
  },
  {
   "cell_type": "code",
   "execution_count": 5,
   "id": "fa3278b8-b566-4902-90a4-a06ec2fc5561",
   "metadata": {},
   "outputs": [],
   "source": [
    "def suma_matrices(matriz_A, matriz_B):\n",
    "    matriz_resultado = []\n",
    "    for indice, vector_fila in enumerate(matriz_A):\n",
    "        vector_fila_B = matriz_B[indice]\n",
    "        new_vector_fila = suma_vectores(vector_fila_A, vector_fila_B)\n",
    "        matriz_resultado.append(new_vector_fila)\n",
    "    return matriz_resultado"
   ]
  },
  {
   "cell_type": "markdown",
   "id": "ff5357b5-1520-4068-91a8-1a0bdc976d75",
   "metadata": {},
   "source": [
    "##### **Resta de matrices**"
   ]
  },
  {
   "cell_type": "code",
   "execution_count": 6,
   "id": "4803af10-1084-4efd-8650-49cc9f197b9a",
   "metadata": {},
   "outputs": [],
   "source": [
    "def resta_matrices(matriz_A, matriz_B):\n",
    "    matriz_resultado = []\n",
    "    matriz_B_neg = escalar_product(-1, matriz_B)\n",
    "    matriz_resultado = suma_matrices(matriz_A, matriz_B_neg)\n",
    "    return matriz_resultado"
   ]
  },
  {
   "cell_type": "markdown",
   "id": "584e2826-3edd-4ef8-9e29-0fb0942172a4",
   "metadata": {},
   "source": [
    "##### **Multiplicación de matrices**"
   ]
  },
  {
   "cell_type": "code",
   "execution_count": 11,
   "id": "d409b6b9-d5ea-4b80-b42b-1907921d6150",
   "metadata": {},
   "outputs": [],
   "source": [
    "def prod_matrices(matriz_A, matriz_B):\n",
    "    matriz_resultado = []\n",
    "    for fila in matriz_A:\n",
    "        fila_nueva = []\n",
    "        for vec_columna in get_vec_columna(matriz_B):\n",
    "            nuevo_valor = dot_product(fila, vec_columna)\n",
    "            fila_nueva.append(nuevo_valor)\n",
    "        matriz_resultado.append(fila_nueva)\n",
    "    return matriz_resultado"
   ]
  },
  {
   "cell_type": "code",
   "execution_count": null,
   "id": "2396e101-9e30-48a8-ae55-8b649f8809b5",
   "metadata": {},
   "outputs": [],
   "source": []
  }
 ],
 "metadata": {
  "kernelspec": {
   "display_name": "Python 3 (ipykernel)",
   "language": "python",
   "name": "python3"
  },
  "language_info": {
   "codemirror_mode": {
    "name": "ipython",
    "version": 3
   },
   "file_extension": ".py",
   "mimetype": "text/x-python",
   "name": "python",
   "nbconvert_exporter": "python",
   "pygments_lexer": "ipython3",
   "version": "3.10.11"
  }
 },
 "nbformat": 4,
 "nbformat_minor": 5
}
