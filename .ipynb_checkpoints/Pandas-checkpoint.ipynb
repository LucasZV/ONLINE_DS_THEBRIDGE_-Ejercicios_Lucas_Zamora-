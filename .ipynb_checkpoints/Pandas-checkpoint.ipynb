{
 "cells": [
  {
   "cell_type": "markdown",
   "id": "7d264cb7-17ce-414b-8cb1-8c631b602220",
   "metadata": {},
   "source": [
    "# **Pandas**"
   ]
  },
  {
   "cell_type": "code",
   "execution_count": 1,
   "id": "0b4eb091-b9e2-4892-b309-ab437a4228da",
   "metadata": {},
   "outputs": [],
   "source": [
    "import numpy as np\n",
    "import pandas as pd"
   ]
  },
  {
   "cell_type": "markdown",
   "id": "3411f12b-efb8-4dbf-8dbb-6c9fe0c14e7e",
   "metadata": {},
   "source": [
    "### **Series**"
   ]
  },
  {
   "cell_type": "markdown",
   "id": "aa3c3ade-0f60-47cb-b621-4945708facb4",
   "metadata": {},
   "source": [
    "Una Serie de Pandas es un array unidimensional de datos indexados. Se puede crear a partir de una lista o un array de la siguiente manera:  \n",
    "`pd.Series(data, index = index)`"
   ]
  },
  {
   "cell_type": "code",
   "execution_count": 20,
   "id": "4cc10e62-a436-4b0d-937a-21b73ca54441",
   "metadata": {},
   "outputs": [
    {
     "name": "stdout",
     "output_type": "stream",
     "text": [
      "Estudiante 1    1.78\n",
      "Estudiante 2    1.87\n",
      "Estudiante 3    1.96\n",
      "Estudiante 4    2.05\n",
      "dtype: float64\n"
     ]
    }
   ],
   "source": [
    "data = pd.Series([1.78, 1.87, 1.96, 2.05],\n",
    "                 index = [\"Estudiante 1\", \"Estudiante 2\",\n",
    "                          \"Estudiante 3\", \"Estudiante 4\"])\n",
    "print(data)"
   ]
  },
  {
   "cell_type": "markdown",
   "id": "2bcefc8b-6f4d-4d98-a9d6-68282f66ab9e",
   "metadata": {},
   "source": [
    "Para acceder a los datos se utilizan los atributos`.values` y `.index`"
   ]
  },
  {
   "cell_type": "code",
   "execution_count": 6,
   "id": "a15bf2c3-647e-4802-affa-133eb993a9ed",
   "metadata": {},
   "outputs": [
    {
     "name": "stdout",
     "output_type": "stream",
     "text": [
      "[1.78 1.87 1.96 2.05]\n",
      "Index(['Estudiante 1', 'Estudiante 2', 'Estudiante 3', 'Estudiante 4'], dtype='object')\n"
     ]
    }
   ],
   "source": [
    "print(data.values)\n",
    "print(data.index)"
   ]
  },
  {
   "cell_type": "markdown",
   "id": "08051d13-830a-4f14-95ed-3d6ae51d2f66",
   "metadata": {},
   "source": [
    "Se puede acceder a los datos mediante su índice asociado aunque esto cambiará en futuras acctualizaciones.  \n",
    "Usar el método `.iloc[i]` (index localizator) o `.loc[\"name\"]` o simplemente `nombre_variable[\"name\"]`"
   ]
  },
  {
   "cell_type": "code",
   "execution_count": 17,
   "id": "1109442d-b56f-4de0-a8e0-937efa6e9d79",
   "metadata": {},
   "outputs": [
    {
     "name": "stdout",
     "output_type": "stream",
     "text": [
      "1.78 1.87 2.05\n",
      "1.78\n",
      "1.87\n"
     ]
    }
   ],
   "source": [
    "print(data.iloc[0], data.iloc[1], data.iloc[-1])\n",
    "print(data.loc[\"Estudiante 1\"])\n",
    "print(data[\"Estudiante 2\"])"
   ]
  },
  {
   "cell_type": "markdown",
   "id": "af04a3dc-7171-419c-8dbf-14f0fa25b9d9",
   "metadata": {},
   "source": [
    "Para nombrar las series se utiliza `.name = \" \"`"
   ]
  },
  {
   "cell_type": "code",
   "execution_count": 14,
   "id": "44ab6044-364e-41e4-8a7e-f93b3b92aa6c",
   "metadata": {},
   "outputs": [
    {
     "name": "stdout",
     "output_type": "stream",
     "text": [
      "Estudiante 1    1.78\n",
      "Estudiante 2    1.87\n",
      "Estudiante 3    1.96\n",
      "Estudiante 4    2.05\n",
      "Name: Altura de estudiantes, dtype: float64\n"
     ]
    }
   ],
   "source": [
    "data.name = \"Altura de estudiantes\"\n",
    "print(data)"
   ]
  },
  {
   "cell_type": "markdown",
   "id": "8663485d-a77b-43dd-8dc0-68195e40cc32",
   "metadata": {},
   "source": [
    "Para obtener el nombre del índice de valor máximo de una serie `.idxmax()`, para el mínimo `.idxmin()`"
   ]
  },
  {
   "cell_type": "code",
   "execution_count": 23,
   "id": "dc1077f9-b01d-4432-a903-77b0a7e092cb",
   "metadata": {},
   "outputs": [
    {
     "name": "stdout",
     "output_type": "stream",
     "text": [
      "Estudiante 4 Estudiante 1\n"
     ]
    }
   ],
   "source": [
    "print(data.idxmax(), data.idxmin())"
   ]
  },
  {
   "cell_type": "markdown",
   "id": "acd1e7fb-15c7-43b1-b434-f56d8eb65892",
   "metadata": {},
   "source": [
    "Convertir los valores de la serie en lista: `.to_list()`"
   ]
  },
  {
   "cell_type": "code",
   "execution_count": 24,
   "id": "5bb8e482-9d74-424f-9ee6-dd5c69d08a0c",
   "metadata": {},
   "outputs": [
    {
     "name": "stdout",
     "output_type": "stream",
     "text": [
      "[1.78, 1.87, 1.96, 2.05]\n"
     ]
    }
   ],
   "source": [
    "print(data.to_list())"
   ]
  },
  {
   "cell_type": "markdown",
   "id": "5891a46b-baba-4c10-80fa-c821fe0788a2",
   "metadata": {},
   "source": [
    "#### **Construir una serie a partir de un diccionario**"
   ]
  },
  {
   "cell_type": "code",
   "execution_count": 25,
   "id": "56d1f9d1-1ccb-4b3d-b298-58997828f795",
   "metadata": {},
   "outputs": [],
   "source": [
    "population_dict = {\"California\": 38332521,\n",
    "                   \"Texas\": 26448193,\n",
    "                   \"New York\": 19651127,\n",
    "                   \"Florida\" : 19552860,\n",
    "                   \"Illinois\": 12882135}"
   ]
  },
  {
   "cell_type": "code",
   "execution_count": 29,
   "id": "e32115bc-f6ae-4570-93cb-91a439093f0a",
   "metadata": {},
   "outputs": [
    {
     "name": "stdout",
     "output_type": "stream",
     "text": [
      "California    38332521\n",
      "Texas         26448193\n",
      "New York      19651127\n",
      "Florida       19552860\n",
      "Illinois      12882135\n",
      "dtype: int64\n",
      "[38332521 26448193 19651127 19552860 12882135]\n",
      "Index(['California', 'Texas', 'New York', 'Florida', 'Illinois'], dtype='object')\n"
     ]
    }
   ],
   "source": [
    "population = pd.Series(population_dict)\n",
    "print(population,)\n",
    "print(population.values)\n",
    "print(population.index)"
   ]
  },
  {
   "cell_type": "markdown",
   "id": "14fadaeb-c3de-46ab-8054-49e85f125021",
   "metadata": {},
   "source": [
    "#### **Selección en series**"
   ]
  },
  {
   "cell_type": "code",
   "execution_count": 12,
   "id": "4dd1d49a-1933-4c6b-9f00-84166dc4dd6b",
   "metadata": {},
   "outputs": [
    {
     "name": "stdout",
     "output_type": "stream",
     "text": [
      "a     1\n",
      "b     2\n",
      "d     4\n",
      "c     5\n",
      "e     6\n",
      "z    23\n",
      "m    22\n",
      "dtype: int64\n"
     ]
    }
   ],
   "source": [
    "data = pd.Series([1,2,4,5,6,23,22], index =[\"a\", \"b\", \"d\", \"c\", \"e\", \"z\", \"m\"])\n",
    "print(data)"
   ]
  },
  {
   "cell_type": "code",
   "execution_count": 8,
   "id": "5d83d367-b20a-4ac6-a7f5-0ca5a93f199e",
   "metadata": {},
   "outputs": [
    {
     "data": {
      "text/plain": [
       "a    1\n",
       "b    2\n",
       "d    4\n",
       "dtype: int64"
      ]
     },
     "execution_count": 8,
     "metadata": {},
     "output_type": "execute_result"
    }
   ],
   "source": [
    "# Slicing por índice específico:\n",
    "data[\"a\":\"d\"]    #----> Se incluyen los valores iniciales y finales."
   ]
  },
  {
   "cell_type": "code",
   "execution_count": 9,
   "id": "985c5008-99fa-42c2-aab9-15a135071313",
   "metadata": {},
   "outputs": [
    {
     "data": {
      "text/plain": [
       "e     6\n",
       "z    23\n",
       "m    22\n",
       "dtype: int64"
      ]
     },
     "execution_count": 9,
     "metadata": {},
     "output_type": "execute_result"
    }
   ],
   "source": [
    "# Slicing por índice posicional:\n",
    "data[-3:]"
   ]
  },
  {
   "cell_type": "code",
   "execution_count": 11,
   "id": "ea7e6ac0-54e8-443e-a24d-51f9c4476653",
   "metadata": {},
   "outputs": [
    {
     "data": {
      "text/plain": [
       "d    4\n",
       "c    5\n",
       "e    6\n",
       "dtype: int64"
      ]
     },
     "execution_count": 11,
     "metadata": {},
     "output_type": "execute_result"
    }
   ],
   "source": [
    "# Masking\n",
    "data[(data > 3) & (data < 8)]"
   ]
  },
  {
   "cell_type": "code",
   "execution_count": 14,
   "id": "02a2dc99-7429-4ede-a8ff-a087afcd9cd5",
   "metadata": {},
   "outputs": [
    {
     "data": {
      "text/plain": [
       "a     1\n",
       "m    22\n",
       "z    23\n",
       "d     4\n",
       "dtype: int64"
      ]
     },
     "execution_count": 14,
     "metadata": {},
     "output_type": "execute_result"
    }
   ],
   "source": [
    "# Fancy indexing:\n",
    "seleccion = [\"a\", \"m\", \"z\", \"d\"]\n",
    "data[seleccion]   #----> Crea una subserie que devuleve solo los índices elegidos en la posición que hemos indicado"
   ]
  },
  {
   "cell_type": "markdown",
   "id": "d112ffe7-fb64-455e-a42b-089b28b95a2a",
   "metadata": {},
   "source": [
    "`.loc[]` Hace referencia al índice explícito (el que coincide con el index de la serie)"
   ]
  },
  {
   "cell_type": "code",
   "execution_count": 16,
   "id": "17d1be0f-150e-4289-800c-f2c5142f274e",
   "metadata": {},
   "outputs": [
    {
     "data": {
      "text/plain": [
       "5"
      ]
     },
     "execution_count": 16,
     "metadata": {},
     "output_type": "execute_result"
    }
   ],
   "source": [
    "data.loc[\"c\"]"
   ]
  },
  {
   "cell_type": "markdown",
   "id": "d712c0f2-5d8d-4807-bb67-099b0047a77b",
   "metadata": {},
   "source": [
    "`.iloc` Hace referencia al índice implícito (el posicional típico de python)"
   ]
  },
  {
   "cell_type": "code",
   "execution_count": 18,
   "id": "a5149ba1-371c-4111-b510-e9326d6ba36a",
   "metadata": {},
   "outputs": [
    {
     "data": {
      "text/plain": [
       "5"
      ]
     },
     "execution_count": 18,
     "metadata": {},
     "output_type": "execute_result"
    }
   ],
   "source": [
    "data.iloc[3]"
   ]
  },
  {
   "cell_type": "markdown",
   "id": "a2093016-11be-4d51-b0fd-e510e23025b0",
   "metadata": {},
   "source": [
    "### **Data frames**"
   ]
  },
  {
   "cell_type": "markdown",
   "id": "e1b581b0-5dc1-4f79-9043-dc91d86645db",
   "metadata": {},
   "source": [
    "`data = pd.DataFrame(datos)`"
   ]
  },
  {
   "cell_type": "code",
   "execution_count": 37,
   "id": "97b645e5-2a81-40d9-ae76-243e4b1bfe79",
   "metadata": {},
   "outputs": [],
   "source": [
    "population_dict = {'California': 38332521,\n",
    "                   'Texas': 26448193,\n",
    "                   'New York': 19651127,\n",
    "                   'Florida': 19552860,\n",
    "                   'Illinois': 12882135}\n",
    "\n",
    "population = pd.Series(population_dict)\n",
    "\n",
    "area_dict = {\"California\": 423967,\n",
    "             \"Texas\" : 695662, \n",
    "             \"New York\" : 141297,\n",
    "             \"Florida\" : 170312,\n",
    "             \"Illinois\" : 149995}\n",
    "area = pd.Series(area_dict)\n",
    "\n",
    "estados = {\"Poblacion\" : population,\n",
    "           \"Superficie\": area}\n"
   ]
  },
  {
   "cell_type": "code",
   "execution_count": 38,
   "id": "26785951-b858-469a-9157-33e8a1e74762",
   "metadata": {},
   "outputs": [
    {
     "data": {
      "text/html": [
       "<div>\n",
       "<style scoped>\n",
       "    .dataframe tbody tr th:only-of-type {\n",
       "        vertical-align: middle;\n",
       "    }\n",
       "\n",
       "    .dataframe tbody tr th {\n",
       "        vertical-align: top;\n",
       "    }\n",
       "\n",
       "    .dataframe thead th {\n",
       "        text-align: right;\n",
       "    }\n",
       "</style>\n",
       "<table border=\"1\" class=\"dataframe\">\n",
       "  <thead>\n",
       "    <tr style=\"text-align: right;\">\n",
       "      <th></th>\n",
       "      <th>Poblacion</th>\n",
       "      <th>Superficie</th>\n",
       "    </tr>\n",
       "  </thead>\n",
       "  <tbody>\n",
       "    <tr>\n",
       "      <th>California</th>\n",
       "      <td>38332521</td>\n",
       "      <td>423967</td>\n",
       "    </tr>\n",
       "    <tr>\n",
       "      <th>Texas</th>\n",
       "      <td>26448193</td>\n",
       "      <td>695662</td>\n",
       "    </tr>\n",
       "    <tr>\n",
       "      <th>New York</th>\n",
       "      <td>19651127</td>\n",
       "      <td>141297</td>\n",
       "    </tr>\n",
       "    <tr>\n",
       "      <th>Florida</th>\n",
       "      <td>19552860</td>\n",
       "      <td>170312</td>\n",
       "    </tr>\n",
       "    <tr>\n",
       "      <th>Illinois</th>\n",
       "      <td>12882135</td>\n",
       "      <td>149995</td>\n",
       "    </tr>\n",
       "  </tbody>\n",
       "</table>\n",
       "</div>"
      ],
      "text/plain": [
       "            Poblacion  Superficie\n",
       "California   38332521      423967\n",
       "Texas        26448193      695662\n",
       "New York     19651127      141297\n",
       "Florida      19552860      170312\n",
       "Illinois     12882135      149995"
      ]
     },
     "execution_count": 38,
     "metadata": {},
     "output_type": "execute_result"
    }
   ],
   "source": [
    "states = pd.DataFrame(estados)\n",
    "states"
   ]
  },
  {
   "cell_type": "markdown",
   "id": "e92fc8e8-5fce-43a2-8a41-d66791370c7b",
   "metadata": {},
   "source": [
    "#### **Selección en DataFrame**"
   ]
  },
  {
   "cell_type": "code",
   "execution_count": 39,
   "id": "0649b924-d9e0-4890-91b9-465f9ca24ad9",
   "metadata": {},
   "outputs": [
    {
     "name": "stdout",
     "output_type": "stream",
     "text": [
      "California    38332521\n",
      "Texas         26448193\n",
      "New York      19651127\n",
      "Florida       19552860\n",
      "Illinois      12882135\n",
      "Name: Poblacion, dtype: int64\n"
     ]
    }
   ],
   "source": [
    "#Los nombres de las columnas se guardan como atributos del DataFrame:\n",
    "print(states.Poblacion)\n"
   ]
  },
  {
   "cell_type": "code",
   "execution_count": 40,
   "id": "b0bb7bc5-8666-4049-b7c5-8c2e13870431",
   "metadata": {},
   "outputs": [
    {
     "name": "stdout",
     "output_type": "stream",
     "text": [
      "Filas: Index(['California', 'Texas', 'New York', 'Florida', 'Illinois'], dtype='object')\n",
      "Columnas: Index(['Poblacion', 'Superficie'], dtype='object')\n",
      "[[38332521   423967]\n",
      " [26448193   695662]\n",
      " [19651127   141297]\n",
      " [19552860   170312]\n",
      " [12882135   149995]]\n"
     ]
    }
   ],
   "source": [
    "#Para acceder a los nombres de las filas:\n",
    "print(\"Filas:\", states.index)\n",
    "\n",
    "#Para los nombres de las columnas:\n",
    "print(\"Columnas:\", states.columns)\n",
    "\n",
    "#Para los valores:\n",
    "print(states.values)\n"
   ]
  },
  {
   "cell_type": "code",
   "execution_count": 41,
   "id": "a06141e6-a221-46e1-9224-9a41bb8c9513",
   "metadata": {},
   "outputs": [
    {
     "name": "stdout",
     "output_type": "stream",
     "text": [
      "Poblacion     19552860\n",
      "Superficie      170312\n",
      "Name: Florida, dtype: int64\n"
     ]
    }
   ],
   "source": [
    "#Para acceder a los valores de una etiqueta:\n",
    "print(states.loc[\"Florida\"])"
   ]
  },
  {
   "cell_type": "code",
   "execution_count": 42,
   "id": "5416f903-f358-484d-8ad4-d77771a214eb",
   "metadata": {},
   "outputs": [
    {
     "data": {
      "text/html": [
       "<div>\n",
       "<style scoped>\n",
       "    .dataframe tbody tr th:only-of-type {\n",
       "        vertical-align: middle;\n",
       "    }\n",
       "\n",
       "    .dataframe tbody tr th {\n",
       "        vertical-align: top;\n",
       "    }\n",
       "\n",
       "    .dataframe thead th {\n",
       "        text-align: right;\n",
       "    }\n",
       "</style>\n",
       "<table border=\"1\" class=\"dataframe\">\n",
       "  <thead>\n",
       "    <tr style=\"text-align: right;\">\n",
       "      <th></th>\n",
       "      <th>Poblacion</th>\n",
       "    </tr>\n",
       "  </thead>\n",
       "  <tbody>\n",
       "    <tr>\n",
       "      <th>California</th>\n",
       "      <td>38332521</td>\n",
       "    </tr>\n",
       "    <tr>\n",
       "      <th>Texas</th>\n",
       "      <td>26448193</td>\n",
       "    </tr>\n",
       "    <tr>\n",
       "      <th>New York</th>\n",
       "      <td>19651127</td>\n",
       "    </tr>\n",
       "    <tr>\n",
       "      <th>Florida</th>\n",
       "      <td>19552860</td>\n",
       "    </tr>\n",
       "    <tr>\n",
       "      <th>Illinois</th>\n",
       "      <td>12882135</td>\n",
       "    </tr>\n",
       "  </tbody>\n",
       "</table>\n",
       "</div>"
      ],
      "text/plain": [
       "            Poblacion\n",
       "California   38332521\n",
       "Texas        26448193\n",
       "New York     19651127\n",
       "Florida      19552860\n",
       "Illinois     12882135"
      ]
     },
     "execution_count": 42,
     "metadata": {},
     "output_type": "execute_result"
    }
   ],
   "source": [
    "pd.DataFrame(data = population, columns = [\"Poblacion\"])"
   ]
  },
  {
   "cell_type": "markdown",
   "id": "83b19117-cd7e-45cd-898d-b41b551cd622",
   "metadata": {},
   "source": [
    "#### **Generar columnas**"
   ]
  },
  {
   "cell_type": "code",
   "execution_count": 47,
   "id": "0c3c2d94-3fad-45da-9835-912d3b95aaed",
   "metadata": {},
   "outputs": [
    {
     "data": {
      "text/html": [
       "<div>\n",
       "<style scoped>\n",
       "    .dataframe tbody tr th:only-of-type {\n",
       "        vertical-align: middle;\n",
       "    }\n",
       "\n",
       "    .dataframe tbody tr th {\n",
       "        vertical-align: top;\n",
       "    }\n",
       "\n",
       "    .dataframe thead th {\n",
       "        text-align: right;\n",
       "    }\n",
       "</style>\n",
       "<table border=\"1\" class=\"dataframe\">\n",
       "  <thead>\n",
       "    <tr style=\"text-align: right;\">\n",
       "      <th></th>\n",
       "      <th>Poblacion</th>\n",
       "      <th>Superficie</th>\n",
       "      <th>Densidad</th>\n",
       "      <th>Abrebiaturas</th>\n",
       "    </tr>\n",
       "  </thead>\n",
       "  <tbody>\n",
       "    <tr>\n",
       "      <th>California</th>\n",
       "      <td>38332521</td>\n",
       "      <td>423967</td>\n",
       "      <td>90.413926</td>\n",
       "      <td>CA</td>\n",
       "    </tr>\n",
       "    <tr>\n",
       "      <th>Texas</th>\n",
       "      <td>26448193</td>\n",
       "      <td>695662</td>\n",
       "      <td>38.018740</td>\n",
       "      <td>TX</td>\n",
       "    </tr>\n",
       "    <tr>\n",
       "      <th>New York</th>\n",
       "      <td>19651127</td>\n",
       "      <td>141297</td>\n",
       "      <td>139.076746</td>\n",
       "      <td>NY</td>\n",
       "    </tr>\n",
       "    <tr>\n",
       "      <th>Florida</th>\n",
       "      <td>19552860</td>\n",
       "      <td>170312</td>\n",
       "      <td>114.806121</td>\n",
       "      <td>FL</td>\n",
       "    </tr>\n",
       "    <tr>\n",
       "      <th>Illinois</th>\n",
       "      <td>12882135</td>\n",
       "      <td>149995</td>\n",
       "      <td>85.883763</td>\n",
       "      <td>IL</td>\n",
       "    </tr>\n",
       "  </tbody>\n",
       "</table>\n",
       "</div>"
      ],
      "text/plain": [
       "            Poblacion  Superficie    Densidad Abrebiaturas\n",
       "California   38332521      423967   90.413926           CA\n",
       "Texas        26448193      695662   38.018740           TX\n",
       "New York     19651127      141297  139.076746           NY\n",
       "Florida      19552860      170312  114.806121           FL\n",
       "Illinois     12882135      149995   85.883763           IL"
      ]
     },
     "execution_count": 47,
     "metadata": {},
     "output_type": "execute_result"
    }
   ],
   "source": [
    "# Añadiendo nuevo valor\n",
    "states[\"Densidad\"] = states[\"Poblacion\"] / states[\"Superficie\"]\n",
    "states"
   ]
  },
  {
   "cell_type": "code",
   "execution_count": 46,
   "id": "2805067b-cc6f-4045-8bdc-a7e5d59be74f",
   "metadata": {},
   "outputs": [
    {
     "data": {
      "text/html": [
       "<div>\n",
       "<style scoped>\n",
       "    .dataframe tbody tr th:only-of-type {\n",
       "        vertical-align: middle;\n",
       "    }\n",
       "\n",
       "    .dataframe tbody tr th {\n",
       "        vertical-align: top;\n",
       "    }\n",
       "\n",
       "    .dataframe thead th {\n",
       "        text-align: right;\n",
       "    }\n",
       "</style>\n",
       "<table border=\"1\" class=\"dataframe\">\n",
       "  <thead>\n",
       "    <tr style=\"text-align: right;\">\n",
       "      <th></th>\n",
       "      <th>Poblacion</th>\n",
       "      <th>Superficie</th>\n",
       "      <th>Densidad</th>\n",
       "      <th>Abrebiaturas</th>\n",
       "    </tr>\n",
       "  </thead>\n",
       "  <tbody>\n",
       "    <tr>\n",
       "      <th>California</th>\n",
       "      <td>38332521</td>\n",
       "      <td>423967</td>\n",
       "      <td>90.413926</td>\n",
       "      <td>CA</td>\n",
       "    </tr>\n",
       "    <tr>\n",
       "      <th>Texas</th>\n",
       "      <td>26448193</td>\n",
       "      <td>695662</td>\n",
       "      <td>38.018740</td>\n",
       "      <td>TX</td>\n",
       "    </tr>\n",
       "    <tr>\n",
       "      <th>New York</th>\n",
       "      <td>19651127</td>\n",
       "      <td>141297</td>\n",
       "      <td>139.076746</td>\n",
       "      <td>NY</td>\n",
       "    </tr>\n",
       "    <tr>\n",
       "      <th>Florida</th>\n",
       "      <td>19552860</td>\n",
       "      <td>170312</td>\n",
       "      <td>114.806121</td>\n",
       "      <td>FL</td>\n",
       "    </tr>\n",
       "    <tr>\n",
       "      <th>Illinois</th>\n",
       "      <td>12882135</td>\n",
       "      <td>149995</td>\n",
       "      <td>85.883763</td>\n",
       "      <td>IL</td>\n",
       "    </tr>\n",
       "  </tbody>\n",
       "</table>\n",
       "</div>"
      ],
      "text/plain": [
       "            Poblacion  Superficie    Densidad Abrebiaturas\n",
       "California   38332521      423967   90.413926           CA\n",
       "Texas        26448193      695662   38.018740           TX\n",
       "New York     19651127      141297  139.076746           NY\n",
       "Florida      19552860      170312  114.806121           FL\n",
       "Illinois     12882135      149995   85.883763           IL"
      ]
     },
     "execution_count": 46,
     "metadata": {},
     "output_type": "execute_result"
    }
   ],
   "source": [
    "# A partir de listas:\n",
    "abrebiaturas = [\"CA\", \"TX\", \"NY\", \"FL\", \"IL\"]\n",
    "states[\"Abrebiaturas\"] = abrebiaturas\n",
    "states"
   ]
  },
  {
   "cell_type": "markdown",
   "id": "4abe6f9d-82c7-4bb3-aaea-6c19f3de0193",
   "metadata": {},
   "source": [
    "#### **Transposición fila a columna**"
   ]
  },
  {
   "cell_type": "code",
   "execution_count": 49,
   "id": "24b95e38-afb0-4682-bc27-5d3e54fd9578",
   "metadata": {},
   "outputs": [
    {
     "data": {
      "text/plain": [
       "array([[38332521, 423967, 90.41392608386974, 'CA'],\n",
       "       [26448193, 695662, 38.01874042279153, 'TX'],\n",
       "       [19651127, 141297, 139.07674614464568, 'NY'],\n",
       "       [19552860, 170312, 114.80612053173, 'FL'],\n",
       "       [12882135, 149995, 85.88376279209307, 'IL']], dtype=object)"
      ]
     },
     "execution_count": 49,
     "metadata": {},
     "output_type": "execute_result"
    }
   ],
   "source": [
    "#1º se obtiene una matriz Numpy del DataFrame\n",
    "states.values"
   ]
  },
  {
   "cell_type": "code",
   "execution_count": 51,
   "id": "19a60d11-7742-4e5e-a1b3-9ce3cc3022b1",
   "metadata": {},
   "outputs": [
    {
     "data": {
      "text/html": [
       "<div>\n",
       "<style scoped>\n",
       "    .dataframe tbody tr th:only-of-type {\n",
       "        vertical-align: middle;\n",
       "    }\n",
       "\n",
       "    .dataframe tbody tr th {\n",
       "        vertical-align: top;\n",
       "    }\n",
       "\n",
       "    .dataframe thead th {\n",
       "        text-align: right;\n",
       "    }\n",
       "</style>\n",
       "<table border=\"1\" class=\"dataframe\">\n",
       "  <thead>\n",
       "    <tr style=\"text-align: right;\">\n",
       "      <th></th>\n",
       "      <th>California</th>\n",
       "      <th>Texas</th>\n",
       "      <th>New York</th>\n",
       "      <th>Florida</th>\n",
       "      <th>Illinois</th>\n",
       "    </tr>\n",
       "  </thead>\n",
       "  <tbody>\n",
       "    <tr>\n",
       "      <th>Poblacion</th>\n",
       "      <td>38332521</td>\n",
       "      <td>26448193</td>\n",
       "      <td>19651127</td>\n",
       "      <td>19552860</td>\n",
       "      <td>12882135</td>\n",
       "    </tr>\n",
       "    <tr>\n",
       "      <th>Superficie</th>\n",
       "      <td>423967</td>\n",
       "      <td>695662</td>\n",
       "      <td>141297</td>\n",
       "      <td>170312</td>\n",
       "      <td>149995</td>\n",
       "    </tr>\n",
       "    <tr>\n",
       "      <th>Densidad</th>\n",
       "      <td>90.413926</td>\n",
       "      <td>38.01874</td>\n",
       "      <td>139.076746</td>\n",
       "      <td>114.806121</td>\n",
       "      <td>85.883763</td>\n",
       "    </tr>\n",
       "    <tr>\n",
       "      <th>Abrebiaturas</th>\n",
       "      <td>CA</td>\n",
       "      <td>TX</td>\n",
       "      <td>NY</td>\n",
       "      <td>FL</td>\n",
       "      <td>IL</td>\n",
       "    </tr>\n",
       "  </tbody>\n",
       "</table>\n",
       "</div>"
      ],
      "text/plain": [
       "             California     Texas    New York     Florida   Illinois\n",
       "Poblacion      38332521  26448193    19651127    19552860   12882135\n",
       "Superficie       423967    695662      141297      170312     149995\n",
       "Densidad      90.413926  38.01874  139.076746  114.806121  85.883763\n",
       "Abrebiaturas         CA        TX          NY          FL         IL"
      ]
     },
     "execution_count": 51,
     "metadata": {},
     "output_type": "execute_result"
    }
   ],
   "source": [
    "# Usar el método de transposición .T\n",
    "states.T"
   ]
  },
  {
   "cell_type": "markdown",
   "id": "ca5f77ec-2cee-442c-be39-ac12d74a166d",
   "metadata": {},
   "source": [
    "#### **Calcular intersección y union de índices**"
   ]
  },
  {
   "cell_type": "code",
   "execution_count": 15,
   "id": "5824fd8a-7cde-4fed-91e5-fb1354b4c409",
   "metadata": {},
   "outputs": [],
   "source": [
    "ind_1 = pd.Index([1, 3, 5, 7, 9])\n",
    "ind_2 = pd.Index([2, 3, 5, 7, 11])"
   ]
  },
  {
   "cell_type": "code",
   "execution_count": 16,
   "id": "1a447344-374e-4bf7-a78a-abb37ad088b9",
   "metadata": {},
   "outputs": [
    {
     "data": {
      "text/plain": [
       "Index([3, 5, 7], dtype='int64')"
      ]
     },
     "execution_count": 16,
     "metadata": {},
     "output_type": "execute_result"
    }
   ],
   "source": [
    "#Intersección (elementos comunes):\n",
    "ind_1.intersection(ind_2)"
   ]
  },
  {
   "cell_type": "code",
   "execution_count": 18,
   "id": "761e92a3-b240-4e77-86fc-19af2a334a2c",
   "metadata": {},
   "outputs": [
    {
     "data": {
      "text/plain": [
       "Index([1, 2, 3, 5, 7, 9, 11], dtype='int64')"
      ]
     },
     "execution_count": 18,
     "metadata": {},
     "output_type": "execute_result"
    }
   ],
   "source": [
    "#Unión (concatenación de todos los índices sin repetirse):\n",
    "ind_1.union(ind_2)"
   ]
  },
  {
   "cell_type": "markdown",
   "id": "11bab175-134d-42d9-865e-59a3c1a7be58",
   "metadata": {},
   "source": [
    "#### **Selección en DataFrames**"
   ]
  },
  {
   "cell_type": "markdown",
   "id": "4bbfd4ba-5b31-460a-a9d6-91b963838a70",
   "metadata": {},
   "source": [
    "En el indexador `.loc` podemos combinar el enmascaramiento y la indexación \"de fantasía\" (o selectiva) como en lo siguiente:"
   ]
  },
  {
   "cell_type": "code",
   "execution_count": 53,
   "id": "c917b42e-a0a8-4b80-8fa3-b0747d04e2c3",
   "metadata": {},
   "outputs": [
    {
     "data": {
      "text/html": [
       "<div>\n",
       "<style scoped>\n",
       "    .dataframe tbody tr th:only-of-type {\n",
       "        vertical-align: middle;\n",
       "    }\n",
       "\n",
       "    .dataframe tbody tr th {\n",
       "        vertical-align: top;\n",
       "    }\n",
       "\n",
       "    .dataframe thead th {\n",
       "        text-align: right;\n",
       "    }\n",
       "</style>\n",
       "<table border=\"1\" class=\"dataframe\">\n",
       "  <thead>\n",
       "    <tr style=\"text-align: right;\">\n",
       "      <th></th>\n",
       "      <th>Poblacion</th>\n",
       "      <th>Superficie</th>\n",
       "      <th>Densidad</th>\n",
       "      <th>Abrebiaturas</th>\n",
       "    </tr>\n",
       "  </thead>\n",
       "  <tbody>\n",
       "    <tr>\n",
       "      <th>California</th>\n",
       "      <td>38332521</td>\n",
       "      <td>423967</td>\n",
       "      <td>90.413926</td>\n",
       "      <td>CA</td>\n",
       "    </tr>\n",
       "    <tr>\n",
       "      <th>Texas</th>\n",
       "      <td>26448193</td>\n",
       "      <td>695662</td>\n",
       "      <td>38.018740</td>\n",
       "      <td>TX</td>\n",
       "    </tr>\n",
       "  </tbody>\n",
       "</table>\n",
       "</div>"
      ],
      "text/plain": [
       "            Poblacion  Superficie   Densidad Abrebiaturas\n",
       "California   38332521      423967  90.413926           CA\n",
       "Texas        26448193      695662  38.018740           TX"
      ]
     },
     "execution_count": 53,
     "metadata": {},
     "output_type": "execute_result"
    }
   ],
   "source": [
    "states.loc[states.Poblacion > 20000000]"
   ]
  },
  {
   "cell_type": "code",
   "execution_count": 54,
   "id": "1b24918e-915d-415c-9a89-b94496aa1395",
   "metadata": {},
   "outputs": [
    {
     "data": {
      "text/plain": [
       "California    90.413926\n",
       "Texas         38.018740\n",
       "Name: Densidad, dtype: float64"
      ]
     },
     "execution_count": 54,
     "metadata": {},
     "output_type": "execute_result"
    }
   ],
   "source": [
    "states.loc[states.Poblacion > 20000000, \"Densidad\"]"
   ]
  },
  {
   "cell_type": "code",
   "execution_count": 56,
   "id": "0082bc0f-b5c5-49b9-a6b0-5a228ebcacbf",
   "metadata": {},
   "outputs": [
    {
     "data": {
      "text/html": [
       "<div>\n",
       "<style scoped>\n",
       "    .dataframe tbody tr th:only-of-type {\n",
       "        vertical-align: middle;\n",
       "    }\n",
       "\n",
       "    .dataframe tbody tr th {\n",
       "        vertical-align: top;\n",
       "    }\n",
       "\n",
       "    .dataframe thead th {\n",
       "        text-align: right;\n",
       "    }\n",
       "</style>\n",
       "<table border=\"1\" class=\"dataframe\">\n",
       "  <thead>\n",
       "    <tr style=\"text-align: right;\">\n",
       "      <th></th>\n",
       "      <th>Poblacion</th>\n",
       "      <th>Superficie</th>\n",
       "      <th>Densidad</th>\n",
       "      <th>Abrebiaturas</th>\n",
       "    </tr>\n",
       "  </thead>\n",
       "  <tbody>\n",
       "    <tr>\n",
       "      <th>New York</th>\n",
       "      <td>19651127</td>\n",
       "      <td>141297</td>\n",
       "      <td>139.076746</td>\n",
       "      <td>NY</td>\n",
       "    </tr>\n",
       "    <tr>\n",
       "      <th>Florida</th>\n",
       "      <td>19552860</td>\n",
       "      <td>170312</td>\n",
       "      <td>114.806121</td>\n",
       "      <td>FL</td>\n",
       "    </tr>\n",
       "    <tr>\n",
       "      <th>Illinois</th>\n",
       "      <td>12882135</td>\n",
       "      <td>149995</td>\n",
       "      <td>85.883763</td>\n",
       "      <td>IL</td>\n",
       "    </tr>\n",
       "  </tbody>\n",
       "</table>\n",
       "</div>"
      ],
      "text/plain": [
       "          Poblacion  Superficie    Densidad Abrebiaturas\n",
       "New York   19651127      141297  139.076746           NY\n",
       "Florida    19552860      170312  114.806121           FL\n",
       "Illinois   12882135      149995   85.883763           IL"
      ]
     },
     "execution_count": 56,
     "metadata": {},
     "output_type": "execute_result"
    }
   ],
   "source": [
    "states.loc[states[\"Poblacion\"] < 20000000]"
   ]
  },
  {
   "cell_type": "code",
   "execution_count": null,
   "id": "331e8e25-1f70-477e-8853-8064dbcd74b5",
   "metadata": {},
   "outputs": [],
   "source": []
  }
 ],
 "metadata": {
  "kernelspec": {
   "display_name": "Python 3 (ipykernel)",
   "language": "python",
   "name": "python3"
  },
  "language_info": {
   "codemirror_mode": {
    "name": "ipython",
    "version": 3
   },
   "file_extension": ".py",
   "mimetype": "text/x-python",
   "name": "python",
   "nbconvert_exporter": "python",
   "pygments_lexer": "ipython3",
   "version": "3.10.11"
  }
 },
 "nbformat": 4,
 "nbformat_minor": 5
}
