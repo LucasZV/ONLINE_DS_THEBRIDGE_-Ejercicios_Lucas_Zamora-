{
 "cells": [
  {
   "cell_type": "markdown",
   "id": "e2209595-f553-49c5-876e-a5aae17b34fb",
   "metadata": {},
   "source": [
    "# **Numpy**"
   ]
  },
  {
   "cell_type": "code",
   "execution_count": 2,
   "id": "505aadaf-26cd-4952-ba8d-d2fe055e4f56",
   "metadata": {},
   "outputs": [],
   "source": [
    "import numpy as np"
   ]
  },
  {
   "cell_type": "markdown",
   "id": "acb566ba-f802-44be-a4a6-6ac0dc4bb9cd",
   "metadata": {},
   "source": [
    "### **Vectores con Numpy**"
   ]
  },
  {
   "cell_type": "code",
   "execution_count": 6,
   "id": "e5706548-250e-4075-af44-3bda0c20e40a",
   "metadata": {},
   "outputs": [],
   "source": [
    "# Estructuras de ejemplo\n",
    "vector_1 = np.array([23, -4, 5])\n",
    "vec_2 = [12, 3, -12]\n",
    "vector_2 = np.array(vec_2)"
   ]
  },
  {
   "cell_type": "markdown",
   "id": "d17f7ddc-f1cf-4336-aecf-eef408984a65",
   "metadata": {},
   "source": [
    "##### **Sumas, restas y producto por un escalar (número)**"
   ]
  },
  {
   "cell_type": "code",
   "execution_count": 10,
   "id": "1496c9dd-3a59-4bed-b567-376ee7cc81c3",
   "metadata": {},
   "outputs": [
    {
     "name": "stdout",
     "output_type": "stream",
     "text": [
      "[35 -1 -7]\n",
      "[11 -7 17]\n",
      "[276 -12 -60]\n"
     ]
    }
   ],
   "source": [
    "# Se hace la operación tal cual\n",
    "\n",
    "#Suma\n",
    "vec_suma = vector_1 + vector_2\n",
    "print(vec_suma)\n",
    "\n",
    "#Resta\n",
    "vec_resta = vector_1 - vector_2\n",
    "print(vec_resta)\n",
    "\n",
    "#Producto por escalar\n",
    "vec_escalar = vector_1 * vector_2\n",
    "print(vec_escalar)\n"
   ]
  },
  {
   "cell_type": "markdown",
   "id": "ea3d004a-0382-47af-8b64-4a614791f3fb",
   "metadata": {},
   "source": [
    "##### **Producto escalar (dot)**"
   ]
  },
  {
   "cell_type": "code",
   "execution_count": 18,
   "id": "ef929a94-8cbb-40be-a3db-99c91caa7b4e",
   "metadata": {},
   "outputs": [
    {
     "name": "stdout",
     "output_type": "stream",
     "text": [
      "204 204\n"
     ]
    }
   ],
   "source": [
    "#1 \n",
    "dot_prod = np.dot(vector_1, vector_2)\n",
    "\n",
    "#2\n",
    "dot_prod_2 = vector_1.dot(vector_2)\n",
    "\n",
    "#--------------#\n",
    "print(dot_prod_1, dot_prod_2)\n",
    "\n"
   ]
  },
  {
   "cell_type": "markdown",
   "id": "8d21e113-41b1-4d97-88e5-fdf678aa3faf",
   "metadata": {},
   "source": [
    "##### **Norma, Longitud o Magnitud**"
   ]
  },
  {
   "cell_type": "code",
   "execution_count": 16,
   "id": "e7eb6984-f1ac-4c0d-98c1-c0605b2c3044",
   "metadata": {},
   "outputs": [
    {
     "name": "stdout",
     "output_type": "stream",
     "text": [
      "23.874672772626646 17.233687939614086\n"
     ]
    }
   ],
   "source": [
    "norm_1 = np.linalg.norm(vector_1)\n",
    "norm_2 = np.linalg.norm(vector_2)\n",
    "\n",
    "print(norm_1, norm_2)"
   ]
  },
  {
   "cell_type": "markdown",
   "id": "5657bbc0-cdf2-4e1a-ad95-fb209adac5f2",
   "metadata": {},
   "source": [
    "##### **Coseno del ángulo**"
   ]
  },
  {
   "cell_type": "code",
   "execution_count": 20,
   "id": "caad7673-dd6d-4118-b68f-af38eb8ded7f",
   "metadata": {},
   "outputs": [
    {
     "name": "stdout",
     "output_type": "stream",
     "text": [
      "0.49580912449444803 0.49580912449444803\n"
     ]
    }
   ],
   "source": [
    "\n",
    "cos_ang_1_2 = dot_prod/(norm_1 * norm_2)     #-----> Reutilizando las variables anteriores\n",
    "\n",
    "cos_ang = np.dot(vector_1, vector_2) / (np.linalg.norm(vector_1) * np.linalg.norm(vector_2)) #--> Sin reutilizar\n",
    "\n",
    "print(cos_ang_1_2, cos_ang)\n"
   ]
  },
  {
   "cell_type": "markdown",
   "id": "9c72701a-fea8-4c44-bdd4-52b72d87ddf7",
   "metadata": {},
   "source": [
    "##### **Distancia entre 2 vectores**"
   ]
  },
  {
   "cell_type": "code",
   "execution_count": 21,
   "id": "d9412704-ebbf-4569-a047-15e75c2f2f9e",
   "metadata": {},
   "outputs": [
    {
     "name": "stdout",
     "output_type": "stream",
     "text": [
      "21.42428528562855\n"
     ]
    }
   ],
   "source": [
    "dist_1_2 = np.linalg.norm(vector_1 - vector_2)\n",
    "\n",
    "print(dist_1_2)"
   ]
  },
  {
   "cell_type": "markdown",
   "id": "5f6cda72-3f64-4f02-a4ac-9ea4f07f00ae",
   "metadata": {},
   "source": [
    "### **Matrices con Numpy**"
   ]
  },
  {
   "cell_type": "markdown",
   "id": "29b10211-2d0c-4dcf-bda4-fbaf9880ec4d",
   "metadata": {},
   "source": [
    "##### **Transformar matriz a array**"
   ]
  },
  {
   "cell_type": "code",
   "execution_count": 7,
   "id": "ed585c07-7b93-4806-b777-24c6892167b8",
   "metadata": {},
   "outputs": [
    {
     "name": "stdout",
     "output_type": "stream",
     "text": [
      "<class 'numpy.ndarray'> [[1 2 4]\n",
      " [3 5 6]]\n"
     ]
    }
   ],
   "source": [
    "# Matriz con listas\n",
    "matriz = [[1,2,4],\n",
    "          [3,5,6]]\n",
    "\n",
    "import numpy as np\n",
    "\n",
    "matriz_np = np.array(matriz)\n",
    "#--------------------------#\n",
    "A = np.array([[1,3,4],\n",
    "              [1,0,0],\n",
    "              [1,2,2]])\n",
    "\n",
    "B = np.array([[1,0,5],\n",
    "              [7,5,0],\n",
    "              [2,1,1]])\n",
    "\n",
    "print(type(matriz_np), matriz_np)"
   ]
  },
  {
   "cell_type": "markdown",
   "id": "261c2297-7712-4588-be78-cf169127d273",
   "metadata": {},
   "source": [
    "##### **Producto por un escalar (número), sumas, restas y producto matricial (entre 2 matrices)**"
   ]
  },
  {
   "cell_type": "code",
   "execution_count": 13,
   "id": "b9fa6817-1375-4549-b950-9bc0743f7fbc",
   "metadata": {},
   "outputs": [
    {
     "name": "stdout",
     "output_type": "stream",
     "text": [
      "Producto por escalar, 3 * A: \n",
      " [[ 3  9 12]\n",
      " [ 3  0  0]\n",
      " [ 3  6  6]]\n",
      "Suma, A + B:\n",
      " [[2 3 9]\n",
      " [8 5 0]\n",
      " [3 3 3]]\n",
      "Resta, A - B:\n",
      " [[ 0  3 -1]\n",
      " [-6 -5  0]\n",
      " [-1  1  1]]\n",
      "Producto matricial, A x B:\n",
      " [[30 19  9]\n",
      " [ 1  0  5]\n",
      " [19 12  7]]\n"
     ]
    }
   ],
   "source": [
    "#Producto por escalar:\n",
    "producto_por_escalar = 3 * A\n",
    "\n",
    "print(\"Producto por escalar, 3 * A: \\n\", producto_por_escalar)\n",
    "\n",
    "#Suma:\n",
    "suma = A + B\n",
    "\n",
    "print(\"Suma, A + B:\\n\", suma)\n",
    "\n",
    "#Resta:\n",
    "resta = A - B\n",
    "\n",
    "print(\"Resta, A - B:\\n\", resta)\n",
    "\n",
    "#Producto matricial:\n",
    "producto_matricial = A.dot(B)\n",
    "\n",
    "print(\"Producto matricial, A x B:\\n\", producto_matricial)"
   ]
  },
  {
   "cell_type": "markdown",
   "id": "d2b20599-1f49-4b3c-9392-2f02f2c70241",
   "metadata": {},
   "source": [
    "##### **Transposicion de filas a columnas**"
   ]
  },
  {
   "cell_type": "code",
   "execution_count": 15,
   "id": "00c59cb6-17d8-4165-bed2-b762e94ba3b4",
   "metadata": {},
   "outputs": [
    {
     "name": "stdout",
     "output_type": "stream",
     "text": [
      "A: [[1 3 4]\n",
      " [1 0 0]\n",
      " [1 2 2]] \n",
      " \n",
      " At: [[1 1 1]\n",
      " [3 0 2]\n",
      " [4 0 2]]\n"
     ]
    }
   ],
   "source": [
    "A_transpuesta = A.T\n",
    "\n",
    "print(\"A:\", A,\"\\n\",\"\\n\", \"At:\", A_transpuesta)\n"
   ]
  },
  {
   "cell_type": "markdown",
   "id": "2ab2ffbd-479e-4c6b-b3b1-ca0228544fe2",
   "metadata": {},
   "source": [
    "### **Matrices predeterminadas**"
   ]
  },
  {
   "cell_type": "markdown",
   "id": "6e82e783-e3c2-49ed-89c0-1f4686b3ed4f",
   "metadata": {},
   "source": [
    "##### **Matriz identidad**"
   ]
  },
  {
   "cell_type": "code",
   "execution_count": 4,
   "id": "d17771b4-aa67-40df-bf0c-16bc94f04543",
   "metadata": {},
   "outputs": [
    {
     "name": "stdout",
     "output_type": "stream",
     "text": [
      "[[1. 0. 0.]\n",
      " [0. 1. 0.]\n",
      " [0. 0. 1.]]\n"
     ]
    }
   ],
   "source": [
    "# 1s en la diagonal principal\n",
    "I = np.identity(3)\n",
    "\n",
    "print(I)"
   ]
  },
  {
   "cell_type": "markdown",
   "id": "641391c2-b823-4d9d-ae61-0c1a9bcda717",
   "metadata": {},
   "source": [
    "##### **Matriz de 0s**"
   ]
  },
  {
   "cell_type": "code",
   "execution_count": 8,
   "id": "da374255-c2c6-4b83-adbe-303b2b62440b",
   "metadata": {},
   "outputs": [
    {
     "name": "stdout",
     "output_type": "stream",
     "text": [
      "[[0. 0. 0. 0.]\n",
      " [0. 0. 0. 0.]\n",
      " [0. 0. 0. 0.]]\n"
     ]
    }
   ],
   "source": [
    "matriz_zeros = np.zeros((3,4))  #---> doble parentesis porque es una tupla\n",
    "print(matriz_zeros)"
   ]
  },
  {
   "cell_type": "markdown",
   "id": "d0692a08-ae85-4940-9e92-1dbb48fbe644",
   "metadata": {},
   "source": [
    "##### **Matriz de 1s**"
   ]
  },
  {
   "cell_type": "code",
   "execution_count": 11,
   "id": "3eab336f-729a-4936-ac38-d1585efccb59",
   "metadata": {},
   "outputs": [
    {
     "name": "stdout",
     "output_type": "stream",
     "text": [
      "[[1. 1. 1. 1. 1.]\n",
      " [1. 1. 1. 1. 1.]\n",
      " [1. 1. 1. 1. 1.]\n",
      " [1. 1. 1. 1. 1.]]\n"
     ]
    }
   ],
   "source": [
    "matriz_unos = np.ones((4,5))\n",
    "print(matriz_unos)   #----> es un float de Numpy, para pasalo a INT --> matriz_unos = np.ones((4,5),np.int32)"
   ]
  },
  {
   "cell_type": "markdown",
   "id": "5de84bbb-3586-4528-bd7e-f9161aac2e08",
   "metadata": {},
   "source": [
    "##### **Matriz de cualquier número**"
   ]
  },
  {
   "cell_type": "code",
   "execution_count": 13,
   "id": "9b3daad7-df6b-42c1-a1e3-9fbffa0e7c44",
   "metadata": {},
   "outputs": [
    {
     "name": "stdout",
     "output_type": "stream",
     "text": [
      "[[50 50]\n",
      " [50 50]\n",
      " [50 50]]\n"
     ]
    }
   ],
   "source": [
    "matriz_num = np.full((3,2),50) #---> En el segundo argumento va el número del que sea la matriz\n",
    "print(matriz_num)"
   ]
  },
  {
   "cell_type": "markdown",
   "id": "6a0d352b-4da7-498b-8f69-86c8b9aa13bd",
   "metadata": {},
   "source": [
    "##### **Secuencias**"
   ]
  },
  {
   "cell_type": "code",
   "execution_count": 19,
   "id": "2e5270e5-0ac4-47c8-9b87-353a97461713",
   "metadata": {},
   "outputs": [
    {
     "name": "stdout",
     "output_type": "stream",
     "text": [
      "[ 0  1  2  3  4  5  6  7  8  9 10]\n",
      "[ 0  2  4  6  8 10]\n",
      "[ 0.  2.  4.  6.  8. 10. 12. 14. 16. 18. 20.]\n"
     ]
    }
   ],
   "source": [
    "sec_0_10 = np.arange(11)\n",
    "print(sec_0_10)\n",
    "#--------------------#\n",
    "sec_pares = np.arange(0, 11, 2) #-------> Para que el salto sea de 2 en 2\n",
    "print(sec_pares)\n",
    "#--------------------#\n",
    "#Especificar el tipo de dato:\n",
    "sec_float = np.arange(0, 21, 2, np.float64)\n",
    "print(sec_float)"
   ]
  },
  {
   "cell_type": "markdown",
   "id": "1e22b984-749b-4383-9d8a-4642e0191320",
   "metadata": {},
   "source": [
    "##### **Indexing multidimensional**"
   ]
  },
  {
   "cell_type": "code",
   "execution_count": 9,
   "id": "13501b1e-8c09-437d-b64f-84c2a2ffb820",
   "metadata": {},
   "outputs": [
    {
     "name": "stdout",
     "output_type": "stream",
     "text": [
      "[[ 1  2  3  4  5]\n",
      " [ 6  7  8  9 10]\n",
      " [11 12 13 14 15]]\n",
      "2 primeras filas y 3 primeras columnas\n",
      " [[1 2 3]\n",
      " [6 7 8]]\n",
      "Todas las filas, cada dos columnas\n",
      " [[ 1  3  5]\n",
      " [ 6  8 10]\n",
      " [11 13 15]]\n",
      "Invertir las filas\n",
      " [[ 5  4  3  2  1]\n",
      " [10  9  8  7  6]\n",
      " [15 14 13 12 11]]\n",
      "Invertir columnas\n",
      " [[11 12 13 14 15]\n",
      " [ 6  7  8  9 10]\n",
      " [ 1  2  3  4  5]]\n",
      "Invertir todo\n",
      " [[15 14 13 12 11]\n",
      " [10  9  8  7  6]\n",
      " [ 5  4  3  2  1]]\n"
     ]
    }
   ],
   "source": [
    "array_multi = np.array([[1,2,3,4,5], [6,7,8,9,10], [11,12,13,14,15]])\n",
    "print(array_multi)\n",
    "\n",
    "print(\"2 primeras filas y 3 primeras columnas\\n\", array_multi[:2, :3])\n",
    "\n",
    "print(\"Todas las filas, cada dos columnas\\n\", array_multi[:, ::2])\n",
    "\n",
    "print(\"Invertir las filas\\n\", array_multi[:, ::-1])\n",
    "\n",
    "print(\"Invertir columnas\\n\", array_multi[::-1, :])\n",
    "\n",
    "print(\"Invertir todo\\n\", array_multi[::-1, ::-1,])"
   ]
  },
  {
   "cell_type": "markdown",
   "id": "7c2da811-3591-4932-82bc-5264948a48e7",
   "metadata": {},
   "source": [
    "##### **Sub array**"
   ]
  },
  {
   "cell_type": "code",
   "execution_count": 5,
   "id": "bebf4584-20d0-40a6-b337-ce34c755be53",
   "metadata": {},
   "outputs": [
    {
     "name": "stdout",
     "output_type": "stream",
     "text": [
      "[ True False False  True False False  True]\n",
      "[2 2 2]\n"
     ]
    }
   ],
   "source": [
    "x = np.array([2,4,5,2,3,7,2])\n",
    "x_bools = np.array(x == 2)\n",
    "print(x_bools)\n",
    "sub_x = x[x_bools]\n",
    "print(sub_x)"
   ]
  },
  {
   "cell_type": "markdown",
   "id": "97e74b9a-69e7-47c7-a8a7-36031ab2f0c5",
   "metadata": {},
   "source": [
    "##### **Reshape**"
   ]
  },
  {
   "cell_type": "code",
   "execution_count": 6,
   "id": "65f0dca7-4e1a-4fda-b3fc-123a3255cdac",
   "metadata": {},
   "outputs": [
    {
     "name": "stdout",
     "output_type": "stream",
     "text": [
      "[0 1 2 3 4 5 6 7 8]\n",
      "[[0 1 2]\n",
      " [3 4 5]\n",
      " [6 7 8]]\n"
     ]
    }
   ],
   "source": [
    "x = np.arange(9)\n",
    "print(x)\n",
    "y = x.reshape(3,3)\n",
    "print(y)"
   ]
  },
  {
   "cell_type": "markdown",
   "id": "42f35f29-0e3c-46fb-b4dc-90d7440ab97d",
   "metadata": {},
   "source": [
    "### **Random**"
   ]
  },
  {
   "cell_type": "code",
   "execution_count": 32,
   "id": "5a56c989-f56e-46f3-8512-605032d709cc",
   "metadata": {},
   "outputs": [
    {
     "name": "stdout",
     "output_type": "stream",
     "text": [
      "[0.29624487 0.2244638  0.14976368 0.03107059 0.09351753]\n",
      "---------------------------------------------------------\n",
      "[[0.43645615 0.58568625 0.78631733 0.81383886]\n",
      " [0.81660236 0.92467507 0.69839266 0.1388494 ]\n",
      " [0.81459016 0.92439933 0.46364716 0.72255466]]\n",
      "---------------------------------------------------------\n",
      "[[ 3 11 13]\n",
      " [19  9  4]]\n",
      "---------------------------------------------------------\n"
     ]
    }
   ],
   "source": [
    "#Secuencia random = \n",
    "print(np.random.rand(5))\n",
    "print(\"---------------------------------------------------------\")\n",
    "#Matriz random = \n",
    "matriz_random = np.random.rand(3,4)\n",
    "print(matriz_random)\n",
    "print(\"---------------------------------------------------------\")\n",
    "#Matriz random números enteros\n",
    "matriz_rand_enteros = np.random.randint(0, 20, size = (2, 3)) #-------> los dos primeros args (0, 20) son el rango de aleatoriedad\n",
    "print(matriz_rand_enteros)                                    #-------> Para el tamaño de la matriz se usa size = (x, y)\n",
    "print(\"---------------------------------------------------------\")                                                            #-------> Para secuencia unidimensional size = (x)"
   ]
  },
  {
   "cell_type": "markdown",
   "id": "9262e690-387c-4eb2-90a0-352e104ed630",
   "metadata": {},
   "source": [
    "#### **Seed**\n",
    "\n",
    "Para que al usar random, ese primer output se guarde para las siguientes funciones"
   ]
  },
  {
   "cell_type": "code",
   "execution_count": 55,
   "id": "3b6b4cfb-5669-46c0-9fc9-1fb89d6ce954",
   "metadata": {},
   "outputs": [
    {
     "name": "stdout",
     "output_type": "stream",
     "text": [
      "[0.19151945 0.62210877 0.43772774 0.78535858]\n",
      "1\n",
      "9\n"
     ]
    }
   ],
   "source": [
    "np.random.seed(1234)\n",
    "print(np.random.rand(4))\n",
    "print(np.random.randint(5))\n",
    "print(np.random.randint(2, 10))"
   ]
  },
  {
   "cell_type": "code",
   "execution_count": null,
   "id": "ff129a46-b58e-4826-a362-f53f62da2f9e",
   "metadata": {},
   "outputs": [],
   "source": []
  }
 ],
 "metadata": {
  "kernelspec": {
   "display_name": "Python 3 (ipykernel)",
   "language": "python",
   "name": "python3"
  },
  "language_info": {
   "codemirror_mode": {
    "name": "ipython",
    "version": 3
   },
   "file_extension": ".py",
   "mimetype": "text/x-python",
   "name": "python",
   "nbconvert_exporter": "python",
   "pygments_lexer": "ipython3",
   "version": "3.11.6"
  }
 },
 "nbformat": 4,
 "nbformat_minor": 5
}
