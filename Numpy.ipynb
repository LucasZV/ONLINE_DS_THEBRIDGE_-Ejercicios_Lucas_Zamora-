{
 "cells": [
  {
   "cell_type": "markdown",
   "id": "e2209595-f553-49c5-876e-a5aae17b34fb",
   "metadata": {},
   "source": [
    "# **Numpy**"
   ]
  },
  {
   "cell_type": "code",
   "execution_count": 1,
   "id": "505aadaf-26cd-4952-ba8d-d2fe055e4f56",
   "metadata": {},
   "outputs": [],
   "source": [
    "import numpy as np"
   ]
  },
  {
   "cell_type": "markdown",
   "id": "acb566ba-f802-44be-a4a6-6ac0dc4bb9cd",
   "metadata": {},
   "source": [
    "### **Vectores con Numpy**"
   ]
  },
  {
   "cell_type": "code",
   "execution_count": 6,
   "id": "e5706548-250e-4075-af44-3bda0c20e40a",
   "metadata": {},
   "outputs": [],
   "source": [
    "# Estructuras de ejemplo\n",
    "vector_1 = np.array([23, -4, 5])\n",
    "vec_2 = [12, 3, -12]\n",
    "vector_2 = np.array(vec_2)"
   ]
  },
  {
   "cell_type": "markdown",
   "id": "d17f7ddc-f1cf-4336-aecf-eef408984a65",
   "metadata": {},
   "source": [
    "##### **Sumas, restas y producto por un escalar (número)**"
   ]
  },
  {
   "cell_type": "code",
   "execution_count": 10,
   "id": "1496c9dd-3a59-4bed-b567-376ee7cc81c3",
   "metadata": {},
   "outputs": [
    {
     "name": "stdout",
     "output_type": "stream",
     "text": [
      "[35 -1 -7]\n",
      "[11 -7 17]\n",
      "[276 -12 -60]\n"
     ]
    }
   ],
   "source": [
    "# Se hace la operación tal cual\n",
    "\n",
    "#Suma\n",
    "vec_suma = vector_1 + vector_2\n",
    "print(vec_suma)\n",
    "\n",
    "#Resta\n",
    "vec_resta = vector_1 - vector_2\n",
    "print(vec_resta)\n",
    "\n",
    "#Producto por escalar\n",
    "vec_escalar = vector_1 * vector_2\n",
    "print(vec_escalar)\n"
   ]
  },
  {
   "cell_type": "markdown",
   "id": "ea3d004a-0382-47af-8b64-4a614791f3fb",
   "metadata": {},
   "source": [
    "##### **Producto escalar (dot)**"
   ]
  },
  {
   "cell_type": "code",
   "execution_count": 18,
   "id": "ef929a94-8cbb-40be-a3db-99c91caa7b4e",
   "metadata": {},
   "outputs": [
    {
     "name": "stdout",
     "output_type": "stream",
     "text": [
      "204 204\n"
     ]
    }
   ],
   "source": [
    "#1 \n",
    "dot_prod = np.dot(vector_1, vector_2)\n",
    "\n",
    "#2\n",
    "dot_prod_2 = vector_1.dot(vector_2)\n",
    "\n",
    "#--------------#\n",
    "print(dot_prod_1, dot_prod_2)\n",
    "\n"
   ]
  },
  {
   "cell_type": "markdown",
   "id": "8d21e113-41b1-4d97-88e5-fdf678aa3faf",
   "metadata": {},
   "source": [
    "##### **Norma, Longitud o Magnitud**"
   ]
  },
  {
   "cell_type": "code",
   "execution_count": 16,
   "id": "e7eb6984-f1ac-4c0d-98c1-c0605b2c3044",
   "metadata": {},
   "outputs": [
    {
     "name": "stdout",
     "output_type": "stream",
     "text": [
      "23.874672772626646 17.233687939614086\n"
     ]
    }
   ],
   "source": [
    "norm_1 = np.linalg.norm(vector_1)\n",
    "norm_2 = np.linalg.norm(vector_2)\n",
    "\n",
    "print(norm_1, norm_2)"
   ]
  },
  {
   "cell_type": "markdown",
   "id": "5657bbc0-cdf2-4e1a-ad95-fb209adac5f2",
   "metadata": {},
   "source": [
    "##### **Coseno del ángulo**"
   ]
  },
  {
   "cell_type": "code",
   "execution_count": 20,
   "id": "caad7673-dd6d-4118-b68f-af38eb8ded7f",
   "metadata": {},
   "outputs": [
    {
     "name": "stdout",
     "output_type": "stream",
     "text": [
      "0.49580912449444803 0.49580912449444803\n"
     ]
    }
   ],
   "source": [
    "\n",
    "cos_ang_1_2 = dot_prod/(norm_1 * norm_2)     #-----> Reutilizando las variables anteriores\n",
    "\n",
    "cos_ang = np.dot(vector_1, vector_2) / (np.linalg.norm(vector_1) * np.linalg.norm(vector_2)) #--> Sin reutilizar\n",
    "\n",
    "print(cos_ang_1_2, cos_ang)\n"
   ]
  },
  {
   "cell_type": "markdown",
   "id": "9c72701a-fea8-4c44-bdd4-52b72d87ddf7",
   "metadata": {},
   "source": [
    "##### **Distancia entre 2 vectores**"
   ]
  },
  {
   "cell_type": "code",
   "execution_count": 21,
   "id": "d9412704-ebbf-4569-a047-15e75c2f2f9e",
   "metadata": {},
   "outputs": [
    {
     "name": "stdout",
     "output_type": "stream",
     "text": [
      "21.42428528562855\n"
     ]
    }
   ],
   "source": [
    "dist_1_2 = np.linalg.norm(vector_1 - vector_2)\n",
    "\n",
    "print(dist_1_2)"
   ]
  },
  {
   "cell_type": "markdown",
   "id": "5f6cda72-3f64-4f02-a4ac-9ea4f07f00ae",
   "metadata": {},
   "source": [
    "### **Matrices con Numpy**"
   ]
  },
  {
   "cell_type": "markdown",
   "id": "29b10211-2d0c-4dcf-bda4-fbaf9880ec4d",
   "metadata": {},
   "source": [
    "##### **Transformar matriz a array**"
   ]
  },
  {
   "cell_type": "code",
   "execution_count": 7,
   "id": "ed585c07-7b93-4806-b777-24c6892167b8",
   "metadata": {},
   "outputs": [
    {
     "name": "stdout",
     "output_type": "stream",
     "text": [
      "<class 'numpy.ndarray'> [[1 2 4]\n",
      " [3 5 6]]\n"
     ]
    }
   ],
   "source": [
    "# Matriz con listas\n",
    "matriz = [[1,2,4],\n",
    "          [3,5,6]]\n",
    "\n",
    "import numpy as np\n",
    "\n",
    "matriz_np = np.array(matriz)\n",
    "#--------------------------#\n",
    "A = np.array([[1,3,4],\n",
    "              [1,0,0],\n",
    "              [1,2,2]])\n",
    "\n",
    "B = np.array([[1,0,5],\n",
    "              [7,5,0],\n",
    "              [2,1,1]])\n",
    "\n",
    "print(type(matriz_np), matriz_np)"
   ]
  },
  {
   "cell_type": "markdown",
   "id": "261c2297-7712-4588-be78-cf169127d273",
   "metadata": {},
   "source": [
    "##### **Producto por un escalar (número), sumas, restas y producto matricial (entre 2 matrices)**"
   ]
  },
  {
   "cell_type": "code",
   "execution_count": 13,
   "id": "b9fa6817-1375-4549-b950-9bc0743f7fbc",
   "metadata": {},
   "outputs": [
    {
     "name": "stdout",
     "output_type": "stream",
     "text": [
      "Producto por escalar, 3 * A: \n",
      " [[ 3  9 12]\n",
      " [ 3  0  0]\n",
      " [ 3  6  6]]\n",
      "Suma, A + B:\n",
      " [[2 3 9]\n",
      " [8 5 0]\n",
      " [3 3 3]]\n",
      "Resta, A - B:\n",
      " [[ 0  3 -1]\n",
      " [-6 -5  0]\n",
      " [-1  1  1]]\n",
      "Producto matricial, A x B:\n",
      " [[30 19  9]\n",
      " [ 1  0  5]\n",
      " [19 12  7]]\n"
     ]
    }
   ],
   "source": [
    "#Producto por escalar:\n",
    "producto_por_escalar = 3 * A\n",
    "\n",
    "print(\"Producto por escalar, 3 * A: \\n\", producto_por_escalar)\n",
    "\n",
    "#Suma:\n",
    "suma = A + B\n",
    "\n",
    "print(\"Suma, A + B:\\n\", suma)\n",
    "\n",
    "#Resta:\n",
    "resta = A - B\n",
    "\n",
    "print(\"Resta, A - B:\\n\", resta)\n",
    "\n",
    "#Producto matricial:\n",
    "producto_matricial = A.dot(B)\n",
    "\n",
    "print(\"Producto matricial, A x B:\\n\", producto_matricial)"
   ]
  },
  {
   "cell_type": "markdown",
   "id": "d2b20599-1f49-4b3c-9392-2f02f2c70241",
   "metadata": {},
   "source": [
    "##### **Transposicion de filas a columnas**"
   ]
  },
  {
   "cell_type": "code",
   "execution_count": 15,
   "id": "00c59cb6-17d8-4165-bed2-b762e94ba3b4",
   "metadata": {},
   "outputs": [
    {
     "name": "stdout",
     "output_type": "stream",
     "text": [
      "A: [[1 3 4]\n",
      " [1 0 0]\n",
      " [1 2 2]] \n",
      " \n",
      " At: [[1 1 1]\n",
      " [3 0 2]\n",
      " [4 0 2]]\n"
     ]
    }
   ],
   "source": [
    "A_transpuesta = A.T\n",
    "\n",
    "print(\"A:\", A,\"\\n\",\"\\n\", \"At:\", A_transpuesta)\n"
   ]
  },
  {
   "cell_type": "code",
   "execution_count": null,
   "id": "b4548b16-15c9-4c87-8dde-06773fe0b194",
   "metadata": {},
   "outputs": [],
   "source": []
  }
 ],
 "metadata": {
  "kernelspec": {
   "display_name": "Python 3 (ipykernel)",
   "language": "python",
   "name": "python3"
  },
  "language_info": {
   "codemirror_mode": {
    "name": "ipython",
    "version": 3
   },
   "file_extension": ".py",
   "mimetype": "text/x-python",
   "name": "python",
   "nbconvert_exporter": "python",
   "pygments_lexer": "ipython3",
   "version": "3.10.11"
  }
 },
 "nbformat": 4,
 "nbformat_minor": 5
}
